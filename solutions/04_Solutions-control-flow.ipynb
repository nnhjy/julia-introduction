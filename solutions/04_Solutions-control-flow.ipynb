{
 "cells": [
  {
   "cell_type": "markdown",
   "metadata": {},
   "source": [
    "# Exercises: Control flow"
   ]
  },
  {
   "cell_type": "markdown",
   "metadata": {},
   "source": [
    "### Exercise 1: Map / Broadcast\n",
    "\n",
    "Define a function called `addone` that adds `1` to any number.\n",
    "\n",
    "Use `map` or `broadcast` and the `addone` function to increment every element of a matrix `A` by `1`.\n",
    "\n",
    "You can easily create an empty matrix for testing with `A = zeros(5,5)`."
   ]
  },
  {
   "cell_type": "code",
   "execution_count": null,
   "metadata": {},
   "outputs": [],
   "source": [
    "function addone(number)\n",
    "    return number+1\n",
    "end\n",
    "\n",
    "A = zeros(5,5)\n",
    "\n",
    "map(addone, A)"
   ]
  },
  {
   "cell_type": "markdown",
   "metadata": {},
   "source": [
    "### Exercise 2: Dot syntax\n",
    "\n",
    "Try out the broadcast dot syntax to increment every element of matrix `A` by `1` using the function defined in the first exercise."
   ]
  },
  {
   "cell_type": "code",
   "execution_count": null,
   "metadata": {},
   "outputs": [],
   "source": [
    "addone.(A)"
   ]
  },
  {
   "cell_type": "markdown",
   "metadata": {},
   "source": [
    "### Advanced exercise 1: More dots\n",
    "Generalize the previous polynomial function to work for matrices, too. In practise this means that `x` can be of array\n",
    "and the polynomial function is evaluated for every element of that array."
   ]
  },
  {
   "cell_type": "code",
   "execution_count": null,
   "metadata": {},
   "outputs": [],
   "source": [
    "function poly2(x, coeffs)\n",
    "    @assert length(coeffs) == 3\n",
    "\n",
    "    y = coeffs[1] .+ coeffs[2] .* x .+ coeffs[3] .* x^2\n",
    "    return y\n",
    "end"
   ]
  },
  {
   "cell_type": "code",
   "execution_count": null,
   "metadata": {},
   "outputs": [],
   "source": [
    "x = ones(4,4)\n",
    "coeffs = [4,3,2]\n",
    "poly2(x, coeffs)"
   ]
  },
  {
   "cell_type": "markdown",
   "metadata": {},
   "source": [
    "### Exercise 3: Spreading vertically\n",
    "\n",
    "Extend the function above to allow the infection to spread horizontally. The code is repeated below, with a bit of scaffolding.\n",
    "\n",
    "Check by running the update function repeatedly and showing the cells-array."
   ]
  },
  {
   "cell_type": "code",
   "execution_count": 96,
   "metadata": {},
   "outputs": [
    {
     "data": {
      "text/plain": [
       "7×7 Matrix{Plant}:\n",
       " ◻  ◻  ◻  ◻  ◻  ◻  ◻\n",
       " ◻  ◻  ◻  ◻  ◻  ◻  ◻\n",
       " ◻  ◻  ◻  ◻  ◻  ◻  ◻\n",
       " ◻  ◻  ◻  ◼  ◻  ◻  ◻\n",
       " ◻  ◻  ◻  ◻  ◻  ◻  ◻\n",
       " ◻  ◻  ◻  ◻  ◻  ◻  ◻\n",
       " ◻  ◻  ◻  ◻  ◻  ◻  ◻"
      ]
     },
     "execution_count": 96,
     "metadata": {},
     "output_type": "execute_result"
    }
   ],
   "source": [
    "# The following loads the epidemic functions from a file\n",
    "include(\"../epidemic.jl\")\n",
    "\n",
    "# The file also defines function for creating new a matrix of plants\n",
    "plants = make_plants()"
   ]
  },
  {
   "cell_type": "code",
   "execution_count": 97,
   "metadata": {},
   "outputs": [
    {
     "data": {
      "text/plain": [
       "update!"
      ]
     },
     "execution_count": 97,
     "metadata": {},
     "output_type": "execute_result"
    }
   ],
   "source": [
    "\"Update the simulation one time step\"\n",
    "function update!(plants::Matrix{Plant}, recovery_time, death_rate, infection_rate)\n",
    "    print(infection_rate)\n",
    "    # Create a copy to remember the old state\n",
    "    old_plants = deepcopy(plants)\n",
    "\n",
    "    # First update individual plants\n",
    "    update!.(plants, recovery_time, death_rate)\n",
    "\n",
    "    # Find the number of plants in each direction\n",
    "    Nx = size(plants)[1]\n",
    "    Ny = size(plants)[2]    \n",
    "    \n",
    "    # Loop over pairs of plants in the same row. There are size(plants)[1] columns, and size(plants)[1]-1 pairs.\n",
    "    for j in 1:Ny\n",
    "        # loop over all columns\n",
    "        for i in 1:Nx-1\n",
    "            # So the plants are (i+1,j) and (i,j). Each will interact with the other.\n",
    "            interact!(plants[i,j], old_plants[i+1,j], infection_rate)\n",
    "            interact!(plants[i+1,j], old_plants[i,j], infection_rate)\n",
    "        end\n",
    "    end\n",
    "    \n",
    "    # Loop over pairs of plants in the same row. There are size(plants)[1] columns, and size(plants)[1]-1 pairs.\n",
    "    for j in 1:Ny-1\n",
    "        # loop over all columns\n",
    "        for i in 1:Nx\n",
    "            # So the plants are (i,j+1) and (i,j). Each will interact with the other.\n",
    "            interact!(plants[i,j], old_plants[i,j+1], infection_rate)\n",
    "            interact!(plants[i,j+1], old_plants[i,j], infection_rate)\n",
    "        end\n",
    "    end\n",
    "end"
   ]
  },
  {
   "cell_type": "code",
   "execution_count": 137,
   "metadata": {},
   "outputs": [
    {
     "name": "stdout",
     "output_type": "stream",
     "text": [
      "0.1"
     ]
    },
    {
     "data": {
      "text/plain": [
       "7×7 Matrix{Plant}:\n",
       " ◼  ◼  ◼  ◼  ◼  ◼  ◼\n",
       " ◼  ◼  ◼  ◼  ◼  ◼  ◼\n",
       " ◼  ◼  ◼  ◼  ◼  ◼  ◼\n",
       " ◼  ◼  ◼  ◼  ◼  ◼  ◼\n",
       " ◼  ◼  ◼  ◼  ◼  ◼  ◼\n",
       " ◼  ◼  ◼  ◼  ◼  ◼  ◼\n",
       " ◼  ◼  ◼  ◼  ◼  ◼  ◼"
      ]
     },
     "execution_count": 137,
     "metadata": {},
     "output_type": "execute_result"
    }
   ],
   "source": [
    "update!(plants, 0.1)\n",
    "plants"
   ]
  },
  {
   "cell_type": "markdown",
   "metadata": {},
   "source": [
    "### Exercise 4: Printing the array of plants"
   ]
  },
  {
   "cell_type": "code",
   "execution_count": null,
   "metadata": {},
   "outputs": [],
   "source": [
    "# Interestingly, this is a bit different\n",
    "print(plants)"
   ]
  },
  {
   "cell_type": "markdown",
   "metadata": {},
   "source": [
    "So let's extend the print function. Add the missing parts below to print the array in a nicer way."
   ]
  },
  {
   "cell_type": "code",
   "execution_count": null,
   "metadata": {},
   "outputs": [],
   "source": [
    "# This is how we write a show function for an array of plants\n",
    "function Base.show(io::IO, plants::Array{Plant, 2})\n",
    "    Nx = size(plants)[1]\n",
    "    Ny = size(plants)[2]\n",
    "    \n",
    "    # Iterate over rows and columns separately\n",
    "    for j in 1:Nx\n",
    "        for i in 1:Ny\n",
    "            print(plants[i,j])\n",
    "        end\n",
    "    print('\\n')\n",
    "    end    \n",
    "end\n",
    "\n",
    "print(plants)"
   ]
  },
  {
   "cell_type": "markdown",
   "metadata": {},
   "source": [
    "### Advanced Exercise 1: FizzBuzz\n",
    "\n",
    "Implement the (infamous) FizzBuzz test using Julia: \n",
    "\n",
    "Loop over numbers between 1 and 100. For every element:\n",
    "- given a number, N, print \"Fizz\" if N is divisible by 3, \n",
    "- \"Buzz\" if N is divisible by 5, \n",
    "- and \"FizzBuzz\" if N is divisible by 3 and 5. \n",
    "- Otherwise just print the number itself\n",
    "\n",
    "You can check the remainder of division using the `%` symbol, i.e., `3 % 2 = 1`"
   ]
  },
  {
   "cell_type": "code",
   "execution_count": null,
   "metadata": {},
   "outputs": [],
   "source": [
    "for i = 1:100\n",
    "    if i % 3 == 0 && i % 5 == 0\n",
    "        println(\"FizzBuzz\")\n",
    "    elseif i % 3 == 0\n",
    "        println(\"Fizz\")\n",
    "    elseif i % 5 == 0\n",
    "        println(\"Buzz\")\n",
    "    else\n",
    "        println(i)\n",
    "    end\n",
    "end"
   ]
  },
  {
   "cell_type": "code",
   "execution_count": null,
   "metadata": {},
   "outputs": [],
   "source": []
  }
 ],
 "metadata": {
  "kernelspec": {
   "display_name": "Julia 1.6.2",
   "language": "julia",
   "name": "julia-1.6"
  },
  "language_info": {
   "file_extension": ".jl",
   "mimetype": "application/julia",
   "name": "julia",
   "version": "1.6.2"
  }
 },
 "nbformat": 4,
 "nbformat_minor": 4
}
