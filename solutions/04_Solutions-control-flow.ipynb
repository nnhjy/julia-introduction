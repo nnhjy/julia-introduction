{
 "cells": [
  {
   "cell_type": "markdown",
   "metadata": {},
   "source": [
    "# Exercises: Control flow"
   ]
  },
  {
   "cell_type": "markdown",
   "metadata": {},
   "source": [
    "### if...\n",
    "\n",
    "Write a conditional statement that prints the number itself if it is smaller than zero, and the string \"positive\" if the number is larger than or equal to zero.\n"
   ]
  },
  {
   "cell_type": "code",
   "execution_count": null,
   "metadata": {},
   "outputs": [],
   "source": [
    "x = 1 \n",
    "if x < 0\n",
    "    println(x)\n",
    "else\n",
    "    println(\"positive\")\n",
    "end"
   ]
  },
  {
   "cell_type": "markdown",
   "metadata": {},
   "source": [
    "### for-loops\n",
    "\n",
    "Loop over integers between 1 and 100 and print their squares."
   ]
  },
  {
   "cell_type": "code",
   "execution_count": null,
   "metadata": {},
   "outputs": [],
   "source": [
    "for i = 1:100\n",
    "    println(i^2)\n",
    "end"
   ]
  },
  {
   "cell_type": "markdown",
   "metadata": {},
   "source": [
    "### while\n",
    "\n",
    "Do the same with a `while` statement"
   ]
  },
  {
   "cell_type": "code",
   "execution_count": null,
   "metadata": {},
   "outputs": [],
   "source": [
    "i = 1\n",
    "while i <= 100\n",
    "    println(i^2)\n",
    "    i += 1\n",
    "end"
   ]
  },
  {
   "cell_type": "markdown",
   "metadata": {},
   "source": [
    "### arrays\n",
    "\n",
    "Use an array comprehension to create an an array that stores the squares for all integers between 1 and 100."
   ]
  },
  {
   "cell_type": "code",
   "execution_count": null,
   "metadata": {},
   "outputs": [],
   "source": [
    "[x^2 for x = 1:100]"
   ]
  },
  {
   "cell_type": "markdown",
   "metadata": {},
   "source": [
    "### Map / Broadcast\n",
    "\n",
    "Use `map` or `broadcast` to increment every element of a matrix `A` by `1` using the function defined in the first exercise.\n",
    "\n",
    "You can easily create an empty matrix for testing with `A = zeros(5,5)`."
   ]
  },
  {
   "cell_type": "code",
   "execution_count": null,
   "metadata": {},
   "outputs": [],
   "source": [
    "A = zeros(5,5)\n",
    "\n",
    "map(addone, A)"
   ]
  },
  {
   "cell_type": "markdown",
   "metadata": {},
   "source": [
    "### Dot syntax\n",
    "\n",
    "Try out the broadcast dot syntax to increment every element of matrix `A` by `1` using the function defined in the first exercise."
   ]
  },
  {
   "cell_type": "code",
   "execution_count": null,
   "metadata": {},
   "outputs": [],
   "source": [
    "addone.(A)"
   ]
  },
  {
   "cell_type": "markdown",
   "metadata": {},
   "source": [
    "### Advanced: More dots\n",
    "Generalize the previous polynomial function to work for matrices, too. In practise this means that `x` can be of array too and the polynomial function is evaluated for every element of that array."
   ]
  },
  {
   "cell_type": "code",
   "execution_count": null,
   "metadata": {},
   "outputs": [],
   "source": [
    "function poly2(x, coeffs)\n",
    "    @assert length(coeffs) == 3\n",
    "\n",
    "    y = coeffs[1] .+ coeffs[2] .* x .+ coeffs[3] .* x^2\n",
    "    return y\n",
    "end"
   ]
  },
  {
   "cell_type": "code",
   "execution_count": null,
   "metadata": {},
   "outputs": [],
   "source": [
    "x = ones(4,4)\n",
    "coeffs = [4,3,2]\n",
    "poly2(x, coeffs)"
   ]
  },
  {
   "cell_type": "markdown",
   "metadata": {},
   "source": [
    "## Epidemic simulation\n",
    "\n",
    "Fill in the missing pieces to the second for loop below so that the infection spreads horizontally as well."
   ]
  },
  {
   "cell_type": "code",
   "execution_count": null,
   "metadata": {},
   "outputs": [],
   "source": [
    "# The following two lines load the epidemic functions from a file\n",
    "include(\"../../epidemic_simple.jl\")\n",
    "cells = make_cells()"
   ]
  },
  {
   "cell_type": "code",
   "execution_count": null,
   "metadata": {},
   "outputs": [],
   "source": [
    "\"Update the simulation one time step\"\n",
    "function update!(cells)\n",
    "    # Create a copy to remember the old state\n",
    "    old_cells = deepcopy(cells)\n",
    "    \n",
    "    # Loop over pairs of cells in the same row. There are size(cells)[1] columns, and size(cells)[1]-1 pairs.\n",
    "    for i in 1:size(cells)[1]-1\n",
    "        # loop over all columns\n",
    "        for j in 1:size(cells)[2]\n",
    "            # So the cells are (i+1,j) and (i,j). Each will interact with the other.\n",
    "        \n",
    "            cells[i,j] = interact(cells[i,j], old_cells[i+1,j])\n",
    "            cells[i+1,j] = interact(cells[i+1,j], old_cells[i,j])\n",
    "\n",
    "        end\n",
    "    end\n",
    "    \n",
    "    # Loop over pairs of cells in the same row. There are size(cells)[1] columns, and size(cells)[1]-1 pairs.\n",
    "    for i in 1:size(cells)[1]\n",
    "        # loop over all columns\n",
    "        for j in <FILL>\n",
    "            # So the cells are (i+1,j) and (i,j). Each will interact with the other.\n",
    "        \n",
    "            cells[i,j] = interact(cells[<FILL>], old_cells[<FILL>])\n",
    "            cells[i,j+1] = interact(cells[<FILL>], old_cells[<FILL>])\n",
    "\n",
    "        end\n",
    "    end\n",
    "end"
   ]
  },
  {
   "cell_type": "code",
   "execution_count": null,
   "metadata": {},
   "outputs": [],
   "source": [
    "update!(cells)\n",
    "cells"
   ]
  },
  {
   "cell_type": "markdown",
   "metadata": {},
   "source": [
    "### Advanced: FizzBuzz\n",
    "\n",
    "Implement the (infamous) FizzBuzz test using Julia: \n",
    "\n",
    "Loop over numbers between 1 and 100. For every element:\n",
    "- given a number, N, print \"Fizz\" if N is divisible by 3, \n",
    "- \"Buzz\" if N is divisible by 5, \n",
    "- and \"FizzBuzz\" if N is divisible by 3 and 5. \n",
    "- Otherwise just print the number itself\n",
    "\n",
    "You can check the remainder of division using the `%` symbol, i.e., `3 % 2 = 1`"
   ]
  },
  {
   "cell_type": "code",
   "execution_count": null,
   "metadata": {},
   "outputs": [],
   "source": [
    "for i = 1:100\n",
    "    if i % 3 == 0 && i % 5 == 0\n",
    "        println(\"FizzBuzz\")\n",
    "    elseif i % 3 == 0\n",
    "        println(\"Fizz\")\n",
    "    elseif i % 5 == 0\n",
    "        println(\"Buzz\")\n",
    "    else\n",
    "        println(i)\n",
    "    end\n",
    "end"
   ]
  },
  {
   "cell_type": "code",
   "execution_count": null,
   "metadata": {},
   "outputs": [],
   "source": []
  }
 ],
 "metadata": {
  "kernelspec": {
   "display_name": "Julia 1.6.2",
   "language": "julia",
   "name": "julia-1.6"
  },
  "language_info": {
   "file_extension": ".jl",
   "mimetype": "application/julia",
   "name": "julia",
   "version": "1.6.2"
  }
 },
 "nbformat": 4,
 "nbformat_minor": 4
}
