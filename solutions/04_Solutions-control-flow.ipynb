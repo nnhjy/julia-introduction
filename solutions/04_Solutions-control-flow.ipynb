{
 "cells": [
  {
   "cell_type": "markdown",
   "metadata": {},
   "source": [
    "# Exercises: Control flow"
   ]
  },
  {
   "cell_type": "markdown",
   "metadata": {},
   "source": [
    "### Exercise 1: Map / Broadcast\n",
    "\n",
    "Use `map` or `broadcast` to increment every element of a matrix `A` by `1` using the function defined in the first exercise.\n",
    "\n",
    "You can easily create an empty matrix for testing with `A = zeros(5,5)`."
   ]
  },
  {
   "cell_type": "code",
   "execution_count": null,
   "metadata": {},
   "outputs": [],
   "source": [
    "A = zeros(5,5)\n",
    "\n",
    "map(addone, A)"
   ]
  },
  {
   "cell_type": "markdown",
   "metadata": {},
   "source": [
    "### Exercise 2: Dot syntax\n",
    "\n",
    "Try out the broadcast dot syntax to increment every element of matrix `A` by `1` using the function defined in the first exercise."
   ]
  },
  {
   "cell_type": "code",
   "execution_count": null,
   "metadata": {},
   "outputs": [],
   "source": [
    "addone.(A)"
   ]
  },
  {
   "cell_type": "markdown",
   "metadata": {},
   "source": [
    "### Advanced: More dots\n",
    "Generalize the previous polynomial function to work for matrices, too. In practise this means that `x` can be of array\n",
    "and the polynomial function is evaluated for every element of that array."
   ]
  },
  {
   "cell_type": "code",
   "execution_count": null,
   "metadata": {},
   "outputs": [],
   "source": [
    "function poly2(x, coeffs)\n",
    "    @assert length(coeffs) == 3\n",
    "\n",
    "    y = coeffs[1] .+ coeffs[2] .* x .+ coeffs[3] .* x^2\n",
    "    return y\n",
    "end"
   ]
  },
  {
   "cell_type": "code",
   "execution_count": null,
   "metadata": {},
   "outputs": [],
   "source": [
    "x = ones(4,4)\n",
    "coeffs = [4,3,2]\n",
    "poly2(x, coeffs)"
   ]
  },
  {
   "cell_type": "markdown",
   "metadata": {},
   "source": [
    "### Exercise 3: Spreading vertically\n",
    "\n",
    "Extend the function above to allow the infection to spread horizontally. The code is repeated below, with a bit of scaffolding.\n",
    "\n",
    "Check by running the update function repeatedly and showing the cells-array."
   ]
  },
  {
   "cell_type": "code",
   "execution_count": null,
   "metadata": {},
   "outputs": [],
   "source": [
    "# The following two lines load the epidemic functions from a file\n",
    "include(\"../../epidemic_simple.jl\")\n",
    "cells = make_cells()"
   ]
  },
  {
   "cell_type": "code",
   "execution_count": null,
   "metadata": {},
   "outputs": [],
   "source": [
    "\"Update the simulation one time step\"\n",
    "function update!(cells)\n",
    "    # Create a copy to remember the old state\n",
    "    old_cells = deepcopy(cells)\n",
    "    \n",
    "    # Find the number of cells in each direction\n",
    "    Nx = size(cells)[1]\n",
    "    Ny = size(cells)[2]    \n",
    "    \n",
    "    # Loop over pairs of cells in the same row. There are size(cells)[1] columns, and size(cells)[1]-1 pairs.\n",
    "    for j in 1:Ny\n",
    "        # loop over all columns\n",
    "        for i in 1:Nx-1\n",
    "            # So the cells are (i+1,j) and (i,j). Each will interact with the other.\n",
    "            interact!(cells[i,j], old_cells[i+1,j], infection_rate)\n",
    "            interact!(cells[i+1,j], old_cells[i,j], infection_rate)\n",
    "        end\n",
    "    end\n",
    "    \n",
    "    # Loop over pairs of cells in the same row. There are size(cells)[1] columns, and size(cells)[1]-1 pairs.\n",
    "    for i in 1:Ny-1\n",
    "        # loop over all columns\n",
    "        for j in Nx\n",
    "            # So the cells are (i+1,j) and (i,j). Each will interact with the other.\n",
    "            interact!(cells[i,j], old_cells[i,j+1], infection_rate)\n",
    "            interact!(cells[i,j+1], old_cells[i,j], infection_rate)\n",
    "        end\n",
    "    end\n",
    "end"
   ]
  },
  {
   "cell_type": "code",
   "execution_count": null,
   "metadata": {},
   "outputs": [],
   "source": [
    "update!(cells)\n",
    "cells"
   ]
  },
  {
   "cell_type": "markdown",
   "metadata": {},
   "source": [
    "### Exercise 4: Printing the array of cells"
   ]
  },
  {
   "cell_type": "code",
   "execution_count": null,
   "metadata": {},
   "outputs": [],
   "source": [
    "# Interestingly, this is a bit different\n",
    "print(cells)"
   ]
  },
  {
   "cell_type": "markdown",
   "metadata": {},
   "source": [
    "So let's extend the print function. Add the missing parts below to print the array in a nicer way."
   ]
  },
  {
   "cell_type": "code",
   "execution_count": null,
   "metadata": {},
   "outputs": [],
   "source": [
    "# This is how we write a show function for an array of cells\n",
    "function Base.show(io::IO, cells::Array{Cell, 2})\n",
    "    Nx = size(cells)[1]\n",
    "    Ny = size(cells)[2]\n",
    "    \n",
    "    # Iterate over rows and columns separately\n",
    "    for j in 1:Nx\n",
    "        for i in 1:Ny\n",
    "            print(cells[i,j])\n",
    "        end\n",
    "    print('\\n')\n",
    "    end    \n",
    "end\n",
    "\n",
    "print(cells)"
   ]
  },
  {
   "cell_type": "markdown",
   "metadata": {},
   "source": [
    "### Advanced: FizzBuzz\n",
    "\n",
    "Implement the (infamous) FizzBuzz test using Julia: \n",
    "\n",
    "Loop over numbers between 1 and 100. For every element:\n",
    "- given a number, N, print \"Fizz\" if N is divisible by 3, \n",
    "- \"Buzz\" if N is divisible by 5, \n",
    "- and \"FizzBuzz\" if N is divisible by 3 and 5. \n",
    "- Otherwise just print the number itself\n",
    "\n",
    "You can check the remainder of division using the `%` symbol, i.e., `3 % 2 = 1`"
   ]
  },
  {
   "cell_type": "code",
   "execution_count": null,
   "metadata": {},
   "outputs": [],
   "source": [
    "for i = 1:100\n",
    "    if i % 3 == 0 && i % 5 == 0\n",
    "        println(\"FizzBuzz\")\n",
    "    elseif i % 3 == 0\n",
    "        println(\"Fizz\")\n",
    "    elseif i % 5 == 0\n",
    "        println(\"Buzz\")\n",
    "    else\n",
    "        println(i)\n",
    "    end\n",
    "end"
   ]
  },
  {
   "cell_type": "code",
   "execution_count": null,
   "metadata": {},
   "outputs": [],
   "source": []
  }
 ],
 "metadata": {
  "kernelspec": {
   "display_name": "Julia 1.6.2",
   "language": "julia",
   "name": "julia-1.6"
  },
  "language_info": {
   "file_extension": ".jl",
   "mimetype": "application/julia",
   "name": "julia",
   "version": "1.6.2"
  }
 },
 "nbformat": 4,
 "nbformat_minor": 4
}
