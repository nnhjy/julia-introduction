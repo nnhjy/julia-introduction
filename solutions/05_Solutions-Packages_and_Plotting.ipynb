{
 "cells": [
  {
   "cell_type": "markdown",
   "metadata": {},
   "source": [
    "# Exercises: Plotting"
   ]
  },
  {
   "cell_type": "markdown",
   "metadata": {},
   "source": [
    "### Exercise 1: Installing a package: `Primes`\n",
    "\n",
    "Load the `Primes` packages (source code at https://github.com/JuliaMath/Primes.jl). \n",
    "\n",
    "Verify that you can now use the function `primes` to grab all the primes under `100`. If unsure, maybe `?primes` will help you?"
   ]
  },
  {
   "cell_type": "code",
   "execution_count": null,
   "metadata": {},
   "outputs": [],
   "source": [
    "using Pkg\n",
    "Pkg.add(\"Primes\")"
   ]
  },
  {
   "cell_type": "code",
   "execution_count": null,
   "metadata": {},
   "outputs": [],
   "source": [
    "using Primes\n",
    "primes(0,100)"
   ]
  },
  {
   "cell_type": "markdown",
   "metadata": {},
   "source": [
    "### Exercise 2: C\n",
    "\n",
    "Use the C `cos` function to find the cos π."
   ]
  },
  {
   "cell_type": "code",
   "execution_count": null,
   "metadata": {},
   "outputs": [],
   "source": [
    "t = ccall(:cos, Float64, (Float64,), π)"
   ]
  },
  {
   "cell_type": "markdown",
   "metadata": {},
   "source": [
    "### Exercise 3: Python\n",
    "\n",
    "Use the Python `math.cos` function to find the cos π."
   ]
  },
  {
   "cell_type": "code",
   "execution_count": null,
   "metadata": {},
   "outputs": [],
   "source": [
    "using PyCall\n",
    "@pyimport math as pymath\n",
    "pymath.cos(π)"
   ]
  },
  {
   "cell_type": "markdown",
   "metadata": {},
   "source": [
    "### Exercise 4: Simple plots\n",
    "\n",
    "Given `x = -10:10` plot y vs. x for \n",
    "$\n",
    "y=x^2\n",
    "$"
   ]
  },
  {
   "cell_type": "code",
   "execution_count": null,
   "metadata": {},
   "outputs": [],
   "source": [
    "using Plots\n",
    "\n",
    "x = -10:10\n",
    "y = x.^2\n",
    "plot(x, y)"
   ]
  },
  {
   "cell_type": "markdown",
   "metadata": {},
   "source": [
    "### Exercise 5: Mount Bruno\n",
    "\n",
    "Let's visualize Mount Bruno! \n",
    "\n",
    "Read the 2D topological data of Mount Bruno from the file `../data/bruno.csv`. Next we need some plotting engine for `Plots`, I recommend `Plotly`/`PlotlyJS` for this task. As a final touch, see what `surface()` function can do with your array."
   ]
  },
  {
   "cell_type": "code",
   "execution_count": null,
   "metadata": {},
   "outputs": [],
   "source": [
    "using Plots\n",
    "gr()"
   ]
  },
  {
   "cell_type": "code",
   "execution_count": null,
   "metadata": {},
   "outputs": [],
   "source": [
    "using DelimitedFiles\n",
    "\n",
    "topological_data = readdlm(\"../data/bruno.csv\", ',')\n",
    "surface(topological_data)"
   ]
  },
  {
   "cell_type": "markdown",
   "metadata": {},
   "source": [
    "## Exercise 6: Animating the simulation\n",
    "\n",
    "Create an animation of our epidemic simulation. Fill in the skeleton code below with the plotting functions."
   ]
  },
  {
   "cell_type": "code",
   "execution_count": null,
   "metadata": {},
   "outputs": [],
   "source": [
    "# The following two lines load the epidemic functions from a file\n",
    "include(\"../epidemic.jl\")"
   ]
  },
  {
   "cell_type": "code",
   "execution_count": null,
   "metadata": {
    "scrolled": true
   },
   "outputs": [],
   "source": [
    "using Plots\n",
    "\n",
    "# Set the size of the animation window\n",
    "default(size = (400, 300))\n",
    "\n",
    "# The map of cells\n",
    "plants = make_plants(64,64)\n",
    "# List the number of infections for each frame\n",
    "infections = [count_infections(plants)]\n",
    "# List the number of deaths for each frame\n",
    "deaths = [count_deaths(plants)]\n",
    "\n",
    "\"Build the animation frames by running simulation steps and generating a plot\"\n",
    "function animation(plants)\n",
    "    anim = @animate for i ∈ 1:50\n",
    "        # run update function here\n",
    "        update!(plants, 5, 0.02, 0.2)\n",
    "        \n",
    "        # append the current number of infections and deaths to the two arrays\n",
    "        append!(infections, count_infections(plants))\n",
    "        append!(deaths, count_deaths(plants))\n",
    "        \n",
    "        # Create a plot of the simulation (left side in the animation)\n",
    "        plot1 = plot(to_colors.(plants),legend=false, border=:none)\n",
    "        # And a plot of the infection and death counts\n",
    "        plot2 = plot([infections, deaths], label = [\"Infections\" \"Deaths\"])\n",
    "\n",
    "        # This will set up the layout:\n",
    "        l = @layout [a b]\n",
    "\n",
    "        # And finally we combine the two plots with the layout        \n",
    "        plot(plot1, plot2, layout = l)\n",
    "    end\n",
    "    return anim\n",
    "end\n",
    "\n",
    "# Save the animation as a gif\n",
    "gif(animation(plants), \"epidemic.gif\", fps = 5)"
   ]
  }
 ],
 "metadata": {
  "celltoolbar": "Slideshow",
  "kernelspec": {
   "display_name": "Julia 1.7.3",
   "language": "julia",
   "name": "julia-1.7"
  },
  "language_info": {
   "file_extension": ".jl",
   "mimetype": "application/julia",
   "name": "julia",
   "version": "1.7.3"
  }
 },
 "nbformat": 4,
 "nbformat_minor": 4
}
