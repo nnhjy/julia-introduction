{
 "cells": [
  {
   "cell_type": "markdown",
   "metadata": {},
   "source": [
    "# Exercises: Plotting"
   ]
  },
  {
   "cell_type": "markdown",
   "metadata": {},
   "source": [
    "### Exercise 1: Installing a package: `Primes`\n",
    "\n",
    "Load the `Primes` packages (source code at https://github.com/JuliaMath/Primes.jl). \n",
    "\n",
    "Verify that you can now use the function `primes` to grab all the primes under `100`. If unsure, maybe `?primes` will help you?"
   ]
  },
  {
   "cell_type": "code",
   "execution_count": null,
   "metadata": {},
   "outputs": [],
   "source": [
    "using Pkg\n",
    "Pkg.add(\"Primes\")"
   ]
  },
  {
   "cell_type": "code",
   "execution_count": null,
   "metadata": {},
   "outputs": [],
   "source": [
    "using Primes\n",
    "primes(0,100)"
   ]
  },
  {
   "cell_type": "markdown",
   "metadata": {},
   "source": [
    "### Exercise 2: C\n",
    "\n",
    "Use the C `cos` function to find the cos π."
   ]
  },
  {
   "cell_type": "code",
   "execution_count": null,
   "metadata": {},
   "outputs": [],
   "source": [
    "t = ccall(:cos, Float64, (Float64,), π)"
   ]
  },
  {
   "cell_type": "markdown",
   "metadata": {},
   "source": [
    "### Exercise 3: Python\n",
    "\n",
    "Use the Python `math.cos` function to find the cos π."
   ]
  },
  {
   "cell_type": "code",
   "execution_count": null,
   "metadata": {},
   "outputs": [],
   "source": [
    "@pyimport math as pymath\n",
    "pymath.cos(π)"
   ]
  },
  {
   "cell_type": "markdown",
   "metadata": {},
   "source": [
    "### Exercise 4: Simple plots\n",
    "\n",
    "Given `x = -10:10` plot y vs. x for \n",
    "$\n",
    "y=x^2\n",
    "$"
   ]
  },
  {
   "cell_type": "code",
   "execution_count": null,
   "metadata": {},
   "outputs": [],
   "source": [
    "using Plots\n",
    "\n",
    "x = -10:10\n",
    "y = x.^2\n",
    "plot(x, y)"
   ]
  },
  {
   "cell_type": "markdown",
   "metadata": {},
   "source": [
    "### Exercise 5: Mount Bruno\n",
    "\n",
    "Let's visualize Mount Bruno! \n",
    "\n",
    "Read the 2D topological data of Mount Bruno from the file `../data/bruno.csv`. Next we need some plotting engine for `Plots`, I recommend `Plotly`/`PlotlyJS` for this task. As a final touch, see what `surface()` function can do with your array."
   ]
  },
  {
   "cell_type": "code",
   "execution_count": null,
   "metadata": {},
   "outputs": [],
   "source": [
    "using Plots\n",
    "gr()"
   ]
  },
  {
   "cell_type": "code",
   "execution_count": null,
   "metadata": {},
   "outputs": [],
   "source": [
    "using DelimitedFiles\n",
    "\n",
    "topological_data = readdlm(\"../data/bruno.csv\", ',')\n",
    "surface(topological_data)"
   ]
  },
  {
   "cell_type": "markdown",
   "metadata": {},
   "source": [
    "## Exercise 6: Animating the simulation\n",
    "\n",
    "Create an animation of our epidemic simulation. Fill in the skeleton code below with the plotting functions."
   ]
  },
  {
   "cell_type": "code",
   "execution_count": null,
   "metadata": {},
   "outputs": [],
   "source": [
    "# The following two lines load the epidemic functions from a file\n",
    "include(\"../../epidemic_simple.jl\")"
   ]
  },
  {
   "cell_type": "code",
   "execution_count": null,
   "metadata": {
    "scrolled": true
   },
   "outputs": [],
   "source": [
    "using Plots\n",
    "\n",
    "# Set the size of the animation window\n",
    "default(size = (400, 300))\n",
    "\n",
    "# The map of cells (a 2D array)\n",
    "cells = make_cells(64, 64)\n",
    "\n",
    "# Build the animation frames by running simulation steps and generating a plot\n",
    "anim = @animate for i ∈ 1:50\n",
    "    update!(cells, 0.2)\n",
    "\n",
    "    plot(to_colors.(cells), legend=false, border=:none)\n",
    "end\n",
    "\n",
    "gif(anim, \"pandemic.gif\", fps = 5)"
   ]
  },
  {
   "cell_type": "code",
   "execution_count": null,
   "metadata": {},
   "outputs": [],
   "source": []
  }
 ],
 "metadata": {
  "celltoolbar": "Slideshow",
  "kernelspec": {
   "display_name": "Julia 1.6.2",
   "language": "julia",
   "name": "julia-1.6"
  },
  "language_info": {
   "file_extension": ".jl",
   "mimetype": "application/julia",
   "name": "julia",
   "version": "1.6.2"
  }
 },
 "nbformat": 4,
 "nbformat_minor": 4
}
