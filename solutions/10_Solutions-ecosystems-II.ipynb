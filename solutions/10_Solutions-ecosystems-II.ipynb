{
 "cells": [
  {
   "cell_type": "markdown",
   "metadata": {},
   "source": [
    "# Exercises: Ecosystems II"
   ]
  },
  {
   "cell_type": "markdown",
   "metadata": {},
   "source": [
    "### Catch up with your own field / interests\n",
    "Explore the Julia ecosystem. Is there a community that matches your interests? If not, maybe one should introduce such at some point...\n",
    "\n",
    "See also the [Curated decibans of Julia language](https://github.com/svaksha/Julia.jl).\n",
    "\n",
    "These might also be of interest:\n",
    "- [Archimedes and pi](http://nbviewer.jupyter.org/github/pjpmarques/Julia-Modeling-the-World/blob/master/Archimedes%20and%20Pi.ipynb)\n",
    "- [Lorenz attractor](http://nbviewer.jupyter.org/github/pjpmarques/Julia-Modeling-the-World/blob/master/Lorenz%20Attractor.ipynb)\n",
    "- [Mandelbrot](http://nbviewer.jupyter.org/github/pjpmarques/Julia-Modeling-the-World/blob/master/Mandelbrot.ipynb)\n",
    "- [Terminal velocity](http://nbviewer.jupyter.org/github/pjpmarques/Julia-Modeling-the-World/blob/master/Terminal%20Velocity.ipynb)\n",
    "- [Three-body problem](http://nbviewer.jupyter.org/github/pjpmarques/Julia-Modeling-the-World/blob/master/Three-Body%20Problem.ipynb)\n",
    "\n",
    "On a more meta-level, check also [World of Julia](https://github.com/jiahao/ijulia-notebooks/blob/master/2014-06-30-world-of-julia.ipynb), a study of Julia contributors. Can you spot some familiar faces?"
   ]
  },
  {
   "cell_type": "code",
   "execution_count": null,
   "metadata": {},
   "outputs": [],
   "source": []
  }
 ],
 "metadata": {
  "kernelspec": {
   "display_name": "Julia 1.5.3",
   "language": "julia",
   "name": "julia-1.5"
  },
  "language_info": {
   "file_extension": ".jl",
   "mimetype": "application/julia",
   "name": "julia",
   "version": "1.5.3"
  }
 },
 "nbformat": 4,
 "nbformat_minor": 4
}
