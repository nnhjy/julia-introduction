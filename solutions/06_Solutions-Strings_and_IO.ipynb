{
 "cells": [
  {
   "cell_type": "markdown",
   "metadata": {},
   "source": [
    "# Solutions: Strings and  I/O"
   ]
  },
  {
   "cell_type": "markdown",
   "metadata": {},
   "source": [
    "### Exercise1: Hi!\n",
    "\n",
    "Create a string that says \"hi\" 100 times. Hint: maybe there is some better way than just writing it 100 times?"
   ]
  },
  {
   "cell_type": "code",
   "execution_count": null,
   "metadata": {},
   "outputs": [],
   "source": [
    "s = \"\"\n",
    "for i in 1:100\n",
    "    s *= \"hi\"\n",
    "end\n",
    "\n",
    "print(s)"
   ]
  },
  {
   "cell_type": "code",
   "execution_count": null,
   "metadata": {},
   "outputs": [],
   "source": [
    "#More elaborate way, since raising to a power is repeated multiplication:\n",
    "s = \"hi\"^100"
   ]
  },
  {
   "cell_type": "markdown",
   "metadata": {},
   "source": [
    "### Exercise2: String interpolation\n",
    "\n",
    "Declare two variables \n",
    "```julia\n",
    "a = 3\n",
    "b = 4\n",
    "```\n",
    "and use them to create two strings\n",
    "```\n",
    "\"3 + 4\"\n",
    "\"7\"\n",
    "```"
   ]
  },
  {
   "cell_type": "code",
   "execution_count": null,
   "metadata": {},
   "outputs": [],
   "source": [
    "a = 3\n",
    "b = 4\n",
    "\n",
    "s1 = \"$a + $b\"\n",
    "s2 = \"$(a+b)\"\n",
    "\n",
    "println(s1)\n",
    "println(s2)"
   ]
  },
  {
   "cell_type": "markdown",
   "metadata": {},
   "source": [
    "### Exercise 3: Writing and reading a simulation state\n",
    "\n",
    "Often we might want to save a simulation state to disk and read it later. Let's see what happends if we use `writedlm` to do this. Create an array of cells, update it 20 times and use `writedlm` to save the result to `\"../data/state.txt\"`.\n",
    "\n",
    "Take a look at the file. What happened?"
   ]
  },
  {
   "cell_type": "code",
   "execution_count": null,
   "metadata": {},
   "outputs": [],
   "source": [
    "using DelimitedFiles\n",
    "\n",
    "# This load the epidemic functions from a file\n",
    "include(\"../epidemic_no_immunity.jl\")\n",
    "cells = make_cells(7,7)"
   ]
  },
  {
   "cell_type": "code",
   "execution_count": null,
   "metadata": {},
   "outputs": [],
   "source": [
    "# Update the cells 20 times\n",
    "for i in 1:20\n",
    "    update!(cells, 0.1)\n",
    "end\n",
    "\n",
    "# Use writedlm to write the cells to a file\n",
    "writedlm(\"../data/state.txt\", cells, ',')"
   ]
  },
  {
   "cell_type": "markdown",
   "metadata": {},
   "source": [
    "It seems writedlm used the show function we wrote, so the file contains ◼ and ◻ characters. Try using the `readdlm`-function to read it.\n",
    "\n",
    "This will fail if you specify the type `Cell`. You can try this and see if you understand the error."
   ]
  },
  {
   "cell_type": "code",
   "execution_count": null,
   "metadata": {},
   "outputs": [],
   "source": [
    "data = readdlm(\"../data/state.txt\", ',')"
   ]
  },
  {
   "cell_type": "markdown",
   "metadata": {},
   "source": [
    "So readdlm is very robust, but not exactly useful here. For general structs, there is another library."
   ]
  },
  {
   "cell_type": "markdown",
   "metadata": {},
   "source": [
    "### JLD (Exercise 3 continues)\n",
    "\n",
    "JLD2 is very useful for more complicated datatypes, like our field of cells. To install he `JLD2` package, run \n",
    "```Julia\n",
    "using Pkg\n",
    "Pkg.install(\"JLD2\")\n",
    "using JLD2\n",
    "```\n",
    "Then check the help text for the `jldsave` and `load` functions. The result may not be immediately clear, so searching for examples online may help.\n",
    "\n",
    "Use the `save` function to write the cells to a file. Then use `load` to reload the file and print the contents."
   ]
  },
  {
   "cell_type": "code",
   "execution_count": null,
   "metadata": {},
   "outputs": [],
   "source": [
    "using Pkg\n",
    "Pkg.add(\"JLD2\")\n",
    "using JLD2"
   ]
  },
  {
   "cell_type": "code",
   "execution_count": null,
   "metadata": {},
   "outputs": [],
   "source": [
    "# Check the help strings\n",
    "?save_object"
   ]
  },
  {
   "cell_type": "code",
   "execution_count": null,
   "metadata": {},
   "outputs": [],
   "source": [
    "?load_object"
   ]
  },
  {
   "cell_type": "code",
   "execution_count": null,
   "metadata": {},
   "outputs": [],
   "source": [
    "# Use save_object to write the plant array to a file\n",
    "save_object(\"../data/data.jld\", cells)"
   ]
  },
  {
   "cell_type": "code",
   "execution_count": null,
   "metadata": {},
   "outputs": [],
   "source": [
    "# And the load_object function to load the data in the file\n",
    "loaded_jld = load_object(\"../data/data.jld\")\n",
    "loaded_cells = loaded_jld[\"cells\"]"
   ]
  },
  {
   "cell_type": "markdown",
   "metadata": {},
   "source": [
    "### Extra Exercise 1: Not so simple file reading\n",
    "\n",
    "Read the values of the `../data/coordinate.txt` into two arrays called `x` and `y` using the `open()`, `readline()` or `eachline()`, `close()` syntax.\n",
    "\n",
    "HINT: You will somehow need to parse each string of lines into numbers. Use the help and see what `split()` and `parse(Float64,... )` can do for you."
   ]
  },
  {
   "cell_type": "code",
   "execution_count": null,
   "metadata": {},
   "outputs": [],
   "source": [
    "x = Real[]\n",
    "y = Real[]\n",
    "open(\"../data/coordinates.txt\", \"r\") do f\n",
    "    for line in eachline(f)\n",
    "        println(line)\n",
    "\n",
    "        a,b = parse.(Float64, split(line))\n",
    "        \n",
    "        push!(x, a)\n",
    "        push!(y, b)\n",
    "    end\n",
    "end"
   ]
  }
 ],
 "metadata": {
  "kernelspec": {
   "display_name": "Julia 1.6.2",
   "language": "julia",
   "name": "julia-1.6"
  },
  "language_info": {
   "file_extension": ".jl",
   "mimetype": "application/julia",
   "name": "julia",
   "version": "1.6.2"
  }
 },
 "nbformat": 4,
 "nbformat_minor": 4
}
