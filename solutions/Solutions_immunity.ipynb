{
 "cells": [
  {
   "cell_type": "markdown",
   "id": "48de5316",
   "metadata": {},
   "source": [
    "## The simulation and duck typing\n",
    "\n",
    "You might have noticed that the simulation on the first page has some dark blue cells at the beginning. These cells are immune. We did not have any immune cells in the notebook, though. Let's add this final piece to the program.\n",
    "\n",
    "The cell below will load the simulation as we left it."
   ]
  },
  {
   "cell_type": "code",
   "execution_count": null,
   "id": "3ad1249a",
   "metadata": {},
   "outputs": [],
   "source": [
    "include(\"../../epidemic_no_immunity.jl\")"
   ]
  },
  {
   "cell_type": "markdown",
   "id": "26b9e8f8",
   "metadata": {},
   "source": [
    "Write a new cell type called where the `status` of a cell can be `immune` in addition to the states we had before."
   ]
  },
  {
   "cell_type": "code",
   "execution_count": null,
   "id": "462df54d",
   "metadata": {},
   "outputs": [],
   "source": [
    "@enum InfectionStatus uninfected infected dead recovered immune\n",
    "\n",
    "mutable struct Cell\n",
    "    status::InfectionStatus\n",
    "    infection_time::Int8\n",
    "end"
   ]
  },
  {
   "cell_type": "markdown",
   "id": "b3322cdc",
   "metadata": {},
   "source": [
    "Modify the loop below to make roughly 20% of the cells immune."
   ]
  },
  {
   "cell_type": "code",
   "execution_count": null,
   "id": "7ba8d087",
   "metadata": {},
   "outputs": [],
   "source": [
    "# About 20% of the cells should be immune\n",
    "immunity_rate = 0.2\n",
    "\n",
    "# Create an array of cells, with each cell undefined at first\n",
    "cells = Array{Cell}(undef, 32, 32)\n",
    "\n",
    "# Now loop over the positions in the array and create either an\n",
    "# uninfected cell or an immune cell\n",
    "for i in 1:size(cells)[1]\n",
    "    for j in 1:size(cells)[2]\n",
    "        if rand(1)[1] < immunity_rate\n",
    "            cells[i,j] = Cell(immune, 0)\n",
    "        else\n",
    "            cells[i,j] = Cell(uninfected, 0)\n",
    "        end\n",
    "    end\n",
    "end\n",
    "\n",
    "# Infect one cell at the start\n",
    "cells[16,16].status = infected"
   ]
  },
  {
   "cell_type": "markdown",
   "id": "1a29b861",
   "metadata": {},
   "source": [
    "We don't need to change the `update!`, since only `uninfected` cells can get infected. We can just run the simulation and thanks to duck-typing, everything works."
   ]
  },
  {
   "cell_type": "code",
   "execution_count": null,
   "id": "a3a79c58",
   "metadata": {},
   "outputs": [],
   "source": [
    "parameters = Parameters(0.2, 0.001, 8, 0.1)\n",
    "update!(cells, parameters)"
   ]
  },
  {
   "cell_type": "markdown",
   "id": "5a297b34",
   "metadata": {},
   "source": [
    "Plotting does not work immediately, however. Since `to_colors` does not know about immune cells, it will not return anything for them.\n",
    "\n",
    "Update to_colors function below to use a different color for immune cells."
   ]
  },
  {
   "cell_type": "code",
   "execution_count": null,
   "id": "8dde4e32",
   "metadata": {},
   "outputs": [],
   "source": [
    "\"Map the cells to colors for plotting\"\n",
    "function to_colors(cell)\n",
    "    if cell.status == uninfected\n",
    "        return RGB(0.0,0.8,0.0)\n",
    "    end\n",
    "    if cell.status == infected\n",
    "        return RGB(0.8,0.0,0.0)\n",
    "    end\n",
    "    if cell.status == dead\n",
    "        return RGB(0.1,0.1,0.1)\n",
    "    end\n",
    "    if cell.status == recovered\n",
    "        return RGB(0.0,0.0,0.8)\n",
    "    end\n",
    "    if cell.status == immune\n",
    "        return RGB(0.2,0.2,1.0)\n",
    "    end\n",
    "end\n",
    "\n",
    "to_colors.(cells)"
   ]
  }
 ],
 "metadata": {
  "kernelspec": {
   "display_name": "Julia 1.6.2",
   "language": "julia",
   "name": "julia-1.6"
  },
  "language_info": {
   "file_extension": ".jl",
   "mimetype": "application/julia",
   "name": "julia",
   "version": "1.6.2"
  }
 },
 "nbformat": 4,
 "nbformat_minor": 5
}
