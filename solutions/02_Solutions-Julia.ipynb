{
 "cells": [
  {
   "cell_type": "markdown",
   "metadata": {},
   "source": [
    "# Exercises: Basics"
   ]
  },
  {
   "cell_type": "markdown",
   "metadata": {},
   "source": [
    "## Exercise 1: Hello world!\n",
    "\n",
    "Let's begin our Julia journey with a proper way. Write a hello world program in Julia!"
   ]
  },
  {
   "cell_type": "code",
   "execution_count": null,
   "metadata": {},
   "outputs": [],
   "source": [
    "println(\"hello world!\")"
   ]
  },
  {
   "cell_type": "markdown",
   "metadata": {},
   "source": [
    "## Exercise 2: Julia as calculator\n",
    "\n",
    "Try some simple math and solve these:\n",
    "\n",
    "$\n",
    "100 + 123 = ?\n",
    "$\n",
    "\n",
    "$\n",
    "5^2 = ?\n",
    "$\n",
    "\n",
    "$\n",
    "2\\pi = ?\n",
    "$\n",
    "\n",
    "$\n",
    "\\cos(2\\pi) = ?\n",
    "$\n",
    "\n",
    "$\n",
    "e^2 = ?\n",
    "$"
   ]
  },
  {
   "cell_type": "code",
   "execution_count": null,
   "metadata": {},
   "outputs": [],
   "source": [
    "100+123"
   ]
  },
  {
   "cell_type": "code",
   "execution_count": null,
   "metadata": {},
   "outputs": [],
   "source": [
    "5^2"
   ]
  },
  {
   "cell_type": "code",
   "execution_count": null,
   "metadata": {},
   "outputs": [],
   "source": [
    "2π"
   ]
  },
  {
   "cell_type": "code",
   "execution_count": null,
   "metadata": {},
   "outputs": [],
   "source": [
    "cos(2π)"
   ]
  },
  {
   "cell_type": "code",
   "execution_count": null,
   "metadata": {},
   "outputs": [],
   "source": [
    "exp(2)"
   ]
  },
  {
   "cell_type": "markdown",
   "metadata": {},
   "source": [
    "## Exercise 3: Rational number magic\n",
    "\n",
    "How much is $ \\frac{3}{5} + \\frac{9}{10}$ ? Instead of typing `3/5 +...` etc. see what happens for `3//5 +...` etc."
   ]
  },
  {
   "cell_type": "code",
   "execution_count": null,
   "metadata": {},
   "outputs": [],
   "source": [
    "3//5 + 9//10"
   ]
  },
  {
   "cell_type": "markdown",
   "metadata": {},
   "source": [
    "## Exercise 4: Arrays\n",
    "\n",
    "\n",
    "Create an array `arr` with elements of `1,2,3,4,5`. Then add the number `6` to the end of this array. "
   ]
  },
  {
   "cell_type": "code",
   "execution_count": null,
   "metadata": {},
   "outputs": [],
   "source": [
    "arr = [1,2,3,4,5]\n",
    "println(arr)\n",
    "push!(arr,6)"
   ]
  },
  {
   "cell_type": "markdown",
   "metadata": {},
   "source": [
    "## Exercise 5: If\n",
    "\n",
    "\n",
    "Write a conditional statement that prints \"negative\" if a number is smaller than zero, and the \"positive\" if the number is larger than or equal to zero."
   ]
  },
  {
   "cell_type": "code",
   "execution_count": null,
   "metadata": {},
   "outputs": [],
   "source": [
    "x = 1 \n",
    "if x < 0\n",
    "    println(\"negative\")\n",
    "else\n",
    "    println(\"positive\")\n",
    "end"
   ]
  },
  {
   "cell_type": "markdown",
   "metadata": {},
   "source": [
    "## Exercise 6: For\n",
    "\n",
    "\n",
    "Loop over integers between 1 and 100 and print their squares."
   ]
  },
  {
   "cell_type": "code",
   "execution_count": null,
   "metadata": {},
   "outputs": [],
   "source": [
    "for i = 1:100\n",
    "    println(i^2)\n",
    "end"
   ]
  },
  {
   "cell_type": "markdown",
   "metadata": {},
   "source": [
    "## Exercise 7: Loop over a list\n",
    "\n",
    "Loop over the numbers in the following list and the numbers that are larger than 0."
   ]
  },
  {
   "cell_type": "code",
   "execution_count": null,
   "metadata": {},
   "outputs": [],
   "source": [
    "arr = [-65, 12, 0, -35, 0, -1, 1, 5]\n",
    "\n",
    "# Your code should print 12, 1 and 5\n",
    "\n",
    "for number in arr\n",
    "    if number > 0\n",
    "        println(number)\n",
    "    end\n",
    "end"
   ]
  },
  {
   "cell_type": "code",
   "execution_count": null,
   "metadata": {},
   "outputs": [],
   "source": []
  }
 ],
 "metadata": {
  "kernelspec": {
   "display_name": "Julia 1.6.2",
   "language": "julia",
   "name": "julia-1.6"
  },
  "language_info": {
   "file_extension": ".jl",
   "mimetype": "application/julia",
   "name": "julia",
   "version": "1.6.2"
  }
 },
 "nbformat": 4,
 "nbformat_minor": 4
}
