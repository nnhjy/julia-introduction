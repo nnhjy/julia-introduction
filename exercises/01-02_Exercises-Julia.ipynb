{
 "cells": [
  {
   "cell_type": "markdown",
   "metadata": {},
   "source": [
    "# Exercises: Basics"
   ]
  },
  {
   "cell_type": "markdown",
   "metadata": {},
   "source": [
    "### Hello world!\n",
    "\n",
    "Let's begin our Julia journey with a proper way. Write a hello world program in Julia!"
   ]
  },
  {
   "cell_type": "code",
   "execution_count": null,
   "metadata": {},
   "outputs": [],
   "source": []
  },
  {
   "cell_type": "markdown",
   "metadata": {},
   "source": [
    "### Julia as calculator\n",
    "\n",
    "Try some simple math and solve these:\n",
    "\n",
    "$\n",
    "100 + 123 = ?\n",
    "$\n",
    "\n",
    "$\n",
    "5^2 = ?\n",
    "$\n",
    "\n",
    "$\n",
    "2\\pi = ?\n",
    "$\n",
    "\n",
    "$\n",
    "\\cos(2\\pi) = ?\n",
    "$\n",
    "\n",
    "$\n",
    "e^2 = ?\n",
    "$"
   ]
  },
  {
   "cell_type": "code",
   "execution_count": null,
   "metadata": {},
   "outputs": [],
   "source": []
  },
  {
   "cell_type": "markdown",
   "metadata": {
    "slideshow": {
     "slide_type": "skip"
    }
   },
   "source": [
    "### Arrays\n",
    "\n",
    "Create an array `arr` with elements of `1,2,3,4,5`. Then add the number `6` to the end of this array. "
   ]
  },
  {
   "cell_type": "code",
   "execution_count": null,
   "metadata": {},
   "outputs": [],
   "source": []
  },
  {
   "cell_type": "markdown",
   "metadata": {},
   "source": [
    "## Rational number magic\n",
    "\n",
    "How much is $ \\frac{3}{5} + \\frac{9}{10}$ ? Instead of typing `3/5 +...` etc. see what happens for `3//5 +...` etc."
   ]
  },
  {
   "cell_type": "code",
   "execution_count": null,
   "metadata": {},
   "outputs": [],
   "source": []
  }
 ],
 "metadata": {
  "kernelspec": {
   "display_name": "Julia 1.5.3",
   "language": "julia",
   "name": "julia-1.5"
  },
  "language_info": {
   "file_extension": ".jl",
   "mimetype": "application/julia",
   "name": "julia",
   "version": "1.5.3"
  }
 },
 "nbformat": 4,
 "nbformat_minor": 4
}
