{
 "cells": [
  {
   "cell_type": "markdown",
   "metadata": {},
   "source": [
    "# Exercises: Control flow"
   ]
  },
  {
   "cell_type": "markdown",
   "metadata": {},
   "source": [
    "### if...\n",
    "\n",
    "Write a conditional statement that prints the number itself if it is smaller than zero, and the string \"positive\" if the number is larger than or equal to zero.\n"
   ]
  },
  {
   "cell_type": "code",
   "execution_count": null,
   "metadata": {},
   "outputs": [],
   "source": []
  },
  {
   "cell_type": "markdown",
   "metadata": {},
   "source": [
    "### for-loops\n",
    "\n",
    "Loop over integers between 1 and 100 and print their squares."
   ]
  },
  {
   "cell_type": "code",
   "execution_count": null,
   "metadata": {},
   "outputs": [],
   "source": []
  },
  {
   "cell_type": "markdown",
   "metadata": {},
   "source": [
    "### while\n",
    "\n",
    "Do the same with a `while` statement"
   ]
  },
  {
   "cell_type": "code",
   "execution_count": null,
   "metadata": {},
   "outputs": [],
   "source": []
  },
  {
   "cell_type": "markdown",
   "metadata": {},
   "source": [
    "### arrays\n",
    "\n",
    "Use an array comprehension to create an an array that stores the squares for all integers between 1 and 100."
   ]
  },
  {
   "cell_type": "code",
   "execution_count": null,
   "metadata": {},
   "outputs": [],
   "source": []
  },
  {
   "cell_type": "markdown",
   "metadata": {},
   "source": [
    "## Epidemic simulation\n",
    "\n",
    "Fill in the missing pieces to the second for loop below so that the infection spreads horizontally as well."
   ]
  },
  {
   "cell_type": "code",
   "execution_count": 1,
   "metadata": {},
   "outputs": [
    {
     "data": {
      "text/plain": [
       "7×7 Matrix{Int8}:\n",
       " 0  0  0  0  0  0  0\n",
       " 0  0  0  0  0  0  0\n",
       " 0  0  0  0  0  0  0\n",
       " 0  0  0  1  0  0  0\n",
       " 0  0  0  0  0  0  0\n",
       " 0  0  0  0  0  0  0\n",
       " 0  0  0  0  0  0  0"
      ]
     },
     "execution_count": 1,
     "metadata": {},
     "output_type": "execute_result"
    }
   ],
   "source": [
    "# The following two lines load the epidemic functions from a file\n",
    "include(\"../epidemic_simple.jl\")\n",
    "cells = make_cells()"
   ]
  },
  {
   "cell_type": "code",
   "execution_count": null,
   "metadata": {},
   "outputs": [],
   "source": [
    "\"Update the simulation one time step\"\n",
    "function update!(cells)\n",
    "    # Create a copy to remember the old state\n",
    "    old_cells = deepcopy(cells)\n",
    "    \n",
    "    # Loop over pairs of cells in the same row. There are size(cells)[1] columns, and size(cells)[1]-1 pairs.\n",
    "    for i in 1:size(cells)[1]-1\n",
    "        # loop over all columns\n",
    "        for j in 1:size(cells)[2]\n",
    "            # So the cells are (i+1,j) and (i,j). Each will interact with the other.\n",
    "        \n",
    "            cells[i,j] = interact(cells[i,j], old_cells[i+1,j])\n",
    "            cells[i+1,j] = interact(cells[i+1,j], old_cells[i,j])\n",
    "\n",
    "        end\n",
    "    end\n",
    "    \n",
    "    # Loop over pairs of cells in the same row. There are size(cells)[1] columns, and size(cells)[1]-1 pairs.\n",
    "    for i in 1:size(cells)[1]\n",
    "        # loop over all columns\n",
    "        for j in ...\n",
    "            # The cells are (i+1,j) and (i,j). Each will interact with the other.\n",
    "        \n",
    "            ...\n",
    "            ...\n",
    "\n",
    "        end\n",
    "    end\n",
    "end"
   ]
  },
  {
   "cell_type": "code",
   "execution_count": null,
   "metadata": {},
   "outputs": [],
   "source": [
    "update!(cells)\n",
    "cells"
   ]
  },
  {
   "cell_type": "markdown",
   "metadata": {},
   "source": [
    "### Advanced: FizzBuzz\n",
    "\n",
    "Implement the (infamous) FizzBuzz test using Julia: \n",
    "\n",
    "Loop over numbers between 1 and 100. For every element:\n",
    "- given a number, N, print \"Fizz\" if N is divisible by 3, \n",
    "- \"Buzz\" if N is divisible by 5, \n",
    "- and \"FizzBuzz\" if N is divisible by 3 and 5. \n",
    "- Otherwise just print the number itself\n",
    "\n",
    "You can check the remainder of division using the `%` symbol, i.e., `3 % 2 = 1`"
   ]
  },
  {
   "cell_type": "code",
   "execution_count": null,
   "metadata": {},
   "outputs": [],
   "source": []
  }
 ],
 "metadata": {
  "kernelspec": {
   "display_name": "Julia 1.6.2",
   "language": "julia",
   "name": "julia-1.6"
  },
  "language_info": {
   "file_extension": ".jl",
   "mimetype": "application/julia",
   "name": "julia",
   "version": "1.6.2"
  }
 },
 "nbformat": 4,
 "nbformat_minor": 4
}
