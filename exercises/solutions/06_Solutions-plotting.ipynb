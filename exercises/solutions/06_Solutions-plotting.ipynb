{
 "cells": [
  {
   "cell_type": "markdown",
   "metadata": {},
   "source": [
    "# Exercises: Plotting"
   ]
  },
  {
   "cell_type": "markdown",
   "metadata": {},
   "source": [
    "### Installing a package: `Primes`\n",
    "\n",
    "Load the `Primes` packages (source code at https://github.com/JuliaMath/Primes.jl). \n",
    "\n",
    "Verify that you can now use the function `primes` to grab all the primes under `100`. If unsure, maybe `?primes` will help you?"
   ]
  },
  {
   "cell_type": "code",
   "execution_count": null,
   "metadata": {},
   "outputs": [],
   "source": [
    "using Pkg\n",
    "Pkg.add(\"Primes\")\n",
    "using Primes"
   ]
  },
  {
   "cell_type": "code",
   "execution_count": null,
   "metadata": {},
   "outputs": [],
   "source": [
    "primes(0,100)"
   ]
  },
  {
   "cell_type": "markdown",
   "metadata": {},
   "source": [
    "### Simple plots\n",
    "\n",
    "Given `x = -10:10` plot y vs. x for \n",
    "$\n",
    "y=x^2\n",
    "$"
   ]
  },
  {
   "cell_type": "code",
   "execution_count": null,
   "metadata": {},
   "outputs": [],
   "source": [
    "using Plots\n",
    "\n",
    "x = -10:10\n",
    "y = x.^2\n",
    "plot(x, y)"
   ]
  },
  {
   "cell_type": "markdown",
   "metadata": {},
   "source": [
    "### Mount Bruno\n",
    "\n",
    "Let's visualize Mount Bruno! \n",
    "\n",
    "Read the 2D topological data of Mount Bruno from the file `../data/bruno.csv`. Next we need some plotting engine for `Plots`, I recommend `Plotly`/`PlotlyJS` for this task. As a final touch, see what `surface()` function can do with your array."
   ]
  },
  {
   "cell_type": "code",
   "execution_count": null,
   "metadata": {},
   "outputs": [],
   "source": [
    "using Plots\n",
    "gr()"
   ]
  },
  {
   "cell_type": "code",
   "execution_count": null,
   "metadata": {},
   "outputs": [],
   "source": [
    "using DelimitedFiles\n",
    "\n",
    "topological_data = readdlm(\"../../data/bruno.csv\", ',')\n",
    "surface(topological_data)"
   ]
  },
  {
   "cell_type": "markdown",
   "metadata": {},
   "source": [
    "## Advanced: Animations\n",
    "\n",
    "Create an animation of our epidemic simulation. Fill in the skeleton code below with the plotting functions."
   ]
  },
  {
   "cell_type": "code",
   "execution_count": 13,
   "metadata": {},
   "outputs": [
    {
     "data": {
      "text/plain": [
       "count_infections"
      ]
     },
     "execution_count": 13,
     "metadata": {},
     "output_type": "execute_result"
    }
   ],
   "source": [
    "# The following two lines load the epidemic functions from a file\n",
    "include(\"../../epidemic_simple.jl\")"
   ]
  },
  {
   "cell_type": "code",
   "execution_count": 15,
   "metadata": {
    "scrolled": true
   },
   "outputs": [
    {
     "name": "stderr",
     "output_type": "stream",
     "text": [
      "┌ Info: Saved animation to \n",
      "│   fn = /notebooks/julia-introduction/exercises/solutions/pandemic.gif\n",
      "└ @ Plots /opt/julia/packages/Plots/lmp2A/src/animation.jl:104\n"
     ]
    },
    {
     "data": {
      "text/html": [
       "<img src=\"data:image/gif;base64,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\" />"
      ],
      "text/plain": [
       "Plots.AnimatedGif(\"/notebooks/julia-introduction/exercises/solutions/pandemic.gif\")"
      ]
     },
     "execution_count": 15,
     "metadata": {},
     "output_type": "execute_result"
    }
   ],
   "source": [
    "using Plots\n",
    "\n",
    "# Set the size of the animation window\n",
    "default(size = (400, 300))\n",
    "\n",
    "# The map of cells (a 2D array)\n",
    "cells = make_cells(64, 64)\n",
    "\n",
    "# Build the animation frames by running simulation steps and generating a plot\n",
    "anim = @animate for i ∈ 1:50\n",
    "    update!(cells, 0.2)\n",
    "\n",
    "    plot(to_colors.(cells), legend=false, border=:none)\n",
    "end\n",
    "\n",
    "gif(anim, \"pandemic.gif\", fps = 5)"
   ]
  },
  {
   "cell_type": "code",
   "execution_count": null,
   "metadata": {},
   "outputs": [],
   "source": []
  }
 ],
 "metadata": {
  "celltoolbar": "Slideshow",
  "kernelspec": {
   "display_name": "Julia 1.5.3",
   "language": "julia",
   "name": "julia-1.5"
  },
  "language_info": {
   "file_extension": ".jl",
   "mimetype": "application/julia",
   "name": "julia",
   "version": "1.5.3"
  }
 },
 "nbformat": 4,
 "nbformat_minor": 4
}
