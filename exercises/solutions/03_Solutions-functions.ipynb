{
 "cells": [
  {
   "cell_type": "markdown",
   "metadata": {},
   "source": [
    "# Exercises: Functions"
   ]
  },
  {
   "cell_type": "markdown",
   "metadata": {},
   "source": [
    "### Introduction to functions\n",
    "\n",
    "Write a function named `addone` that adds 1 to its input."
   ]
  },
  {
   "cell_type": "code",
   "execution_count": null,
   "metadata": {},
   "outputs": [],
   "source": [
    "function addone(x)\n",
    "    return x + 1\n",
    "end"
   ]
  },
  {
   "cell_type": "code",
   "execution_count": null,
   "metadata": {},
   "outputs": [],
   "source": [
    "addone(1)"
   ]
  },
  {
   "cell_type": "code",
   "execution_count": null,
   "metadata": {},
   "outputs": [],
   "source": [
    "addone([1,2,3]) #note that it is not vectorized automatically!"
   ]
  },
  {
   "cell_type": "markdown",
   "metadata": {},
   "source": [
    "### Polynomial\n",
    "\n",
    "Write your own 2nd order polynomial function `poly2(x)` that evaluates $4 + 3x + 2x^2$."
   ]
  },
  {
   "cell_type": "code",
   "execution_count": null,
   "metadata": {},
   "outputs": [],
   "source": [
    "poly2(x) = 4 + 3x + 2x^2"
   ]
  },
  {
   "cell_type": "code",
   "execution_count": null,
   "metadata": {},
   "outputs": [],
   "source": [
    "poly2(1)"
   ]
  },
  {
   "cell_type": "markdown",
   "metadata": {},
   "source": [
    "Abstractify your function a little to take `x` and `coeffs` as an input. `coeffs` should be an array of length `3` that holds the coefficients of the polynomial. Internally your function should then compute $C_3 x^2 + C_2 x + C_1$ where $C_i$ is the $i$th element of the `coeff` array."
   ]
  },
  {
   "cell_type": "code",
   "execution_count": null,
   "metadata": {},
   "outputs": [],
   "source": [
    "function poly2(x, coeffs)\n",
    "    @assert length(coeffs) == 3\n",
    "\n",
    "    y = coeffs[1] + coeffs[2] * x + coeffs[3] * x^2\n",
    "    return y\n",
    "end"
   ]
  },
  {
   "cell_type": "code",
   "execution_count": null,
   "metadata": {},
   "outputs": [],
   "source": [
    "poly2(1, [4,3,2])"
   ]
  },
  {
   "cell_type": "markdown",
   "metadata": {},
   "source": [
    "### Map / Broadcast\n",
    "\n",
    "Use `map` or `broadcast` to increment every element of a matrix `A` by `1` using the function defined in the first exercise.\n",
    "\n",
    "You can easily create an empty matrix for testing with `A = zeros(5,5)`."
   ]
  },
  {
   "cell_type": "code",
   "execution_count": null,
   "metadata": {},
   "outputs": [],
   "source": [
    "A = zeros(5,5)\n",
    "\n",
    "map(addone, A)"
   ]
  },
  {
   "cell_type": "markdown",
   "metadata": {},
   "source": [
    "### Dot syntax\n",
    "\n",
    "Try out the broadcast dot syntax to increment every element of matrix `A` by `1` using the function defined in the first exercise."
   ]
  },
  {
   "cell_type": "code",
   "execution_count": null,
   "metadata": {},
   "outputs": [],
   "source": [
    "addone.(A)"
   ]
  },
  {
   "cell_type": "markdown",
   "metadata": {},
   "source": [
    "### Advanced: More dots\n",
    "Generalize the previous polynomial function to work for matrices, too. In practise this means that `x` can be of array too and the polynomial function is evaluated for every element of that array."
   ]
  },
  {
   "cell_type": "code",
   "execution_count": null,
   "metadata": {},
   "outputs": [],
   "source": [
    "function poly2(x, coeffs)\n",
    "    @assert length(coeffs) == 3\n",
    "\n",
    "    y = coeffs[1] .+ coeffs[2] .* x .+ coeffs[3] .* x^2\n",
    "    return y\n",
    "end"
   ]
  },
  {
   "cell_type": "code",
   "execution_count": null,
   "metadata": {},
   "outputs": [],
   "source": [
    "x = ones(4,4)\n",
    "coeffs = [4,3,2]\n",
    "poly2(x, coeffs)"
   ]
  }
 ],
 "metadata": {
  "kernelspec": {
   "display_name": "Julia 1.5.3",
   "language": "julia",
   "name": "julia-1.5"
  },
  "language_info": {
   "file_extension": ".jl",
   "mimetype": "application/julia",
   "name": "julia",
   "version": "1.5.3"
  }
 },
 "nbformat": 4,
 "nbformat_minor": 4
}
