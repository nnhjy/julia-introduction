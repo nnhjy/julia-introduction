{
 "cells": [
  {
   "cell_type": "markdown",
   "metadata": {},
   "source": [
    "# Exercises: IO"
   ]
  },
  {
   "cell_type": "markdown",
   "metadata": {},
   "source": [
    "### Hi!\n",
    "\n",
    "Create a string that says \"hi\" 100 times. Hint: maybe there is some better way than just writing it 100 times?"
   ]
  },
  {
   "cell_type": "code",
   "execution_count": null,
   "metadata": {},
   "outputs": [],
   "source": [
    "s = \"\"\n",
    "for i in 1:100\n",
    "    s *= \"hi\"\n",
    "end\n",
    "\n",
    "print(s)"
   ]
  },
  {
   "cell_type": "code",
   "execution_count": null,
   "metadata": {},
   "outputs": [],
   "source": [
    "#More elaborate way, since raising to a power is repeated multiplication:\n",
    "s = \"hi\"^100"
   ]
  },
  {
   "cell_type": "markdown",
   "metadata": {},
   "source": [
    "### String interpolation\n",
    "\n",
    "Declare two variables \n",
    "```julia\n",
    "a = 3\n",
    "b = 4\n",
    "```\n",
    "and use them to create two strings\n",
    "```\n",
    "\"3 + 4\"\n",
    "\"7\"\n",
    "```"
   ]
  },
  {
   "cell_type": "code",
   "execution_count": null,
   "metadata": {},
   "outputs": [],
   "source": [
    "a = 3\n",
    "b = 4\n",
    "\n",
    "s1 = \"$a + $b\"\n",
    "s2 = \"$(a+b)\"\n",
    "\n",
    "println(s1)\n",
    "println(s2)"
   ]
  },
  {
   "cell_type": "markdown",
   "metadata": {},
   "source": [
    "## Reading a Simulation state\n",
    "\n",
    "The file `\"../data/pattern.txt\"` contains saved `cells`-array for the epidemic simulation. Read the file into an array and run a 5 steps using the code below. Then write the result into a similar `\"../data/step_5.txt\"`."
   ]
  },
  {
   "cell_type": "code",
   "execution_count": null,
   "metadata": {},
   "outputs": [],
   "source": [
    "using DelimitedFiles\n",
    "# Note the extra \"../\" since we are one folder deeper than the exercises.\n",
    "# Your solution should only have one \"../\".\n",
    "cells = readdlm(\"../../data/pattern.txt\", ',', Int8)"
   ]
  },
  {
   "cell_type": "code",
   "execution_count": null,
   "metadata": {},
   "outputs": [],
   "source": [
    "# The following two lines load the epidemic functions from a file\n",
    "include(\"../../epidemic_simple.jl\")"
   ]
  },
  {
   "cell_type": "code",
   "execution_count": null,
   "metadata": {},
   "outputs": [],
   "source": [
    "for step in 1:5\n",
    "    update!(cells)\n",
    "end\n",
    "writedlm(\"../../data/step_5.txt\", cells, ',')"
   ]
  },
  {
   "cell_type": "markdown",
   "metadata": {},
   "source": [
    "### Formatting\n",
    "\n",
    "The file `\"../data/coordinates.txt\"` contains list of (x, y) value pairs. Read the values into an array using the `readdlm()` function. \n",
    "\n",
    "After that, write them into a file `coordinates.csv` using the CSV-format."
   ]
  },
  {
   "cell_type": "code",
   "execution_count": null,
   "metadata": {},
   "outputs": [],
   "source": [
    "using DelimitedFiles\n",
    "arr = readdlm(\"../../data/coordinates.txt\")"
   ]
  },
  {
   "cell_type": "code",
   "execution_count": null,
   "metadata": {},
   "outputs": [],
   "source": [
    "writedlm(\"../../data/coordinates.csv\", arr, ',')"
   ]
  },
  {
   "cell_type": "markdown",
   "metadata": {},
   "source": [
    "### Advanced: Not so simple file reading\n",
    "\n",
    "Read the values of the `../data/coordinate.txt` into two arrays called `x` and `y` using the `open()`, `readline()` or `eachline()`, `close()` syntax.\n",
    "\n",
    "HINT: You will somehow need to parse each string of lines into numbers. Use the help and see what `split()` and `parse(Float64,... )` can do for you."
   ]
  },
  {
   "cell_type": "code",
   "execution_count": null,
   "metadata": {},
   "outputs": [],
   "source": [
    "x = Real[]\n",
    "y = Real[]\n",
    "open(\"../../data/coordinates.txt\", \"r\") do f\n",
    "    for line in eachline(f)\n",
    "        println(line)\n",
    "\n",
    "        a,b = parse.(Float64, split(line))\n",
    "        \n",
    "        push!(x, a)\n",
    "        push!(y, b)\n",
    "    end\n",
    "end"
   ]
  }
 ],
 "metadata": {
  "kernelspec": {
   "display_name": "Julia 1.5.3",
   "language": "julia",
   "name": "julia-1.5"
  },
  "language_info": {
   "file_extension": ".jl",
   "mimetype": "application/julia",
   "name": "julia",
   "version": "1.5.3"
  }
 },
 "nbformat": 4,
 "nbformat_minor": 4
}
