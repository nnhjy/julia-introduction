{
 "cells": [
  {
   "cell_type": "markdown",
   "metadata": {},
   "source": [
    "# Exercises: Types and Multiple Dispatch"
   ]
  },
  {
   "cell_type": "markdown",
   "metadata": {},
   "source": [
    "## Adding a method\n",
    "\n",
    "The function below adds any number to any other number."
   ]
  },
  {
   "cell_type": "code",
   "execution_count": 1,
   "metadata": {},
   "outputs": [
    {
     "data": {
      "text/plain": [
       "add (generic function with 1 method)"
      ]
     },
     "execution_count": 1,
     "metadata": {},
     "output_type": "execute_result"
    }
   ],
   "source": [
    "function add(x::Number, y::Number)\n",
    "    x + y\n",
    "end"
   ]
  },
  {
   "cell_type": "markdown",
   "metadata": {},
   "source": [
    "The word add could have other meanings as well. Write a method of the add function that takes two strings and adds the\n",
    "second to the end of the first.\n",
    "\n",
    "So if called with \"Hello \" and \"World!\", the function returns \"Hello World!\"."
   ]
  },
  {
   "cell_type": "code",
   "execution_count": null,
   "metadata": {},
   "outputs": [],
   "source": [
    "function add(x::String, y::String)\n",
    "    x*y\n",
    "end\n",
    "add(\"Hello \", \"World!\")"
   ]
  },
  {
   "cell_type": "markdown",
   "metadata": {},
   "source": [
    "How do you check what methods the function now has?"
   ]
  },
  {
   "cell_type": "code",
   "execution_count": null,
   "metadata": {},
   "outputs": [],
   "source": [
    "methods(add)"
   ]
  },
  {
   "cell_type": "markdown",
   "metadata": {},
   "source": [
    "Now create another method for the add function. This time the first argument is an array and the second is a number.\n",
    "\n",
    "The function returns a new array with the number added to the end of the original array."
   ]
  },
  {
   "cell_type": "code",
   "execution_count": null,
   "metadata": {},
   "outputs": [],
   "source": [
    "function add(x::Array, y::Number)\n",
    "    push!(x, y)\n",
    "end\n",
    "add([1,2,3], 4)"
   ]
  },
  {
   "cell_type": "markdown",
   "metadata": {},
   "source": [
    "## Structs"
   ]
  },
  {
   "cell_type": "markdown",
   "metadata": {},
   "source": [
    "### Fruit Bowl\n",
    "\n",
    "Write functions to keep track of fruit in your fruit bowl and to warn you when it's empty or if no more fruit will fit in. For simplicity, assume a given number of fruit will fit not matter the kind.\n",
    "\n",
    "To get started, create a new type for a piece of fruit. The fruit can be either an apple, a banana or an orange. (You can add others based on your preference.)\n",
    "\n",
    "You can use the @enum to represent types of fruit."
   ]
  },
  {
   "cell_type": "code",
   "execution_count": null,
   "metadata": {},
   "outputs": [],
   "source": [
    "@enum Fruit apple banana orange"
   ]
  },
  {
   "cell_type": "markdown",
   "metadata": {},
   "source": [
    "Now create a mutable type called FruitBowl. It contains a list of fruit in the bowl and the maximum capacity of the bowl (integer)."
   ]
  },
  {
   "cell_type": "code",
   "execution_count": null,
   "metadata": {},
   "outputs": [],
   "source": [
    "mutable struct FruitBowl\n",
    "    contents::Array{Fruit}\n",
    "    capacity::Integer\n",
    "end"
   ]
  },
  {
   "cell_type": "markdown",
   "metadata": {},
   "source": [
    "Now create an `add!`-function to add a piece of fruit to the bowl. Check that the bowl does not go over capacity."
   ]
  },
  {
   "cell_type": "code",
   "execution_count": null,
   "metadata": {},
   "outputs": [],
   "source": [
    "function add!(bowl::FruitBowl, fruit::Fruit)\n",
    "    if length(bowl.contents) >= bowl.capacity\n",
    "        println(\"It rolls off!\")\n",
    "    else\n",
    "        push!(bowl.contents, fruit)\n",
    "    end\n",
    "end"
   ]
  },
  {
   "cell_type": "code",
   "execution_count": null,
   "metadata": {},
   "outputs": [],
   "source": [
    "# Test it with an empty bowl\n",
    "bowl = FruitBowl([], 4)\n",
    "add!(bowl, apple)"
   ]
  },
  {
   "cell_type": "code",
   "execution_count": null,
   "metadata": {},
   "outputs": [],
   "source": [
    "# Keep adding untill the bowl is full\n",
    "add!(bowl, apple)\n",
    "add!(bowl, banana)\n",
    "add!(bowl, orange) \n",
    "add!(bowl, orange) # This one does not fit"
   ]
  },
  {
   "cell_type": "markdown",
   "metadata": {},
   "source": [
    "## The simulation and duck typing\n",
    "\n",
    "You might have noticed that the simulation on the first page has some dark blue cells at the beginning. These cells are immune. We did not have any immune cells in the notebook, though. Let's add this final piece to the program.\n",
    "\n",
    "The cell below will load the simulation as we left it."
   ]
  },
  {
   "cell_type": "code",
   "execution_count": null,
   "metadata": {},
   "outputs": [],
   "source": [
    "include(\"../../epidemic_no_immunity.jl\")"
   ]
  },
  {
   "cell_type": "markdown",
   "metadata": {},
   "source": [
    "Write a new cell type called where the `status` of a cell can be `immune` in addition to the states we had before."
   ]
  },
  {
   "cell_type": "code",
   "execution_count": null,
   "metadata": {},
   "outputs": [],
   "source": [
    "@enum InfectionStatus uninfected infected dead recovered immune\n",
    "\n",
    "mutable struct Cell\n",
    "    status::InfectionStatus\n",
    "    infection_time::Int8\n",
    "end"
   ]
  },
  {
   "cell_type": "markdown",
   "metadata": {},
   "source": [
    "Modify the loop below to make roughly 20% of the cells immune."
   ]
  },
  {
   "cell_type": "code",
   "execution_count": null,
   "metadata": {},
   "outputs": [],
   "source": [
    "# About 20% of the cells should be immune\n",
    "immunity_rate = 0.2\n",
    "\n",
    "# Create an array of cells, with each cell undefined at first\n",
    "cells = Array{Cell}(undef, 32, 32)\n",
    "\n",
    "# Now loop over the positions in the array and create either an\n",
    "# uninfected cell or an immune cell\n",
    "for i in 1:size(cells)[1]\n",
    "    for j in 1:size(cells)[2]\n",
    "        if rand(1)[1] < immunity_rate\n",
    "            cells[i,j] = Cell(immune, 0)\n",
    "        else\n",
    "            cells[i,j] = Cell(uninfected, 0)\n",
    "        end\n",
    "    end\n",
    "end\n",
    "\n",
    "# Infect one cell at the start\n",
    "cells[16,16].status = infected"
   ]
  },
  {
   "cell_type": "markdown",
   "metadata": {},
   "source": [
    "We don't need to change the `update!`, since only `uninfected` cells can get infected. We can just run the simulation and thanks to duck-typing, everything works."
   ]
  },
  {
   "cell_type": "code",
   "execution_count": null,
   "metadata": {},
   "outputs": [],
   "source": [
    "parameters = Parameters(0.2, 0.001, 8, 0.1)\n",
    "update!(cells, parameters)"
   ]
  },
  {
   "cell_type": "markdown",
   "metadata": {},
   "source": [
    "Plotting does not work immediately, however. Since `to_colors` does not know about immune cells, it will not return anything for them.\n",
    "\n",
    "Update to_colors function below to use a different color for immune cells."
   ]
  },
  {
   "cell_type": "code",
   "execution_count": null,
   "metadata": {},
   "outputs": [],
   "source": [
    "\"Map the cells to colors for plotting\"\n",
    "function to_colors(cell)\n",
    "    if cell.status == uninfected\n",
    "        return RGB(0.0,0.8,0.0)\n",
    "    end\n",
    "    if cell.status == infected\n",
    "        return RGB(0.8,0.0,0.0)\n",
    "    end\n",
    "    if cell.status == dead\n",
    "        return RGB(0.1,0.1,0.1)\n",
    "    end\n",
    "    if cell.status == recovered\n",
    "        return RGB(0.0,0.0,0.8)\n",
    "    end\n",
    "    if cell.status == immune\n",
    "        return RGB(0.2,0.2,1.0)\n",
    "    end\n",
    "end\n",
    "\n",
    "to_colors.(cells)"
   ]
  }
 ],
 "metadata": {
  "kernelspec": {
   "display_name": "Julia 1.5.3",
   "language": "julia",
   "name": "julia-1.5"
  },
  "language_info": {
   "file_extension": ".jl",
   "mimetype": "application/julia",
   "name": "julia",
   "version": "1.5.3"
  }
 },
 "nbformat": 4,
 "nbformat_minor": 5
}
