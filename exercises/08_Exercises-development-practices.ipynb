{
 "cells": [
  {
   "cell_type": "markdown",
   "metadata": {},
   "source": [
    "# Exercises: development practises"
   ]
  },
  {
   "cell_type": "markdown",
   "metadata": {},
   "source": [
    "## Packages\n",
    "Try creating a package using the `Pkg.generate` function and make it available using the `Pkg.develop` and the `PackageSpec` function as in the notes.\n",
    "\n",
    "Look through the files created."
   ]
  },
  {
   "cell_type": "code",
   "execution_count": null,
   "metadata": {},
   "outputs": [],
   "source": [
    "using Pkg"
   ]
  },
  {
   "cell_type": "code",
   "execution_count": null,
   "metadata": {},
   "outputs": [],
   "source": [
    "Pkg.generate(...)"
   ]
  },
  {
   "cell_type": "code",
   "execution_count": null,
   "metadata": {},
   "outputs": [],
   "source": [
    "Pkg.develop(...) # Use PackageSpec"
   ]
  },
  {
   "cell_type": "markdown",
   "metadata": {},
   "source": [
    "Try activating the packages environment using `Pkg.activate(\"MyPackage\")`. Take a look at the `Project.toml` file.\n",
    "\n",
    "Try installing the `Test` package and see how the `Project.toml` file changes."
   ]
  },
  {
   "cell_type": "code",
   "execution_count": null,
   "metadata": {},
   "outputs": [],
   "source": [
    "Pkg.activate(...)"
   ]
  },
  {
   "cell_type": "code",
   "execution_count": null,
   "metadata": {},
   "outputs": [],
   "source": [
    "Pkg.add(\"Test\")"
   ]
  },
  {
   "cell_type": "markdown",
   "metadata": {},
   "source": [
    "The file contains all the information necessary to reproduce install your package and all its dependencies."
   ]
  },
  {
   "cell_type": "markdown",
   "metadata": {},
   "source": [
    "## Modules\n",
    "\n",
    "The new package contains a function called `greet`, but it is not exported. If you use the package with the `using` keyword, the `greet` function does not get added to the global name space (but it can be used with the `.`-syntax.\n",
    "\n",
    "Export the `greet`-function from the module, so that it can be called directly in the global name space."
   ]
  },
  {
   "cell_type": "markdown",
   "metadata": {},
   "source": [
    "If you used the name \"MyPackage\" for the package, you should modify the file \"MyPackage/src/MyPackage.jl\". Add a line with the `export` keyword."
   ]
  },
  {
   "cell_type": "code",
   "execution_count": null,
   "metadata": {},
   "outputs": [],
   "source": [
    "using MyPackage\n",
    "greet()"
   ]
  },
  {
   "cell_type": "markdown",
   "metadata": {},
   "source": [
    "Add another function to the module. It should be called `increment` and it should add 1 to any number."
   ]
  },
  {
   "cell_type": "markdown",
   "metadata": {},
   "source": [
    "## Testing\n",
    "\n",
    "Now add a test that checks the function does what it is supposed to. Test it with three different types of numbers.\n",
    "\n",
    "1. Create a folder called `test` and a file named `runtests.jl` in it.\n",
    "2. Copy the following to the file and the tests to the empty lines. Use the `@test`-syntax.\n",
    "```julia\n",
    "using Test\n",
    "using MyPackage\n",
    "@test increment(1) == 2\n",
    "@test increment(2.1) == 3.1\n",
    "@test increment(3//5) == 8//5\n",
    "end\n",
    "```"
   ]
  },
  {
   "cell_type": "code",
   "execution_count": null,
   "metadata": {},
   "outputs": [],
   "source": [
    "Pkg.test(\"MyPackage\")"
   ]
  },
  {
   "cell_type": "markdown",
   "metadata": {},
   "source": [
    "Change the function so that the test fails and see what happens."
   ]
  },
  {
   "cell_type": "code",
   "execution_count": null,
   "metadata": {},
   "outputs": [],
   "source": [
    "Pkg.test(\"MyPackage\")"
   ]
  },
  {
   "cell_type": "markdown",
   "metadata": {},
   "source": [
    "### Pretty functions\n",
    "\n",
    "Write a function called `blackbox`. It should behave such that it takes a number as an input and adds one to it. If a keyword argument `reverse=true` is also given, it should subtract one instead."
   ]
  },
  {
   "cell_type": "code",
   "execution_count": null,
   "metadata": {},
   "outputs": [],
   "source": [
    "function blackbox(x::Number; reverse=false)\n",
    "    ...\n",
    "end"
   ]
  },
  {
   "cell_type": "code",
   "execution_count": null,
   "metadata": {},
   "outputs": [],
   "source": [
    "# Run these to check\n",
    "blackbox(1)"
   ]
  },
  {
   "cell_type": "code",
   "execution_count": null,
   "metadata": {},
   "outputs": [],
   "source": [
    "blackbox(2.0)"
   ]
  },
  {
   "cell_type": "code",
   "execution_count": null,
   "metadata": {},
   "outputs": [],
   "source": [
    "blackbox(100, reverse=true)"
   ]
  },
  {
   "cell_type": "markdown",
   "metadata": {},
   "source": [
    "Write another `blackbox2` function that behaves like the previous but when given two arguments it uses the second argument as the value it adds or substracts. With one argument it behaves like the previous function.\n",
    "\n",
    "Hint: remember optional argument that can be given a default value!"
   ]
  },
  {
   "cell_type": "code",
   "execution_count": null,
   "metadata": {},
   "outputs": [],
   "source": [
    "function blackbox2(x::Number, ...; ...)\n",
    "    ...\n",
    "end"
   ]
  },
  {
   "cell_type": "code",
   "execution_count": null,
   "metadata": {},
   "outputs": [],
   "source": [
    "# Run these to check\n",
    "blackbox2(10,5)"
   ]
  },
  {
   "cell_type": "code",
   "execution_count": null,
   "metadata": {},
   "outputs": [],
   "source": [
    "blackbox2(10,5,reverse=true)"
   ]
  },
  {
   "cell_type": "markdown",
   "metadata": {},
   "source": [
    "### Advanced: Dictionaries\n",
    "\n",
    "So far we have not used dictionaries a lot. They can, however, improve the readability of your code tremendously. \n",
    "\n",
    "Create a dictionary whose keys are the fruits “pineapple”, “strawberry”, and “banana”. As values use numbers representing e.g. prices.\n",
    "\n",
    "Add “orange” to the dictionary and then remove “banana” from the dictionary. Investigate the contents of dictionary and pay attention to the order of key-value pairs.\n",
    "\n",
    "Just to remind you, the syntax for dictionaries is `dict = Dict(\"a\" => 1, \"b\" => 2, \"c\" => 3)`. They can be modified with an aptly named `delete!()` function."
   ]
  },
  {
   "cell_type": "code",
   "execution_count": null,
   "metadata": {},
   "outputs": [],
   "source": [
    "fruits = Dict(\n",
    "    \"pineaple\" => 2.99,\n",
    "    \"strawberry\" ...,\n",
    "    ...\n",
    "    )"
   ]
  },
  {
   "cell_type": "code",
   "execution_count": null,
   "metadata": {},
   "outputs": [],
   "source": [
    "# Add orange\n",
    "fruits[\"orange\"] ..."
   ]
  },
  {
   "cell_type": "code",
   "execution_count": null,
   "metadata": {},
   "outputs": [],
   "source": [
    "# Delete banana\n",
    "delete!(...)"
   ]
  },
  {
   "cell_type": "markdown",
   "metadata": {},
   "source": [
    "### Advanced: Dictionaries for language processing\n",
    "\n",
    "This is a more complex use-case of dictionaries for processing a Sherlock Holmes book.\n",
    "\n",
    "To build the dictionary, we loop through the list of words, and use `get()` to look up the current tally, if any. If the word has already been seen, the count can be increased. If the word hasn't been seen before, the fall-back third argument of get() ensures that the absence doesn't cause an error, and 1 is stored instead."
   ]
  },
  {
   "cell_type": "code",
   "execution_count": null,
   "metadata": {},
   "outputs": [],
   "source": [
    "#read file\n",
    "f = open(\"../../data/sherlock-holmes.txt\")\n",
    "\n",
    "#first make everything lowercase\n",
    "#then use regexp to split by words\n",
    "#finally, keep=false means that characters in between words are not stored\n",
    "wordlist = split(lowercase(read(f, String)), r\"\\W\")\n",
    "close(f)\n",
    "\n",
    "#To store the words and the word counts, we'll create a spesific dictionary:\n",
    "wordcounts = Dict{String,Int64}()\n",
    "\n",
    "#get word counts\n",
    "for word in wordlist\n",
    "    wordcounts[word]=get(wordcounts, word, 0) + 1\n",
    "end"
   ]
  },
  {
   "cell_type": "markdown",
   "metadata": {},
   "source": [
    "Now we have all the words read into the dictionary"
   ]
  },
  {
   "cell_type": "code",
   "execution_count": null,
   "metadata": {},
   "outputs": [],
   "source": [
    "wordcounts"
   ]
  },
  {
   "cell_type": "markdown",
   "metadata": {},
   "source": [
    "Try and analyze what are the most frequent words in our data set."
   ]
  },
  {
   "cell_type": "code",
   "execution_count": null,
   "metadata": {},
   "outputs": [],
   "source": []
  }
 ],
 "metadata": {
  "kernelspec": {
   "display_name": "Julia 1.5.3",
   "language": "julia",
   "name": "julia-1.5"
  },
  "language_info": {
   "file_extension": ".jl",
   "mimetype": "application/julia",
   "name": "julia",
   "version": "1.5.3"
  }
 },
 "nbformat": 4,
 "nbformat_minor": 4
}
