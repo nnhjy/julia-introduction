{
 "cells": [
  {
   "cell_type": "markdown",
   "metadata": {
    "slideshow": {
     "slide_type": "slide"
    }
   },
   "source": [
    "# Julia ecosystem"
   ]
  },
  {
   "cell_type": "markdown",
   "metadata": {
    "slideshow": {
     "slide_type": "fragment"
    }
   },
   "source": [
    "## Topics\n",
    "- Ecosystems\n",
    "- Own modules & packages\n"
   ]
  },
  {
   "cell_type": "markdown",
   "metadata": {
    "slideshow": {
     "slide_type": "slide"
    }
   },
   "source": [
    "## Ecosystem\n",
    "\n",
    "Julia has a large ecosystem of packages, maintained by a wide variety of people. \n",
    "\n",
    "In the best of academic ideals, Julia users from across the world come together to create mutually compatible and supporting packages for their domains. To manage these collections of packages they often use GitHub organisations"
   ]
  },
  {
   "cell_type": "markdown",
   "metadata": {
    "slideshow": {
     "slide_type": "slide"
    }
   },
   "source": [
    "## General\n",
    "- [JuliaDocs](https://github.com/juliadocs) – Documentation-related packages for Julia \n",
    "- [Julia-i18n](https://github.com/Julia-i18n) – Internationalization (i18n) and localization (L10n) for Julians \n",
    "- [JuliaTime](https://github.com/JuliaTime) – Date and time libraries\n",
    "- [JuliaPraxis](https://github.com/JuliaPraxis) – Best practices \n",
    "- [JuliaEditorSupport](https://github.com/JuliaEditorSupport) – Extensions/Plugins for text editors and IDEs\n",
    "- [Juno](https://github.com/JunoLab) – The Juno IDE for Atom "
   ]
  },
  {
   "cell_type": "markdown",
   "metadata": {
    "slideshow": {
     "slide_type": "slide"
    }
   },
   "source": [
    "## Computing\n",
    "- [JuliaArrays](https://github.com/JuliaArrays) – Custom array types (and utilities for building array types)\n",
    "- [JuliaBerry](https://github.com/JuliaBerry) – [Julia resources for the Raspberry Pi](https://juliaberry.github.io/)\n",
    "- [JuliaCI](https://github.com/JuliaCI) – Continuous Integration Support for Julia packages\n",
    "- [JuliaGPU](https://github.com/JuliaGPU) – GPU computing\n",
    "- [JuliaInterop](https://github.com/JuliaInterop) – Easy interoperability between Julia and not-Julia\n",
    "- [JuliaIO](https://github.com/JuliaIO) – IO-related functionality, such as serialization\n",
    "- [JuliaParallel](https://github.com/JuliaParallel) – Parallel programming in Julia\n",
    "- [JuliaWeb](https://github.com/JuliaWeb) – Web stack"
   ]
  },
  {
   "cell_type": "markdown",
   "metadata": {
    "slideshow": {
     "slide_type": "slide"
    }
   },
   "source": [
    "## Mathematics\n",
    "- [JuliaDiff](https://github.com/JuliaDiff/)     – Differentiation tools\n",
    "- [JuliaDiffEq](https://github.com/JuliaDiffEq)    – Differential equation solving and analysis \n",
    "- [JuliaGeometry](https://github.com/JuliaGeometry)  – Computational Geometry\n",
    "- [JuliaGraphs](https://github.com/JuliaGraphs)    – Graph Theory and Implementation\n",
    "- [JuliaIntervals](https://github.com/JuliaIntervals) - Rigorous numerics with interval arithmetic & applications\n",
    "- [JuliaMath](https://github.com/JuliaMath)      – Mathematics made easy in Julia\n",
    "- [JuliaOpt](https://github.com/JuliaOpt)       – Optimization \n",
    "- [JuliaPolyhedra](https://github.com/JuliaPolyhedra) – Polyhedral computation\n",
    "- [JuliaSparse](https://github.com/JuliaSparse)    – Sparse matrix solvers\n",
    "\n"
   ]
  },
  {
   "cell_type": "markdown",
   "metadata": {
    "slideshow": {
     "slide_type": "slide"
    }
   },
   "source": [
    "## Scientific domains\n",
    "- [BioJulia](https://github.com/BioJulia) – Biology \n",
    "- [EcoJulia](https://github.com/EcoJulia) – Ecology\n",
    "- [JuliaAstro](https://github.com/JuliaAstro) – Astronomy \n",
    "- [JuliaDSP](https://github.com/JuliaDSP) – Digital signal processing\n",
    "- [JuliaQuant](https://github.com/JuliaQuant) – Finance\n",
    "- [JuliaQuantum](https://github.com/JuliaQuantum) – Julia libraries for quantum science and technology \n",
    "- [JuliaPhysics](https://github.com/JuliaPhysics) – Physics\n",
    "- [JuliaDynamics](https://github.com/JuliaDynamics) - Dynamical systems, nonlinear dynamics and chaos.\n"
   ]
  },
  {
   "cell_type": "markdown",
   "metadata": {
    "slideshow": {
     "slide_type": "slide"
    }
   },
   "source": [
    "## Data sciences\n",
    "- [JuliaML](https://github.com/JuliaML) – Machine Learning\n",
    "- [JuliaStats](https://github.com/JuliaStats) – Statistics\n",
    "- [JuliaImages](https://github.com/JuliaImages) – Image Processing\n",
    "- [JuliaText](https://github.com/JuliaText) – Natural Language Processing (NLP), Computational Linguistics and (textual) Information Retrieval\n",
    "- [JuliaDatabases](https://github.com/JuliaDatabases) – Various database drivers for Julia\n",
    "- [JuliaData](https://github.com/JuliaData) – Data manipulation, storage, and I/O in Julia\n"
   ]
  },
  {
   "cell_type": "markdown",
   "metadata": {},
   "source": [
    "### Exercise: Catch up with your own field / interests\n",
    "Explore the Julia ecosystem. Is there a community that matches your interests? If not, maybe one should introduce such at some point...\n",
    "\n",
    "See also the [Curated decibans of Julia language](https://github.com/svaksha/Julia.jl).\n",
    "\n",
    "These might also be of interest:\n",
    "- [Archimedes and pi](http://nbviewer.jupyter.org/github/pjpmarques/Julia-Modeling-the-World/blob/master/Archimedes%20and%20Pi.ipynb)\n",
    "- [Lorenz attractor](http://nbviewer.jupyter.org/github/pjpmarques/Julia-Modeling-the-World/blob/master/Lorenz%20Attractor.ipynb)\n",
    "- [Mandelbrot](http://nbviewer.jupyter.org/github/pjpmarques/Julia-Modeling-the-World/blob/master/Mandelbrot.ipynb)\n",
    "- [Terminal velocity](http://nbviewer.jupyter.org/github/pjpmarques/Julia-Modeling-the-World/blob/master/Terminal%20Velocity.ipynb)\n",
    "- [Three-body problem](http://nbviewer.jupyter.org/github/pjpmarques/Julia-Modeling-the-World/blob/master/Three-Body%20Problem.ipynb)\n",
    "\n",
    "On a more meta-level, check also [World of Julia](https://github.com/jiahao/ijulia-notebooks/blob/master/2014-06-30-world-of-julia.ipynb), a study of Julia contributors. Can you spot some familiar faces?"
   ]
  },
  {
   "cell_type": "markdown",
   "metadata": {},
   "source": [
    "Check out the [Julia documentation page](https://docs.julialang.org/en/v1/manual/calling-c-and-fortran-code/) for more details."
   ]
  }
 ],
 "metadata": {
  "celltoolbar": "Slideshow",
  "kernelspec": {
   "display_name": "Julia 1.6.2",
   "language": "julia",
   "name": "julia-1.6"
  },
  "language_info": {
   "file_extension": ".jl",
   "mimetype": "application/julia",
   "name": "julia",
   "version": "1.6.2"
  }
 },
 "nbformat": 4,
 "nbformat_minor": 4
}
