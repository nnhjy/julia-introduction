{
 "cells": [
  {
   "cell_type": "markdown",
   "metadata": {
    "slideshow": {
     "slide_type": "slide"
    }
   },
   "source": [
    "# Introduction"
   ]
  },
  {
   "cell_type": "markdown",
   "metadata": {},
   "source": [
    "## Learning outcomes \n",
    "\n",
    "- Learn basics of Julia\n",
    "- Get introduced to the (lively) Julia code ecosystem\n",
    "- Know where to look for more"
   ]
  },
  {
   "cell_type": "markdown",
   "metadata": {},
   "source": [
    "## Target audience\n",
    "- Level of the content is aimed for beginners/intermediate students\n",
    "    - but interesting bonus remarks are added here and there for the more advanced students too!\n",
    "    - These notebooks should provide multiple [links](https://github.com/jupyter/jupyter/wiki/A-gallery-of-interesting-Jupyter-Notebooks#julia) to more advanced material and for [further reading](https://en.wikibooks.org/wiki/Introducing_Julia)"
   ]
  },
  {
   "cell_type": "markdown",
   "metadata": {},
   "source": [
    "## Simulating an epidemic\n",
    "\n",
    "![simulation](pandemic.gif)\n",
    "\n",
    "* Cells representing a field of plants\n",
    "  * or people. Even though the plants cannot move, this is surprisingly accurate.\n",
    "* Disease can spread to immediate neighbours.\n",
    "* Infection lasts a number of time steps and has a change to kill the plant each time step.\n",
    "* Number of plants are immune (light blue)\n",
    "\n",
    "We will implement this by the end of the course. For a sneak peak, take a look at [the code](Epidemic.ipynb) for the above animation."
   ]
  },
  {
   "cell_type": "markdown",
   "metadata": {},
   "source": [
    "## General remarks\n",
    "\n",
    "Julia is a high-level, high-performance dynamic programming language for numerical computing.\n",
    "\n",
    "### A summary of features:\n",
    "- Free and open source!\n",
    "- [Multiple dispatch](http://en.wikipedia.org/wiki/Multiple_dispatch)\n",
    "- Dynamic types\n",
    "- Good performance approaching that of statically-compiled languages like C\n",
    "- Built-in package manager\n",
    "- Lisp-like macros and other metaprogramming facilities\n",
    "- Call [Python functions](https://github.com/stevengj/PyCall.jl)\n",
    "- Call [C and Fortran functions](https://docs.julialang.org/en/v1/manual/calling-c-and-fortran-code/) directly\n",
    "- User-defined types are as fast and compact as built-ins because Julia is homoiconic"
   ]
  },
  {
   "cell_type": "markdown",
   "metadata": {},
   "source": [
    "## Open source\n",
    "Julia is open source, developed by a community. \n",
    "\n",
    "Licensed under MIT license. \n",
    "- open and permissive license\n",
    "\n",
    "This means it *is* and *will be* open source."
   ]
  },
  {
   "cell_type": "markdown",
   "metadata": {},
   "source": [
    "## High-performance JIT Compiler\n",
    "\n",
    "Julia's LLVM-based JIT compiler (Low level virtual machine just-in-time) compiler combined with the language's design allows it to approach and often match the performance of C in typical user scenarios."
   ]
  },
  {
   "cell_type": "markdown",
   "metadata": {},
   "source": [
    "### A simple [benchmark](https://julialang.org/benchmarks/) relative to C:\n",
    "\n",
    "![benchmarks](benchmarks.svg)"
   ]
  },
  {
   "cell_type": "markdown",
   "metadata": {
    "slideshow": {
     "slide_type": "subslide"
    }
   },
   "source": [
    "## Running Jupyter notebooks locally\n",
    "- `IJulia` [repository](https://github.com/JuliaLang/IJulia.jl)\n",
    "- via `Pkg` as `using Pkg` and `Pkg.add(\"IJulia\")`\n",
    "- `using IJulia` and opening a new notebook in your browser `notebook(file=\".\")`\n",
    "\n",
    "## Online\n",
    "- [notebook.cs.aalto.fi](https://notebook.cs.aalto.fi)"
   ]
  },
  {
   "cell_type": "markdown",
   "metadata": {
    "slideshow": {
     "slide_type": "slide"
    }
   },
   "source": [
    "## Running a cell\n",
    "\n",
    "To execute code within a cell, select that cell and either (1) hit `Shift` and `Enter` or (2) hit the run button (the right pointing arrow) above."
   ]
  },
  {
   "cell_type": "code",
   "execution_count": null,
   "metadata": {
    "slideshow": {
     "slide_type": "fragment"
    }
   },
   "outputs": [],
   "source": [
    "1 + 1\n",
    "2 + 2 "
   ]
  },
  {
   "cell_type": "markdown",
   "metadata": {
    "slideshow": {
     "slide_type": "fragment"
    }
   },
   "source": [
    "Note that only the last line of a cell prints by default. It is possible to suppress this output with a semicolon."
   ]
  },
  {
   "cell_type": "code",
   "execution_count": 3,
   "metadata": {
    "slideshow": {
     "slide_type": "fragment"
    }
   },
   "outputs": [],
   "source": [
    "1 + 1\n",
    "2 + 2;"
   ]
  },
  {
   "cell_type": "markdown",
   "metadata": {
    "slideshow": {
     "slide_type": "slide"
    }
   },
   "source": [
    "## How to use shell commands\n",
    "\n",
    "Type `;` and then you can use (UNIX) shell commands."
   ]
  },
  {
   "cell_type": "code",
   "execution_count": null,
   "metadata": {
    "slideshow": {
     "slide_type": "fragment"
    }
   },
   "outputs": [],
   "source": [
    ";ls"
   ]
  },
  {
   "cell_type": "code",
   "execution_count": null,
   "metadata": {
    "slideshow": {
     "slide_type": "fragment"
    }
   },
   "outputs": [],
   "source": [
    ";pwd"
   ]
  },
  {
   "cell_type": "markdown",
   "metadata": {},
   "source": [
    "### Directory in windows terminal\n",
    "`dir` lists files under current folder. \\\n",
    "`cd`  shows the directory of current folder. \\\n",
    "`cd..` or `cd ..` moves to the parent folder of the current."
   ]
  },
  {
   "cell_type": "markdown",
   "metadata": {},
   "source": [
    "## Manage current working directory"
   ]
  },
  {
   "cell_type": "code",
   "execution_count": null,
   "metadata": {},
   "outputs": [],
   "source": [
    "pwd()   # Show the current working directory\n",
    "cd(\"C:\\\\HJY_projects\\\\Aalto courses\\\\Julia_intro\\\\julia-introduction\")    # Switch to other working directory"
   ]
  },
  {
   "cell_type": "markdown",
   "metadata": {},
   "source": [
    "## Setup working environment\n",
    "\n",
    "Type `]` to enter package mode. \\\n",
    "Type `activate` to use the default working environment. \\\n",
    "Type `activate ..` to set the parent folder as the working environment. \\\n",
    "Type `activate .` or `activate ..\\\\current-folder-name` to set the current folder as the working environment."
   ]
  },
  {
   "cell_type": "markdown",
   "metadata": {},
   "source": [
    "## Printing\n",
    "\n",
    "There are two functions for printing, mostly useful in scripts."
   ]
  },
  {
   "cell_type": "code",
   "execution_count": null,
   "metadata": {},
   "outputs": [],
   "source": [
    "print(\"Hi there\")         # This will not print a new line at the end\n",
    "println(\", how are you\")  # This will print a new line\n",
    "println(\"This is on the next line.\")"
   ]
  },
  {
   "cell_type": "markdown",
   "metadata": {},
   "source": [
    "### Print function values\n",
    "`print(\"$(function(x))\")`, `println(\"$(function(x))\")`\n",
    "\n",
    "### Original way to display outputs\n",
    "Three ways to use `show()` function."
   ]
  },
  {
   "cell_type": "code",
   "execution_count": null,
   "metadata": {},
   "outputs": [],
   "source": [
    "show(\"Hi there\")    # same as printing\n",
    "show(print(\"Hi there\"))     # return value of the enclosed function is also displayed\n",
    "@show print(\"Hi there\")     # function outcomes (if any) + quote of the function + return value"
   ]
  },
  {
   "cell_type": "markdown",
   "metadata": {},
   "source": [
    "## Getting help\n",
    "The built-in `help` environment can be activated by pressing `?` inside the interactive julia interpreter (REPL)."
   ]
  },
  {
   "cell_type": "code",
   "execution_count": null,
   "metadata": {},
   "outputs": [],
   "source": [
    "?println"
   ]
  }
 ],
 "metadata": {
  "celltoolbar": "Slideshow",
  "kernelspec": {
   "display_name": "Julia 1.7.1",
   "language": "julia",
   "name": "julia-1.7"
  },
  "language_info": {
   "file_extension": ".jl",
   "mimetype": "application/julia",
   "name": "julia",
   "version": "1.7.1"
  }
 },
 "nbformat": 4,
 "nbformat_minor": 4
}
