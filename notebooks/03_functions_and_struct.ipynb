{
 "cells": [
  {
   "cell_type": "markdown",
   "metadata": {
    "slideshow": {
     "slide_type": "slide"
    }
   },
   "source": [
    "# Functions and Structs"
   ]
  },
  {
   "cell_type": "markdown",
   "metadata": {
    "slideshow": {
     "slide_type": "fragment"
    }
   },
   "source": [
    "## Topics\n",
    "- Interaction between functions and types\n",
    "  - Duck-typing\n",
    "  - Multiple dispatch\n",
    "- Defining new types (structs)\n",
    "- Mutating vs. non-mutating functions\n",
    "- Unmutable and mutable structs"
   ]
  },
  {
   "cell_type": "markdown",
   "metadata": {
    "slideshow": {
     "slide_type": "slide"
    }
   },
   "source": [
    "## Functions in a functional language\n",
    "Functions are the building blocks of Julia code, acting as the subroutines, procedures, blocks, and similar structural concepts found in other programming languages.\n",
    "\n",
    "- A function's job is to take a tuple of values as an argument list and return a value. \n",
    "- If the arguments contain mutable values like arrays, the array can be modified inside the function. \n",
    "    - ***By convention, an exclamation mark (!) at the end of a function's name indicates that the function may modify its arguments.***"
   ]
  },
  {
   "cell_type": "markdown",
   "metadata": {
    "slideshow": {
     "slide_type": "slide"
    }
   },
   "source": [
    "## How to declare a function\n",
    "\n",
    "Julia gives us a few different ways to write a function. The first (and most standard) requires `function` and `end` keywords."
   ]
  },
  {
   "cell_type": "code",
   "execution_count": null,
   "metadata": {
    "slideshow": {
     "slide_type": "fragment"
    }
   },
   "outputs": [],
   "source": [
    "function sayhi(name)\n",
    "    println(\"Hi $name, nice to meet you!\")\n",
    "end\n",
    "\n",
    "sayhi(\"R2D2\")"
   ]
  },
  {
   "cell_type": "code",
   "execution_count": null,
   "metadata": {
    "slideshow": {
     "slide_type": "fragment"
    }
   },
   "outputs": [],
   "source": [
    "function f(x)\n",
    "    return x^2\n",
    "end\n",
    "\n",
    "f(42)"
   ]
  },
  {
   "cell_type": "markdown",
   "metadata": {},
   "source": [
    "## Exercise 1: Addone\n",
    "\n",
    "Write a function named `addone` that adds 1 to its input."
   ]
  },
  {
   "cell_type": "code",
   "execution_count": null,
   "metadata": {},
   "outputs": [],
   "source": [
    "function addone!(x)\n",
    "    return x+=1\n",
    "end\n",
    "\n",
    "println(\"$(addone!(1))\")\n",
    "@show addone!(1);   # ; to hide the duplicate return value of the function"
   ]
  },
  {
   "cell_type": "markdown",
   "metadata": {},
   "source": [
    "## Exercise 2: Polynomial\n",
    "\n",
    "Write your own 2nd order polynomial function `poly2(x)` that evaluates $4 + 3x + 2x^2$."
   ]
  },
  {
   "cell_type": "code",
   "execution_count": null,
   "metadata": {},
   "outputs": [],
   "source": [
    "poly2(x) = 4+3x+2x^2\n",
    "\n",
    "@show poly2(1);"
   ]
  },
  {
   "cell_type": "markdown",
   "metadata": {},
   "source": [
    "Expand the function to take the polynomial coefficients as a parameter.\n",
    "\n",
    "The function should take two parameters, `x` and `coeffs`. `coeffs` should be an array of length `3` that holds the coefficients of the polynomial. Internally your function should then compute $C_1 + C_2 x + C_3 x^2$ where $C_i$ is the $i$-th element of the `coeff` array."
   ]
  },
  {
   "cell_type": "code",
   "execution_count": null,
   "metadata": {},
   "outputs": [],
   "source": [
    "# see the solution that uses @assert to valid the length of coefficient arrays\n",
    "function poly2(x, coeffs::Array)\n",
    "    sum = 0\n",
    "    for i in 1:length(coeffs)\n",
    "        sum += coeffs[i]*x^i\n",
    "    end\n",
    "    return sum\n",
    "    # return coeffs[1] + coeffs[2]x + coeffs[3]x^2\n",
    "end\n",
    "\n",
    "@show poly2(1, [4,3,2]);"
   ]
  },
  {
   "cell_type": "markdown",
   "metadata": {
    "slideshow": {
     "slide_type": "slide"
    }
   },
   "source": [
    "### Single line function definitions\n",
    "Alternatively, we could have spared a few lines of code and written:"
   ]
  },
  {
   "cell_type": "code",
   "execution_count": null,
   "metadata": {
    "slideshow": {
     "slide_type": "fragment"
    }
   },
   "outputs": [],
   "source": [
    "sayhi2(name) = println(\"Hi $name, nice to meet you!\")"
   ]
  },
  {
   "cell_type": "code",
   "execution_count": null,
   "metadata": {
    "slideshow": {
     "slide_type": "fragment"
    }
   },
   "outputs": [],
   "source": [
    "f2(x) = x^2\n",
    "@show f2(3)"
   ]
  },
  {
   "cell_type": "markdown",
   "metadata": {
    "slideshow": {
     "slide_type": "slide"
    }
   },
   "source": [
    "### Anonymous functions\n",
    "\n",
    "Anonymous functions are nice when, for example, passing a function as a parameter:"
   ]
  },
  {
   "cell_type": "code",
   "execution_count": null,
   "metadata": {},
   "outputs": [],
   "source": [
    "x -> x^2"
   ]
  },
  {
   "cell_type": "code",
   "execution_count": null,
   "metadata": {
    "slideshow": {
     "slide_type": "fragment"
    }
   },
   "outputs": [],
   "source": [
    "function functional_square(f, x)\n",
    "    f(f(x))\n",
    "end\n",
    "\n",
    "functional_square(x -> x^2, 2)"
   ]
  },
  {
   "cell_type": "markdown",
   "metadata": {
    "slideshow": {
     "slide_type": "slide"
    }
   },
   "source": [
    "## Duck-typing in Julia\n",
    "*\"If it walks like a duck and quacks like a duck, it's a duck.\"*\n",
    "\n",
    "Julia functions will just work on whatever input makes sense. For example, `sayhi` works also with the name written as an integer:"
   ]
  },
  {
   "cell_type": "code",
   "execution_count": null,
   "metadata": {
    "slideshow": {
     "slide_type": "fragment"
    }
   },
   "outputs": [],
   "source": [
    "sayhi(55595472)"
   ]
  },
  {
   "cell_type": "markdown",
   "metadata": {
    "slideshow": {
     "slide_type": "fragment"
    }
   },
   "source": [
    "And `f` will work on a matrix"
   ]
  },
  {
   "cell_type": "code",
   "execution_count": null,
   "metadata": {
    "slideshow": {
     "slide_type": "fragment"
    }
   },
   "outputs": [],
   "source": [
    "A = rand(3,3)"
   ]
  },
  {
   "cell_type": "code",
   "execution_count": null,
   "metadata": {
    "slideshow": {
     "slide_type": "fragment"
    }
   },
   "outputs": [],
   "source": [
    "f(A)"
   ]
  },
  {
   "cell_type": "markdown",
   "metadata": {},
   "source": [
    "You can restrict the types of the function parameters usign `::Type`"
   ]
  },
  {
   "cell_type": "code",
   "execution_count": null,
   "metadata": {},
   "outputs": [],
   "source": [
    "function g(x::Number)\n",
    "    return x^4\n",
    "end\n",
    "\n",
    "A = rand(3,3)\n",
    "\n",
    "# g(A) # This would not work\n",
    "g(2)   # but this does"
   ]
  },
  {
   "cell_type": "markdown",
   "metadata": {
    "slideshow": {
     "slide_type": "slide"
    }
   },
   "source": [
    "## Mutating vs. non-mutating functions\n",
    "By convention, functions followed by `!` alter their contents and functions lacking `!` do not. This however, is just convention and changing the name of a function by adding `!` does not alter the function.\n",
    "\n",
    "For example, let's look at the difference between `sort` and `sort!`."
   ]
  },
  {
   "cell_type": "code",
   "execution_count": null,
   "metadata": {
    "slideshow": {
     "slide_type": "fragment"
    }
   },
   "outputs": [],
   "source": [
    "v = [3,5,2]"
   ]
  },
  {
   "cell_type": "code",
   "execution_count": null,
   "metadata": {
    "slideshow": {
     "slide_type": "fragment"
    }
   },
   "outputs": [],
   "source": [
    "sort(v)"
   ]
  },
  {
   "cell_type": "code",
   "execution_count": null,
   "metadata": {
    "slideshow": {
     "slide_type": "fragment"
    }
   },
   "outputs": [],
   "source": [
    "v"
   ]
  },
  {
   "cell_type": "markdown",
   "metadata": {
    "slideshow": {
     "slide_type": "slide"
    }
   },
   "source": [
    "`sort(v)` returns a sorted array that contains the same elements as `v`, but `v` is left unchanged.\n",
    "\n",
    "On the other hand, when we run `sort!(v)` the content of `v` is really modified."
   ]
  },
  {
   "cell_type": "code",
   "execution_count": null,
   "metadata": {
    "slideshow": {
     "slide_type": "fragment"
    }
   },
   "outputs": [],
   "source": [
    "sort!(v)"
   ]
  },
  {
   "cell_type": "code",
   "execution_count": null,
   "metadata": {
    "slideshow": {
     "slide_type": "fragment"
    }
   },
   "outputs": [],
   "source": [
    "v"
   ]
  },
  {
   "cell_type": "markdown",
   "metadata": {},
   "source": [
    "## Exercise 3: push?\n",
    "\n",
    "Earlier we used a function called push!. Is there a function called push (without exclamation mark)?"
   ]
  },
  {
   "cell_type": "code",
   "execution_count": null,
   "metadata": {},
   "outputs": [],
   "source": [
    "push!(v, 4)\n",
    "vcat([1,2],[3])"
   ]
  },
  {
   "cell_type": "markdown",
   "metadata": {},
   "source": [
    "## Structs\n",
    "\n",
    "Structs are the way you declare **custom data types** in Julia. Essentially, a struct wraps one or more other datatypes inside and gives it a new name.\n",
    "\n",
    "This is already a useful concept, but it gets much more powerful when we talk about multiple dispatch in functions.\n",
    "\n",
    "You define a struct like this:"
   ]
  },
  {
   "cell_type": "code",
   "execution_count": null,
   "metadata": {},
   "outputs": [],
   "source": [
    "struct MyInt\n",
    "    number::Integer\n",
    "    digit::Integer\n",
    "end"
   ]
  },
  {
   "cell_type": "markdown",
   "metadata": {},
   "source": [
    "So MyInt contains a single integer. You construct a new MyInt type variable by calling MyInt:"
   ]
  },
  {
   "cell_type": "code",
   "execution_count": null,
   "metadata": {},
   "outputs": [],
   "source": [
    "myint = MyInt(5,1)"
   ]
  },
  {
   "cell_type": "markdown",
   "metadata": {},
   "source": [
    "You can also now access the content of myint directly:"
   ]
  },
  {
   "cell_type": "code",
   "execution_count": null,
   "metadata": {},
   "outputs": [],
   "source": [
    "myint.number\n",
    "myint.digit"
   ]
  },
  {
   "cell_type": "markdown",
   "metadata": {},
   "source": [
    "### Mutable\n",
    "\n",
    "Notice that we cannot asign directly to `myint.number`:"
   ]
  },
  {
   "cell_type": "code",
   "execution_count": null,
   "metadata": {},
   "outputs": [],
   "source": [
    "myint.number = 3"
   ]
  },
  {
   "cell_type": "markdown",
   "metadata": {},
   "source": [
    "Structs are immutable by default. To change this, you can add the keyword `mutable`."
   ]
  },
  {
   "cell_type": "code",
   "execution_count": null,
   "metadata": {},
   "outputs": [],
   "source": [
    "mutable struct MyMutableInt\n",
    "    number::Integer\n",
    "end\n",
    "\n",
    "mymutableint = MyMutableInt(4)\n",
    "println(mymutableint)\n",
    "\n",
    "mymutableint.number = 3\n",
    "println(mymutableint)"
   ]
  },
  {
   "cell_type": "markdown",
   "metadata": {},
   "source": [
    "### @enum\n",
    "\n",
    "Here is a quick way of creating a new type with a small number of possible values."
   ]
  },
  {
   "cell_type": "code",
   "execution_count": 6,
   "metadata": {},
   "outputs": [],
   "source": [
    "@enum Fruit orange banana apple pineaple lemon"
   ]
  },
  {
   "cell_type": "markdown",
   "metadata": {},
   "source": [
    "The new type is called `Fruit`. An object of type Fruit can only be one of the listed things.\n",
    "Enum is short for enumerate. This is because, under the hood, each name is represented by a number (starts from 0)."
   ]
  },
  {
   "cell_type": "code",
   "execution_count": 7,
   "metadata": {},
   "outputs": [
    {
     "data": {
      "text/plain": [
       "apple::Fruit = 2"
      ]
     },
     "metadata": {},
     "output_type": "display_data"
    }
   ],
   "source": [
    "myfruit = apple\n",
    "myfruit"
   ]
  },
  {
   "cell_type": "code",
   "execution_count": 8,
   "metadata": {},
   "outputs": [
    {
     "data": {
      "text/plain": [
       "Enum Fruit:\n",
       "orange = 0\n",
       "banana = 1\n",
       "apple = 2\n",
       "pineaple = 3\n",
       "lemon = 4"
      ]
     },
     "metadata": {},
     "output_type": "display_data"
    }
   ],
   "source": [
    "typeof(myfruit)"
   ]
  },
  {
   "cell_type": "markdown",
   "metadata": {},
   "source": [
    "## Epidemic Simulation\n",
    "\n",
    "In the epidemic simulation, the board consists of individual plants in one of several states. \n",
    "\n",
    "On each time step, every plant will interact with each of it's neighbours. If the neighbour is infected, there is a chance this one will become infected as well.\n",
    "\n",
    "\n",
    "First, let's create a datatype for a single plant. This needs to be mutable, since the plant can become infected and recover. We'll use `@enum` to list possible states and add a second variable, `infection_time`, to measure how long the plant has been infected."
   ]
  },
  {
   "cell_type": "code",
   "execution_count": null,
   "metadata": {},
   "outputs": [],
   "source": [
    "\"Enumerate possible states of a single plant\"\n",
    "@enum InfectionStatus uninfected infected dead recovered"
   ]
  },
  {
   "cell_type": "code",
   "execution_count": null,
   "metadata": {},
   "outputs": [],
   "source": [
    "\"Data structure containing the infection status of a plant\"\n",
    "mutable struct Plant\n",
    "    status::InfectionStatus\n",
    "    infection_time::Int8\n",
    "end"
   ]
  },
  {
   "cell_type": "code",
   "execution_count": null,
   "metadata": {},
   "outputs": [],
   "source": [
    "# We can create a plant in any status\n",
    "plant1 = Plant(uninfected, 0)\n",
    "plant2 = Plant(infected, 0)"
   ]
  },
  {
   "cell_type": "code",
   "execution_count": null,
   "metadata": {},
   "outputs": [],
   "source": [
    "# And we can change the infection status\n",
    "plant1.status = infected"
   ]
  },
  {
   "cell_type": "markdown",
   "metadata": {},
   "source": [
    "### Exercise 4: Time step\n",
    "\n",
    "Write a function that takes three parameters:\n",
    "  1. a plant\n",
    "  2. recovery time (integer)\n",
    "  2. the death rate of an infected plant (float)\n",
    "  \n",
    "The function updates the plant one time step. In one step, if the plant is infected\n",
    "  1. it dies with the propability of the death rate\n",
    "  2. the infection time increases by 1.\n",
    "  3. if the infection time is greater than the maximum infection time, the plant recovers\n",
    "  \n",
    "Here we use a common trick to simulate a probability: get a random number between 0 and 1, and if it is smaller than the probability, run the plant dies."
   ]
  },
  {
   "cell_type": "code",
   "execution_count": null,
   "metadata": {},
   "outputs": [],
   "source": [
    "# define a function with the parameters plant, recovery_time and death_rate\n",
    "function update!(plant::Plant, recovery_time, death_rate)\n",
    "    \n",
    "    # Do something only if the plant is infected\n",
    "    if plant.status == infected\n",
    "        \n",
    "        # The plant dies with probability death_rate\n",
    "        if rand() < death_rate\n",
    "            # Kill the plant\n",
    "            plant.status = dead\n",
    "        end\n",
    "        \n",
    "        # add 1 to the infection time\n",
    "        plant.infection_time += 1\n",
    "        \n",
    "        # if the infection time is larger than the recovery time, the plant recovers\n",
    "        if plant.infection_time > recovery_time\n",
    "            plant.status = recovered\n",
    "        end\n",
    "    end\n",
    "end"
   ]
  },
  {
   "cell_type": "code",
   "execution_count": null,
   "metadata": {},
   "outputs": [],
   "source": [
    "update!(plant2, 5, 0.02)\n",
    "plant2"
   ]
  },
  {
   "cell_type": "markdown",
   "metadata": {},
   "source": [
    "### Interaction\n",
    "\n",
    "Next we need to implement the interaction between plants. Since we need this code later, we will wrap it in a function. If the other plant is infected, there is a chance this one becomes infected as well."
   ]
  },
  {
   "cell_type": "code",
   "execution_count": null,
   "metadata": {},
   "outputs": [],
   "source": [
    "\"\"\"Simulate an interaction between two plants. In the other plant is\n",
    "   infected, it may infect this plant.\n",
    "\"\"\"\n",
    "function interact!(this_plant::Plant, other_plant::Plant, infection_rate)\n",
    "    if this_plant.status == uninfected && other_plant.status == infected\n",
    "        if rand() < infection_rate\n",
    "            this_plant.status = infected\n",
    "            this_plant.infection_time = 0\n",
    "        end\n",
    "    end\n",
    "end"
   ]
  },
  {
   "cell_type": "code",
   "execution_count": null,
   "metadata": {},
   "outputs": [],
   "source": [
    "plant1 = Plant(uninfected, 0)\n",
    "plant2 = Plant(infected, 0)\n",
    "\n",
    "interact!(plant1, plant2, 0.5)\n",
    "println(plant1)"
   ]
  },
  {
   "cell_type": "markdown",
   "metadata": {},
   "source": [
    "## Multiple dispatch\n",
    "Until now, we have, in our examples, defined only functions with a single method having unconstrained argument types. \n",
    "\n",
    "Such functions behave just like they would in traditional dynamically typed languages. Nevertheless, we have used multiple dispatch almost continually without being aware of it: whenever we called a function with a different set of parameter types, Julia used a different version compiled for those parameters.\n",
    "\n",
    "This is known as multiple dispatch!\n",
    "\n",
    "### Methods\n",
    "\n",
    "The word method has a slightly different meaning in Julia than in many other languages. In Julia, functions have methods.\n",
    "\n",
    "We can define new functions with the same name as existing ones, and as long as they have different parameter types, Julia will know which one to call. The different versions of the function are called methods.\n",
    "\n",
    "Still, this is very similar to the way many languages classes and objects and you to do everything class methods let you do. For example:"
   ]
  },
  {
   "cell_type": "code",
   "execution_count": null,
   "metadata": {},
   "outputs": [],
   "source": [
    "function myfunc(x::Float64, y::Float64)\n",
    "    return 2x + y\n",
    "end"
   ]
  },
  {
   "cell_type": "code",
   "execution_count": null,
   "metadata": {},
   "outputs": [],
   "source": [
    "# You can use the methods function to list the methods that currently exist for a function\n",
    "methods(myfunc)"
   ]
  },
  {
   "cell_type": "code",
   "execution_count": null,
   "metadata": {},
   "outputs": [],
   "source": [
    "# Methods are defined with the same syntax, but with different types\n",
    "function myfunc(x::Integer, y::Integer)\n",
    "    x + y\n",
    "end"
   ]
  },
  {
   "cell_type": "code",
   "execution_count": null,
   "metadata": {},
   "outputs": [],
   "source": [
    "methods(myfunc)"
   ]
  },
  {
   "cell_type": "code",
   "execution_count": null,
   "metadata": {},
   "outputs": [],
   "source": [
    "# Running with floats uses the first version\n",
    "myfunc(2.0,2.0)"
   ]
  },
  {
   "cell_type": "code",
   "execution_count": null,
   "metadata": {},
   "outputs": [],
   "source": [
    "# Tells which method is used\n",
    "@which myfunc(2.0, 2.0)"
   ]
  },
  {
   "cell_type": "code",
   "execution_count": null,
   "metadata": {},
   "outputs": [],
   "source": [
    "# and running with integers uses the second one\n",
    "myfunc(2,2)"
   ]
  },
  {
   "cell_type": "code",
   "execution_count": null,
   "metadata": {},
   "outputs": [],
   "source": [
    "# We did not define this one\n",
    "myfunc(2,2.0)"
   ]
  },
  {
   "cell_type": "markdown",
   "metadata": {},
   "source": [
    "The arguments must be precisely of type `Float64` or `Integer`. Other numeric types, such as 32-bit floating-point values, are not automatically converted to 64-bit floating-point, nor are strings parsed as numbers. \n",
    "\n",
    "It may often be useful, however, to write more general methods where the declared parameter types are abstract:"
   ]
  },
  {
   "cell_type": "code",
   "execution_count": null,
   "metadata": {},
   "outputs": [],
   "source": [
    "function myfunc(x::Number, y::Number)\n",
    "    print(\"Got \", x, \" and \", y)\n",
    "end"
   ]
  },
  {
   "cell_type": "code",
   "execution_count": null,
   "metadata": {},
   "outputs": [],
   "source": [
    "myfunc(2.0, 3)"
   ]
  },
  {
   "cell_type": "markdown",
   "metadata": {},
   "source": [
    "Julia pick the least general method that matches. So this one still uses the first version:"
   ]
  },
  {
   "cell_type": "code",
   "execution_count": null,
   "metadata": {},
   "outputs": [],
   "source": [
    "myfunc(2.0, 3.0)"
   ]
  },
  {
   "cell_type": "markdown",
   "metadata": {},
   "source": [
    "## Exercise 4: Add a method\n",
    "\n",
    "The function below adds any number to any other number."
   ]
  },
  {
   "cell_type": "code",
   "execution_count": null,
   "metadata": {},
   "outputs": [],
   "source": [
    "add(x::Number, y::Number) = x + y"
   ]
  },
  {
   "cell_type": "markdown",
   "metadata": {},
   "source": [
    "The word add could have other meanings as well. Write a method of the add function that takes two strings and adds the\n",
    "second to the end of the first.\n",
    "\n",
    "So if called with \"Hello \" and \"World!\", the function returns \"Hello World!\"."
   ]
  },
  {
   "cell_type": "code",
   "execution_count": null,
   "metadata": {},
   "outputs": [],
   "source": [
    "add(x::String, y::String) = x * y # alternatively, \"$x$y\" also works.\n",
    "\n",
    "add(\"Hello \", \"World!\")"
   ]
  },
  {
   "cell_type": "markdown",
   "metadata": {},
   "source": [
    "Create another method for the add function. This time the first argument is an array and the second argument is a number.\n",
    "\n",
    "The function returns a new array with the number added to the end of the original array."
   ]
  },
  {
   "cell_type": "code",
   "execution_count": null,
   "metadata": {},
   "outputs": [],
   "source": [
    "function add(x::Array, y::Number)\n",
    "    push!(x, y)\n",
    "end\n",
    "\n",
    "arr = add([1,2,3],5)"
   ]
  },
  {
   "cell_type": "markdown",
   "metadata": {},
   "source": [
    "## Exercise 5: List methods\n",
    "\n",
    "What methods does the add function have?\n",
    "\n",
    "Check other functions you have used."
   ]
  },
  {
   "cell_type": "code",
   "execution_count": null,
   "metadata": {},
   "outputs": [],
   "source": [
    "methods(add)"
   ]
  },
  {
   "cell_type": "markdown",
   "metadata": {},
   "source": [
    "### Manually defined types\n",
    "\n",
    "Combining multiple dispatch with manually defined types is really powerful:"
   ]
  },
  {
   "cell_type": "code",
   "execution_count": null,
   "metadata": {},
   "outputs": [],
   "source": [
    "\"Since MyInt is better than a standard Number, multiply it by 3\"\n",
    "function myfunc(x::Number, y::MyInt)\n",
    "    return 2*x + 3*y.number\n",
    "end\n",
    "\n",
    "\"Since MyInt is better than a standard Number, multiply it by 3\"\n",
    "function myfunc(x::MyInt, y::Number)\n",
    "    result = 3*2*x.number + y\n",
    "    \n",
    "    # Return a MyInt type number\n",
    "    return MyInt(result)\n",
    "end"
   ]
  },
  {
   "cell_type": "code",
   "execution_count": null,
   "metadata": {},
   "outputs": [],
   "source": [
    "myfunc(5, MyInt(5))"
   ]
  },
  {
   "cell_type": "code",
   "execution_count": null,
   "metadata": {},
   "outputs": [],
   "source": [
    "myfunc(MyInt(5), 5)"
   ]
  },
  {
   "cell_type": "markdown",
   "metadata": {},
   "source": [
    "### Exercise 6: Rock, paper, scissors\n",
    "\n",
    "Below we define three types, rock, paper and scissors."
   ]
  },
  {
   "cell_type": "code",
   "execution_count": null,
   "metadata": {},
   "outputs": [],
   "source": [
    "struct Rock\n",
    "end\n",
    "\n",
    "struct Paper\n",
    "end\n",
    "\n",
    "struct Scissors\n",
    "end"
   ]
  },
  {
   "cell_type": "markdown",
   "metadata": {},
   "source": [
    "Write the function play that prints the winner of the a game between two of these types. For example, `play(rock, paper)` should print \"second wins!\""
   ]
  },
  {
   "cell_type": "code",
   "execution_count": null,
   "metadata": {},
   "outputs": [],
   "source": [
    "# Try seeking approaches being more efficient\n",
    "function play(x::Rock, y::Rock) = \"the two players tie.\"\n",
    "function play(x::Rock, y::Paper) = \"second wins!\"\n",
    "function play(x::Rock, y::Scissors) = \"first wins!\"\n",
    "\n",
    "function play(x::Paper, y::Paper)\n",
    "    println(\"the two players tie.\")\n",
    "end\n",
    "function play(x::Paper, y::Scissors)\n",
    "    println(\"second wins!\")\n",
    "end\n",
    "function play(x::Paper, y::Rock)\n",
    "    println(\"first wins!\")\n",
    "end\n",
    "function play(x::Scissors, y::Scissors)\n",
    "    println(\"the two players tie.\")\n",
    "end\n",
    "function play(x::Scissors, y::Rock)\n",
    "    println(\"second wins!\")\n",
    "end\n",
    "function play(x::Scissors, y::Paper)\n",
    "    println(\"first wins!\")\n",
    "end\n",
    "\n",
    "rock = Rock()\n",
    "paper = Paper()\n",
    "\n",
    "play(rock, paper)\n"
   ]
  },
  {
   "cell_type": "markdown",
   "metadata": {},
   "source": [
    "## Epidemic Simulation\n",
    "\n",
    "We can extend almost any Julia function with custom behaviour for our custom datatypes.\n",
    "\n",
    "Case in point, let's print the Plant type in a prettier way."
   ]
  },
  {
   "cell_type": "code",
   "execution_count": null,
   "metadata": {},
   "outputs": [],
   "source": [
    "# This is how we write a print function for a plant\n",
    "function Base.show(io::IO, plant::Plant)\n",
    "    if plant.status == infected\n",
    "        print(io, \"◼\")\n",
    "    else\n",
    "        print(io, \"◻\")\n",
    "    end\n",
    "end"
   ]
  },
  {
   "cell_type": "code",
   "execution_count": null,
   "metadata": {},
   "outputs": [],
   "source": [
    "# Create an infected and an uninfected plant\n",
    "plant1 = Plant(uninfected, 0)\n",
    "plant2 = Plant(infected, 0)\n",
    "\n",
    "println(plant1, plant2)\n",
    "interact!(plant1, plant2, 0.5)\n",
    "println(plant1, plant2)"
   ]
  },
  {
   "cell_type": "markdown",
   "metadata": {},
   "source": [
    "## Extra Exercise 1: Fruit Bowl\n",
    "\n",
    "Write functions to keep track of fruit in your fruit bowl and to warn you when it's empty or if no more fruit will fit in. For simplicity, assume a given number of fruit will fit not matter the kind.\n",
    "\n",
    "To get started, create a new type for a piece of fruit. The fruit can be either an apple, a banana or an orange. (You can add others based on your preference.)\n",
    "\n",
    "You can use the @enum to represent types of fruit."
   ]
  },
  {
   "cell_type": "code",
   "execution_count": null,
   "metadata": {},
   "outputs": [],
   "source": [
    "@enum Fruit apple banana orange pear melon"
   ]
  },
  {
   "cell_type": "markdown",
   "metadata": {},
   "source": [
    "Now create a mutable type called FruitBowl. It contains a list of fruit in the bowl and the maximum capacity of the bowl (integer)."
   ]
  },
  {
   "cell_type": "code",
   "execution_count": null,
   "metadata": {},
   "outputs": [],
   "source": [
    "mutable struct FruitBowl\n",
    "    list::Array\n",
    "    capacity::Integer\n",
    "end"
   ]
  },
  {
   "cell_type": "markdown",
   "metadata": {},
   "source": [
    "Now create an `add!`-function to add a piece of fruit to the bowl. Check that the bowl does not go over capacity."
   ]
  },
  {
   "cell_type": "code",
   "execution_count": null,
   "metadata": {},
   "outputs": [],
   "source": [
    "function add!(x::FruitBowl, y::Fruit)\n",
    "    if length(x.list) ≥ x.capacity\n",
    "        println(\"The bowl is full.\")\n",
    "    else\n",
    "        push!(x.list, y)\n",
    "    end\n",
    "    # @assert length(x.list) <= x.capacity \"The bowl is full.\"\n",
    "end"
   ]
  },
  {
   "cell_type": "markdown",
   "metadata": {},
   "source": [
    "Test your code by running the two cells below"
   ]
  },
  {
   "cell_type": "code",
   "execution_count": null,
   "metadata": {},
   "outputs": [],
   "source": [
    "# Test it with an empty bowl\n",
    "bowl = FruitBowl([], 4)\n",
    "add!(bowl, apple)"
   ]
  },
  {
   "cell_type": "code",
   "execution_count": null,
   "metadata": {},
   "outputs": [],
   "source": [
    "# Keep adding untill the bowl is full\n",
    "add!(bowl, apple)\n",
    "add!(bowl, banana)\n",
    "add!(bowl, orange) \n",
    "add!(bowl, orange) # This one does not fit"
   ]
  },
  {
   "cell_type": "markdown",
   "metadata": {},
   "source": [
    "## Broadcasting\n",
    "Julia functions and operators do not automatically apply to individual elements of input when it is a collection type (e.g. Array), unlike in Matlab where functions do for matrix input. To enable broadcasting of Julia functions and operators calls for approaches below: \n",
    "\n",
    "### Function `map` and `broadcast`"
   ]
  },
  {
   "cell_type": "code",
   "execution_count": null,
   "metadata": {},
   "outputs": [],
   "source": [
    "# compare the difference\n",
    "@show map(abs, [-1, -2, -3])\n",
    "@show broadcast(abs, [-1, -2, -3])\n",
    "@show map(+, 1, [1, 2, 3])\n",
    "@show broadcast(+, 1, [1, 2, 3])"
   ]
  },
  {
   "cell_type": "markdown",
   "metadata": {},
   "source": [
    "### Dot notation"
   ]
  },
  {
   "cell_type": "code",
   "execution_count": null,
   "metadata": {},
   "outputs": [],
   "source": [
    "@show 1 .+ [1, 2, 3]\n",
    "@show abs.([-1, -2, -3])"
   ]
  },
  {
   "cell_type": "markdown",
   "metadata": {},
   "source": [
    "# Extra:"
   ]
  },
  {
   "cell_type": "markdown",
   "metadata": {},
   "source": [
    "## Macros\n",
    "Finally, let's touch the metaprogramming capabilities of Julia. \n",
    "\n",
    "Since metaprogramming is a whole other topic (see bonus notebook) we will only cover the very basics of something you might encounter when dealing with Julia code: macros.\n",
    "\n",
    "For a clear and concise explantion on macros, watch [this video](https://www.youtube.com/watch?v=e6LGMeoQhfs)."
   ]
  },
  {
   "cell_type": "markdown",
   "metadata": {},
   "source": [
    "Macros provide a method to include generated code in the final body of a program. A macro maps a tuple of arguments to a returned **expression**, and the resulting expression is compiled directly.\n",
    "\n",
    "This means that macros can change how functions work, hence the *meta* in metaprogramming."
   ]
  },
  {
   "cell_type": "code",
   "execution_count": null,
   "metadata": {},
   "outputs": [],
   "source": [
    "macro sayhello()\n",
    "    return :( println(\"Hello, world!\") )\n",
    "end"
   ]
  },
  {
   "cell_type": "markdown",
   "metadata": {},
   "source": [
    "## Macro invocation\n",
    "Macros are invoked with the following general syntax:\n",
    "```julia\n",
    "@name expr1 expr2 ...\n",
    "@name(expr1, expr2, ...)\n",
    "```"
   ]
  },
  {
   "cell_type": "code",
   "execution_count": null,
   "metadata": {},
   "outputs": [],
   "source": [
    "@sayhello"
   ]
  },
  {
   "cell_type": "markdown",
   "metadata": {},
   "source": [
    "## Advanced: Tasks (aka Coroutines)\n",
    "Tasks are a control flow feature that allows computations to be suspended and resumed in a flexible manner. More information can be found from the [documentation](https://docs.julialang.org/en/v1/manual/control-flow/#man-tasks-1)"
   ]
  },
  {
   "cell_type": "code",
   "execution_count": 9,
   "metadata": {},
   "outputs": [],
   "source": [
    "function producer(c::Channel)\n",
    "    put!(c, \"start\")\n",
    "    put!(c, 1)\n",
    "    put!(c, 2)\n",
    "    put!(c, 3)\n",
    "    put!(c, 3)\n",
    "    put!(c, \"stop\")\n",
    "end;\n",
    "\n",
    "chnl = Channel(producer);"
   ]
  },
  {
   "cell_type": "code",
   "execution_count": null,
   "metadata": {},
   "outputs": [],
   "source": [
    "take!(chnl) # try executing me repeatedly"
   ]
  }
 ],
 "metadata": {
  "celltoolbar": "Slideshow",
  "kernelspec": {
   "display_name": "Julia 1.8.0",
   "language": "julia",
   "name": "julia-1.8"
  },
  "language_info": {
   "file_extension": ".jl",
   "mimetype": "application/julia",
   "name": "julia",
   "version": "1.8.0"
  }
 },
 "nbformat": 4,
 "nbformat_minor": 4
}
