{
 "cells": [
  {
   "cell_type": "markdown",
   "metadata": {
    "slideshow": {
     "slide_type": "slide"
    }
   },
   "source": [
    "# Strings and  I/O"
   ]
  },
  {
   "cell_type": "markdown",
   "metadata": {
    "slideshow": {
     "slide_type": "fragment"
    }
   },
   "source": [
    "## Topics\n",
    "- Using packages\n",
    "- Strings and characters\n",
    "- Text manipulation\n",
    "- Working with files"
   ]
  },
  {
   "cell_type": "markdown",
   "metadata": {
    "slideshow": {
     "slide_type": "slide"
    }
   },
   "source": [
    "## Strings and characters\n",
    "A string is a sequence of one or more characters, usually enclosed in double quotes:\n",
    "```julia\n",
    "\"this is a string\"\n",
    "```\n",
    "\n",
    "In some cases it might also be useful to use an equivalent triple double quotes\n",
    "```julia\n",
    "\"\"\"this is also a string, but it supports double quotes \"just\" like this.\"\"\"\"\n",
    "```\n",
    "\n",
    "Characters are enclosed in single quotes, i.e., `'a'`. Beaware that this is not the same as string of length 1!"
   ]
  },
  {
   "cell_type": "markdown",
   "metadata": {
    "slideshow": {
     "slide_type": "slide"
    }
   },
   "source": [
    "## Indexing strings\n",
    "If you want to extract characters from strings, you index into it"
   ]
  },
  {
   "cell_type": "code",
   "execution_count": null,
   "metadata": {
    "slideshow": {
     "slide_type": "fragment"
    }
   },
   "outputs": [],
   "source": [
    "s = \"abcdefghijklmnopqrstuvwxyz\"\n",
    "s[1]"
   ]
  },
  {
   "cell_type": "markdown",
   "metadata": {
    "slideshow": {
     "slide_type": "fragment"
    }
   },
   "source": [
    "You can also extract a substring using range indexing"
   ]
  },
  {
   "cell_type": "code",
   "execution_count": null,
   "metadata": {
    "slideshow": {
     "slide_type": "fragment"
    }
   },
   "outputs": [],
   "source": [
    "s[1:3]"
   ]
  },
  {
   "cell_type": "markdown",
   "metadata": {
    "slideshow": {
     "slide_type": "fragment"
    }
   },
   "source": [
    "Note how `s[1]` and `s[1:1]` do not give the same result: first gives a character, the other a (sub)string!"
   ]
  },
  {
   "cell_type": "code",
   "execution_count": null,
   "metadata": {},
   "outputs": [],
   "source": [
    "s[1]"
   ]
  },
  {
   "cell_type": "code",
   "execution_count": null,
   "metadata": {},
   "outputs": [],
   "source": [
    "s[1:1]"
   ]
  },
  {
   "cell_type": "markdown",
   "metadata": {
    "slideshow": {
     "slide_type": "slide"
    }
   },
   "source": [
    "## String interpolation \n",
    "Often you want to use the results of Julia expressions inside strings. This can be done with the string interpolation machinery. Syntax is to use `$(x)` for the expression `x`. \n",
    "\n",
    "Note that for a simple variable it is enough to just use `$var` without the parentheses.\n",
    "\n",
    "Inverse conversion, i.e., from other types into a string type, is easily done using the `string()` function."
   ]
  },
  {
   "cell_type": "code",
   "execution_count": null,
   "metadata": {
    "slideshow": {
     "slide_type": "fragment"
    }
   },
   "outputs": [],
   "source": [
    "x = 42\n",
    "\"The value of x is $x\""
   ]
  },
  {
   "cell_type": "code",
   "execution_count": null,
   "metadata": {
    "slideshow": {
     "slide_type": "fragment"
    }
   },
   "outputs": [],
   "source": [
    "\"The value of 2 + 2 is $(2+2)\""
   ]
  },
  {
   "cell_type": "code",
   "execution_count": null,
   "metadata": {
    "slideshow": {
     "slide_type": "fragment"
    }
   },
   "outputs": [],
   "source": [
    "string(x)"
   ]
  },
  {
   "cell_type": "markdown",
   "metadata": {
    "slideshow": {
     "slide_type": "slide"
    }
   },
   "source": [
    "## Splitting and joining strings\n",
    "You can stick together (a process often called *concatenation*) using multiply (`*`) operator"
   ]
  },
  {
   "cell_type": "code",
   "execution_count": null,
   "metadata": {
    "slideshow": {
     "slide_type": "fragment"
    }
   },
   "outputs": [],
   "source": [
    "\"first part \" * \"second part!\""
   ]
  },
  {
   "cell_type": "markdown",
   "metadata": {
    "slideshow": {
     "slide_type": "fragment"
    }
   },
   "source": [
    "Note: you might be more familiar with using `+` sign that is used for concatenation in many other languages. \n",
    "\n",
    "Julia philosophy to select multiplication was, however, done because it makes *mathematically* more sense to express the \"sticking together\" as multiplication."
   ]
  },
  {
   "cell_type": "markdown",
   "metadata": {
    "slideshow": {
     "slide_type": "skip"
    }
   },
   "source": [
    "### Special addition for math nerds:\n",
    "While `*` may seem like a surprising choice to users of languages that provide `+` for string concatenation, this use of `*` has precedent in mathematics, particularly in abstract algebra.\n",
    "\n",
    "In mathematics, `+` usually denotes a commutative operation, where the order of the operands does not matter. An example of this is matrix addition, where `A + B == B + A` for any matrices `A` and `B` that have the same shape. In contrast, `*` typically denotes a noncommutative operation, where the order of the operands does matter. An example of this is matrix multiplication, where in general `A * B != B * A`. As with matrix multiplication, string concatenation is noncommutative: `greet * whom != whom * greet`. As such, `*` is a more natural choice for an infix string concatenation operator, consistent with common mathematical use."
   ]
  },
  {
   "cell_type": "markdown",
   "metadata": {},
   "source": [
    "### Exercise1: Hi!\n",
    "\n",
    "Create a string that says \"hi\" 100 times."
   ]
  },
  {
   "cell_type": "code",
   "execution_count": null,
   "metadata": {},
   "outputs": [],
   "source": []
  },
  {
   "cell_type": "markdown",
   "metadata": {},
   "source": [
    "### Exercise2: String interpolation\n",
    "\n",
    "Declare two variables \n",
    "```julia\n",
    "a = 3\n",
    "b = 4\n",
    "```\n",
    "and use them to create two strings\n",
    "```\n",
    "\"3 + 4\"\n",
    "\"7\"\n",
    "```"
   ]
  },
  {
   "cell_type": "code",
   "execution_count": null,
   "metadata": {},
   "outputs": [],
   "source": []
  },
  {
   "cell_type": "markdown",
   "metadata": {
    "slideshow": {
     "slide_type": "slide"
    }
   },
   "source": [
    "## Specialized strings\n",
    "Sometimes strings come with a specialization, marked by a one or more characters immediatly followed by the opening double quotes:\n",
    "- `r\" \"` indicates a regular expression\n",
    "- `v\" \"` indicates a version string\n",
    "- `raw\" \"` indicates a raw string literal (so no errors with `$`)\n",
    "\n",
    "Furthermore, some packages extend this feature even further. For example, the [LaTeXStrings](https://github.com/stevengj/LaTeXStrings.jl) supported by many plotting libraries uses \n",
    "```julia\n",
    "label = L\"This is a LaTeX string $\\sum_i x^2$\"\n",
    "```\n",
    "that supports full arsenal of mathematical symbols using the LaTeX syntax."
   ]
  },
  {
   "cell_type": "markdown",
   "metadata": {
    "slideshow": {
     "slide_type": "slide"
    }
   },
   "source": [
    "## Advanced: `printf()`\n",
    "If you are deeply attached to C-style `printf()` functionality, you'll be able to use a Julia macro for it (which are called by prefacing them with the `@` sign) by first issuing `using Printf`."
   ]
  },
  {
   "cell_type": "code",
   "execution_count": null,
   "metadata": {
    "slideshow": {
     "slide_type": "fragment"
    }
   },
   "outputs": [],
   "source": [
    "using Printf\n",
    "@printf(\"pi = %0.20f\", float(pi))"
   ]
  },
  {
   "cell_type": "markdown",
   "metadata": {
    "slideshow": {
     "slide_type": "fragment"
    }
   },
   "source": [
    "Or you can create another string using the `sprintf()` macro:"
   ]
  },
  {
   "cell_type": "code",
   "execution_count": null,
   "metadata": {
    "slideshow": {
     "slide_type": "fragment"
    }
   },
   "outputs": [],
   "source": [
    "s = @sprintf(\"pi = %0.20f\", float(pi))"
   ]
  },
  {
   "cell_type": "markdown",
   "metadata": {
    "slideshow": {
     "slide_type": "skip"
    }
   },
   "source": [
    "## List of string manipulation functions\n",
    "There are lots of functions for testing and changing strings:\n",
    "\n",
    "- `length(str)` length of string\n",
    "- `sizeof(str)` length/size\n",
    "- `startswith(strA, strB)` does strA start with strB?\n",
    "- `endswith(strA, strB)` does strA end with strB?\n",
    "- `isascii(str)` is str ASCII?\n",
    "- `all(isdigit, str)` is str 0-9?\n",
    "- `all(ispunct, str)` does str consist of punctuation?\n",
    "- `all(isspace, str)` is str whitespace characters?\n",
    "- `all(isxdigit, str)` is str hexadecimal digits?\n",
    "- `uppercase(str)` return a copy of str converted to uppercase\n",
    "- `lowercase(str)` return a copy of str converted to lowercase\n",
    "- `titlecase(str)` return copy of str with the first character of each word converted to uppercase\n",
    "- `chop(str)` return a copy with the last character removed\n",
    "- `chomp(str)` return a copy with the last character removed only if it's a newline\n"
   ]
  },
  {
   "cell_type": "markdown",
   "metadata": {
    "slideshow": {
     "slide_type": "slide"
    }
   },
   "source": [
    "## Reading from files\n",
    "The standard approach for getting information from a text file is using the `open()`, `read()`, and `close()` functions."
   ]
  },
  {
   "cell_type": "markdown",
   "metadata": {
    "slideshow": {
     "slide_type": "slide"
    }
   },
   "source": [
    "### Open\n",
    "Let's see how they work in action. First we need to open the file. In Julia, a file can be opened in the following modes\n",
    "- `\"r\"`: reading\n",
    "- `\"w\"`: writing (destroyes everything in file)\n",
    "- `\"a\"`: appending (appends to the end of the file)\n",
    "\n",
    "Let's open a file in a folder `data/` called `poem.txt`. The syntax is \n",
    "```julia\n",
    "open(filename, mode)\n",
    "```"
   ]
  },
  {
   "cell_type": "code",
   "execution_count": null,
   "metadata": {
    "slideshow": {
     "slide_type": "fragment"
    }
   },
   "outputs": [],
   "source": [
    "f = open(\"../data/poem.txt\", \"r\")"
   ]
  },
  {
   "cell_type": "markdown",
   "metadata": {
    "slideshow": {
     "slide_type": "slide"
    }
   },
   "source": [
    "### Read\n",
    "Then, we can read the content with a spesific function made for this, `readline()`. Let's also remember to close the stream once we are done."
   ]
  },
  {
   "cell_type": "code",
   "execution_count": null,
   "metadata": {
    "slideshow": {
     "slide_type": "fragment"
    }
   },
   "outputs": [],
   "source": [
    "lines = readlines(f)\n",
    "close(f)"
   ]
  },
  {
   "cell_type": "markdown",
   "metadata": {
    "slideshow": {
     "slide_type": "fragment"
    }
   },
   "source": [
    "Now the content is inside a vector of strings called `lines`.\n",
    "\n",
    "Alternatively, we could have used `eachline()` function that turns a source into an iterator. This allows to process a file a line at a time:"
   ]
  },
  {
   "cell_type": "code",
   "execution_count": null,
   "metadata": {
    "slideshow": {
     "slide_type": "fragment"
    }
   },
   "outputs": [],
   "source": [
    "open(\"../data/poem.txt\") do f\n",
    "    for line in eachline(f)\n",
    "        println(line)\n",
    "    end\n",
    "end"
   ]
  },
  {
   "cell_type": "markdown",
   "metadata": {
    "slideshow": {
     "slide_type": "skip"
    }
   },
   "source": [
    "Note: I am sorry all literature enthusiastics, this was the only short poem having a word \"julia\" in it that I could find."
   ]
  },
  {
   "cell_type": "markdown",
   "metadata": {
    "slideshow": {
     "slide_type": "slide"
    }
   },
   "source": [
    "### Writing\n",
    "Writing a file, is a similar process. Instead of printing into the screen, we can provide an open file handle to our printing function:"
   ]
  },
  {
   "cell_type": "code",
   "execution_count": null,
   "metadata": {
    "slideshow": {
     "slide_type": "fragment"
    }
   },
   "outputs": [],
   "source": [
    "open(\"../data/example.txt\", \"w\") do f\n",
    "    println(f, \"My very own line of text.\")\n",
    "end"
   ]
  },
  {
   "cell_type": "markdown",
   "metadata": {
    "slideshow": {
     "slide_type": "slide"
    }
   },
   "source": [
    "## Writing and reading array to and from a file\n",
    "In real life, this is typically not how stuff is done. There is a much easier way via `using DelimitedFiles`!\n",
    "\n",
    "In many cases, we are reading data that is in some fixed array format. Most common is the CSV (Comma Separated Value) format. Julia provides us with a convenient set of functions to handle these kind of data formats with read and write delimited data, or `readdlm()` and `writedlm()`.\n",
    "\n",
    "Syntax is \n",
    "```julia\n",
    "readdlm(filename, delimiter)\n",
    "```\n",
    "and\n",
    "```julia\n",
    "writedlm(filename, array, delimiter)\n",
    "```\n",
    "If the `delimiter` (i.e., `','` for CSV) is omitted, a TAB is used by default."
   ]
  },
  {
   "cell_type": "code",
   "execution_count": null,
   "metadata": {
    "slideshow": {
     "slide_type": "slide"
    }
   },
   "outputs": [],
   "source": [
    "arr = rand(3,5)"
   ]
  },
  {
   "cell_type": "code",
   "execution_count": null,
   "metadata": {
    "slideshow": {
     "slide_type": "fragment"
    }
   },
   "outputs": [],
   "source": [
    "using DelimitedFiles\n",
    "writedlm(\"../data/my_arr.txt\", arr, ',')"
   ]
  },
  {
   "cell_type": "code",
   "execution_count": null,
   "metadata": {
    "slideshow": {
     "slide_type": "fragment"
    }
   },
   "outputs": [],
   "source": [
    "arr2 = readdlm(\"../data/my_arr.txt\", ',')"
   ]
  },
  {
   "cell_type": "markdown",
   "metadata": {},
   "source": [
    "### Exercise 3: Writing and reading a simulation state\n",
    "\n",
    "Often we might want to save a simulation state to disk and read it later. Let's see what happends if we use `writedlm` to do this. Create an array of plants, update it 20 times and use `writedlm` to save the result to `\"../data/state.txt\"`.\n",
    "\n",
    "Take a look at the file. What happened?"
   ]
  },
  {
   "cell_type": "code",
   "execution_count": null,
   "metadata": {},
   "outputs": [],
   "source": [
    "using DelimitedFiles\n",
    "\n",
    "# This load the epidemic functions from a file\n",
    "include(\"../epidemic.jl\")\n",
    "\n",
    "plants = make_plants(7,7)"
   ]
  },
  {
   "cell_type": "code",
   "execution_count": null,
   "metadata": {},
   "outputs": [],
   "source": [
    "# Update the plants 20 times\n",
    "...\n",
    "\n",
    "# Use writedlm to write the plants to a file\n",
    "..."
   ]
  },
  {
   "cell_type": "markdown",
   "metadata": {},
   "source": [
    "It seems writedlm used the show function we wrote, so the file contains ◼ and ◻ characters. Try using the `readdlm`-function to read it.\n",
    "\n",
    "This will fail if you specify the type `Plant`. You can try this and see if you understand the error."
   ]
  },
  {
   "cell_type": "code",
   "execution_count": null,
   "metadata": {},
   "outputs": [],
   "source": [
    "# Use readdlm to read the file\n",
    "data = ..."
   ]
  },
  {
   "cell_type": "markdown",
   "metadata": {},
   "source": [
    "So readdlm is very robust, but not exactly useful here. For general structs, there is another library."
   ]
  },
  {
   "cell_type": "markdown",
   "metadata": {},
   "source": [
    "### JLD (Exercise 3 continues)\n",
    "\n",
    "JLD2 is very useful for more complicated datatypes, like our field of plants. To install he `JLD2` package, run \n",
    "```Julia\n",
    "using Pkg\n",
    "Pkg.add(\"JLD2\")\n",
    "using JLD2\n",
    "```\n",
    "Then check the help text for the `jldsave` and `load` functions. The result may not be immediately clear, so searching for examples online may help.\n",
    "\n",
    "Use the `save` function to write the plants to a file. Then use `load` to reload the file and print the contents."
   ]
  },
  {
   "cell_type": "code",
   "execution_count": null,
   "metadata": {},
   "outputs": [],
   "source": []
  },
  {
   "cell_type": "code",
   "execution_count": null,
   "metadata": {},
   "outputs": [],
   "source": [
    "# Check the help strings\n"
   ]
  },
  {
   "cell_type": "code",
   "execution_count": null,
   "metadata": {
    "scrolled": true
   },
   "outputs": [],
   "source": []
  },
  {
   "cell_type": "code",
   "execution_count": null,
   "metadata": {},
   "outputs": [],
   "source": [
    "# Use save_object to write the plant array to a file\n"
   ]
  },
  {
   "cell_type": "code",
   "execution_count": null,
   "metadata": {},
   "outputs": [],
   "source": [
    "# And the load_object function to load the data in the file\n"
   ]
  },
  {
   "cell_type": "markdown",
   "metadata": {},
   "source": [
    "### Extra Exercise 1: Not so simple file reading\n",
    "\n",
    "Read the values of the `../data/coordinates.txt` into two arrays called `x` and `y` using the `open()`, `readline()` or `eachline()`, `close()` syntax.\n",
    "\n",
    "HINT: You will somehow need to parse each string of lines into numbers. Use the help and see what `split()` and `parse(Float64,... )` can do for you."
   ]
  },
  {
   "cell_type": "code",
   "execution_count": null,
   "metadata": {},
   "outputs": [],
   "source": []
  }
 ],
 "metadata": {
  "celltoolbar": "Slideshow",
  "kernelspec": {
   "display_name": "Julia 1.8.0",
   "language": "julia",
   "name": "julia-1.8"
  },
  "language_info": {
   "file_extension": ".jl",
   "mimetype": "application/julia",
   "name": "julia",
   "version": "1.8.0"
  }
 },
 "nbformat": 4,
 "nbformat_minor": 4
}
