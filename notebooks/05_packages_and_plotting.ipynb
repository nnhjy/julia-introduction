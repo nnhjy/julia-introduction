{
 "cells": [
  {
   "cell_type": "markdown",
   "metadata": {
    "slideshow": {
     "slide_type": "slide"
    }
   },
   "source": [
    "# Packages and Plotting"
   ]
  },
  {
   "cell_type": "markdown",
   "metadata": {
    "slideshow": {
     "slide_type": "fragment"
    }
   },
   "source": [
    "## Topics\n",
    "- Packages\n",
    "- Plotting & visualization"
   ]
  },
  {
   "cell_type": "markdown",
   "metadata": {
    "slideshow": {
     "slide_type": "slide"
    }
   },
   "source": [
    "## Packages\n",
    "Julia has over 4000 registered packages, making packages a huge part of the Julia ecosystem.\n",
    "\n",
    "Even so, the package ecosystem still has some growing to do. Notably, we have first class function calls to other languages, providing excellent foreign function interfaces. We can easily call into python or R, for example, with `PyCall` or `Rcall`.\n",
    "\n",
    "This means that you don't have to wait until the Julia ecosystem is fully mature, and that moving to Julia doesn't mean you have to give up your favorite package/library from another language!\n",
    "\n",
    "To see all available packages, check out\n",
    "\n",
    "https://github.com/JuliaRegistries/General or https://juliaobserver.com/"
   ]
  },
  {
   "cell_type": "markdown",
   "metadata": {
    "slideshow": {
     "slide_type": "slide"
    }
   },
   "source": [
    "## Installing packages\n",
    "For now, let's learn how to use a package.\n",
    "\n",
    "Before anything, we have to activate the package manager by running `using Pkg`.\n",
    "\n",
    "The first time you use a package on a given Julia installation, you need to explicitly add it"
   ]
  },
  {
   "cell_type": "code",
   "execution_count": null,
   "metadata": {
    "slideshow": {
     "slide_type": "fragment"
    }
   },
   "outputs": [],
   "source": [
    "using Pkg\n",
    "Pkg.add(\"Example\")"
   ]
  },
  {
   "cell_type": "markdown",
   "metadata": {
    "slideshow": {
     "slide_type": "slide"
    }
   },
   "source": [
    "## Using packages\n",
    "Every time you use Julia (start a new session at the REPL, or open a notebook for the first time, for example), you load the package with the `using` keyword"
   ]
  },
  {
   "cell_type": "code",
   "execution_count": null,
   "metadata": {
    "slideshow": {
     "slide_type": "fragment"
    }
   },
   "outputs": [],
   "source": [
    "using Example"
   ]
  },
  {
   "cell_type": "markdown",
   "metadata": {
    "slideshow": {
     "slide_type": "fragment"
    }
   },
   "source": [
    "In the source code of `Example.jl` at https://github.com/JuliaLang/Example.jl/blob/master/src/Example.jl we see the following function declared\n",
    "\n",
    "```julia\n",
    "hello(who::String) = \"Hello, $who\"\n",
    "```\n",
    "Having loaded `Example`, we should now be able to call `hello`"
   ]
  },
  {
   "cell_type": "code",
   "execution_count": null,
   "metadata": {
    "slideshow": {
     "slide_type": "fragment"
    }
   },
   "outputs": [],
   "source": [
    "hello(\"Julia!\")"
   ]
  },
  {
   "cell_type": "markdown",
   "metadata": {},
   "source": [
    "## Import\n",
    "\n",
    "In addition to the `using` keyword, packages can be loaded with the `import` keyword."
   ]
  },
  {
   "cell_type": "code",
   "execution_count": null,
   "metadata": {},
   "outputs": [],
   "source": [
    "import Example"
   ]
  },
  {
   "cell_type": "markdown",
   "metadata": {},
   "source": [
    "Import does not add any functions to the main name space, so you cannot call them directly, as above. They can only be accessed using a dot-syntax:"
   ]
  },
  {
   "cell_type": "code",
   "execution_count": null,
   "metadata": {},
   "outputs": [],
   "source": [
    "Example.hello(\"Julia!\")"
   ]
  },
  {
   "cell_type": "markdown",
   "metadata": {},
   "source": [
    "Import can be aliased to make referring to them easier:"
   ]
  },
  {
   "cell_type": "code",
   "execution_count": null,
   "metadata": {},
   "outputs": [],
   "source": [
    "import Example as e\n",
    "e.hello(\"Julia!\")"
   ]
  },
  {
   "cell_type": "markdown",
   "metadata": {},
   "source": [
    "It also allows you to pull a single name from the package:"
   ]
  },
  {
   "cell_type": "code",
   "execution_count": null,
   "metadata": {},
   "outputs": [],
   "source": [
    "import Example.hello as hello2\n",
    "hello2(\"Julia!\")"
   ]
  },
  {
   "cell_type": "markdown",
   "metadata": {},
   "source": [
    "### Notebook `09_ecosystem` has a list of packages and additional information.\n",
    "\n",
    "- Search for packagers on the [Julia Hub](https://juliahub.com/)\n",
    "- The [package registry](https://github.com/JuliaRegistries/General)\n"
   ]
  },
  {
   "cell_type": "markdown",
   "metadata": {},
   "source": [
    "### Exercise 1: Installing a package: `Primes`\n",
    "\n",
    "Load the `Primes` packages (source code at https://github.com/JuliaMath/Primes.jl). \n",
    "\n",
    "Verify that you can now use the function `primes` to grab all the primes under `100`. If unsure, maybe `?primes` will help you?"
   ]
  },
  {
   "cell_type": "code",
   "execution_count": null,
   "metadata": {},
   "outputs": [],
   "source": [
    "using Pkg\n",
    "# use Pkg to \"add\" the package \"Primes\"\n",
    "...\n"
   ]
  },
  {
   "cell_type": "code",
   "execution_count": null,
   "metadata": {},
   "outputs": [],
   "source": [
    "# load the Primes package\n",
    "..."
   ]
  },
  {
   "cell_type": "code",
   "execution_count": null,
   "metadata": {},
   "outputs": [],
   "source": [
    "# How do you list the first 100 primes?\n"
   ]
  },
  {
   "cell_type": "markdown",
   "metadata": {
    "slideshow": {
     "slide_type": "slide"
    }
   },
   "source": [
    "## Interoperability\n",
    "There are many existing codes and libraries, why should we re-use them? One of the strenghts of Julia is it's interoperability. \n",
    "\n",
    "C and Fortran, for example are natively supported. But many other languages are just one package away. \n",
    "\n",
    "Take python for example:"
   ]
  },
  {
   "cell_type": "code",
   "execution_count": null,
   "metadata": {
    "slideshow": {
     "slide_type": "fragment"
    }
   },
   "outputs": [],
   "source": [
    "using Pkg\n",
    "Pkg.add(\"PyCall\")\n",
    "using PyCall\n",
    "\n",
    "@pyimport scipy.optimize as so\n",
    "so.newton(x -> cos(x) - x, 1)"
   ]
  },
  {
   "cell_type": "markdown",
   "metadata": {},
   "source": [
    "Or calling a function from the C standard library:"
   ]
  },
  {
   "cell_type": "code",
   "execution_count": null,
   "metadata": {},
   "outputs": [],
   "source": [
    "t = ccall(:clock, Int32, ())"
   ]
  },
  {
   "cell_type": "code",
   "execution_count": null,
   "metadata": {},
   "outputs": [],
   "source": [
    "# Or specifying the library (necessary if it's not standard)\n",
    "ccall((:printf, \"libc.so.6\"), Int32, (Cstring,), \"Hello!\")"
   ]
  },
  {
   "cell_type": "markdown",
   "metadata": {
    "slideshow": {
     "slide_type": "slide"
    }
   },
   "source": [
    "## Different libraries for different languages\n",
    "- Python with [PyCall](https://github.com/JuliaPy/PyCall.jl)\n",
    "- R with [RCall](https://github.com/JuliaInterop/RCall.jl)\n",
    "- C++ with [CxxWrap](https://github.com/JuliaInterop/CxxWrap.jl)\n",
    "- Matlab with [MATLAB](https://github.com/JuliaInterop/MATLAB.jl)\n",
    "- Java with [JavaCall](https://github.com/JuliaInterop/JavaCall.jl)\n",
    "- Mathematica with [Mathematica](https://github.com/JuliaInterop/Mathematica.jl)\n",
    "- ObjectiveC with [ObjectiveC](https://github.com/JuliaInterop/ObjectiveC.jl)"
   ]
  },
  {
   "cell_type": "markdown",
   "metadata": {},
   "source": [
    "### Exercise 2: C\n",
    "\n",
    "Use the C `cos` function to find the cos π."
   ]
  },
  {
   "cell_type": "code",
   "execution_count": null,
   "metadata": {},
   "outputs": [],
   "source": [
    "t = ccall(:cos, Float64, (Float64,), π)"
   ]
  },
  {
   "cell_type": "markdown",
   "metadata": {},
   "source": [
    "### Exercise 3: Python\n",
    "\n",
    "Use the Python `math.cos` function to find the cos π."
   ]
  },
  {
   "cell_type": "code",
   "execution_count": null,
   "metadata": {},
   "outputs": [],
   "source": [
    "@pyimport math as pymath\n",
    "pymath.cos(π)"
   ]
  },
  {
   "cell_type": "markdown",
   "metadata": {
    "slideshow": {
     "slide_type": "slide"
    }
   },
   "source": [
    "## Plotting\n",
    "\n",
    "There are few different ways to plot in Julia. \n",
    "\n",
    "Here we'll use the `Plots` [package](http://docs.juliaplots.org/latest/) that tries to unify many of the underlying visualization engines to have a similar interface."
   ]
  },
  {
   "cell_type": "code",
   "execution_count": null,
   "metadata": {
    "scrolled": false,
    "slideshow": {
     "slide_type": "fragment"
    }
   },
   "outputs": [],
   "source": [
    "using Pkg\n",
    "Pkg.add(\"Plots\")\n",
    "using Plots"
   ]
  },
  {
   "cell_type": "markdown",
   "metadata": {
    "slideshow": {
     "slide_type": "slide"
    }
   },
   "source": [
    "One of the advantages to `Plots.jl` is that it allows you to seamlessly change backends. For example, if you are familiar with the matplotlib library from Python, then you can keep using that via the `PyPlot` [package](https://github.com/JuliaPy/PyPlot.jl).\n",
    "\n",
    "Engines/backends include:\n",
    "- [Plotly](https://plot.ly/julia/): Plotly.jl package (`plotly()` to activate)\n",
    "    - default for Plots if nothing else is installed\n",
    "    - interactive plots in browser\n",
    "    - `PlotlyJS` (activate with `plotlyjs()`) is the local offline version\n",
    "- [PyPlot](https://github.com/JuliaPy/PyPlot.jl): Matplotlib interface (`pyplot()` to activate)\n",
    "    - All the bells and whistles of Matplotlib\n",
    "- [GR](https://github.com/jheinen/GR.jl): GR framework interface (`gr()` to activate)\n",
    "- [UnicodePlots](https://github.com/Evizero/UnicodePlots.jl): (`unicodeplots()` to activate)\n",
    "    - Plots inside terminal!\n",
    "    \n",
    "Also:\n",
    "- [Gadfly](http://gadflyjl.org/stable/): Wickham-Wilkinson style grammar\n",
    "For R-styled plotting.\n",
    "\n",
    "See the [docs](http://docs.juliaplots.org/v1/backends/) for more info about different backends, and their pros & cons."
   ]
  },
  {
   "cell_type": "code",
   "execution_count": null,
   "metadata": {
    "slideshow": {
     "slide_type": "skip"
    }
   },
   "outputs": [],
   "source": [
    "#Pkg.add(\"PlotlyJS\") #let's install our own local plotly\n",
    "Pkg.add(\"PyPlot\") #let's install our own local plotly"
   ]
  },
  {
   "cell_type": "code",
   "execution_count": null,
   "metadata": {
    "slideshow": {
     "slide_type": "skip"
    }
   },
   "outputs": [],
   "source": [
    "#plotly()       # Plotly.jl (needs Plotly package)\n",
    "#plotlyjs()     # local javascript server for plotly (needs PlotlyJS)\n",
    "#gr()           # GR backend, (needs GR package)\n",
    "pyplot()       # Matplotlib interface (needs PyPlot package and up-to-date system matplotlib)\n",
    "#unicodeplots() # UnicodePlots backend (needs UnicodePlots package); NOTE: does not work in notebooks"
   ]
  },
  {
   "cell_type": "markdown",
   "metadata": {
    "slideshow": {
     "slide_type": "slide"
    }
   },
   "source": [
    "## Simulation\n",
    "Let's make a nice plot of the state of our simulation."
   ]
  },
  {
   "cell_type": "code",
   "execution_count": null,
   "metadata": {
    "slideshow": {
     "slide_type": "fragment"
    }
   },
   "outputs": [],
   "source": [
    "# Since our simulation only has 4 states, we'll make a palette of 4 colors.\n",
    "palette = distinguishable_colors(4)"
   ]
  },
  {
   "cell_type": "markdown",
   "metadata": {},
   "source": [
    "Interesting choice. First we will need to assign colors to each plant in the simulation."
   ]
  },
  {
   "cell_type": "code",
   "execution_count": null,
   "metadata": {
    "scrolled": false,
    "slideshow": {
     "slide_type": "slide"
    }
   },
   "outputs": [],
   "source": [
    "# The following line loads the epidemic functions from a file\n",
    "include(\"../epidemic.jl\")\n",
    "\n",
    "# Let's make some plants\n",
    "plants = make_plants(32,32)"
   ]
  },
  {
   "cell_type": "code",
   "execution_count": null,
   "metadata": {},
   "outputs": [],
   "source": [
    "\"Map the plants to colors for plotting\"\n",
    "function to_colors(plant::Plant)\n",
    "    if plant.status == uninfected\n",
    "        return RGB(0.0,0.8,0.0)\n",
    "    end\n",
    "    if plant.status == infected\n",
    "        return RGB(0.8,0.0,0.0)\n",
    "    end\n",
    "    if plant.status == dead\n",
    "        return RGB(0.1,0.1,0.1)\n",
    "    end\n",
    "    if plant.status == recovered\n",
    "        return RGB(0.0,0.0,0.8)\n",
    "    end\n",
    "    if plant.status == immune\n",
    "        return RGB(0.2,0.2,1.0)\n",
    "    end\n",
    "end\n",
    "\n",
    "to_colors.(plants)"
   ]
  },
  {
   "cell_type": "code",
   "execution_count": null,
   "metadata": {},
   "outputs": [],
   "source": [
    "# We can pass this to plot() to get a nicer image\n",
    "\n",
    "plot(to_colors.(plants),legend=false, border=:none)"
   ]
  },
  {
   "cell_type": "markdown",
   "metadata": {
    "slideshow": {
     "slide_type": "slide"
    }
   },
   "source": [
    "## Random Walk\n",
    "Let's take our visualization to the next dimension. Here is a simple plot to visualize the random walk in 3D."
   ]
  },
  {
   "cell_type": "code",
   "execution_count": null,
   "metadata": {
    "slideshow": {
     "slide_type": "skip"
    }
   },
   "outputs": [],
   "source": [
    "#activate Pyplot backend (if you have not done it previously)\n",
    "using Plots\n",
    "pyplot()"
   ]
  },
  {
   "cell_type": "code",
   "execution_count": null,
   "metadata": {
    "slideshow": {
     "slide_type": "slide"
    }
   },
   "outputs": [],
   "source": [
    "n = 1000\n",
    "rw() = cumsum(randn(n)) #function for cumulative random values\n",
    "\n",
    "# x/y/z coordinates\n",
    "x = rw() \n",
    "y = rw()\n",
    "z = rw()\n",
    "\n",
    "plot(x,y,z)"
   ]
  },
  {
   "cell_type": "markdown",
   "metadata": {
    "slideshow": {
     "slide_type": "slide"
    }
   },
   "source": [
    "## Animations\n",
    "Finally, let's add some time aspect to our visualizations. `Plots` has a simple `@gif` macro for this.\n",
    "\n",
    "It builds an animation using one frame per iteration loop, then creates an animated GIF from that.\n",
    "```julia\n",
    "p = plot(1)\n",
    "@gif for x=0:0.1:5\n",
    "    push!(p, 1, sin(x))\n",
    "end\n",
    "```"
   ]
  },
  {
   "cell_type": "markdown",
   "metadata": {
    "slideshow": {
     "slide_type": "slide"
    }
   },
   "source": [
    "Let's write up a simple Lorenz attractor. See https://en.wikipedia.org/wiki/Lorenz_system"
   ]
  },
  {
   "cell_type": "code",
   "execution_count": null,
   "metadata": {
    "slideshow": {
     "slide_type": "fragment"
    }
   },
   "outputs": [],
   "source": [
    "n = 2000\n",
    "dt = 0.02\n",
    "σ, ρ, β = 9.9, 28., 8/3\n",
    "global x, y, z = 1., 1., 1.\n",
    "\n",
    "# Lorentz attractor\n",
    "function lorentzAttractor(x,y,z)\n",
    "    x += dt * σ*(y - x)\n",
    "    y += dt * (x*(ρ - z) - y)   \n",
    "    z += dt * (x*y - β*z  )\n",
    "    return x, y, z\n",
    "end"
   ]
  },
  {
   "cell_type": "code",
   "execution_count": null,
   "metadata": {
    "slideshow": {
     "slide_type": "skip"
    }
   },
   "outputs": [],
   "source": [
    "#activate PyPlot backend (if you have not done it previously)\n",
    "using Plots"
   ]
  },
  {
   "cell_type": "code",
   "execution_count": null,
   "metadata": {
    "slideshow": {
     "slide_type": "slide"
    }
   },
   "outputs": [],
   "source": [
    "# initialize a 3D plot with 1 empty series\n",
    "plt = path3d(1, xlim=(-25,25), ylim=(-25,25), zlim=(0,50),\n",
    "                xlab = \"x\", ylab = \"y\", zlab = \"z\",\n",
    "                title = \"Lorenz Attractor\", marker = 1)\n",
    "\n",
    "# build an animated gif, saving every 10th frame\n",
    "@gif for i=1:n\n",
    "    global x, y, z = lorentzAttractor(x,y,z)\n",
    "    push!(plt, x, y, z)\n",
    "end every 100"
   ]
  },
  {
   "cell_type": "markdown",
   "metadata": {
    "slideshow": {
     "slide_type": "slide"
    }
   },
   "source": [
    "## More examples\n",
    "For more examples, see [Plots](http://docs.juliaplots.org/latest) documentation.\n",
    "- [PyPlot](http://docs.juliaplots.org/latest/examples/pyplot/)\n",
    "- [GR](http://docs.juliaplots.org/latest/examples/gr/)\n",
    "- [Plotly](http://docs.juliaplots.org/latest/examples/plotlyjs/)\n",
    "- etc."
   ]
  },
  {
   "cell_type": "markdown",
   "metadata": {},
   "source": [
    "### Exercise 4: Simple plots\n",
    "\n",
    "Given `x = -10:10` plot y vs. x for \n",
    "$\n",
    "y=x^2\n",
    "$"
   ]
  },
  {
   "cell_type": "code",
   "execution_count": null,
   "metadata": {},
   "outputs": [],
   "source": [
    "using Plots\n",
    "\n",
    "x = -10:10\n",
    "y = ...\n",
    "plot(...)"
   ]
  },
  {
   "cell_type": "markdown",
   "metadata": {},
   "source": [
    "### Exercise 5: Mount Bruno\n",
    "\n",
    "Let's visualize Mount Bruno! \n",
    "\n",
    "Read the 2D topological data of Mount Bruno from the file `../data/bruno.csv`. Next we need some plotting engine for `Plots`, I recommend `Plotly`/`PlotlyJS` for this task. As a final touch, see what `surface()` function can do with your array."
   ]
  },
  {
   "cell_type": "code",
   "execution_count": null,
   "metadata": {},
   "outputs": [],
   "source": []
  },
  {
   "cell_type": "markdown",
   "metadata": {},
   "source": [
    "## Exercise 6: Animating the simulation\n",
    "\n",
    "Let's create the animation in the first notebook. Epidemic.jl also defines the function `count_infections` and `count_deaths`. Read these and make sure you know what they do.\n",
    "\n",
    "Below is a skeleton code for constructing the plot. Fill in the missing detail. Feel free to play aroun with the code, but note that there are problems with animating just the left side, so don't be suprised if you see weird color issues.\n",
    "\n",
    "We use `@animate` instead of `@gif`, because it allows us to save it to a file. "
   ]
  },
  {
   "cell_type": "code",
   "execution_count": null,
   "metadata": {},
   "outputs": [],
   "source": [
    "# The following two lines load the epidemic functions from a file\n",
    "include(\"../epidemic.jl\")"
   ]
  },
  {
   "cell_type": "code",
   "execution_count": null,
   "metadata": {},
   "outputs": [],
   "source": [
    "using Plots\n",
    "\n",
    "# Set the size of the animation window\n",
    "default(size = (400, 300))\n",
    "\n",
    "# The map of plants (a 2D array)\n",
    "plants = make_plants(64, 64)\n",
    "# List the number of infections for each frame\n",
    "infections = [count_infections(plants)]\n",
    "# List the number of deaths for each frame\n",
    "deaths = [count_deaths(plants)]\n",
    "\n",
    "\"\"\" Build the animation in a function.\n",
    "    We run this in \n",
    "\"\"\"\n",
    "function animation(plants)\n",
    "    anim = @animate for i ∈ 1:50\n",
    "        # run update function here\n",
    "        ...\n",
    "        \n",
    "        # append the current number of infections and deaths to the two arrays\n",
    "        ...\n",
    "        \n",
    "        # Create a plot of the simulation (left side in the animation)\n",
    "        plot1 = plot(...)\n",
    "        # And a plot of the infection and death counts\n",
    "        plot2 = plot(...)\n",
    "        \n",
    "        # This will set up the layout:\n",
    "        l = @layout [a b]\n",
    "        \n",
    "        # And finally we combine the two plots with the layout\n",
    "        plot(plot1, plot2, layout = l)\n",
    "    end\n",
    "    return anim\n",
    "end\n",
    "\n",
    "# Save the animation as a gif\n",
    "gif(animation(plants), \"epidemic.gif\", fps = 5)"
   ]
  },
  {
   "cell_type": "markdown",
   "metadata": {
    "slideshow": {
     "slide_type": "slide"
    }
   },
   "source": [
    "## Summary\n",
    "\n",
    "Julia provides a powerful interoparability API for usage of various other languages.\n",
    "\n",
    "These rely on external libraries such as:\n",
    "- Python with [PyCall](https://github.com/JuliaPy/PyCall.jl)\n",
    "- R with [RCall](https://github.com/JuliaInterop/RCall.jl)\n",
    "\n",
    "Same functionality also allows to use many mature visualization libraries via Julia."
   ]
  }
 ],
 "metadata": {
  "celltoolbar": "Slideshow",
  "kernelspec": {
   "display_name": "Julia 1.6.2",
   "language": "julia",
   "name": "julia-1.6"
  },
  "language_info": {
   "file_extension": ".jl",
   "mimetype": "application/julia",
   "name": "julia",
   "version": "1.6.2"
  }
 },
 "nbformat": 4,
 "nbformat_minor": 4
}
