{
 "cells": [
  {
   "cell_type": "markdown",
   "metadata": {
    "slideshow": {
     "slide_type": "slide"
    }
   },
   "source": [
    "# Creating Packages\n"
   ]
  },
  {
   "cell_type": "markdown",
   "metadata": {
    "slideshow": {
     "slide_type": "fragment"
    }
   },
   "source": [
    "## Topics\n",
    "\n",
    "- modules\n",
    "- testing\n",
    "- packages\n",
    "- naming conventions\n",
    "- pretty functions\n",
    "- variable scope\n",
    "    - arrays as an exception"
   ]
  },
  {
   "cell_type": "markdown",
   "metadata": {},
   "source": [
    "## Modules\n",
    "\n",
    "Notebooks and the REPL are good for rapid development and testing things, but you may quickly find it limiting. Most of the time you want to develop any larger projects as modules and control scripts.\n",
    "\n",
    "Modules are used to store function and structures you need often. They can be shared accross projects. The packages we use are modules written by others and shared so that we can use them and develop them further.\n",
    "\n",
    "### Scripts\n",
    "\n",
    "Julia code placed in a .jl file can be executed on the command line.\n",
    "\n",
    "You can also `include()` the code like we did in the plotting exercises (Ex_05: Simulation).\n",
    "\n",
    "### Modules\n",
    "\n",
    "A module is a collection of functions and data structures. Generally the function and structs are tied together by a single purpose or work are useful in similar situations.\n",
    "\n",
    "To define a module called MyModule, you would create a file called `MyModule.jl` and write something like below:\n",
    "```julia\n",
    "module MyModule\n",
    "export mycoolfunction\n",
    "\n",
    "function mycoolfunction()\n",
    "   println(\"this is my cool function\")\n",
    "end\n",
    "function mysecretfunction()\n",
    "   println(\"this is my secret function\")\n",
    "end\n",
    "\n",
    "end\n",
    "```\n",
    "\n",
    "In fact this file is already in the currect directory."
   ]
  },
  {
   "cell_type": "code",
   "execution_count": 1,
   "metadata": {},
   "outputs": [],
   "source": [
    "# To use the module you need to first include the file:\n",
    "include(\"MyModule.jl\")\n",
    "\n",
    "# Mymodule is not a package, so \"using MyModule\" does not work, but it is in the\n",
    "# Main namespace, so\n",
    "using Main.MyModule "
   ]
  },
  {
   "cell_type": "markdown",
   "metadata": {},
   "source": [
    "When you load the module with the `using` keyword, the `export`ed names are pulled into the global namespace."
   ]
  },
  {
   "cell_type": "code",
   "execution_count": 2,
   "metadata": {},
   "outputs": [
    {
     "name": "stdout",
     "output_type": "stream",
     "text": [
      "this is my cool function\n"
     ]
    }
   ],
   "source": [
    "mycoolfunction()"
   ]
  },
  {
   "cell_type": "markdown",
   "metadata": {},
   "source": [
    "Other names are not in global namespace, but they can still be used:"
   ]
  },
  {
   "cell_type": "code",
   "execution_count": 3,
   "metadata": {},
   "outputs": [
    {
     "ename": "UndefVarError",
     "evalue": "UndefVarError: `mysecretfunction` not defined",
     "output_type": "error",
     "traceback": [
      "UndefVarError: `mysecretfunction` not defined\n",
      "\n",
      "Stacktrace:\n",
      " [1] top-level scope\n",
      "   @ c:\\Projects\\julia-introduction\\notebooks\\07_creating_packages.ipynb:2"
     ]
    }
   ],
   "source": [
    "# This will not work\n",
    "mysecretfunction()"
   ]
  },
  {
   "cell_type": "code",
   "execution_count": 4,
   "metadata": {},
   "outputs": [
    {
     "name": "stdout",
     "output_type": "stream",
     "text": [
      "this is my secret function\n"
     ]
    }
   ],
   "source": [
    "# But this will\n",
    "MyModule.mysecretfunction()"
   ]
  },
  {
   "cell_type": "markdown",
   "metadata": {},
   "source": [
    "#### Name Collision\n",
    "\n",
    "Sometimes different modules export things with the same name. Multiple dispatch can take care of multiple methods with the same name, but only if they use different types of input. The `import` method is useful here."
   ]
  },
  {
   "cell_type": "code",
   "execution_count": 5,
   "metadata": {},
   "outputs": [],
   "source": [
    "module MyOtherModule\n",
    "export mycoolfunction\n",
    "\n",
    "function mycoolfunction()\n",
    "   println(\"This is my other module\")\n",
    "end\n",
    "end\n",
    "\n",
    "import Main.MyOtherModule as other"
   ]
  },
  {
   "cell_type": "code",
   "execution_count": 6,
   "metadata": {},
   "outputs": [
    {
     "name": "stdout",
     "output_type": "stream",
     "text": [
      "this is my cool function\n"
     ]
    }
   ],
   "source": [
    "mycoolfunction()"
   ]
  },
  {
   "cell_type": "code",
   "execution_count": 7,
   "metadata": {},
   "outputs": [
    {
     "name": "stdout",
     "output_type": "stream",
     "text": [
      "This is my other module\n"
     ]
    }
   ],
   "source": [
    "other.mycoolfunction()"
   ]
  },
  {
   "cell_type": "markdown",
   "metadata": {},
   "source": [
    "### include()\n",
    "\n",
    "Using the include statement to spread your code\n",
    "into multiple files is a common and useful pattern.\n",
    "\n",
    "We could write the module above as\n",
    "\n",
    "```julia\n",
    "module MyModule\n",
    "export mycoolfunction\n",
    "\n",
    "inlude(\"mycoolfunction.jl\")\n",
    "inlude(\"mysecretfunction.jl\")\n",
    "\n",
    "end\n",
    "```\n",
    "\n",
    "Provided that the functions are defined in the given files.\n",
    "\n",
    "Don't overdo it, though.  This is a way to add structure to a big project. In this case the functions are not complicated and there is not reason to have them in a separate file."
   ]
  },
  {
   "cell_type": "markdown",
   "metadata": {},
   "source": [
    "## Packages\n",
    "\n",
    "Having to `include()` the file is a problem when you\n",
    "want to use the same code across projects. \n",
    "You would need to know the full path to each of your\n",
    "module files.\n",
    "\n",
    "Julia (and most other languages) solves this problem by tracking the files for you. Sets of module-files and related information are called packages. Julia also maintains dependencies between packages so that when you install one, it automatically downloads all the packages it needs.\n",
    "\n",
    "A package is a folder with\n",
    " - One or more module files\n",
    " - a `Project.toml`\n",
    "\n",
    "The `Project.toml` file contains some information about\n",
    "the package and a list of other packages your package\n",
    "depends on. The easiest way to go from a module file\n",
    "(or several module files) to a package is to use the\n",
    "Pkg module:"
   ]
  },
  {
   "cell_type": "code",
   "execution_count": 1,
   "metadata": {},
   "outputs": [
    {
     "name": "stderr",
     "output_type": "stream",
     "text": [
      "\u001b[32m\u001b[1m  Generating\u001b[22m\u001b[39m  project MyPackage:\n",
      "    MyPackage\\Project.toml\n",
      "    MyPackage\\src\\MyPackage.jl\n"
     ]
    },
    {
     "data": {
      "text/plain": [
       "Dict{String, Base.UUID} with 1 entry:\n",
       "  \"MyPackage\" => UUID(\"a0a80e5a-0a6d-4649-b1b3-906a0fc03f06\")"
      ]
     },
     "metadata": {},
     "output_type": "display_data"
    }
   ],
   "source": [
    "using Pkg\n",
    "Pkg.generate(\"MyPackage\")"
   ]
  },
  {
   "cell_type": "markdown",
   "metadata": {},
   "source": [
    "This creates a new `MyPackage` folder with the Project.toml file\n",
    "and a src directory for the module file. The src folder contains\n",
    "an automatically generated example project.\n",
    "\n",
    "Let's try it out. In the exercises you will create and edit a module, but here we are satisfied with using the example package."
   ]
  },
  {
   "cell_type": "code",
   "execution_count": 2,
   "metadata": {},
   "outputs": [
    {
     "name": "stderr",
     "output_type": "stream",
     "text": [
      "\u001b[32m\u001b[1m   Resolving\u001b[22m\u001b[39m package versions..."
     ]
    },
    {
     "name": "stderr",
     "output_type": "stream",
     "text": [
      "\n"
     ]
    },
    {
     "name": "stderr",
     "output_type": "stream",
     "text": [
      "\u001b[32m\u001b[1m    Updating\u001b[22m\u001b[39m `C:\\Projects\\julia-introduction\\Project.toml`\n",
      "  \u001b[90m[a0a80e5a] \u001b[39m\u001b[92m+ MyPackage v0.1.0 `notebooks\\MyPackage`\u001b[39m\n",
      "\u001b[32m\u001b[1m    Updating\u001b[22m\u001b[39m `C:\\Projects\\julia-introduction\\Manifest.toml`\n"
     ]
    },
    {
     "name": "stderr",
     "output_type": "stream",
     "text": [
      "  \u001b[90m[a0a80e5a] \u001b[39m\u001b[92m+ MyPackage v0.1.0 `notebooks\\MyPackage`\u001b[39m"
     ]
    },
    {
     "name": "stderr",
     "output_type": "stream",
     "text": [
      "\n"
     ]
    },
    {
     "name": "stdout",
     "output_type": "stream",
     "text": [
      "Hello World!"
     ]
    }
   ],
   "source": [
    "Pkg.develop(PackageSpec(path=\"MyPackage\"))\n",
    "using MyPackage\n",
    "MyPackage.greet()"
   ]
  },
  {
   "cell_type": "markdown",
   "metadata": {},
   "source": [
    "`Pkg.develop` is similar to `Pkg.add`, but it any changes we make \n",
    "to the package will take effect when you import or use the package. With `Pkg.add` you would need to manually reinstall."
   ]
  },
  {
   "cell_type": "markdown",
   "metadata": {},
   "source": [
    "## Development environments and dependencies\n",
    "\n",
    "The best way to track the packages you project depends on is to use \n",
    "Julia's built-in development environment manager.\n",
    "\n",
    "When a development environment is active, Julia will only see the packages installed inside that environment. The `project.toml` file is\n",
    "automatically updated whenever you install a new package.\n",
    "\n",
    "You can create an environment in any folder, it does not need to be a package. To do this, run\n",
    "```Julia\n",
    "Pkg.activate(\".\")\n",
    "```\n",
    "\n",
    "We can also activate the environment of our package by specifying its\n",
    "path."
   ]
  },
  {
   "cell_type": "code",
   "execution_count": null,
   "metadata": {},
   "outputs": [],
   "source": [
    "Pkg.activate(\"MyPackage\")\n",
    "# Now the plot package is no longer available, since it is not listed\n",
    "# in MyPackage/project.toml\n",
    "using Plots"
   ]
  },
  {
   "cell_type": "markdown",
   "metadata": {},
   "source": [
    "Now see what happens in when we install it:"
   ]
  },
  {
   "cell_type": "code",
   "execution_count": null,
   "metadata": {},
   "outputs": [],
   "source": [
    "Pkg.activate(\"MyPackage\")\n",
    "Pkg.add(\"Plots\")"
   ]
  },
  {
   "cell_type": "markdown",
   "metadata": {},
   "source": [
    "### Exercise 1: Create a package\n",
    "\n",
    "Create a package called \"Epidemic\". Use the `Pkg.generate` function and make it available using the `Pkg.develop` and the `PackageSpec` functions.\n",
    "\n",
    "Look through the files created."
   ]
  },
  {
   "cell_type": "code",
   "execution_count": 5,
   "metadata": {},
   "outputs": [
    {
     "name": "stderr",
     "output_type": "stream",
     "text": [
      "\u001b[32m\u001b[1m  Generating\u001b[22m\u001b[39m  project Epidemic:\n",
      "    Epidemic\\Project.toml\n",
      "    Epidemic\\src\\Epidemic.jl\n"
     ]
    },
    {
     "data": {
      "text/plain": [
       "Dict{String, Base.UUID} with 1 entry:\n",
       "  \"Epidemic\" => UUID(\"8ee5b7ce-2354-4344-9945-1073ab540ebf\")"
      ]
     },
     "metadata": {},
     "output_type": "display_data"
    }
   ],
   "source": [
    "using Pkg\n",
    "Pkg.generate(\"Epidemic\")"
   ]
  },
  {
   "cell_type": "code",
   "execution_count": 13,
   "metadata": {},
   "outputs": [
    {
     "name": "stderr",
     "output_type": "stream",
     "text": [
      "\u001b[32m\u001b[1m  Activating\u001b[22m\u001b[39m project at `c:\\Projects\\julia-introduction\\notebooks\\MyPackage`\n"
     ]
    },
    {
     "name": "stderr",
     "output_type": "stream",
     "text": [
      "\u001b[32m\u001b[1m   Resolving\u001b[22m\u001b[39m package versions...\n"
     ]
    },
    {
     "name": "stderr",
     "output_type": "stream",
     "text": [
      "\u001b[32m\u001b[1m    Updating\u001b[22m\u001b[39m `C:\\Projects\\julia-introduction\\notebooks\\MyPackage\\Project.toml`\n",
      "  \u001b[90m[8ee5b7ce] \u001b[39m\u001b[92m+ Epidemic v0.1.0 `..\\Epidemic`\u001b[39m\n",
      "\u001b[32m\u001b[1m    Updating\u001b[22m\u001b[39m `C:\\Projects\\julia-introduction\\notebooks\\MyPackage\\Manifest.toml`\n"
     ]
    },
    {
     "name": "stderr",
     "output_type": "stream",
     "text": [
      "  \u001b[90m[8ee5b7ce] \u001b[39m\u001b[92m+ Epidemic v0.1.0 `..\\Epidemic`\u001b[39m\n"
     ]
    }
   ],
   "source": [
    "Pkg.activate(\"MyPackage\")\n",
    "Pkg.develop(PackageSpec(path=\"Epidemic\"))"
   ]
  },
  {
   "cell_type": "markdown",
   "metadata": {},
   "source": [
    "Try activating the packages environment using `Pkg.activate(\"Epidemic\")`. Take a look at the `Project.toml` file.\n",
    "\n",
    "Then install the `Test` package and see how the `Project.toml` file changes."
   ]
  },
  {
   "cell_type": "code",
   "execution_count": null,
   "metadata": {},
   "outputs": [],
   "source": [
    "Pkg.activate(\"Epidemic\")"
   ]
  },
  {
   "cell_type": "code",
   "execution_count": null,
   "metadata": {},
   "outputs": [],
   "source": [
    "# Install the Plot package that will be needed for the simulation\n",
    "Pkg.add(\"Plots\")"
   ]
  },
  {
   "cell_type": "markdown",
   "metadata": {},
   "source": [
    "The file contains all the information necessary to reproduce install your package and all its dependencies."
   ]
  },
  {
   "cell_type": "markdown",
   "metadata": {},
   "source": [
    "### Exercise 2: Export\n",
    "\n",
    "The new package contains a function called `greet`, but it is not exported. If you use the package with the `using` keyword, the `greet` function does not get added to the global name space (but it can be used with the `.`-syntax.\n",
    "\n",
    "Export the `greet`-function from the module, so that it can be called directly in the global name space."
   ]
  },
  {
   "cell_type": "markdown",
   "metadata": {},
   "source": [
    "You should modify the file `Epidemic/src/Epidemic.jl`. Add a line with the `export` keyword."
   ]
  },
  {
   "cell_type": "code",
   "execution_count": 4,
   "metadata": {},
   "outputs": [
    {
     "name": "stdout",
     "output_type": "stream",
     "text": [
      "Hello World!"
     ]
    }
   ],
   "source": [
    "# Test your package by running this. The greet function should be found.\n",
    "using Epidemic\n",
    "greet()"
   ]
  },
  {
   "cell_type": "markdown",
   "metadata": {},
   "source": [
    "### Exercise 3: Epidemic\n",
    "\n",
    "Copy the functions and structs we have written for the epidemic simulation into `Epidemic/src/Epidemic.jl`. You can find these in `epidemic.jl` in the main folder.\n",
    "\n",
    "What do you need to export to be able to run a simulation?\n",
    "\n",
    "To see the changes, you unfortunately need to restart the kernel. After this, run\n",
    "```julia\n",
    "using Pkg\n",
    "Pkg.activate(\"Epidemic\")\n",
    "using Epidemic\n",
    "```\n",
    "\n",
    "Run a few simulation steps and show the result to make sure everything works."
   ]
  },
  {
   "cell_type": "code",
   "execution_count": 1,
   "metadata": {},
   "outputs": [
    {
     "name": "stderr",
     "output_type": "stream",
     "text": [
      "\u001b[32m\u001b[1m  Activating\u001b[22m\u001b[39m project at `c:\\Projects\\julia-introduction\\notebooks\\Epidemic`\n"
     ]
    }
   ],
   "source": [
    "using Pkg\n",
    "Pkg.activate(\"Epidemic\")\n",
    "using Epidemic"
   ]
  },
  {
   "cell_type": "code",
   "execution_count": 5,
   "metadata": {},
   "outputs": [
    {
     "name": "stdout",
     "output_type": "stream",
     "text": [
      "(plant1, plant2) = (◻, ◼)\n"
     ]
    }
   ],
   "source": [
    "plant1 = Plant(uninfected, 0)\n",
    "plant2 = Plant(infected, 0)"
   ]
  },
  {
   "cell_type": "code",
   "execution_count": 22,
   "metadata": {},
   "outputs": [],
   "source": [
    "plants = make_plants(32, 32, 0.2);"
   ]
  },
  {
   "cell_type": "code",
   "execution_count": 21,
   "metadata": {},
   "outputs": [
    {
     "data": {
      "image/svg+xml": [
       "<?xml version=\"1.0\" encoding=\"UTF-8\"?>\n",
       "<!DOCTYPE svg PUBLIC \"-//W3C//DTD SVG 1.1//EN\"\n",
       " \"http://www.w3.org/Graphics/SVG/1.1/DTD/svg11.dtd\">\n",
       "<svg xmlns=\"http://www.w3.org/2000/svg\" version=\"1.1\"\n",
       "     width=\"150mm\" height=\"150mm\"\n",
       "     viewBox=\"0 0 32 32\" preserveAspectRatio=\"none\"\n",
       "     shape-rendering=\"crispEdges\" stroke=\"none\">\n",
       "<rect width=\".79\" height=\".79\" x=\"0\" y=\"0\" fill=\"#00CC00\" />\n",
       "<rect width=\".79\" height=\".79\" x=\"1\" y=\"0\" fill=\"#00CC00\" />\n",
       "<rect width=\".79\" height=\".79\" x=\"2\" y=\"0\" fill=\"#00CC00\" />\n",
       "<rect width=\".79\" height=\".79\" x=\"3\" y=\"0\" fill=\"#00CC00\" />\n",
       "<rect width=\".79\" height=\".79\" x=\"4\" y=\"0\" fill=\"#00CC00\" />\n",
       "<rect width=\".79\" height=\".79\" x=\"5\" y=\"0\" fill=\"#00CC00\" />\n",
       "<rect width=\".79\" height=\".79\" x=\"6\" y=\"0\" fill=\"#00CC00\" />\n",
       "<rect width=\".79\" height=\".79\" x=\"7\" y=\"0\" fill=\"#00CC00\" />\n",
       "<rect width=\".79\" height=\".79\" x=\"8\" y=\"0\" fill=\"#00CC00\" />\n",
       "<rect width=\".79\" height=\".79\" x=\"9\" y=\"0\" fill=\"#3333FF\" />\n",
       "<rect width=\".79\" height=\".79\" x=\"10\" y=\"0\" fill=\"#3333FF\" />\n",
       "<rect width=\".79\" height=\".79\" x=\"11\" y=\"0\" fill=\"#3333FF\" />\n",
       "<rect width=\".79\" height=\".79\" x=\"12\" y=\"0\" fill=\"#00CC00\" />\n",
       "<rect width=\".79\" height=\".79\" x=\"13\" y=\"0\" fill=\"#3333FF\" />\n",
       "<rect width=\".79\" height=\".79\" x=\"14\" y=\"0\" fill=\"#00CC00\" />\n",
       "<rect width=\".79\" height=\".79\" x=\"15\" y=\"0\" fill=\"#00CC00\" />\n",
       "<rect width=\".79\" height=\".79\" x=\"16\" y=\"0\" fill=\"#00CC00\" />\n",
       "<rect width=\".79\" height=\".79\" x=\"17\" y=\"0\" fill=\"#00CC00\" />\n",
       "<rect width=\".79\" height=\".79\" x=\"18\" y=\"0\" fill=\"#00CC00\" />\n",
       "<rect width=\".79\" height=\".79\" x=\"19\" y=\"0\" fill=\"#3333FF\" />\n",
       "<rect width=\".79\" height=\".79\" x=\"20\" y=\"0\" fill=\"#00CC00\" />\n",
       "<rect width=\".79\" height=\".79\" x=\"21\" y=\"0\" fill=\"#00CC00\" />\n",
       "<rect width=\".79\" height=\".79\" x=\"22\" y=\"0\" fill=\"#00CC00\" />\n",
       "<rect width=\".79\" height=\".79\" x=\"23\" y=\"0\" fill=\"#00CC00\" />\n",
       "<rect width=\".79\" height=\".79\" x=\"24\" y=\"0\" fill=\"#00CC00\" />\n",
       "<rect width=\".79\" height=\".79\" x=\"25\" y=\"0\" fill=\"#00CC00\" />\n",
       "<rect width=\".79\" height=\".79\" x=\"26\" y=\"0\" fill=\"#00CC00\" />\n",
       "<rect width=\".79\" height=\".79\" x=\"27\" y=\"0\" fill=\"#00CC00\" />\n",
       "<rect width=\".79\" height=\".79\" x=\"28\" y=\"0\" fill=\"#00CC00\" />\n",
       "<rect width=\".79\" height=\".79\" x=\"29\" y=\"0\" fill=\"#3333FF\" />\n",
       "<rect width=\".79\" height=\".79\" x=\"30\" y=\"0\" fill=\"#00CC00\" />\n",
       "<rect width=\".79\" height=\".79\" x=\"31\" y=\"0\" fill=\"#00CC00\" />\n",
       "<rect width=\".79\" height=\".79\" x=\"0\" y=\"1\" fill=\"#00CC00\" />\n",
       "<rect width=\".79\" height=\".79\" x=\"1\" y=\"1\" fill=\"#3333FF\" />\n",
       "<rect width=\".79\" height=\".79\" x=\"2\" y=\"1\" fill=\"#00CC00\" />\n",
       "<rect width=\".79\" height=\".79\" x=\"3\" y=\"1\" fill=\"#00CC00\" />\n",
       "<rect width=\".79\" height=\".79\" x=\"4\" y=\"1\" fill=\"#00CC00\" />\n",
       "<rect width=\".79\" height=\".79\" x=\"5\" y=\"1\" fill=\"#00CC00\" />\n",
       "<rect width=\".79\" height=\".79\" x=\"6\" y=\"1\" fill=\"#00CC00\" />\n",
       "<rect width=\".79\" height=\".79\" x=\"7\" y=\"1\" fill=\"#00CC00\" />\n",
       "<rect width=\".79\" height=\".79\" x=\"8\" y=\"1\" fill=\"#3333FF\" />\n",
       "<rect width=\".79\" height=\".79\" x=\"9\" y=\"1\" fill=\"#3333FF\" />\n",
       "<rect width=\".79\" height=\".79\" x=\"10\" y=\"1\" fill=\"#00CC00\" />\n",
       "<rect width=\".79\" height=\".79\" x=\"11\" y=\"1\" fill=\"#3333FF\" />\n",
       "<rect width=\".79\" height=\".79\" x=\"12\" y=\"1\" fill=\"#00CC00\" />\n",
       "<rect width=\".79\" height=\".79\" x=\"13\" y=\"1\" fill=\"#00CC00\" />\n",
       "<rect width=\".79\" height=\".79\" x=\"14\" y=\"1\" fill=\"#00CC00\" />\n",
       "<rect width=\".79\" height=\".79\" x=\"15\" y=\"1\" fill=\"#3333FF\" />\n",
       "<rect width=\".79\" height=\".79\" x=\"16\" y=\"1\" fill=\"#00CC00\" />\n",
       "<rect width=\".79\" height=\".79\" x=\"17\" y=\"1\" fill=\"#00CC00\" />\n",
       "<rect width=\".79\" height=\".79\" x=\"18\" y=\"1\" fill=\"#00CC00\" />\n",
       "<rect width=\".79\" height=\".79\" x=\"19\" y=\"1\" fill=\"#00CC00\" />\n",
       "<rect width=\".79\" height=\".79\" x=\"20\" y=\"1\" fill=\"#00CC00\" />\n",
       "<rect width=\".79\" height=\".79\" x=\"21\" y=\"1\" fill=\"#00CC00\" />\n",
       "<rect width=\".79\" height=\".79\" x=\"22\" y=\"1\" fill=\"#00CC00\" />\n",
       "<rect width=\".79\" height=\".79\" x=\"23\" y=\"1\" fill=\"#00CC00\" />\n",
       "<rect width=\".79\" height=\".79\" x=\"24\" y=\"1\" fill=\"#3333FF\" />\n",
       "<rect width=\".79\" height=\".79\" x=\"25\" y=\"1\" fill=\"#00CC00\" />\n",
       "<rect width=\".79\" height=\".79\" x=\"26\" y=\"1\" fill=\"#00CC00\" />\n",
       "<rect width=\".79\" height=\".79\" x=\"27\" y=\"1\" fill=\"#00CC00\" />\n",
       "<rect width=\".79\" height=\".79\" x=\"28\" y=\"1\" fill=\"#3333FF\" />\n",
       "<rect width=\".79\" height=\".79\" x=\"29\" y=\"1\" fill=\"#00CC00\" />\n",
       "<rect width=\".79\" height=\".79\" x=\"30\" y=\"1\" fill=\"#00CC00\" />\n",
       "<rect width=\".79\" height=\".79\" x=\"31\" y=\"1\" fill=\"#00CC00\" />\n",
       "<rect width=\".79\" height=\".79\" x=\"0\" y=\"2\" fill=\"#00CC00\" />\n",
       "<rect width=\".79\" height=\".79\" x=\"1\" y=\"2\" fill=\"#00CC00\" />\n",
       "<rect width=\".79\" height=\".79\" x=\"2\" y=\"2\" fill=\"#00CC00\" />\n",
       "<rect width=\".79\" height=\".79\" x=\"3\" y=\"2\" fill=\"#3333FF\" />\n",
       "<rect width=\".79\" height=\".79\" x=\"4\" y=\"2\" fill=\"#00CC00\" />\n",
       "<rect width=\".79\" height=\".79\" x=\"5\" y=\"2\" fill=\"#00CC00\" />\n",
       "<rect width=\".79\" height=\".79\" x=\"6\" y=\"2\" fill=\"#00CC00\" />\n",
       "<rect width=\".79\" height=\".79\" x=\"7\" y=\"2\" fill=\"#00CC00\" />\n",
       "<rect width=\".79\" height=\".79\" x=\"8\" y=\"2\" fill=\"#00CC00\" />\n",
       "<rect width=\".79\" height=\".79\" x=\"9\" y=\"2\" fill=\"#3333FF\" />\n",
       "<rect width=\".79\" height=\".79\" x=\"10\" y=\"2\" fill=\"#00CC00\" />\n",
       "<rect width=\".79\" height=\".79\" x=\"11\" y=\"2\" fill=\"#3333FF\" />\n",
       "<rect width=\".79\" height=\".79\" x=\"12\" y=\"2\" fill=\"#3333FF\" />\n",
       "<rect width=\".79\" height=\".79\" x=\"13\" y=\"2\" fill=\"#00CC00\" />\n",
       "<rect width=\".79\" height=\".79\" x=\"14\" y=\"2\" fill=\"#3333FF\" />\n",
       "<rect width=\".79\" height=\".79\" x=\"15\" y=\"2\" fill=\"#00CC00\" />\n",
       "<rect width=\".79\" height=\".79\" x=\"16\" y=\"2\" fill=\"#3333FF\" />\n",
       "<rect width=\".79\" height=\".79\" x=\"17\" y=\"2\" fill=\"#00CC00\" />\n",
       "<rect width=\".79\" height=\".79\" x=\"18\" y=\"2\" fill=\"#00CC00\" />\n",
       "<rect width=\".79\" height=\".79\" x=\"19\" y=\"2\" fill=\"#00CC00\" />\n",
       "<rect width=\".79\" height=\".79\" x=\"20\" y=\"2\" fill=\"#3333FF\" />\n",
       "<rect width=\".79\" height=\".79\" x=\"21\" y=\"2\" fill=\"#00CC00\" />\n",
       "<rect width=\".79\" height=\".79\" x=\"22\" y=\"2\" fill=\"#00CC00\" />\n",
       "<rect width=\".79\" height=\".79\" x=\"23\" y=\"2\" fill=\"#00CC00\" />\n",
       "<rect width=\".79\" height=\".79\" x=\"24\" y=\"2\" fill=\"#00CC00\" />\n",
       "<rect width=\".79\" height=\".79\" x=\"25\" y=\"2\" fill=\"#00CC00\" />\n",
       "<rect width=\".79\" height=\".79\" x=\"26\" y=\"2\" fill=\"#00CC00\" />\n",
       "<rect width=\".79\" height=\".79\" x=\"27\" y=\"2\" fill=\"#3333FF\" />\n",
       "<rect width=\".79\" height=\".79\" x=\"28\" y=\"2\" fill=\"#3333FF\" />\n",
       "<rect width=\".79\" height=\".79\" x=\"29\" y=\"2\" fill=\"#00CC00\" />\n",
       "<rect width=\".79\" height=\".79\" x=\"30\" y=\"2\" fill=\"#00CC00\" />\n",
       "<rect width=\".79\" height=\".79\" x=\"31\" y=\"2\" fill=\"#3333FF\" />\n",
       "<rect width=\".79\" height=\".79\" x=\"0\" y=\"3\" fill=\"#00CC00\" />\n",
       "<rect width=\".79\" height=\".79\" x=\"1\" y=\"3\" fill=\"#00CC00\" />\n",
       "<rect width=\".79\" height=\".79\" x=\"2\" y=\"3\" fill=\"#00CC00\" />\n",
       "<rect width=\".79\" height=\".79\" x=\"3\" y=\"3\" fill=\"#00CC00\" />\n",
       "<rect width=\".79\" height=\".79\" x=\"4\" y=\"3\" fill=\"#00CC00\" />\n",
       "<rect width=\".79\" height=\".79\" x=\"5\" y=\"3\" fill=\"#00CC00\" />\n",
       "<rect width=\".79\" height=\".79\" x=\"6\" y=\"3\" fill=\"#00CC00\" />\n",
       "<rect width=\".79\" height=\".79\" x=\"7\" y=\"3\" fill=\"#00CC00\" />\n",
       "<rect width=\".79\" height=\".79\" x=\"8\" y=\"3\" fill=\"#00CC00\" />\n",
       "<rect width=\".79\" height=\".79\" x=\"9\" y=\"3\" fill=\"#00CC00\" />\n",
       "<rect width=\".79\" height=\".79\" x=\"10\" y=\"3\" fill=\"#00CC00\" />\n",
       "<rect width=\".79\" height=\".79\" x=\"11\" y=\"3\" fill=\"#3333FF\" />\n",
       "<rect width=\".79\" height=\".79\" x=\"12\" y=\"3\" fill=\"#3333FF\" />\n",
       "<rect width=\".79\" height=\".79\" x=\"13\" y=\"3\" fill=\"#00CC00\" />\n",
       "<rect width=\".79\" height=\".79\" x=\"14\" y=\"3\" fill=\"#00CC00\" />\n",
       "<rect width=\".79\" height=\".79\" x=\"15\" y=\"3\" fill=\"#00CC00\" />\n",
       "<rect width=\".79\" height=\".79\" x=\"16\" y=\"3\" fill=\"#00CC00\" />\n",
       "<rect width=\".79\" height=\".79\" x=\"17\" y=\"3\" fill=\"#3333FF\" />\n",
       "<rect width=\".79\" height=\".79\" x=\"18\" y=\"3\" fill=\"#3333FF\" />\n",
       "<rect width=\".79\" height=\".79\" x=\"19\" y=\"3\" fill=\"#3333FF\" />\n",
       "<rect width=\".79\" height=\".79\" x=\"20\" y=\"3\" fill=\"#00CC00\" />\n",
       "<rect width=\".79\" height=\".79\" x=\"21\" y=\"3\" fill=\"#00CC00\" />\n",
       "<rect width=\".79\" height=\".79\" x=\"22\" y=\"3\" fill=\"#3333FF\" />\n",
       "<rect width=\".79\" height=\".79\" x=\"23\" y=\"3\" fill=\"#00CC00\" />\n",
       "<rect width=\".79\" height=\".79\" x=\"24\" y=\"3\" fill=\"#00CC00\" />\n",
       "<rect width=\".79\" height=\".79\" x=\"25\" y=\"3\" fill=\"#00CC00\" />\n",
       "<rect width=\".79\" height=\".79\" x=\"26\" y=\"3\" fill=\"#00CC00\" />\n",
       "<rect width=\".79\" height=\".79\" x=\"27\" y=\"3\" fill=\"#00CC00\" />\n",
       "<rect width=\".79\" height=\".79\" x=\"28\" y=\"3\" fill=\"#00CC00\" />\n",
       "<rect width=\".79\" height=\".79\" x=\"29\" y=\"3\" fill=\"#00CC00\" />\n",
       "<rect width=\".79\" height=\".79\" x=\"30\" y=\"3\" fill=\"#00CC00\" />\n",
       "<rect width=\".79\" height=\".79\" x=\"31\" y=\"3\" fill=\"#3333FF\" />\n",
       "<rect width=\".79\" height=\".79\" x=\"0\" y=\"4\" fill=\"#3333FF\" />\n",
       "<rect width=\".79\" height=\".79\" x=\"1\" y=\"4\" fill=\"#00CC00\" />\n",
       "<rect width=\".79\" height=\".79\" x=\"2\" y=\"4\" fill=\"#00CC00\" />\n",
       "<rect width=\".79\" height=\".79\" x=\"3\" y=\"4\" fill=\"#3333FF\" />\n",
       "<rect width=\".79\" height=\".79\" x=\"4\" y=\"4\" fill=\"#00CC00\" />\n",
       "<rect width=\".79\" height=\".79\" x=\"5\" y=\"4\" fill=\"#00CC00\" />\n",
       "<rect width=\".79\" height=\".79\" x=\"6\" y=\"4\" fill=\"#00CC00\" />\n",
       "<rect width=\".79\" height=\".79\" x=\"7\" y=\"4\" fill=\"#00CC00\" />\n",
       "<rect width=\".79\" height=\".79\" x=\"8\" y=\"4\" fill=\"#00CC00\" />\n",
       "<rect width=\".79\" height=\".79\" x=\"9\" y=\"4\" fill=\"#00CC00\" />\n",
       "<rect width=\".79\" height=\".79\" x=\"10\" y=\"4\" fill=\"#00CC00\" />\n",
       "<rect width=\".79\" height=\".79\" x=\"11\" y=\"4\" fill=\"#00CC00\" />\n",
       "<rect width=\".79\" height=\".79\" x=\"12\" y=\"4\" fill=\"#00CC00\" />\n",
       "<rect width=\".79\" height=\".79\" x=\"13\" y=\"4\" fill=\"#3333FF\" />\n",
       "<rect width=\".79\" height=\".79\" x=\"14\" y=\"4\" fill=\"#00CC00\" />\n",
       "<rect width=\".79\" height=\".79\" x=\"15\" y=\"4\" fill=\"#00CC00\" />\n",
       "<rect width=\".79\" height=\".79\" x=\"16\" y=\"4\" fill=\"#00CC00\" />\n",
       "<rect width=\".79\" height=\".79\" x=\"17\" y=\"4\" fill=\"#00CC00\" />\n",
       "<rect width=\".79\" height=\".79\" x=\"18\" y=\"4\" fill=\"#3333FF\" />\n",
       "<rect width=\".79\" height=\".79\" x=\"19\" y=\"4\" fill=\"#3333FF\" />\n",
       "<rect width=\".79\" height=\".79\" x=\"20\" y=\"4\" fill=\"#00CC00\" />\n",
       "<rect width=\".79\" height=\".79\" x=\"21\" y=\"4\" fill=\"#00CC00\" />\n",
       "<rect width=\".79\" height=\".79\" x=\"22\" y=\"4\" fill=\"#3333FF\" />\n",
       "<rect width=\".79\" height=\".79\" x=\"23\" y=\"4\" fill=\"#00CC00\" />\n",
       "<rect width=\".79\" height=\".79\" x=\"24\" y=\"4\" fill=\"#00CC00\" />\n",
       "<rect width=\".79\" height=\".79\" x=\"25\" y=\"4\" fill=\"#00CC00\" />\n",
       "<rect width=\".79\" height=\".79\" x=\"26\" y=\"4\" fill=\"#00CC00\" />\n",
       "<rect width=\".79\" height=\".79\" x=\"27\" y=\"4\" fill=\"#3333FF\" />\n",
       "<rect width=\".79\" height=\".79\" x=\"28\" y=\"4\" fill=\"#00CC00\" />\n",
       "<rect width=\".79\" height=\".79\" x=\"29\" y=\"4\" fill=\"#3333FF\" />\n",
       "<rect width=\".79\" height=\".79\" x=\"30\" y=\"4\" fill=\"#3333FF\" />\n",
       "<rect width=\".79\" height=\".79\" x=\"31\" y=\"4\" fill=\"#00CC00\" />\n",
       "<rect width=\".79\" height=\".79\" x=\"0\" y=\"5\" fill=\"#00CC00\" />\n",
       "<rect width=\".79\" height=\".79\" x=\"1\" y=\"5\" fill=\"#00CC00\" />\n",
       "<rect width=\".79\" height=\".79\" x=\"2\" y=\"5\" fill=\"#00CC00\" />\n",
       "<rect width=\".79\" height=\".79\" x=\"3\" y=\"5\" fill=\"#00CC00\" />\n",
       "<rect width=\".79\" height=\".79\" x=\"4\" y=\"5\" fill=\"#00CC00\" />\n",
       "<rect width=\".79\" height=\".79\" x=\"5\" y=\"5\" fill=\"#00CC00\" />\n",
       "<rect width=\".79\" height=\".79\" x=\"6\" y=\"5\" fill=\"#00CC00\" />\n",
       "<rect width=\".79\" height=\".79\" x=\"7\" y=\"5\" fill=\"#00CC00\" />\n",
       "<rect width=\".79\" height=\".79\" x=\"8\" y=\"5\" fill=\"#00CC00\" />\n",
       "<rect width=\".79\" height=\".79\" x=\"9\" y=\"5\" fill=\"#00CC00\" />\n",
       "<rect width=\".79\" height=\".79\" x=\"10\" y=\"5\" fill=\"#00CC00\" />\n",
       "<rect width=\".79\" height=\".79\" x=\"11\" y=\"5\" fill=\"#00CC00\" />\n",
       "<rect width=\".79\" height=\".79\" x=\"12\" y=\"5\" fill=\"#3333FF\" />\n",
       "<rect width=\".79\" height=\".79\" x=\"13\" y=\"5\" fill=\"#00CC00\" />\n",
       "<rect width=\".79\" height=\".79\" x=\"14\" y=\"5\" fill=\"#3333FF\" />\n",
       "<rect width=\".79\" height=\".79\" x=\"15\" y=\"5\" fill=\"#00CC00\" />\n",
       "<rect width=\".79\" height=\".79\" x=\"16\" y=\"5\" fill=\"#00CC00\" />\n",
       "<rect width=\".79\" height=\".79\" x=\"17\" y=\"5\" fill=\"#00CC00\" />\n",
       "<rect width=\".79\" height=\".79\" x=\"18\" y=\"5\" fill=\"#00CC00\" />\n",
       "<rect width=\".79\" height=\".79\" x=\"19\" y=\"5\" fill=\"#00CC00\" />\n",
       "<rect width=\".79\" height=\".79\" x=\"20\" y=\"5\" fill=\"#00CC00\" />\n",
       "<rect width=\".79\" height=\".79\" x=\"21\" y=\"5\" fill=\"#00CC00\" />\n",
       "<rect width=\".79\" height=\".79\" x=\"22\" y=\"5\" fill=\"#3333FF\" />\n",
       "<rect width=\".79\" height=\".79\" x=\"23\" y=\"5\" fill=\"#00CC00\" />\n",
       "<rect width=\".79\" height=\".79\" x=\"24\" y=\"5\" fill=\"#00CC00\" />\n",
       "<rect width=\".79\" height=\".79\" x=\"25\" y=\"5\" fill=\"#00CC00\" />\n",
       "<rect width=\".79\" height=\".79\" x=\"26\" y=\"5\" fill=\"#00CC00\" />\n",
       "<rect width=\".79\" height=\".79\" x=\"27\" y=\"5\" fill=\"#00CC00\" />\n",
       "<rect width=\".79\" height=\".79\" x=\"28\" y=\"5\" fill=\"#00CC00\" />\n",
       "<rect width=\".79\" height=\".79\" x=\"29\" y=\"5\" fill=\"#00CC00\" />\n",
       "<rect width=\".79\" height=\".79\" x=\"30\" y=\"5\" fill=\"#00CC00\" />\n",
       "<rect width=\".79\" height=\".79\" x=\"31\" y=\"5\" fill=\"#00CC00\" />\n",
       "<rect width=\".79\" height=\".79\" x=\"0\" y=\"6\" fill=\"#3333FF\" />\n",
       "<rect width=\".79\" height=\".79\" x=\"1\" y=\"6\" fill=\"#00CC00\" />\n",
       "<rect width=\".79\" height=\".79\" x=\"2\" y=\"6\" fill=\"#00CC00\" />\n",
       "<rect width=\".79\" height=\".79\" x=\"3\" y=\"6\" fill=\"#3333FF\" />\n",
       "<rect width=\".79\" height=\".79\" x=\"4\" y=\"6\" fill=\"#00CC00\" />\n",
       "<rect width=\".79\" height=\".79\" x=\"5\" y=\"6\" fill=\"#00CC00\" />\n",
       "<rect width=\".79\" height=\".79\" x=\"6\" y=\"6\" fill=\"#3333FF\" />\n",
       "<rect width=\".79\" height=\".79\" x=\"7\" y=\"6\" fill=\"#00CC00\" />\n",
       "<rect width=\".79\" height=\".79\" x=\"8\" y=\"6\" fill=\"#00CC00\" />\n",
       "<rect width=\".79\" height=\".79\" x=\"9\" y=\"6\" fill=\"#3333FF\" />\n",
       "<rect width=\".79\" height=\".79\" x=\"10\" y=\"6\" fill=\"#00CC00\" />\n",
       "<rect width=\".79\" height=\".79\" x=\"11\" y=\"6\" fill=\"#00CC00\" />\n",
       "<rect width=\".79\" height=\".79\" x=\"12\" y=\"6\" fill=\"#00CC00\" />\n",
       "<rect width=\".79\" height=\".79\" x=\"13\" y=\"6\" fill=\"#00CC00\" />\n",
       "<rect width=\".79\" height=\".79\" x=\"14\" y=\"6\" fill=\"#00CC00\" />\n",
       "<rect width=\".79\" height=\".79\" x=\"15\" y=\"6\" fill=\"#00CC00\" />\n",
       "<rect width=\".79\" height=\".79\" x=\"16\" y=\"6\" fill=\"#00CC00\" />\n",
       "<rect width=\".79\" height=\".79\" x=\"17\" y=\"6\" fill=\"#00CC00\" />\n",
       "<rect width=\".79\" height=\".79\" x=\"18\" y=\"6\" fill=\"#00CC00\" />\n",
       "<rect width=\".79\" height=\".79\" x=\"19\" y=\"6\" fill=\"#00CC00\" />\n",
       "<rect width=\".79\" height=\".79\" x=\"20\" y=\"6\" fill=\"#00CC00\" />\n",
       "<rect width=\".79\" height=\".79\" x=\"21\" y=\"6\" fill=\"#00CC00\" />\n",
       "<rect width=\".79\" height=\".79\" x=\"22\" y=\"6\" fill=\"#00CC00\" />\n",
       "<rect width=\".79\" height=\".79\" x=\"23\" y=\"6\" fill=\"#00CC00\" />\n",
       "<rect width=\".79\" height=\".79\" x=\"24\" y=\"6\" fill=\"#3333FF\" />\n",
       "<rect width=\".79\" height=\".79\" x=\"25\" y=\"6\" fill=\"#00CC00\" />\n",
       "<rect width=\".79\" height=\".79\" x=\"26\" y=\"6\" fill=\"#00CC00\" />\n",
       "<rect width=\".79\" height=\".79\" x=\"27\" y=\"6\" fill=\"#3333FF\" />\n",
       "<rect width=\".79\" height=\".79\" x=\"28\" y=\"6\" fill=\"#00CC00\" />\n",
       "<rect width=\".79\" height=\".79\" x=\"29\" y=\"6\" fill=\"#00CC00\" />\n",
       "<rect width=\".79\" height=\".79\" x=\"30\" y=\"6\" fill=\"#00CC00\" />\n",
       "<rect width=\".79\" height=\".79\" x=\"31\" y=\"6\" fill=\"#00CC00\" />\n",
       "<rect width=\".79\" height=\".79\" x=\"0\" y=\"7\" fill=\"#3333FF\" />\n",
       "<rect width=\".79\" height=\".79\" x=\"1\" y=\"7\" fill=\"#00CC00\" />\n",
       "<rect width=\".79\" height=\".79\" x=\"2\" y=\"7\" fill=\"#00CC00\" />\n",
       "<rect width=\".79\" height=\".79\" x=\"3\" y=\"7\" fill=\"#3333FF\" />\n",
       "<rect width=\".79\" height=\".79\" x=\"4\" y=\"7\" fill=\"#3333FF\" />\n",
       "<rect width=\".79\" height=\".79\" x=\"5\" y=\"7\" fill=\"#3333FF\" />\n",
       "<rect width=\".79\" height=\".79\" x=\"6\" y=\"7\" fill=\"#3333FF\" />\n",
       "<rect width=\".79\" height=\".79\" x=\"7\" y=\"7\" fill=\"#00CC00\" />\n",
       "<rect width=\".79\" height=\".79\" x=\"8\" y=\"7\" fill=\"#00CC00\" />\n",
       "<rect width=\".79\" height=\".79\" x=\"9\" y=\"7\" fill=\"#00CC00\" />\n",
       "<rect width=\".79\" height=\".79\" x=\"10\" y=\"7\" fill=\"#00CC00\" />\n",
       "<rect width=\".79\" height=\".79\" x=\"11\" y=\"7\" fill=\"#3333FF\" />\n",
       "<rect width=\".79\" height=\".79\" x=\"12\" y=\"7\" fill=\"#3333FF\" />\n",
       "<rect width=\".79\" height=\".79\" x=\"13\" y=\"7\" fill=\"#00CC00\" />\n",
       "<rect width=\".79\" height=\".79\" x=\"14\" y=\"7\" fill=\"#3333FF\" />\n",
       "<rect width=\".79\" height=\".79\" x=\"15\" y=\"7\" fill=\"#00CC00\" />\n",
       "<rect width=\".79\" height=\".79\" x=\"16\" y=\"7\" fill=\"#00CC00\" />\n",
       "<rect width=\".79\" height=\".79\" x=\"17\" y=\"7\" fill=\"#00CC00\" />\n",
       "<rect width=\".79\" height=\".79\" x=\"18\" y=\"7\" fill=\"#00CC00\" />\n",
       "<rect width=\".79\" height=\".79\" x=\"19\" y=\"7\" fill=\"#00CC00\" />\n",
       "<rect width=\".79\" height=\".79\" x=\"20\" y=\"7\" fill=\"#00CC00\" />\n",
       "<rect width=\".79\" height=\".79\" x=\"21\" y=\"7\" fill=\"#3333FF\" />\n",
       "<rect width=\".79\" height=\".79\" x=\"22\" y=\"7\" fill=\"#00CC00\" />\n",
       "<rect width=\".79\" height=\".79\" x=\"23\" y=\"7\" fill=\"#3333FF\" />\n",
       "<rect width=\".79\" height=\".79\" x=\"24\" y=\"7\" fill=\"#00CC00\" />\n",
       "<rect width=\".79\" height=\".79\" x=\"25\" y=\"7\" fill=\"#00CC00\" />\n",
       "<rect width=\".79\" height=\".79\" x=\"26\" y=\"7\" fill=\"#00CC00\" />\n",
       "<rect width=\".79\" height=\".79\" x=\"27\" y=\"7\" fill=\"#3333FF\" />\n",
       "<rect width=\".79\" height=\".79\" x=\"28\" y=\"7\" fill=\"#00CC00\" />\n",
       "<rect width=\".79\" height=\".79\" x=\"29\" y=\"7\" fill=\"#00CC00\" />\n",
       "<rect width=\".79\" height=\".79\" x=\"30\" y=\"7\" fill=\"#00CC00\" />\n",
       "<rect width=\".79\" height=\".79\" x=\"31\" y=\"7\" fill=\"#00CC00\" />\n",
       "<rect width=\".79\" height=\".79\" x=\"0\" y=\"8\" fill=\"#3333FF\" />\n",
       "<rect width=\".79\" height=\".79\" x=\"1\" y=\"8\" fill=\"#00CC00\" />\n",
       "<rect width=\".79\" height=\".79\" x=\"2\" y=\"8\" fill=\"#00CC00\" />\n",
       "<rect width=\".79\" height=\".79\" x=\"3\" y=\"8\" fill=\"#3333FF\" />\n",
       "<rect width=\".79\" height=\".79\" x=\"4\" y=\"8\" fill=\"#00CC00\" />\n",
       "<rect width=\".79\" height=\".79\" x=\"5\" y=\"8\" fill=\"#00CC00\" />\n",
       "<rect width=\".79\" height=\".79\" x=\"6\" y=\"8\" fill=\"#00CC00\" />\n",
       "<rect width=\".79\" height=\".79\" x=\"7\" y=\"8\" fill=\"#00CC00\" />\n",
       "<rect width=\".79\" height=\".79\" x=\"8\" y=\"8\" fill=\"#00CC00\" />\n",
       "<rect width=\".79\" height=\".79\" x=\"9\" y=\"8\" fill=\"#00CC00\" />\n",
       "<rect width=\".79\" height=\".79\" x=\"10\" y=\"8\" fill=\"#00CC00\" />\n",
       "<rect width=\".79\" height=\".79\" x=\"11\" y=\"8\" fill=\"#00CC00\" />\n",
       "<rect width=\".79\" height=\".79\" x=\"12\" y=\"8\" fill=\"#00CC00\" />\n",
       "<rect width=\".79\" height=\".79\" x=\"13\" y=\"8\" fill=\"#3333FF\" />\n",
       "<rect width=\".79\" height=\".79\" x=\"14\" y=\"8\" fill=\"#00CC00\" />\n",
       "<rect width=\".79\" height=\".79\" x=\"15\" y=\"8\" fill=\"#00CC00\" />\n",
       "<rect width=\".79\" height=\".79\" x=\"16\" y=\"8\" fill=\"#00CC00\" />\n",
       "<rect width=\".79\" height=\".79\" x=\"17\" y=\"8\" fill=\"#00CC00\" />\n",
       "<rect width=\".79\" height=\".79\" x=\"18\" y=\"8\" fill=\"#00CC00\" />\n",
       "<rect width=\".79\" height=\".79\" x=\"19\" y=\"8\" fill=\"#00CC00\" />\n",
       "<rect width=\".79\" height=\".79\" x=\"20\" y=\"8\" fill=\"#00CC00\" />\n",
       "<rect width=\".79\" height=\".79\" x=\"21\" y=\"8\" fill=\"#00CC00\" />\n",
       "<rect width=\".79\" height=\".79\" x=\"22\" y=\"8\" fill=\"#00CC00\" />\n",
       "<rect width=\".79\" height=\".79\" x=\"23\" y=\"8\" fill=\"#3333FF\" />\n",
       "<rect width=\".79\" height=\".79\" x=\"24\" y=\"8\" fill=\"#00CC00\" />\n",
       "<rect width=\".79\" height=\".79\" x=\"25\" y=\"8\" fill=\"#00CC00\" />\n",
       "<rect width=\".79\" height=\".79\" x=\"26\" y=\"8\" fill=\"#00CC00\" />\n",
       "<rect width=\".79\" height=\".79\" x=\"27\" y=\"8\" fill=\"#00CC00\" />\n",
       "<rect width=\".79\" height=\".79\" x=\"28\" y=\"8\" fill=\"#3333FF\" />\n",
       "<rect width=\".79\" height=\".79\" x=\"29\" y=\"8\" fill=\"#00CC00\" />\n",
       "<rect width=\".79\" height=\".79\" x=\"30\" y=\"8\" fill=\"#00CC00\" />\n",
       "<rect width=\".79\" height=\".79\" x=\"31\" y=\"8\" fill=\"#00CC00\" />\n",
       "<rect width=\".79\" height=\".79\" x=\"0\" y=\"9\" fill=\"#00CC00\" />\n",
       "<rect width=\".79\" height=\".79\" x=\"1\" y=\"9\" fill=\"#00CC00\" />\n",
       "<rect width=\".79\" height=\".79\" x=\"2\" y=\"9\" fill=\"#3333FF\" />\n",
       "<rect width=\".79\" height=\".79\" x=\"3\" y=\"9\" fill=\"#00CC00\" />\n",
       "<rect width=\".79\" height=\".79\" x=\"4\" y=\"9\" fill=\"#00CC00\" />\n",
       "<rect width=\".79\" height=\".79\" x=\"5\" y=\"9\" fill=\"#00CC00\" />\n",
       "<rect width=\".79\" height=\".79\" x=\"6\" y=\"9\" fill=\"#3333FF\" />\n",
       "<rect width=\".79\" height=\".79\" x=\"7\" y=\"9\" fill=\"#00CC00\" />\n",
       "<rect width=\".79\" height=\".79\" x=\"8\" y=\"9\" fill=\"#00CC00\" />\n",
       "<rect width=\".79\" height=\".79\" x=\"9\" y=\"9\" fill=\"#3333FF\" />\n",
       "<rect width=\".79\" height=\".79\" x=\"10\" y=\"9\" fill=\"#00CC00\" />\n",
       "<rect width=\".79\" height=\".79\" x=\"11\" y=\"9\" fill=\"#00CC00\" />\n",
       "<rect width=\".79\" height=\".79\" x=\"12\" y=\"9\" fill=\"#00CC00\" />\n",
       "<rect width=\".79\" height=\".79\" x=\"13\" y=\"9\" fill=\"#3333FF\" />\n",
       "<rect width=\".79\" height=\".79\" x=\"14\" y=\"9\" fill=\"#00CC00\" />\n",
       "<rect width=\".79\" height=\".79\" x=\"15\" y=\"9\" fill=\"#00CC00\" />\n",
       "<rect width=\".79\" height=\".79\" x=\"16\" y=\"9\" fill=\"#00CC00\" />\n",
       "<rect width=\".79\" height=\".79\" x=\"17\" y=\"9\" fill=\"#00CC00\" />\n",
       "<rect width=\".79\" height=\".79\" x=\"18\" y=\"9\" fill=\"#00CC00\" />\n",
       "<rect width=\".79\" height=\".79\" x=\"19\" y=\"9\" fill=\"#00CC00\" />\n",
       "<rect width=\".79\" height=\".79\" x=\"20\" y=\"9\" fill=\"#00CC00\" />\n",
       "<rect width=\".79\" height=\".79\" x=\"21\" y=\"9\" fill=\"#00CC00\" />\n",
       "<rect width=\".79\" height=\".79\" x=\"22\" y=\"9\" fill=\"#3333FF\" />\n",
       "<rect width=\".79\" height=\".79\" x=\"23\" y=\"9\" fill=\"#00CC00\" />\n",
       "<rect width=\".79\" height=\".79\" x=\"24\" y=\"9\" fill=\"#3333FF\" />\n",
       "<rect width=\".79\" height=\".79\" x=\"25\" y=\"9\" fill=\"#00CC00\" />\n",
       "<rect width=\".79\" height=\".79\" x=\"26\" y=\"9\" fill=\"#00CC00\" />\n",
       "<rect width=\".79\" height=\".79\" x=\"27\" y=\"9\" fill=\"#00CC00\" />\n",
       "<rect width=\".79\" height=\".79\" x=\"28\" y=\"9\" fill=\"#00CC00\" />\n",
       "<rect width=\".79\" height=\".79\" x=\"29\" y=\"9\" fill=\"#00CC00\" />\n",
       "<rect width=\".79\" height=\".79\" x=\"30\" y=\"9\" fill=\"#00CC00\" />\n",
       "<rect width=\".79\" height=\".79\" x=\"31\" y=\"9\" fill=\"#3333FF\" />\n",
       "<rect width=\".79\" height=\".79\" x=\"0\" y=\"10\" fill=\"#00CC00\" />\n",
       "<rect width=\".79\" height=\".79\" x=\"1\" y=\"10\" fill=\"#00CC00\" />\n",
       "<rect width=\".79\" height=\".79\" x=\"2\" y=\"10\" fill=\"#00CC00\" />\n",
       "<rect width=\".79\" height=\".79\" x=\"3\" y=\"10\" fill=\"#00CC00\" />\n",
       "<rect width=\".79\" height=\".79\" x=\"4\" y=\"10\" fill=\"#00CC00\" />\n",
       "<rect width=\".79\" height=\".79\" x=\"5\" y=\"10\" fill=\"#00CC00\" />\n",
       "<rect width=\".79\" height=\".79\" x=\"6\" y=\"10\" fill=\"#00CC00\" />\n",
       "<rect width=\".79\" height=\".79\" x=\"7\" y=\"10\" fill=\"#00CC00\" />\n",
       "<rect width=\".79\" height=\".79\" x=\"8\" y=\"10\" fill=\"#00CC00\" />\n",
       "<rect width=\".79\" height=\".79\" x=\"9\" y=\"10\" fill=\"#00CC00\" />\n",
       "<rect width=\".79\" height=\".79\" x=\"10\" y=\"10\" fill=\"#00CC00\" />\n",
       "<rect width=\".79\" height=\".79\" x=\"11\" y=\"10\" fill=\"#00CC00\" />\n",
       "<rect width=\".79\" height=\".79\" x=\"12\" y=\"10\" fill=\"#00CC00\" />\n",
       "<rect width=\".79\" height=\".79\" x=\"13\" y=\"10\" fill=\"#00CC00\" />\n",
       "<rect width=\".79\" height=\".79\" x=\"14\" y=\"10\" fill=\"#00CC00\" />\n",
       "<rect width=\".79\" height=\".79\" x=\"15\" y=\"10\" fill=\"#3333FF\" />\n",
       "<rect width=\".79\" height=\".79\" x=\"16\" y=\"10\" fill=\"#00CC00\" />\n",
       "<rect width=\".79\" height=\".79\" x=\"17\" y=\"10\" fill=\"#3333FF\" />\n",
       "<rect width=\".79\" height=\".79\" x=\"18\" y=\"10\" fill=\"#00CC00\" />\n",
       "<rect width=\".79\" height=\".79\" x=\"19\" y=\"10\" fill=\"#00CC00\" />\n",
       "<rect width=\".79\" height=\".79\" x=\"20\" y=\"10\" fill=\"#00CC00\" />\n",
       "<rect width=\".79\" height=\".79\" x=\"21\" y=\"10\" fill=\"#00CC00\" />\n",
       "<rect width=\".79\" height=\".79\" x=\"22\" y=\"10\" fill=\"#00CC00\" />\n",
       "<rect width=\".79\" height=\".79\" x=\"23\" y=\"10\" fill=\"#00CC00\" />\n",
       "<rect width=\".79\" height=\".79\" x=\"24\" y=\"10\" fill=\"#00CC00\" />\n",
       "<rect width=\".79\" height=\".79\" x=\"25\" y=\"10\" fill=\"#00CC00\" />\n",
       "<rect width=\".79\" height=\".79\" x=\"26\" y=\"10\" fill=\"#00CC00\" />\n",
       "<rect width=\".79\" height=\".79\" x=\"27\" y=\"10\" fill=\"#3333FF\" />\n",
       "<rect width=\".79\" height=\".79\" x=\"28\" y=\"10\" fill=\"#00CC00\" />\n",
       "<rect width=\".79\" height=\".79\" x=\"29\" y=\"10\" fill=\"#3333FF\" />\n",
       "<rect width=\".79\" height=\".79\" x=\"30\" y=\"10\" fill=\"#3333FF\" />\n",
       "<rect width=\".79\" height=\".79\" x=\"31\" y=\"10\" fill=\"#00CC00\" />\n",
       "<rect width=\".79\" height=\".79\" x=\"0\" y=\"11\" fill=\"#00CC00\" />\n",
       "<rect width=\".79\" height=\".79\" x=\"1\" y=\"11\" fill=\"#00CC00\" />\n",
       "<rect width=\".79\" height=\".79\" x=\"2\" y=\"11\" fill=\"#00CC00\" />\n",
       "<rect width=\".79\" height=\".79\" x=\"3\" y=\"11\" fill=\"#00CC00\" />\n",
       "<rect width=\".79\" height=\".79\" x=\"4\" y=\"11\" fill=\"#00CC00\" />\n",
       "<rect width=\".79\" height=\".79\" x=\"5\" y=\"11\" fill=\"#00CC00\" />\n",
       "<rect width=\".79\" height=\".79\" x=\"6\" y=\"11\" fill=\"#00CC00\" />\n",
       "<rect width=\".79\" height=\".79\" x=\"7\" y=\"11\" fill=\"#00CC00\" />\n",
       "<rect width=\".79\" height=\".79\" x=\"8\" y=\"11\" fill=\"#00CC00\" />\n",
       "<rect width=\".79\" height=\".79\" x=\"9\" y=\"11\" fill=\"#00CC00\" />\n",
       "<rect width=\".79\" height=\".79\" x=\"10\" y=\"11\" fill=\"#00CC00\" />\n",
       "<rect width=\".79\" height=\".79\" x=\"11\" y=\"11\" fill=\"#3333FF\" />\n",
       "<rect width=\".79\" height=\".79\" x=\"12\" y=\"11\" fill=\"#3333FF\" />\n",
       "<rect width=\".79\" height=\".79\" x=\"13\" y=\"11\" fill=\"#3333FF\" />\n",
       "<rect width=\".79\" height=\".79\" x=\"14\" y=\"11\" fill=\"#00CC00\" />\n",
       "<rect width=\".79\" height=\".79\" x=\"15\" y=\"11\" fill=\"#3333FF\" />\n",
       "<rect width=\".79\" height=\".79\" x=\"16\" y=\"11\" fill=\"#00CC00\" />\n",
       "<rect width=\".79\" height=\".79\" x=\"17\" y=\"11\" fill=\"#00CC00\" />\n",
       "<rect width=\".79\" height=\".79\" x=\"18\" y=\"11\" fill=\"#3333FF\" />\n",
       "<rect width=\".79\" height=\".79\" x=\"19\" y=\"11\" fill=\"#00CC00\" />\n",
       "<rect width=\".79\" height=\".79\" x=\"20\" y=\"11\" fill=\"#00CC00\" />\n",
       "<rect width=\".79\" height=\".79\" x=\"21\" y=\"11\" fill=\"#00CC00\" />\n",
       "<rect width=\".79\" height=\".79\" x=\"22\" y=\"11\" fill=\"#00CC00\" />\n",
       "<rect width=\".79\" height=\".79\" x=\"23\" y=\"11\" fill=\"#00CC00\" />\n",
       "<rect width=\".79\" height=\".79\" x=\"24\" y=\"11\" fill=\"#00CC00\" />\n",
       "<rect width=\".79\" height=\".79\" x=\"25\" y=\"11\" fill=\"#00CC00\" />\n",
       "<rect width=\".79\" height=\".79\" x=\"26\" y=\"11\" fill=\"#00CC00\" />\n",
       "<rect width=\".79\" height=\".79\" x=\"27\" y=\"11\" fill=\"#00CC00\" />\n",
       "<rect width=\".79\" height=\".79\" x=\"28\" y=\"11\" fill=\"#00CC00\" />\n",
       "<rect width=\".79\" height=\".79\" x=\"29\" y=\"11\" fill=\"#3333FF\" />\n",
       "<rect width=\".79\" height=\".79\" x=\"30\" y=\"11\" fill=\"#00CC00\" />\n",
       "<rect width=\".79\" height=\".79\" x=\"31\" y=\"11\" fill=\"#00CC00\" />\n",
       "<rect width=\".79\" height=\".79\" x=\"0\" y=\"12\" fill=\"#00CC00\" />\n",
       "<rect width=\".79\" height=\".79\" x=\"1\" y=\"12\" fill=\"#00CC00\" />\n",
       "<rect width=\".79\" height=\".79\" x=\"2\" y=\"12\" fill=\"#3333FF\" />\n",
       "<rect width=\".79\" height=\".79\" x=\"3\" y=\"12\" fill=\"#3333FF\" />\n",
       "<rect width=\".79\" height=\".79\" x=\"4\" y=\"12\" fill=\"#3333FF\" />\n",
       "<rect width=\".79\" height=\".79\" x=\"5\" y=\"12\" fill=\"#00CC00\" />\n",
       "<rect width=\".79\" height=\".79\" x=\"6\" y=\"12\" fill=\"#3333FF\" />\n",
       "<rect width=\".79\" height=\".79\" x=\"7\" y=\"12\" fill=\"#3333FF\" />\n",
       "<rect width=\".79\" height=\".79\" x=\"8\" y=\"12\" fill=\"#00CC00\" />\n",
       "<rect width=\".79\" height=\".79\" x=\"9\" y=\"12\" fill=\"#00CC00\" />\n",
       "<rect width=\".79\" height=\".79\" x=\"10\" y=\"12\" fill=\"#3333FF\" />\n",
       "<rect width=\".79\" height=\".79\" x=\"11\" y=\"12\" fill=\"#00CC00\" />\n",
       "<rect width=\".79\" height=\".79\" x=\"12\" y=\"12\" fill=\"#00CC00\" />\n",
       "<rect width=\".79\" height=\".79\" x=\"13\" y=\"12\" fill=\"#00CC00\" />\n",
       "<rect width=\".79\" height=\".79\" x=\"14\" y=\"12\" fill=\"#00CC00\" />\n",
       "<rect width=\".79\" height=\".79\" x=\"15\" y=\"12\" fill=\"#00CC00\" />\n",
       "<rect width=\".79\" height=\".79\" x=\"16\" y=\"12\" fill=\"#00CC00\" />\n",
       "<rect width=\".79\" height=\".79\" x=\"17\" y=\"12\" fill=\"#00CC00\" />\n",
       "<rect width=\".79\" height=\".79\" x=\"18\" y=\"12\" fill=\"#00CC00\" />\n",
       "<rect width=\".79\" height=\".79\" x=\"19\" y=\"12\" fill=\"#00CC00\" />\n",
       "<rect width=\".79\" height=\".79\" x=\"20\" y=\"12\" fill=\"#3333FF\" />\n",
       "<rect width=\".79\" height=\".79\" x=\"21\" y=\"12\" fill=\"#00CC00\" />\n",
       "<rect width=\".79\" height=\".79\" x=\"22\" y=\"12\" fill=\"#00CC00\" />\n",
       "<rect width=\".79\" height=\".79\" x=\"23\" y=\"12\" fill=\"#00CC00\" />\n",
       "<rect width=\".79\" height=\".79\" x=\"24\" y=\"12\" fill=\"#00CC00\" />\n",
       "<rect width=\".79\" height=\".79\" x=\"25\" y=\"12\" fill=\"#3333FF\" />\n",
       "<rect width=\".79\" height=\".79\" x=\"26\" y=\"12\" fill=\"#00CC00\" />\n",
       "<rect width=\".79\" height=\".79\" x=\"27\" y=\"12\" fill=\"#00CC00\" />\n",
       "<rect width=\".79\" height=\".79\" x=\"28\" y=\"12\" fill=\"#3333FF\" />\n",
       "<rect width=\".79\" height=\".79\" x=\"29\" y=\"12\" fill=\"#00CC00\" />\n",
       "<rect width=\".79\" height=\".79\" x=\"30\" y=\"12\" fill=\"#00CC00\" />\n",
       "<rect width=\".79\" height=\".79\" x=\"31\" y=\"12\" fill=\"#00CC00\" />\n",
       "<rect width=\".79\" height=\".79\" x=\"0\" y=\"13\" fill=\"#00CC00\" />\n",
       "<rect width=\".79\" height=\".79\" x=\"1\" y=\"13\" fill=\"#00CC00\" />\n",
       "<rect width=\".79\" height=\".79\" x=\"2\" y=\"13\" fill=\"#00CC00\" />\n",
       "<rect width=\".79\" height=\".79\" x=\"3\" y=\"13\" fill=\"#00CC00\" />\n",
       "<rect width=\".79\" height=\".79\" x=\"4\" y=\"13\" fill=\"#00CC00\" />\n",
       "<rect width=\".79\" height=\".79\" x=\"5\" y=\"13\" fill=\"#00CC00\" />\n",
       "<rect width=\".79\" height=\".79\" x=\"6\" y=\"13\" fill=\"#00CC00\" />\n",
       "<rect width=\".79\" height=\".79\" x=\"7\" y=\"13\" fill=\"#3333FF\" />\n",
       "<rect width=\".79\" height=\".79\" x=\"8\" y=\"13\" fill=\"#3333FF\" />\n",
       "<rect width=\".79\" height=\".79\" x=\"9\" y=\"13\" fill=\"#00CC00\" />\n",
       "<rect width=\".79\" height=\".79\" x=\"10\" y=\"13\" fill=\"#00CC00\" />\n",
       "<rect width=\".79\" height=\".79\" x=\"11\" y=\"13\" fill=\"#3333FF\" />\n",
       "<rect width=\".79\" height=\".79\" x=\"12\" y=\"13\" fill=\"#3333FF\" />\n",
       "<rect width=\".79\" height=\".79\" x=\"13\" y=\"13\" fill=\"#00CC00\" />\n",
       "<rect width=\".79\" height=\".79\" x=\"14\" y=\"13\" fill=\"#00CC00\" />\n",
       "<rect width=\".79\" height=\".79\" x=\"15\" y=\"13\" fill=\"#3333FF\" />\n",
       "<rect width=\".79\" height=\".79\" x=\"16\" y=\"13\" fill=\"#00CC00\" />\n",
       "<rect width=\".79\" height=\".79\" x=\"17\" y=\"13\" fill=\"#00CC00\" />\n",
       "<rect width=\".79\" height=\".79\" x=\"18\" y=\"13\" fill=\"#00CC00\" />\n",
       "<rect width=\".79\" height=\".79\" x=\"19\" y=\"13\" fill=\"#00CC00\" />\n",
       "<rect width=\".79\" height=\".79\" x=\"20\" y=\"13\" fill=\"#00CC00\" />\n",
       "<rect width=\".79\" height=\".79\" x=\"21\" y=\"13\" fill=\"#3333FF\" />\n",
       "<rect width=\".79\" height=\".79\" x=\"22\" y=\"13\" fill=\"#00CC00\" />\n",
       "<rect width=\".79\" height=\".79\" x=\"23\" y=\"13\" fill=\"#00CC00\" />\n",
       "<rect width=\".79\" height=\".79\" x=\"24\" y=\"13\" fill=\"#00CC00\" />\n",
       "<rect width=\".79\" height=\".79\" x=\"25\" y=\"13\" fill=\"#00CC00\" />\n",
       "<rect width=\".79\" height=\".79\" x=\"26\" y=\"13\" fill=\"#00CC00\" />\n",
       "<rect width=\".79\" height=\".79\" x=\"27\" y=\"13\" fill=\"#3333FF\" />\n",
       "<rect width=\".79\" height=\".79\" x=\"28\" y=\"13\" fill=\"#00CC00\" />\n",
       "<rect width=\".79\" height=\".79\" x=\"29\" y=\"13\" fill=\"#3333FF\" />\n",
       "<rect width=\".79\" height=\".79\" x=\"30\" y=\"13\" fill=\"#00CC00\" />\n",
       "<rect width=\".79\" height=\".79\" x=\"31\" y=\"13\" fill=\"#00CC00\" />\n",
       "<rect width=\".79\" height=\".79\" x=\"0\" y=\"14\" fill=\"#00CC00\" />\n",
       "<rect width=\".79\" height=\".79\" x=\"1\" y=\"14\" fill=\"#3333FF\" />\n",
       "<rect width=\".79\" height=\".79\" x=\"2\" y=\"14\" fill=\"#00CC00\" />\n",
       "<rect width=\".79\" height=\".79\" x=\"3\" y=\"14\" fill=\"#3333FF\" />\n",
       "<rect width=\".79\" height=\".79\" x=\"4\" y=\"14\" fill=\"#00CC00\" />\n",
       "<rect width=\".79\" height=\".79\" x=\"5\" y=\"14\" fill=\"#00CC00\" />\n",
       "<rect width=\".79\" height=\".79\" x=\"6\" y=\"14\" fill=\"#00CC00\" />\n",
       "<rect width=\".79\" height=\".79\" x=\"7\" y=\"14\" fill=\"#3333FF\" />\n",
       "<rect width=\".79\" height=\".79\" x=\"8\" y=\"14\" fill=\"#00CC00\" />\n",
       "<rect width=\".79\" height=\".79\" x=\"9\" y=\"14\" fill=\"#00CC00\" />\n",
       "<rect width=\".79\" height=\".79\" x=\"10\" y=\"14\" fill=\"#00CC00\" />\n",
       "<rect width=\".79\" height=\".79\" x=\"11\" y=\"14\" fill=\"#00CC00\" />\n",
       "<rect width=\".79\" height=\".79\" x=\"12\" y=\"14\" fill=\"#00CC00\" />\n",
       "<rect width=\".79\" height=\".79\" x=\"13\" y=\"14\" fill=\"#00CC00\" />\n",
       "<rect width=\".79\" height=\".79\" x=\"14\" y=\"14\" fill=\"#CC0000\" />\n",
       "<rect width=\".79\" height=\".79\" x=\"15\" y=\"14\" fill=\"#3333FF\" />\n",
       "<rect width=\".79\" height=\".79\" x=\"16\" y=\"14\" fill=\"#00CC00\" />\n",
       "<rect width=\".79\" height=\".79\" x=\"17\" y=\"14\" fill=\"#CC0000\" />\n",
       "<rect width=\".79\" height=\".79\" x=\"18\" y=\"14\" fill=\"#00CC00\" />\n",
       "<rect width=\".79\" height=\".79\" x=\"19\" y=\"14\" fill=\"#00CC00\" />\n",
       "<rect width=\".79\" height=\".79\" x=\"20\" y=\"14\" fill=\"#00CC00\" />\n",
       "<rect width=\".79\" height=\".79\" x=\"21\" y=\"14\" fill=\"#00CC00\" />\n",
       "<rect width=\".79\" height=\".79\" x=\"22\" y=\"14\" fill=\"#3333FF\" />\n",
       "<rect width=\".79\" height=\".79\" x=\"23\" y=\"14\" fill=\"#3333FF\" />\n",
       "<rect width=\".79\" height=\".79\" x=\"24\" y=\"14\" fill=\"#00CC00\" />\n",
       "<rect width=\".79\" height=\".79\" x=\"25\" y=\"14\" fill=\"#00CC00\" />\n",
       "<rect width=\".79\" height=\".79\" x=\"26\" y=\"14\" fill=\"#00CC00\" />\n",
       "<rect width=\".79\" height=\".79\" x=\"27\" y=\"14\" fill=\"#3333FF\" />\n",
       "<rect width=\".79\" height=\".79\" x=\"28\" y=\"14\" fill=\"#00CC00\" />\n",
       "<rect width=\".79\" height=\".79\" x=\"29\" y=\"14\" fill=\"#3333FF\" />\n",
       "<rect width=\".79\" height=\".79\" x=\"30\" y=\"14\" fill=\"#3333FF\" />\n",
       "<rect width=\".79\" height=\".79\" x=\"31\" y=\"14\" fill=\"#00CC00\" />\n",
       "<rect width=\".79\" height=\".79\" x=\"0\" y=\"15\" fill=\"#00CC00\" />\n",
       "<rect width=\".79\" height=\".79\" x=\"1\" y=\"15\" fill=\"#00CC00\" />\n",
       "<rect width=\".79\" height=\".79\" x=\"2\" y=\"15\" fill=\"#00CC00\" />\n",
       "<rect width=\".79\" height=\".79\" x=\"3\" y=\"15\" fill=\"#3333FF\" />\n",
       "<rect width=\".79\" height=\".79\" x=\"4\" y=\"15\" fill=\"#00CC00\" />\n",
       "<rect width=\".79\" height=\".79\" x=\"5\" y=\"15\" fill=\"#00CC00\" />\n",
       "<rect width=\".79\" height=\".79\" x=\"6\" y=\"15\" fill=\"#00CC00\" />\n",
       "<rect width=\".79\" height=\".79\" x=\"7\" y=\"15\" fill=\"#00CC00\" />\n",
       "<rect width=\".79\" height=\".79\" x=\"8\" y=\"15\" fill=\"#00CC00\" />\n",
       "<rect width=\".79\" height=\".79\" x=\"9\" y=\"15\" fill=\"#00CC00\" />\n",
       "<rect width=\".79\" height=\".79\" x=\"10\" y=\"15\" fill=\"#00CC00\" />\n",
       "<rect width=\".79\" height=\".79\" x=\"11\" y=\"15\" fill=\"#00CC00\" />\n",
       "<rect width=\".79\" height=\".79\" x=\"12\" y=\"15\" fill=\"#3333FF\" />\n",
       "<rect width=\".79\" height=\".79\" x=\"13\" y=\"15\" fill=\"#3333FF\" />\n",
       "<rect width=\".79\" height=\".79\" x=\"14\" y=\"15\" fill=\"#CC0000\" />\n",
       "<rect width=\".79\" height=\".79\" x=\"15\" y=\"15\" fill=\"#CC0000\" />\n",
       "<rect width=\".79\" height=\".79\" x=\"16\" y=\"15\" fill=\"#CC0000\" />\n",
       "<rect width=\".79\" height=\".79\" x=\"17\" y=\"15\" fill=\"#CC0000\" />\n",
       "<rect width=\".79\" height=\".79\" x=\"18\" y=\"15\" fill=\"#3333FF\" />\n",
       "<rect width=\".79\" height=\".79\" x=\"19\" y=\"15\" fill=\"#00CC00\" />\n",
       "<rect width=\".79\" height=\".79\" x=\"20\" y=\"15\" fill=\"#3333FF\" />\n",
       "<rect width=\".79\" height=\".79\" x=\"21\" y=\"15\" fill=\"#3333FF\" />\n",
       "<rect width=\".79\" height=\".79\" x=\"22\" y=\"15\" fill=\"#00CC00\" />\n",
       "<rect width=\".79\" height=\".79\" x=\"23\" y=\"15\" fill=\"#00CC00\" />\n",
       "<rect width=\".79\" height=\".79\" x=\"24\" y=\"15\" fill=\"#00CC00\" />\n",
       "<rect width=\".79\" height=\".79\" x=\"25\" y=\"15\" fill=\"#00CC00\" />\n",
       "<rect width=\".79\" height=\".79\" x=\"26\" y=\"15\" fill=\"#00CC00\" />\n",
       "<rect width=\".79\" height=\".79\" x=\"27\" y=\"15\" fill=\"#00CC00\" />\n",
       "<rect width=\".79\" height=\".79\" x=\"28\" y=\"15\" fill=\"#00CC00\" />\n",
       "<rect width=\".79\" height=\".79\" x=\"29\" y=\"15\" fill=\"#00CC00\" />\n",
       "<rect width=\".79\" height=\".79\" x=\"30\" y=\"15\" fill=\"#00CC00\" />\n",
       "<rect width=\".79\" height=\".79\" x=\"31\" y=\"15\" fill=\"#00CC00\" />\n",
       "<rect width=\".79\" height=\".79\" x=\"0\" y=\"16\" fill=\"#00CC00\" />\n",
       "<rect width=\".79\" height=\".79\" x=\"1\" y=\"16\" fill=\"#00CC00\" />\n",
       "<rect width=\".79\" height=\".79\" x=\"2\" y=\"16\" fill=\"#00CC00\" />\n",
       "<rect width=\".79\" height=\".79\" x=\"3\" y=\"16\" fill=\"#00CC00\" />\n",
       "<rect width=\".79\" height=\".79\" x=\"4\" y=\"16\" fill=\"#00CC00\" />\n",
       "<rect width=\".79\" height=\".79\" x=\"5\" y=\"16\" fill=\"#3333FF\" />\n",
       "<rect width=\".79\" height=\".79\" x=\"6\" y=\"16\" fill=\"#00CC00\" />\n",
       "<rect width=\".79\" height=\".79\" x=\"7\" y=\"16\" fill=\"#3333FF\" />\n",
       "<rect width=\".79\" height=\".79\" x=\"8\" y=\"16\" fill=\"#00CC00\" />\n",
       "<rect width=\".79\" height=\".79\" x=\"9\" y=\"16\" fill=\"#00CC00\" />\n",
       "<rect width=\".79\" height=\".79\" x=\"10\" y=\"16\" fill=\"#00CC00\" />\n",
       "<rect width=\".79\" height=\".79\" x=\"11\" y=\"16\" fill=\"#00CC00\" />\n",
       "<rect width=\".79\" height=\".79\" x=\"12\" y=\"16\" fill=\"#00CC00\" />\n",
       "<rect width=\".79\" height=\".79\" x=\"13\" y=\"16\" fill=\"#00CC00\" />\n",
       "<rect width=\".79\" height=\".79\" x=\"14\" y=\"16\" fill=\"#CC0000\" />\n",
       "<rect width=\".79\" height=\".79\" x=\"15\" y=\"16\" fill=\"#CC0000\" />\n",
       "<rect width=\".79\" height=\".79\" x=\"16\" y=\"16\" fill=\"#1A1A1A\" />\n",
       "<rect width=\".79\" height=\".79\" x=\"17\" y=\"16\" fill=\"#CC0000\" />\n",
       "<rect width=\".79\" height=\".79\" x=\"18\" y=\"16\" fill=\"#00CC00\" />\n",
       "<rect width=\".79\" height=\".79\" x=\"19\" y=\"16\" fill=\"#00CC00\" />\n",
       "<rect width=\".79\" height=\".79\" x=\"20\" y=\"16\" fill=\"#00CC00\" />\n",
       "<rect width=\".79\" height=\".79\" x=\"21\" y=\"16\" fill=\"#3333FF\" />\n",
       "<rect width=\".79\" height=\".79\" x=\"22\" y=\"16\" fill=\"#00CC00\" />\n",
       "<rect width=\".79\" height=\".79\" x=\"23\" y=\"16\" fill=\"#00CC00\" />\n",
       "<rect width=\".79\" height=\".79\" x=\"24\" y=\"16\" fill=\"#00CC00\" />\n",
       "<rect width=\".79\" height=\".79\" x=\"25\" y=\"16\" fill=\"#00CC00\" />\n",
       "<rect width=\".79\" height=\".79\" x=\"26\" y=\"16\" fill=\"#00CC00\" />\n",
       "<rect width=\".79\" height=\".79\" x=\"27\" y=\"16\" fill=\"#00CC00\" />\n",
       "<rect width=\".79\" height=\".79\" x=\"28\" y=\"16\" fill=\"#00CC00\" />\n",
       "<rect width=\".79\" height=\".79\" x=\"29\" y=\"16\" fill=\"#3333FF\" />\n",
       "<rect width=\".79\" height=\".79\" x=\"30\" y=\"16\" fill=\"#3333FF\" />\n",
       "<rect width=\".79\" height=\".79\" x=\"31\" y=\"16\" fill=\"#00CC00\" />\n",
       "<rect width=\".79\" height=\".79\" x=\"0\" y=\"17\" fill=\"#3333FF\" />\n",
       "<rect width=\".79\" height=\".79\" x=\"1\" y=\"17\" fill=\"#00CC00\" />\n",
       "<rect width=\".79\" height=\".79\" x=\"2\" y=\"17\" fill=\"#00CC00\" />\n",
       "<rect width=\".79\" height=\".79\" x=\"3\" y=\"17\" fill=\"#00CC00\" />\n",
       "<rect width=\".79\" height=\".79\" x=\"4\" y=\"17\" fill=\"#00CC00\" />\n",
       "<rect width=\".79\" height=\".79\" x=\"5\" y=\"17\" fill=\"#00CC00\" />\n",
       "<rect width=\".79\" height=\".79\" x=\"6\" y=\"17\" fill=\"#00CC00\" />\n",
       "<rect width=\".79\" height=\".79\" x=\"7\" y=\"17\" fill=\"#00CC00\" />\n",
       "<rect width=\".79\" height=\".79\" x=\"8\" y=\"17\" fill=\"#00CC00\" />\n",
       "<rect width=\".79\" height=\".79\" x=\"9\" y=\"17\" fill=\"#00CC00\" />\n",
       "<rect width=\".79\" height=\".79\" x=\"10\" y=\"17\" fill=\"#3333FF\" />\n",
       "<rect width=\".79\" height=\".79\" x=\"11\" y=\"17\" fill=\"#00CC00\" />\n",
       "<rect width=\".79\" height=\".79\" x=\"12\" y=\"17\" fill=\"#00CC00\" />\n",
       "<rect width=\".79\" height=\".79\" x=\"13\" y=\"17\" fill=\"#00CC00\" />\n",
       "<rect width=\".79\" height=\".79\" x=\"14\" y=\"17\" fill=\"#00CC00\" />\n",
       "<rect width=\".79\" height=\".79\" x=\"15\" y=\"17\" fill=\"#00CC00\" />\n",
       "<rect width=\".79\" height=\".79\" x=\"16\" y=\"17\" fill=\"#1A1A1A\" />\n",
       "<rect width=\".79\" height=\".79\" x=\"17\" y=\"17\" fill=\"#CC0000\" />\n",
       "<rect width=\".79\" height=\".79\" x=\"18\" y=\"17\" fill=\"#CC0000\" />\n",
       "<rect width=\".79\" height=\".79\" x=\"19\" y=\"17\" fill=\"#00CC00\" />\n",
       "<rect width=\".79\" height=\".79\" x=\"20\" y=\"17\" fill=\"#00CC00\" />\n",
       "<rect width=\".79\" height=\".79\" x=\"21\" y=\"17\" fill=\"#3333FF\" />\n",
       "<rect width=\".79\" height=\".79\" x=\"22\" y=\"17\" fill=\"#00CC00\" />\n",
       "<rect width=\".79\" height=\".79\" x=\"23\" y=\"17\" fill=\"#00CC00\" />\n",
       "<rect width=\".79\" height=\".79\" x=\"24\" y=\"17\" fill=\"#00CC00\" />\n",
       "<rect width=\".79\" height=\".79\" x=\"25\" y=\"17\" fill=\"#00CC00\" />\n",
       "<rect width=\".79\" height=\".79\" x=\"26\" y=\"17\" fill=\"#3333FF\" />\n",
       "<rect width=\".79\" height=\".79\" x=\"27\" y=\"17\" fill=\"#3333FF\" />\n",
       "<rect width=\".79\" height=\".79\" x=\"28\" y=\"17\" fill=\"#00CC00\" />\n",
       "<rect width=\".79\" height=\".79\" x=\"29\" y=\"17\" fill=\"#00CC00\" />\n",
       "<rect width=\".79\" height=\".79\" x=\"30\" y=\"17\" fill=\"#00CC00\" />\n",
       "<rect width=\".79\" height=\".79\" x=\"31\" y=\"17\" fill=\"#00CC00\" />\n",
       "<rect width=\".79\" height=\".79\" x=\"0\" y=\"18\" fill=\"#3333FF\" />\n",
       "<rect width=\".79\" height=\".79\" x=\"1\" y=\"18\" fill=\"#00CC00\" />\n",
       "<rect width=\".79\" height=\".79\" x=\"2\" y=\"18\" fill=\"#00CC00\" />\n",
       "<rect width=\".79\" height=\".79\" x=\"3\" y=\"18\" fill=\"#3333FF\" />\n",
       "<rect width=\".79\" height=\".79\" x=\"4\" y=\"18\" fill=\"#00CC00\" />\n",
       "<rect width=\".79\" height=\".79\" x=\"5\" y=\"18\" fill=\"#00CC00\" />\n",
       "<rect width=\".79\" height=\".79\" x=\"6\" y=\"18\" fill=\"#00CC00\" />\n",
       "<rect width=\".79\" height=\".79\" x=\"7\" y=\"18\" fill=\"#3333FF\" />\n",
       "<rect width=\".79\" height=\".79\" x=\"8\" y=\"18\" fill=\"#00CC00\" />\n",
       "<rect width=\".79\" height=\".79\" x=\"9\" y=\"18\" fill=\"#3333FF\" />\n",
       "<rect width=\".79\" height=\".79\" x=\"10\" y=\"18\" fill=\"#00CC00\" />\n",
       "<rect width=\".79\" height=\".79\" x=\"11\" y=\"18\" fill=\"#3333FF\" />\n",
       "<rect width=\".79\" height=\".79\" x=\"12\" y=\"18\" fill=\"#00CC00\" />\n",
       "<rect width=\".79\" height=\".79\" x=\"13\" y=\"18\" fill=\"#3333FF\" />\n",
       "<rect width=\".79\" height=\".79\" x=\"14\" y=\"18\" fill=\"#00CC00\" />\n",
       "<rect width=\".79\" height=\".79\" x=\"15\" y=\"18\" fill=\"#00CC00\" />\n",
       "<rect width=\".79\" height=\".79\" x=\"16\" y=\"18\" fill=\"#00CC00\" />\n",
       "<rect width=\".79\" height=\".79\" x=\"17\" y=\"18\" fill=\"#3333FF\" />\n",
       "<rect width=\".79\" height=\".79\" x=\"18\" y=\"18\" fill=\"#00CC00\" />\n",
       "<rect width=\".79\" height=\".79\" x=\"19\" y=\"18\" fill=\"#00CC00\" />\n",
       "<rect width=\".79\" height=\".79\" x=\"20\" y=\"18\" fill=\"#00CC00\" />\n",
       "<rect width=\".79\" height=\".79\" x=\"21\" y=\"18\" fill=\"#00CC00\" />\n",
       "<rect width=\".79\" height=\".79\" x=\"22\" y=\"18\" fill=\"#00CC00\" />\n",
       "<rect width=\".79\" height=\".79\" x=\"23\" y=\"18\" fill=\"#00CC00\" />\n",
       "<rect width=\".79\" height=\".79\" x=\"24\" y=\"18\" fill=\"#00CC00\" />\n",
       "<rect width=\".79\" height=\".79\" x=\"25\" y=\"18\" fill=\"#00CC00\" />\n",
       "<rect width=\".79\" height=\".79\" x=\"26\" y=\"18\" fill=\"#00CC00\" />\n",
       "<rect width=\".79\" height=\".79\" x=\"27\" y=\"18\" fill=\"#00CC00\" />\n",
       "<rect width=\".79\" height=\".79\" x=\"28\" y=\"18\" fill=\"#3333FF\" />\n",
       "<rect width=\".79\" height=\".79\" x=\"29\" y=\"18\" fill=\"#00CC00\" />\n",
       "<rect width=\".79\" height=\".79\" x=\"30\" y=\"18\" fill=\"#3333FF\" />\n",
       "<rect width=\".79\" height=\".79\" x=\"31\" y=\"18\" fill=\"#3333FF\" />\n",
       "<rect width=\".79\" height=\".79\" x=\"0\" y=\"19\" fill=\"#3333FF\" />\n",
       "<rect width=\".79\" height=\".79\" x=\"1\" y=\"19\" fill=\"#3333FF\" />\n",
       "<rect width=\".79\" height=\".79\" x=\"2\" y=\"19\" fill=\"#00CC00\" />\n",
       "<rect width=\".79\" height=\".79\" x=\"3\" y=\"19\" fill=\"#00CC00\" />\n",
       "<rect width=\".79\" height=\".79\" x=\"4\" y=\"19\" fill=\"#3333FF\" />\n",
       "<rect width=\".79\" height=\".79\" x=\"5\" y=\"19\" fill=\"#00CC00\" />\n",
       "<rect width=\".79\" height=\".79\" x=\"6\" y=\"19\" fill=\"#3333FF\" />\n",
       "<rect width=\".79\" height=\".79\" x=\"7\" y=\"19\" fill=\"#00CC00\" />\n",
       "<rect width=\".79\" height=\".79\" x=\"8\" y=\"19\" fill=\"#00CC00\" />\n",
       "<rect width=\".79\" height=\".79\" x=\"9\" y=\"19\" fill=\"#3333FF\" />\n",
       "<rect width=\".79\" height=\".79\" x=\"10\" y=\"19\" fill=\"#00CC00\" />\n",
       "<rect width=\".79\" height=\".79\" x=\"11\" y=\"19\" fill=\"#00CC00\" />\n",
       "<rect width=\".79\" height=\".79\" x=\"12\" y=\"19\" fill=\"#00CC00\" />\n",
       "<rect width=\".79\" height=\".79\" x=\"13\" y=\"19\" fill=\"#00CC00\" />\n",
       "<rect width=\".79\" height=\".79\" x=\"14\" y=\"19\" fill=\"#3333FF\" />\n",
       "<rect width=\".79\" height=\".79\" x=\"15\" y=\"19\" fill=\"#00CC00\" />\n",
       "<rect width=\".79\" height=\".79\" x=\"16\" y=\"19\" fill=\"#00CC00\" />\n",
       "<rect width=\".79\" height=\".79\" x=\"17\" y=\"19\" fill=\"#00CC00\" />\n",
       "<rect width=\".79\" height=\".79\" x=\"18\" y=\"19\" fill=\"#00CC00\" />\n",
       "<rect width=\".79\" height=\".79\" x=\"19\" y=\"19\" fill=\"#00CC00\" />\n",
       "<rect width=\".79\" height=\".79\" x=\"20\" y=\"19\" fill=\"#00CC00\" />\n",
       "<rect width=\".79\" height=\".79\" x=\"21\" y=\"19\" fill=\"#3333FF\" />\n",
       "<rect width=\".79\" height=\".79\" x=\"22\" y=\"19\" fill=\"#00CC00\" />\n",
       "<rect width=\".79\" height=\".79\" x=\"23\" y=\"19\" fill=\"#00CC00\" />\n",
       "<rect width=\".79\" height=\".79\" x=\"24\" y=\"19\" fill=\"#00CC00\" />\n",
       "<rect width=\".79\" height=\".79\" x=\"25\" y=\"19\" fill=\"#00CC00\" />\n",
       "<rect width=\".79\" height=\".79\" x=\"26\" y=\"19\" fill=\"#00CC00\" />\n",
       "<rect width=\".79\" height=\".79\" x=\"27\" y=\"19\" fill=\"#00CC00\" />\n",
       "<rect width=\".79\" height=\".79\" x=\"28\" y=\"19\" fill=\"#00CC00\" />\n",
       "<rect width=\".79\" height=\".79\" x=\"29\" y=\"19\" fill=\"#00CC00\" />\n",
       "<rect width=\".79\" height=\".79\" x=\"30\" y=\"19\" fill=\"#00CC00\" />\n",
       "<rect width=\".79\" height=\".79\" x=\"31\" y=\"19\" fill=\"#00CC00\" />\n",
       "<rect width=\".79\" height=\".79\" x=\"0\" y=\"20\" fill=\"#00CC00\" />\n",
       "<rect width=\".79\" height=\".79\" x=\"1\" y=\"20\" fill=\"#00CC00\" />\n",
       "<rect width=\".79\" height=\".79\" x=\"2\" y=\"20\" fill=\"#3333FF\" />\n",
       "<rect width=\".79\" height=\".79\" x=\"3\" y=\"20\" fill=\"#00CC00\" />\n",
       "<rect width=\".79\" height=\".79\" x=\"4\" y=\"20\" fill=\"#00CC00\" />\n",
       "<rect width=\".79\" height=\".79\" x=\"5\" y=\"20\" fill=\"#3333FF\" />\n",
       "<rect width=\".79\" height=\".79\" x=\"6\" y=\"20\" fill=\"#00CC00\" />\n",
       "<rect width=\".79\" height=\".79\" x=\"7\" y=\"20\" fill=\"#00CC00\" />\n",
       "<rect width=\".79\" height=\".79\" x=\"8\" y=\"20\" fill=\"#00CC00\" />\n",
       "<rect width=\".79\" height=\".79\" x=\"9\" y=\"20\" fill=\"#00CC00\" />\n",
       "<rect width=\".79\" height=\".79\" x=\"10\" y=\"20\" fill=\"#00CC00\" />\n",
       "<rect width=\".79\" height=\".79\" x=\"11\" y=\"20\" fill=\"#00CC00\" />\n",
       "<rect width=\".79\" height=\".79\" x=\"12\" y=\"20\" fill=\"#00CC00\" />\n",
       "<rect width=\".79\" height=\".79\" x=\"13\" y=\"20\" fill=\"#00CC00\" />\n",
       "<rect width=\".79\" height=\".79\" x=\"14\" y=\"20\" fill=\"#00CC00\" />\n",
       "<rect width=\".79\" height=\".79\" x=\"15\" y=\"20\" fill=\"#00CC00\" />\n",
       "<rect width=\".79\" height=\".79\" x=\"16\" y=\"20\" fill=\"#00CC00\" />\n",
       "<rect width=\".79\" height=\".79\" x=\"17\" y=\"20\" fill=\"#00CC00\" />\n",
       "<rect width=\".79\" height=\".79\" x=\"18\" y=\"20\" fill=\"#00CC00\" />\n",
       "<rect width=\".79\" height=\".79\" x=\"19\" y=\"20\" fill=\"#3333FF\" />\n",
       "<rect width=\".79\" height=\".79\" x=\"20\" y=\"20\" fill=\"#00CC00\" />\n",
       "<rect width=\".79\" height=\".79\" x=\"21\" y=\"20\" fill=\"#00CC00\" />\n",
       "<rect width=\".79\" height=\".79\" x=\"22\" y=\"20\" fill=\"#00CC00\" />\n",
       "<rect width=\".79\" height=\".79\" x=\"23\" y=\"20\" fill=\"#00CC00\" />\n",
       "<rect width=\".79\" height=\".79\" x=\"24\" y=\"20\" fill=\"#3333FF\" />\n",
       "<rect width=\".79\" height=\".79\" x=\"25\" y=\"20\" fill=\"#00CC00\" />\n",
       "<rect width=\".79\" height=\".79\" x=\"26\" y=\"20\" fill=\"#00CC00\" />\n",
       "<rect width=\".79\" height=\".79\" x=\"27\" y=\"20\" fill=\"#3333FF\" />\n",
       "<rect width=\".79\" height=\".79\" x=\"28\" y=\"20\" fill=\"#00CC00\" />\n",
       "<rect width=\".79\" height=\".79\" x=\"29\" y=\"20\" fill=\"#00CC00\" />\n",
       "<rect width=\".79\" height=\".79\" x=\"30\" y=\"20\" fill=\"#00CC00\" />\n",
       "<rect width=\".79\" height=\".79\" x=\"31\" y=\"20\" fill=\"#00CC00\" />\n",
       "<rect width=\".79\" height=\".79\" x=\"0\" y=\"21\" fill=\"#3333FF\" />\n",
       "<rect width=\".79\" height=\".79\" x=\"1\" y=\"21\" fill=\"#00CC00\" />\n",
       "<rect width=\".79\" height=\".79\" x=\"2\" y=\"21\" fill=\"#00CC00\" />\n",
       "<rect width=\".79\" height=\".79\" x=\"3\" y=\"21\" fill=\"#00CC00\" />\n",
       "<rect width=\".79\" height=\".79\" x=\"4\" y=\"21\" fill=\"#00CC00\" />\n",
       "<rect width=\".79\" height=\".79\" x=\"5\" y=\"21\" fill=\"#00CC00\" />\n",
       "<rect width=\".79\" height=\".79\" x=\"6\" y=\"21\" fill=\"#3333FF\" />\n",
       "<rect width=\".79\" height=\".79\" x=\"7\" y=\"21\" fill=\"#00CC00\" />\n",
       "<rect width=\".79\" height=\".79\" x=\"8\" y=\"21\" fill=\"#00CC00\" />\n",
       "<rect width=\".79\" height=\".79\" x=\"9\" y=\"21\" fill=\"#3333FF\" />\n",
       "<rect width=\".79\" height=\".79\" x=\"10\" y=\"21\" fill=\"#3333FF\" />\n",
       "<rect width=\".79\" height=\".79\" x=\"11\" y=\"21\" fill=\"#00CC00\" />\n",
       "<rect width=\".79\" height=\".79\" x=\"12\" y=\"21\" fill=\"#3333FF\" />\n",
       "<rect width=\".79\" height=\".79\" x=\"13\" y=\"21\" fill=\"#3333FF\" />\n",
       "<rect width=\".79\" height=\".79\" x=\"14\" y=\"21\" fill=\"#00CC00\" />\n",
       "<rect width=\".79\" height=\".79\" x=\"15\" y=\"21\" fill=\"#00CC00\" />\n",
       "<rect width=\".79\" height=\".79\" x=\"16\" y=\"21\" fill=\"#3333FF\" />\n",
       "<rect width=\".79\" height=\".79\" x=\"17\" y=\"21\" fill=\"#00CC00\" />\n",
       "<rect width=\".79\" height=\".79\" x=\"18\" y=\"21\" fill=\"#00CC00\" />\n",
       "<rect width=\".79\" height=\".79\" x=\"19\" y=\"21\" fill=\"#00CC00\" />\n",
       "<rect width=\".79\" height=\".79\" x=\"20\" y=\"21\" fill=\"#00CC00\" />\n",
       "<rect width=\".79\" height=\".79\" x=\"21\" y=\"21\" fill=\"#3333FF\" />\n",
       "<rect width=\".79\" height=\".79\" x=\"22\" y=\"21\" fill=\"#00CC00\" />\n",
       "<rect width=\".79\" height=\".79\" x=\"23\" y=\"21\" fill=\"#00CC00\" />\n",
       "<rect width=\".79\" height=\".79\" x=\"24\" y=\"21\" fill=\"#00CC00\" />\n",
       "<rect width=\".79\" height=\".79\" x=\"25\" y=\"21\" fill=\"#3333FF\" />\n",
       "<rect width=\".79\" height=\".79\" x=\"26\" y=\"21\" fill=\"#00CC00\" />\n",
       "<rect width=\".79\" height=\".79\" x=\"27\" y=\"21\" fill=\"#00CC00\" />\n",
       "<rect width=\".79\" height=\".79\" x=\"28\" y=\"21\" fill=\"#00CC00\" />\n",
       "<rect width=\".79\" height=\".79\" x=\"29\" y=\"21\" fill=\"#00CC00\" />\n",
       "<rect width=\".79\" height=\".79\" x=\"30\" y=\"21\" fill=\"#00CC00\" />\n",
       "<rect width=\".79\" height=\".79\" x=\"31\" y=\"21\" fill=\"#00CC00\" />\n",
       "<rect width=\".79\" height=\".79\" x=\"0\" y=\"22\" fill=\"#3333FF\" />\n",
       "<rect width=\".79\" height=\".79\" x=\"1\" y=\"22\" fill=\"#00CC00\" />\n",
       "<rect width=\".79\" height=\".79\" x=\"2\" y=\"22\" fill=\"#3333FF\" />\n",
       "<rect width=\".79\" height=\".79\" x=\"3\" y=\"22\" fill=\"#00CC00\" />\n",
       "<rect width=\".79\" height=\".79\" x=\"4\" y=\"22\" fill=\"#00CC00\" />\n",
       "<rect width=\".79\" height=\".79\" x=\"5\" y=\"22\" fill=\"#00CC00\" />\n",
       "<rect width=\".79\" height=\".79\" x=\"6\" y=\"22\" fill=\"#00CC00\" />\n",
       "<rect width=\".79\" height=\".79\" x=\"7\" y=\"22\" fill=\"#00CC00\" />\n",
       "<rect width=\".79\" height=\".79\" x=\"8\" y=\"22\" fill=\"#00CC00\" />\n",
       "<rect width=\".79\" height=\".79\" x=\"9\" y=\"22\" fill=\"#00CC00\" />\n",
       "<rect width=\".79\" height=\".79\" x=\"10\" y=\"22\" fill=\"#00CC00\" />\n",
       "<rect width=\".79\" height=\".79\" x=\"11\" y=\"22\" fill=\"#00CC00\" />\n",
       "<rect width=\".79\" height=\".79\" x=\"12\" y=\"22\" fill=\"#00CC00\" />\n",
       "<rect width=\".79\" height=\".79\" x=\"13\" y=\"22\" fill=\"#00CC00\" />\n",
       "<rect width=\".79\" height=\".79\" x=\"14\" y=\"22\" fill=\"#00CC00\" />\n",
       "<rect width=\".79\" height=\".79\" x=\"15\" y=\"22\" fill=\"#00CC00\" />\n",
       "<rect width=\".79\" height=\".79\" x=\"16\" y=\"22\" fill=\"#00CC00\" />\n",
       "<rect width=\".79\" height=\".79\" x=\"17\" y=\"22\" fill=\"#00CC00\" />\n",
       "<rect width=\".79\" height=\".79\" x=\"18\" y=\"22\" fill=\"#3333FF\" />\n",
       "<rect width=\".79\" height=\".79\" x=\"19\" y=\"22\" fill=\"#00CC00\" />\n",
       "<rect width=\".79\" height=\".79\" x=\"20\" y=\"22\" fill=\"#00CC00\" />\n",
       "<rect width=\".79\" height=\".79\" x=\"21\" y=\"22\" fill=\"#00CC00\" />\n",
       "<rect width=\".79\" height=\".79\" x=\"22\" y=\"22\" fill=\"#00CC00\" />\n",
       "<rect width=\".79\" height=\".79\" x=\"23\" y=\"22\" fill=\"#00CC00\" />\n",
       "<rect width=\".79\" height=\".79\" x=\"24\" y=\"22\" fill=\"#3333FF\" />\n",
       "<rect width=\".79\" height=\".79\" x=\"25\" y=\"22\" fill=\"#00CC00\" />\n",
       "<rect width=\".79\" height=\".79\" x=\"26\" y=\"22\" fill=\"#00CC00\" />\n",
       "<rect width=\".79\" height=\".79\" x=\"27\" y=\"22\" fill=\"#00CC00\" />\n",
       "<rect width=\".79\" height=\".79\" x=\"28\" y=\"22\" fill=\"#3333FF\" />\n",
       "<rect width=\".79\" height=\".79\" x=\"29\" y=\"22\" fill=\"#00CC00\" />\n",
       "<rect width=\".79\" height=\".79\" x=\"30\" y=\"22\" fill=\"#3333FF\" />\n",
       "<rect width=\".79\" height=\".79\" x=\"31\" y=\"22\" fill=\"#00CC00\" />\n",
       "<rect width=\".79\" height=\".79\" x=\"0\" y=\"23\" fill=\"#00CC00\" />\n",
       "<rect width=\".79\" height=\".79\" x=\"1\" y=\"23\" fill=\"#00CC00\" />\n",
       "<rect width=\".79\" height=\".79\" x=\"2\" y=\"23\" fill=\"#00CC00\" />\n",
       "<rect width=\".79\" height=\".79\" x=\"3\" y=\"23\" fill=\"#00CC00\" />\n",
       "<rect width=\".79\" height=\".79\" x=\"4\" y=\"23\" fill=\"#00CC00\" />\n",
       "<rect width=\".79\" height=\".79\" x=\"5\" y=\"23\" fill=\"#00CC00\" />\n",
       "<rect width=\".79\" height=\".79\" x=\"6\" y=\"23\" fill=\"#00CC00\" />\n",
       "<rect width=\".79\" height=\".79\" x=\"7\" y=\"23\" fill=\"#00CC00\" />\n",
       "<rect width=\".79\" height=\".79\" x=\"8\" y=\"23\" fill=\"#00CC00\" />\n",
       "<rect width=\".79\" height=\".79\" x=\"9\" y=\"23\" fill=\"#3333FF\" />\n",
       "<rect width=\".79\" height=\".79\" x=\"10\" y=\"23\" fill=\"#00CC00\" />\n",
       "<rect width=\".79\" height=\".79\" x=\"11\" y=\"23\" fill=\"#00CC00\" />\n",
       "<rect width=\".79\" height=\".79\" x=\"12\" y=\"23\" fill=\"#3333FF\" />\n",
       "<rect width=\".79\" height=\".79\" x=\"13\" y=\"23\" fill=\"#00CC00\" />\n",
       "<rect width=\".79\" height=\".79\" x=\"14\" y=\"23\" fill=\"#00CC00\" />\n",
       "<rect width=\".79\" height=\".79\" x=\"15\" y=\"23\" fill=\"#3333FF\" />\n",
       "<rect width=\".79\" height=\".79\" x=\"16\" y=\"23\" fill=\"#00CC00\" />\n",
       "<rect width=\".79\" height=\".79\" x=\"17\" y=\"23\" fill=\"#3333FF\" />\n",
       "<rect width=\".79\" height=\".79\" x=\"18\" y=\"23\" fill=\"#00CC00\" />\n",
       "<rect width=\".79\" height=\".79\" x=\"19\" y=\"23\" fill=\"#00CC00\" />\n",
       "<rect width=\".79\" height=\".79\" x=\"20\" y=\"23\" fill=\"#00CC00\" />\n",
       "<rect width=\".79\" height=\".79\" x=\"21\" y=\"23\" fill=\"#00CC00\" />\n",
       "<rect width=\".79\" height=\".79\" x=\"22\" y=\"23\" fill=\"#00CC00\" />\n",
       "<rect width=\".79\" height=\".79\" x=\"23\" y=\"23\" fill=\"#00CC00\" />\n",
       "<rect width=\".79\" height=\".79\" x=\"24\" y=\"23\" fill=\"#00CC00\" />\n",
       "<rect width=\".79\" height=\".79\" x=\"25\" y=\"23\" fill=\"#00CC00\" />\n",
       "<rect width=\".79\" height=\".79\" x=\"26\" y=\"23\" fill=\"#00CC00\" />\n",
       "<rect width=\".79\" height=\".79\" x=\"27\" y=\"23\" fill=\"#00CC00\" />\n",
       "<rect width=\".79\" height=\".79\" x=\"28\" y=\"23\" fill=\"#00CC00\" />\n",
       "<rect width=\".79\" height=\".79\" x=\"29\" y=\"23\" fill=\"#00CC00\" />\n",
       "<rect width=\".79\" height=\".79\" x=\"30\" y=\"23\" fill=\"#00CC00\" />\n",
       "<rect width=\".79\" height=\".79\" x=\"31\" y=\"23\" fill=\"#00CC00\" />\n",
       "<rect width=\".79\" height=\".79\" x=\"0\" y=\"24\" fill=\"#00CC00\" />\n",
       "<rect width=\".79\" height=\".79\" x=\"1\" y=\"24\" fill=\"#00CC00\" />\n",
       "<rect width=\".79\" height=\".79\" x=\"2\" y=\"24\" fill=\"#00CC00\" />\n",
       "<rect width=\".79\" height=\".79\" x=\"3\" y=\"24\" fill=\"#00CC00\" />\n",
       "<rect width=\".79\" height=\".79\" x=\"4\" y=\"24\" fill=\"#00CC00\" />\n",
       "<rect width=\".79\" height=\".79\" x=\"5\" y=\"24\" fill=\"#00CC00\" />\n",
       "<rect width=\".79\" height=\".79\" x=\"6\" y=\"24\" fill=\"#00CC00\" />\n",
       "<rect width=\".79\" height=\".79\" x=\"7\" y=\"24\" fill=\"#00CC00\" />\n",
       "<rect width=\".79\" height=\".79\" x=\"8\" y=\"24\" fill=\"#00CC00\" />\n",
       "<rect width=\".79\" height=\".79\" x=\"9\" y=\"24\" fill=\"#3333FF\" />\n",
       "<rect width=\".79\" height=\".79\" x=\"10\" y=\"24\" fill=\"#00CC00\" />\n",
       "<rect width=\".79\" height=\".79\" x=\"11\" y=\"24\" fill=\"#00CC00\" />\n",
       "<rect width=\".79\" height=\".79\" x=\"12\" y=\"24\" fill=\"#00CC00\" />\n",
       "<rect width=\".79\" height=\".79\" x=\"13\" y=\"24\" fill=\"#3333FF\" />\n",
       "<rect width=\".79\" height=\".79\" x=\"14\" y=\"24\" fill=\"#00CC00\" />\n",
       "<rect width=\".79\" height=\".79\" x=\"15\" y=\"24\" fill=\"#00CC00\" />\n",
       "<rect width=\".79\" height=\".79\" x=\"16\" y=\"24\" fill=\"#00CC00\" />\n",
       "<rect width=\".79\" height=\".79\" x=\"17\" y=\"24\" fill=\"#00CC00\" />\n",
       "<rect width=\".79\" height=\".79\" x=\"18\" y=\"24\" fill=\"#00CC00\" />\n",
       "<rect width=\".79\" height=\".79\" x=\"19\" y=\"24\" fill=\"#00CC00\" />\n",
       "<rect width=\".79\" height=\".79\" x=\"20\" y=\"24\" fill=\"#00CC00\" />\n",
       "<rect width=\".79\" height=\".79\" x=\"21\" y=\"24\" fill=\"#00CC00\" />\n",
       "<rect width=\".79\" height=\".79\" x=\"22\" y=\"24\" fill=\"#00CC00\" />\n",
       "<rect width=\".79\" height=\".79\" x=\"23\" y=\"24\" fill=\"#00CC00\" />\n",
       "<rect width=\".79\" height=\".79\" x=\"24\" y=\"24\" fill=\"#00CC00\" />\n",
       "<rect width=\".79\" height=\".79\" x=\"25\" y=\"24\" fill=\"#00CC00\" />\n",
       "<rect width=\".79\" height=\".79\" x=\"26\" y=\"24\" fill=\"#3333FF\" />\n",
       "<rect width=\".79\" height=\".79\" x=\"27\" y=\"24\" fill=\"#00CC00\" />\n",
       "<rect width=\".79\" height=\".79\" x=\"28\" y=\"24\" fill=\"#00CC00\" />\n",
       "<rect width=\".79\" height=\".79\" x=\"29\" y=\"24\" fill=\"#00CC00\" />\n",
       "<rect width=\".79\" height=\".79\" x=\"30\" y=\"24\" fill=\"#00CC00\" />\n",
       "<rect width=\".79\" height=\".79\" x=\"31\" y=\"24\" fill=\"#00CC00\" />\n",
       "<rect width=\".79\" height=\".79\" x=\"0\" y=\"25\" fill=\"#00CC00\" />\n",
       "<rect width=\".79\" height=\".79\" x=\"1\" y=\"25\" fill=\"#00CC00\" />\n",
       "<rect width=\".79\" height=\".79\" x=\"2\" y=\"25\" fill=\"#00CC00\" />\n",
       "<rect width=\".79\" height=\".79\" x=\"3\" y=\"25\" fill=\"#00CC00\" />\n",
       "<rect width=\".79\" height=\".79\" x=\"4\" y=\"25\" fill=\"#00CC00\" />\n",
       "<rect width=\".79\" height=\".79\" x=\"5\" y=\"25\" fill=\"#00CC00\" />\n",
       "<rect width=\".79\" height=\".79\" x=\"6\" y=\"25\" fill=\"#00CC00\" />\n",
       "<rect width=\".79\" height=\".79\" x=\"7\" y=\"25\" fill=\"#00CC00\" />\n",
       "<rect width=\".79\" height=\".79\" x=\"8\" y=\"25\" fill=\"#00CC00\" />\n",
       "<rect width=\".79\" height=\".79\" x=\"9\" y=\"25\" fill=\"#00CC00\" />\n",
       "<rect width=\".79\" height=\".79\" x=\"10\" y=\"25\" fill=\"#00CC00\" />\n",
       "<rect width=\".79\" height=\".79\" x=\"11\" y=\"25\" fill=\"#00CC00\" />\n",
       "<rect width=\".79\" height=\".79\" x=\"12\" y=\"25\" fill=\"#00CC00\" />\n",
       "<rect width=\".79\" height=\".79\" x=\"13\" y=\"25\" fill=\"#00CC00\" />\n",
       "<rect width=\".79\" height=\".79\" x=\"14\" y=\"25\" fill=\"#00CC00\" />\n",
       "<rect width=\".79\" height=\".79\" x=\"15\" y=\"25\" fill=\"#00CC00\" />\n",
       "<rect width=\".79\" height=\".79\" x=\"16\" y=\"25\" fill=\"#00CC00\" />\n",
       "<rect width=\".79\" height=\".79\" x=\"17\" y=\"25\" fill=\"#00CC00\" />\n",
       "<rect width=\".79\" height=\".79\" x=\"18\" y=\"25\" fill=\"#00CC00\" />\n",
       "<rect width=\".79\" height=\".79\" x=\"19\" y=\"25\" fill=\"#00CC00\" />\n",
       "<rect width=\".79\" height=\".79\" x=\"20\" y=\"25\" fill=\"#00CC00\" />\n",
       "<rect width=\".79\" height=\".79\" x=\"21\" y=\"25\" fill=\"#00CC00\" />\n",
       "<rect width=\".79\" height=\".79\" x=\"22\" y=\"25\" fill=\"#00CC00\" />\n",
       "<rect width=\".79\" height=\".79\" x=\"23\" y=\"25\" fill=\"#00CC00\" />\n",
       "<rect width=\".79\" height=\".79\" x=\"24\" y=\"25\" fill=\"#00CC00\" />\n",
       "<rect width=\".79\" height=\".79\" x=\"25\" y=\"25\" fill=\"#00CC00\" />\n",
       "<rect width=\".79\" height=\".79\" x=\"26\" y=\"25\" fill=\"#3333FF\" />\n",
       "<rect width=\".79\" height=\".79\" x=\"27\" y=\"25\" fill=\"#00CC00\" />\n",
       "<rect width=\".79\" height=\".79\" x=\"28\" y=\"25\" fill=\"#00CC00\" />\n",
       "<rect width=\".79\" height=\".79\" x=\"29\" y=\"25\" fill=\"#00CC00\" />\n",
       "<rect width=\".79\" height=\".79\" x=\"30\" y=\"25\" fill=\"#00CC00\" />\n",
       "<rect width=\".79\" height=\".79\" x=\"31\" y=\"25\" fill=\"#00CC00\" />\n",
       "<rect width=\".79\" height=\".79\" x=\"0\" y=\"26\" fill=\"#00CC00\" />\n",
       "<rect width=\".79\" height=\".79\" x=\"1\" y=\"26\" fill=\"#00CC00\" />\n",
       "<rect width=\".79\" height=\".79\" x=\"2\" y=\"26\" fill=\"#00CC00\" />\n",
       "<rect width=\".79\" height=\".79\" x=\"3\" y=\"26\" fill=\"#00CC00\" />\n",
       "<rect width=\".79\" height=\".79\" x=\"4\" y=\"26\" fill=\"#3333FF\" />\n",
       "<rect width=\".79\" height=\".79\" x=\"5\" y=\"26\" fill=\"#00CC00\" />\n",
       "<rect width=\".79\" height=\".79\" x=\"6\" y=\"26\" fill=\"#00CC00\" />\n",
       "<rect width=\".79\" height=\".79\" x=\"7\" y=\"26\" fill=\"#3333FF\" />\n",
       "<rect width=\".79\" height=\".79\" x=\"8\" y=\"26\" fill=\"#3333FF\" />\n",
       "<rect width=\".79\" height=\".79\" x=\"9\" y=\"26\" fill=\"#00CC00\" />\n",
       "<rect width=\".79\" height=\".79\" x=\"10\" y=\"26\" fill=\"#00CC00\" />\n",
       "<rect width=\".79\" height=\".79\" x=\"11\" y=\"26\" fill=\"#00CC00\" />\n",
       "<rect width=\".79\" height=\".79\" x=\"12\" y=\"26\" fill=\"#00CC00\" />\n",
       "<rect width=\".79\" height=\".79\" x=\"13\" y=\"26\" fill=\"#00CC00\" />\n",
       "<rect width=\".79\" height=\".79\" x=\"14\" y=\"26\" fill=\"#00CC00\" />\n",
       "<rect width=\".79\" height=\".79\" x=\"15\" y=\"26\" fill=\"#00CC00\" />\n",
       "<rect width=\".79\" height=\".79\" x=\"16\" y=\"26\" fill=\"#00CC00\" />\n",
       "<rect width=\".79\" height=\".79\" x=\"17\" y=\"26\" fill=\"#3333FF\" />\n",
       "<rect width=\".79\" height=\".79\" x=\"18\" y=\"26\" fill=\"#00CC00\" />\n",
       "<rect width=\".79\" height=\".79\" x=\"19\" y=\"26\" fill=\"#00CC00\" />\n",
       "<rect width=\".79\" height=\".79\" x=\"20\" y=\"26\" fill=\"#00CC00\" />\n",
       "<rect width=\".79\" height=\".79\" x=\"21\" y=\"26\" fill=\"#00CC00\" />\n",
       "<rect width=\".79\" height=\".79\" x=\"22\" y=\"26\" fill=\"#00CC00\" />\n",
       "<rect width=\".79\" height=\".79\" x=\"23\" y=\"26\" fill=\"#00CC00\" />\n",
       "<rect width=\".79\" height=\".79\" x=\"24\" y=\"26\" fill=\"#00CC00\" />\n",
       "<rect width=\".79\" height=\".79\" x=\"25\" y=\"26\" fill=\"#00CC00\" />\n",
       "<rect width=\".79\" height=\".79\" x=\"26\" y=\"26\" fill=\"#00CC00\" />\n",
       "<rect width=\".79\" height=\".79\" x=\"27\" y=\"26\" fill=\"#00CC00\" />\n",
       "<rect width=\".79\" height=\".79\" x=\"28\" y=\"26\" fill=\"#00CC00\" />\n",
       "<rect width=\".79\" height=\".79\" x=\"29\" y=\"26\" fill=\"#00CC00\" />\n",
       "<rect width=\".79\" height=\".79\" x=\"30\" y=\"26\" fill=\"#00CC00\" />\n",
       "<rect width=\".79\" height=\".79\" x=\"31\" y=\"26\" fill=\"#3333FF\" />\n",
       "<rect width=\".79\" height=\".79\" x=\"0\" y=\"27\" fill=\"#00CC00\" />\n",
       "<rect width=\".79\" height=\".79\" x=\"1\" y=\"27\" fill=\"#00CC00\" />\n",
       "<rect width=\".79\" height=\".79\" x=\"2\" y=\"27\" fill=\"#3333FF\" />\n",
       "<rect width=\".79\" height=\".79\" x=\"3\" y=\"27\" fill=\"#00CC00\" />\n",
       "<rect width=\".79\" height=\".79\" x=\"4\" y=\"27\" fill=\"#3333FF\" />\n",
       "<rect width=\".79\" height=\".79\" x=\"5\" y=\"27\" fill=\"#00CC00\" />\n",
       "<rect width=\".79\" height=\".79\" x=\"6\" y=\"27\" fill=\"#00CC00\" />\n",
       "<rect width=\".79\" height=\".79\" x=\"7\" y=\"27\" fill=\"#00CC00\" />\n",
       "<rect width=\".79\" height=\".79\" x=\"8\" y=\"27\" fill=\"#00CC00\" />\n",
       "<rect width=\".79\" height=\".79\" x=\"9\" y=\"27\" fill=\"#3333FF\" />\n",
       "<rect width=\".79\" height=\".79\" x=\"10\" y=\"27\" fill=\"#00CC00\" />\n",
       "<rect width=\".79\" height=\".79\" x=\"11\" y=\"27\" fill=\"#3333FF\" />\n",
       "<rect width=\".79\" height=\".79\" x=\"12\" y=\"27\" fill=\"#00CC00\" />\n",
       "<rect width=\".79\" height=\".79\" x=\"13\" y=\"27\" fill=\"#3333FF\" />\n",
       "<rect width=\".79\" height=\".79\" x=\"14\" y=\"27\" fill=\"#00CC00\" />\n",
       "<rect width=\".79\" height=\".79\" x=\"15\" y=\"27\" fill=\"#3333FF\" />\n",
       "<rect width=\".79\" height=\".79\" x=\"16\" y=\"27\" fill=\"#3333FF\" />\n",
       "<rect width=\".79\" height=\".79\" x=\"17\" y=\"27\" fill=\"#00CC00\" />\n",
       "<rect width=\".79\" height=\".79\" x=\"18\" y=\"27\" fill=\"#00CC00\" />\n",
       "<rect width=\".79\" height=\".79\" x=\"19\" y=\"27\" fill=\"#3333FF\" />\n",
       "<rect width=\".79\" height=\".79\" x=\"20\" y=\"27\" fill=\"#00CC00\" />\n",
       "<rect width=\".79\" height=\".79\" x=\"21\" y=\"27\" fill=\"#00CC00\" />\n",
       "<rect width=\".79\" height=\".79\" x=\"22\" y=\"27\" fill=\"#3333FF\" />\n",
       "<rect width=\".79\" height=\".79\" x=\"23\" y=\"27\" fill=\"#00CC00\" />\n",
       "<rect width=\".79\" height=\".79\" x=\"24\" y=\"27\" fill=\"#00CC00\" />\n",
       "<rect width=\".79\" height=\".79\" x=\"25\" y=\"27\" fill=\"#00CC00\" />\n",
       "<rect width=\".79\" height=\".79\" x=\"26\" y=\"27\" fill=\"#3333FF\" />\n",
       "<rect width=\".79\" height=\".79\" x=\"27\" y=\"27\" fill=\"#00CC00\" />\n",
       "<rect width=\".79\" height=\".79\" x=\"28\" y=\"27\" fill=\"#3333FF\" />\n",
       "<rect width=\".79\" height=\".79\" x=\"29\" y=\"27\" fill=\"#00CC00\" />\n",
       "<rect width=\".79\" height=\".79\" x=\"30\" y=\"27\" fill=\"#00CC00\" />\n",
       "<rect width=\".79\" height=\".79\" x=\"31\" y=\"27\" fill=\"#00CC00\" />\n",
       "<rect width=\".79\" height=\".79\" x=\"0\" y=\"28\" fill=\"#00CC00\" />\n",
       "<rect width=\".79\" height=\".79\" x=\"1\" y=\"28\" fill=\"#00CC00\" />\n",
       "<rect width=\".79\" height=\".79\" x=\"2\" y=\"28\" fill=\"#3333FF\" />\n",
       "<rect width=\".79\" height=\".79\" x=\"3\" y=\"28\" fill=\"#3333FF\" />\n",
       "<rect width=\".79\" height=\".79\" x=\"4\" y=\"28\" fill=\"#00CC00\" />\n",
       "<rect width=\".79\" height=\".79\" x=\"5\" y=\"28\" fill=\"#00CC00\" />\n",
       "<rect width=\".79\" height=\".79\" x=\"6\" y=\"28\" fill=\"#00CC00\" />\n",
       "<rect width=\".79\" height=\".79\" x=\"7\" y=\"28\" fill=\"#3333FF\" />\n",
       "<rect width=\".79\" height=\".79\" x=\"8\" y=\"28\" fill=\"#00CC00\" />\n",
       "<rect width=\".79\" height=\".79\" x=\"9\" y=\"28\" fill=\"#00CC00\" />\n",
       "<rect width=\".79\" height=\".79\" x=\"10\" y=\"28\" fill=\"#3333FF\" />\n",
       "<rect width=\".79\" height=\".79\" x=\"11\" y=\"28\" fill=\"#00CC00\" />\n",
       "<rect width=\".79\" height=\".79\" x=\"12\" y=\"28\" fill=\"#3333FF\" />\n",
       "<rect width=\".79\" height=\".79\" x=\"13\" y=\"28\" fill=\"#00CC00\" />\n",
       "<rect width=\".79\" height=\".79\" x=\"14\" y=\"28\" fill=\"#00CC00\" />\n",
       "<rect width=\".79\" height=\".79\" x=\"15\" y=\"28\" fill=\"#3333FF\" />\n",
       "<rect width=\".79\" height=\".79\" x=\"16\" y=\"28\" fill=\"#00CC00\" />\n",
       "<rect width=\".79\" height=\".79\" x=\"17\" y=\"28\" fill=\"#00CC00\" />\n",
       "<rect width=\".79\" height=\".79\" x=\"18\" y=\"28\" fill=\"#00CC00\" />\n",
       "<rect width=\".79\" height=\".79\" x=\"19\" y=\"28\" fill=\"#3333FF\" />\n",
       "<rect width=\".79\" height=\".79\" x=\"20\" y=\"28\" fill=\"#00CC00\" />\n",
       "<rect width=\".79\" height=\".79\" x=\"21\" y=\"28\" fill=\"#00CC00\" />\n",
       "<rect width=\".79\" height=\".79\" x=\"22\" y=\"28\" fill=\"#00CC00\" />\n",
       "<rect width=\".79\" height=\".79\" x=\"23\" y=\"28\" fill=\"#00CC00\" />\n",
       "<rect width=\".79\" height=\".79\" x=\"24\" y=\"28\" fill=\"#00CC00\" />\n",
       "<rect width=\".79\" height=\".79\" x=\"25\" y=\"28\" fill=\"#00CC00\" />\n",
       "<rect width=\".79\" height=\".79\" x=\"26\" y=\"28\" fill=\"#00CC00\" />\n",
       "<rect width=\".79\" height=\".79\" x=\"27\" y=\"28\" fill=\"#00CC00\" />\n",
       "<rect width=\".79\" height=\".79\" x=\"28\" y=\"28\" fill=\"#00CC00\" />\n",
       "<rect width=\".79\" height=\".79\" x=\"29\" y=\"28\" fill=\"#3333FF\" />\n",
       "<rect width=\".79\" height=\".79\" x=\"30\" y=\"28\" fill=\"#00CC00\" />\n",
       "<rect width=\".79\" height=\".79\" x=\"31\" y=\"28\" fill=\"#00CC00\" />\n",
       "<rect width=\".79\" height=\".79\" x=\"0\" y=\"29\" fill=\"#00CC00\" />\n",
       "<rect width=\".79\" height=\".79\" x=\"1\" y=\"29\" fill=\"#00CC00\" />\n",
       "<rect width=\".79\" height=\".79\" x=\"2\" y=\"29\" fill=\"#00CC00\" />\n",
       "<rect width=\".79\" height=\".79\" x=\"3\" y=\"29\" fill=\"#3333FF\" />\n",
       "<rect width=\".79\" height=\".79\" x=\"4\" y=\"29\" fill=\"#00CC00\" />\n",
       "<rect width=\".79\" height=\".79\" x=\"5\" y=\"29\" fill=\"#00CC00\" />\n",
       "<rect width=\".79\" height=\".79\" x=\"6\" y=\"29\" fill=\"#3333FF\" />\n",
       "<rect width=\".79\" height=\".79\" x=\"7\" y=\"29\" fill=\"#3333FF\" />\n",
       "<rect width=\".79\" height=\".79\" x=\"8\" y=\"29\" fill=\"#00CC00\" />\n",
       "<rect width=\".79\" height=\".79\" x=\"9\" y=\"29\" fill=\"#00CC00\" />\n",
       "<rect width=\".79\" height=\".79\" x=\"10\" y=\"29\" fill=\"#00CC00\" />\n",
       "<rect width=\".79\" height=\".79\" x=\"11\" y=\"29\" fill=\"#00CC00\" />\n",
       "<rect width=\".79\" height=\".79\" x=\"12\" y=\"29\" fill=\"#3333FF\" />\n",
       "<rect width=\".79\" height=\".79\" x=\"13\" y=\"29\" fill=\"#00CC00\" />\n",
       "<rect width=\".79\" height=\".79\" x=\"14\" y=\"29\" fill=\"#3333FF\" />\n",
       "<rect width=\".79\" height=\".79\" x=\"15\" y=\"29\" fill=\"#3333FF\" />\n",
       "<rect width=\".79\" height=\".79\" x=\"16\" y=\"29\" fill=\"#3333FF\" />\n",
       "<rect width=\".79\" height=\".79\" x=\"17\" y=\"29\" fill=\"#00CC00\" />\n",
       "<rect width=\".79\" height=\".79\" x=\"18\" y=\"29\" fill=\"#3333FF\" />\n",
       "<rect width=\".79\" height=\".79\" x=\"19\" y=\"29\" fill=\"#00CC00\" />\n",
       "<rect width=\".79\" height=\".79\" x=\"20\" y=\"29\" fill=\"#00CC00\" />\n",
       "<rect width=\".79\" height=\".79\" x=\"21\" y=\"29\" fill=\"#00CC00\" />\n",
       "<rect width=\".79\" height=\".79\" x=\"22\" y=\"29\" fill=\"#3333FF\" />\n",
       "<rect width=\".79\" height=\".79\" x=\"23\" y=\"29\" fill=\"#00CC00\" />\n",
       "<rect width=\".79\" height=\".79\" x=\"24\" y=\"29\" fill=\"#00CC00\" />\n",
       "<rect width=\".79\" height=\".79\" x=\"25\" y=\"29\" fill=\"#00CC00\" />\n",
       "<rect width=\".79\" height=\".79\" x=\"26\" y=\"29\" fill=\"#00CC00\" />\n",
       "<rect width=\".79\" height=\".79\" x=\"27\" y=\"29\" fill=\"#00CC00\" />\n",
       "<rect width=\".79\" height=\".79\" x=\"28\" y=\"29\" fill=\"#3333FF\" />\n",
       "<rect width=\".79\" height=\".79\" x=\"29\" y=\"29\" fill=\"#00CC00\" />\n",
       "<rect width=\".79\" height=\".79\" x=\"30\" y=\"29\" fill=\"#00CC00\" />\n",
       "<rect width=\".79\" height=\".79\" x=\"31\" y=\"29\" fill=\"#00CC00\" />\n",
       "<rect width=\".79\" height=\".79\" x=\"0\" y=\"30\" fill=\"#00CC00\" />\n",
       "<rect width=\".79\" height=\".79\" x=\"1\" y=\"30\" fill=\"#00CC00\" />\n",
       "<rect width=\".79\" height=\".79\" x=\"2\" y=\"30\" fill=\"#00CC00\" />\n",
       "<rect width=\".79\" height=\".79\" x=\"3\" y=\"30\" fill=\"#00CC00\" />\n",
       "<rect width=\".79\" height=\".79\" x=\"4\" y=\"30\" fill=\"#3333FF\" />\n",
       "<rect width=\".79\" height=\".79\" x=\"5\" y=\"30\" fill=\"#00CC00\" />\n",
       "<rect width=\".79\" height=\".79\" x=\"6\" y=\"30\" fill=\"#00CC00\" />\n",
       "<rect width=\".79\" height=\".79\" x=\"7\" y=\"30\" fill=\"#00CC00\" />\n",
       "<rect width=\".79\" height=\".79\" x=\"8\" y=\"30\" fill=\"#00CC00\" />\n",
       "<rect width=\".79\" height=\".79\" x=\"9\" y=\"30\" fill=\"#00CC00\" />\n",
       "<rect width=\".79\" height=\".79\" x=\"10\" y=\"30\" fill=\"#00CC00\" />\n",
       "<rect width=\".79\" height=\".79\" x=\"11\" y=\"30\" fill=\"#00CC00\" />\n",
       "<rect width=\".79\" height=\".79\" x=\"12\" y=\"30\" fill=\"#3333FF\" />\n",
       "<rect width=\".79\" height=\".79\" x=\"13\" y=\"30\" fill=\"#00CC00\" />\n",
       "<rect width=\".79\" height=\".79\" x=\"14\" y=\"30\" fill=\"#00CC00\" />\n",
       "<rect width=\".79\" height=\".79\" x=\"15\" y=\"30\" fill=\"#00CC00\" />\n",
       "<rect width=\".79\" height=\".79\" x=\"16\" y=\"30\" fill=\"#3333FF\" />\n",
       "<rect width=\".79\" height=\".79\" x=\"17\" y=\"30\" fill=\"#00CC00\" />\n",
       "<rect width=\".79\" height=\".79\" x=\"18\" y=\"30\" fill=\"#00CC00\" />\n",
       "<rect width=\".79\" height=\".79\" x=\"19\" y=\"30\" fill=\"#00CC00\" />\n",
       "<rect width=\".79\" height=\".79\" x=\"20\" y=\"30\" fill=\"#3333FF\" />\n",
       "<rect width=\".79\" height=\".79\" x=\"21\" y=\"30\" fill=\"#00CC00\" />\n",
       "<rect width=\".79\" height=\".79\" x=\"22\" y=\"30\" fill=\"#00CC00\" />\n",
       "<rect width=\".79\" height=\".79\" x=\"23\" y=\"30\" fill=\"#00CC00\" />\n",
       "<rect width=\".79\" height=\".79\" x=\"24\" y=\"30\" fill=\"#00CC00\" />\n",
       "<rect width=\".79\" height=\".79\" x=\"25\" y=\"30\" fill=\"#00CC00\" />\n",
       "<rect width=\".79\" height=\".79\" x=\"26\" y=\"30\" fill=\"#00CC00\" />\n",
       "<rect width=\".79\" height=\".79\" x=\"27\" y=\"30\" fill=\"#00CC00\" />\n",
       "<rect width=\".79\" height=\".79\" x=\"28\" y=\"30\" fill=\"#00CC00\" />\n",
       "<rect width=\".79\" height=\".79\" x=\"29\" y=\"30\" fill=\"#00CC00\" />\n",
       "<rect width=\".79\" height=\".79\" x=\"30\" y=\"30\" fill=\"#00CC00\" />\n",
       "<rect width=\".79\" height=\".79\" x=\"31\" y=\"30\" fill=\"#00CC00\" />\n",
       "<rect width=\".79\" height=\".79\" x=\"0\" y=\"31\" fill=\"#3333FF\" />\n",
       "<rect width=\".79\" height=\".79\" x=\"1\" y=\"31\" fill=\"#00CC00\" />\n",
       "<rect width=\".79\" height=\".79\" x=\"2\" y=\"31\" fill=\"#00CC00\" />\n",
       "<rect width=\".79\" height=\".79\" x=\"3\" y=\"31\" fill=\"#3333FF\" />\n",
       "<rect width=\".79\" height=\".79\" x=\"4\" y=\"31\" fill=\"#00CC00\" />\n",
       "<rect width=\".79\" height=\".79\" x=\"5\" y=\"31\" fill=\"#00CC00\" />\n",
       "<rect width=\".79\" height=\".79\" x=\"6\" y=\"31\" fill=\"#00CC00\" />\n",
       "<rect width=\".79\" height=\".79\" x=\"7\" y=\"31\" fill=\"#00CC00\" />\n",
       "<rect width=\".79\" height=\".79\" x=\"8\" y=\"31\" fill=\"#3333FF\" />\n",
       "<rect width=\".79\" height=\".79\" x=\"9\" y=\"31\" fill=\"#00CC00\" />\n",
       "<rect width=\".79\" height=\".79\" x=\"10\" y=\"31\" fill=\"#00CC00\" />\n",
       "<rect width=\".79\" height=\".79\" x=\"11\" y=\"31\" fill=\"#00CC00\" />\n",
       "<rect width=\".79\" height=\".79\" x=\"12\" y=\"31\" fill=\"#00CC00\" />\n",
       "<rect width=\".79\" height=\".79\" x=\"13\" y=\"31\" fill=\"#00CC00\" />\n",
       "<rect width=\".79\" height=\".79\" x=\"14\" y=\"31\" fill=\"#00CC00\" />\n",
       "<rect width=\".79\" height=\".79\" x=\"15\" y=\"31\" fill=\"#00CC00\" />\n",
       "<rect width=\".79\" height=\".79\" x=\"16\" y=\"31\" fill=\"#00CC00\" />\n",
       "<rect width=\".79\" height=\".79\" x=\"17\" y=\"31\" fill=\"#3333FF\" />\n",
       "<rect width=\".79\" height=\".79\" x=\"18\" y=\"31\" fill=\"#00CC00\" />\n",
       "<rect width=\".79\" height=\".79\" x=\"19\" y=\"31\" fill=\"#00CC00\" />\n",
       "<rect width=\".79\" height=\".79\" x=\"20\" y=\"31\" fill=\"#00CC00\" />\n",
       "<rect width=\".79\" height=\".79\" x=\"21\" y=\"31\" fill=\"#3333FF\" />\n",
       "<rect width=\".79\" height=\".79\" x=\"22\" y=\"31\" fill=\"#00CC00\" />\n",
       "<rect width=\".79\" height=\".79\" x=\"23\" y=\"31\" fill=\"#00CC00\" />\n",
       "<rect width=\".79\" height=\".79\" x=\"24\" y=\"31\" fill=\"#00CC00\" />\n",
       "<rect width=\".79\" height=\".79\" x=\"25\" y=\"31\" fill=\"#00CC00\" />\n",
       "<rect width=\".79\" height=\".79\" x=\"26\" y=\"31\" fill=\"#00CC00\" />\n",
       "<rect width=\".79\" height=\".79\" x=\"27\" y=\"31\" fill=\"#00CC00\" />\n",
       "<rect width=\".79\" height=\".79\" x=\"28\" y=\"31\" fill=\"#00CC00\" />\n",
       "<rect width=\".79\" height=\".79\" x=\"29\" y=\"31\" fill=\"#00CC00\" />\n",
       "<rect width=\".79\" height=\".79\" x=\"30\" y=\"31\" fill=\"#00CC00\" />\n",
       "<rect width=\".79\" height=\".79\" x=\"31\" y=\"31\" fill=\"#00CC00\" />\n",
       "</svg>"
      ],
      "text/plain": [
       "32×32 Array{RGB{Float64},2} with eltype ColorTypes.RGB{Float64}:\n",
       " RGB{Float64}(0.0,0.8,0.0)  …  RGB{Float64}(0.0,0.8,0.0)\n",
       " RGB{Float64}(0.0,0.8,0.0)     RGB{Float64}(0.0,0.8,0.0)\n",
       " RGB{Float64}(0.0,0.8,0.0)     RGB{Float64}(0.2,0.2,1.0)\n",
       " RGB{Float64}(0.0,0.8,0.0)     RGB{Float64}(0.2,0.2,1.0)\n",
       " RGB{Float64}(0.2,0.2,1.0)     RGB{Float64}(0.0,0.8,0.0)\n",
       " RGB{Float64}(0.0,0.8,0.0)  …  RGB{Float64}(0.0,0.8,0.0)\n",
       " RGB{Float64}(0.2,0.2,1.0)     RGB{Float64}(0.0,0.8,0.0)\n",
       " RGB{Float64}(0.2,0.2,1.0)     RGB{Float64}(0.0,0.8,0.0)\n",
       " RGB{Float64}(0.2,0.2,1.0)     RGB{Float64}(0.0,0.8,0.0)\n",
       " RGB{Float64}(0.0,0.8,0.0)     RGB{Float64}(0.2,0.2,1.0)\n",
       " ⋮                          ⋱  \n",
       " RGB{Float64}(0.0,0.8,0.0)     RGB{Float64}(0.0,0.8,0.0)\n",
       " RGB{Float64}(0.0,0.8,0.0)     RGB{Float64}(0.0,0.8,0.0)\n",
       " RGB{Float64}(0.0,0.8,0.0)  …  RGB{Float64}(0.0,0.8,0.0)\n",
       " RGB{Float64}(0.0,0.8,0.0)     RGB{Float64}(0.2,0.2,1.0)\n",
       " RGB{Float64}(0.0,0.8,0.0)     RGB{Float64}(0.0,0.8,0.0)\n",
       " RGB{Float64}(0.0,0.8,0.0)     RGB{Float64}(0.0,0.8,0.0)\n",
       " RGB{Float64}(0.0,0.8,0.0)     RGB{Float64}(0.0,0.8,0.0)\n",
       " RGB{Float64}(0.0,0.8,0.0)  …  RGB{Float64}(0.0,0.8,0.0)\n",
       " RGB{Float64}(0.2,0.2,1.0)     RGB{Float64}(0.0,0.8,0.0)"
      ]
     },
     "metadata": {},
     "output_type": "display_data"
    }
   ],
   "source": [
    "update!(plants, 8, 0.02, 0.1)\n",
    "to_colors.(plants)"
   ]
  },
  {
   "cell_type": "markdown",
   "metadata": {},
   "source": [
    "## Testing\n",
    "\n",
    "- The only way to make sure your code actually works is to test it.\n",
    "- Julia has convenient built-in macros for automated tests. "
   ]
  },
  {
   "cell_type": "code",
   "execution_count": 6,
   "metadata": {},
   "outputs": [
    {
     "name": "stderr",
     "output_type": "stream",
     "text": [
      "\u001b[32m\u001b[1m  Activating\u001b[22m\u001b[39m project at `c:\\Projects\\julia-introduction\\notebooks\\MyPackage`\n"
     ]
    },
    {
     "name": "stderr",
     "output_type": "stream",
     "text": [
      "\u001b[32m\u001b[1m   Resolving\u001b[22m\u001b[39m package versions...\n"
     ]
    },
    {
     "name": "stderr",
     "output_type": "stream",
     "text": [
      "\u001b[32m\u001b[1m    Updating\u001b[22m\u001b[39m `C:\\Projects\\julia-introduction\\notebooks\\MyPackage\\Project.toml`\n",
      "  \u001b[90m[8dfed614] \u001b[39m\u001b[92m+ Test\u001b[39m\n",
      "\u001b[32m\u001b[1m  No Changes\u001b[22m\u001b[39m to `C:\\Projects\\julia-introduction\\notebooks\\MyPackage\\Manifest.toml`"
     ]
    },
    {
     "name": "stderr",
     "output_type": "stream",
     "text": [
      "\n"
     ]
    }
   ],
   "source": [
    "import Pkg\n",
    "Pkg.activate(\"MyPackage\")\n",
    "Pkg.add(\"Test\")"
   ]
  },
  {
   "cell_type": "code",
   "execution_count": 7,
   "metadata": {},
   "outputs": [
    {
     "data": {
      "text/plain": [
       "\u001b[32m\u001b[1mTest Passed\u001b[22m\u001b[39m"
      ]
     },
     "metadata": {},
     "output_type": "display_data"
    }
   ],
   "source": [
    "using Test\n",
    "@test 1 + 1 == 2"
   ]
  },
  {
   "cell_type": "markdown",
   "metadata": {},
   "source": [
    "- Group related tests together into a test set"
   ]
  },
  {
   "cell_type": "code",
   "execution_count": 8,
   "metadata": {},
   "outputs": [
    {
     "name": "stdout",
     "output_type": "stream",
     "text": [
      "\u001b[0m\u001b[1mTest Summary:              | \u001b[22m\u001b[32m\u001b[1mPass  \u001b[22m\u001b[39m\u001b[36m\u001b[1mTotal  \u001b[22m\u001b[39m\u001b[0m\u001b[1mTime\u001b[22m\n",
      "Test arithmetic equalities | \u001b[32m   1  \u001b[39m\u001b[36m    1  \u001b[39m\u001b[0m0.1s\n"
     ]
    },
    {
     "data": {
      "text/plain": [
       "Test.DefaultTestSet(\"Test arithmetic equalities\", Any[], 1, false, false, true, 1.708196951779e9, 1.708196951911e9, false, \"c:\\\\Projects\\\\julia-introduction\\\\notebooks\\\\07_creating_packages.ipynb\")"
      ]
     },
     "metadata": {},
     "output_type": "display_data"
    }
   ],
   "source": [
    "@testset \"Test arithmetic equalities\" begin\n",
    "    @test 1 + 1 == 2\n",
    "end"
   ]
  },
  {
   "cell_type": "markdown",
   "metadata": {},
   "source": [
    "### Testing a package\n",
    "\n",
    "It is good practice to add a set of tests to your packages. This\n",
    " - ensures that it works as intended\n",
    " - defines what actually works\n",
    " \n",
    "The tests are added to `test/runtests.jl` in the package \n",
    "directory. We will add the following to `MyPackage`:\n",
    "```julia\n",
    "using Test\n",
    "@testset \"Test arithmetic equalities\" begin\n",
    "    @test 1 + 1 == 2\n",
    "end\n",
    "```\n",
    "\n",
    "If you didn't already, you also need to add the `Test` package to `MyPackage`s dependencies:\n",
    "```julia\n",
    "Pkg.activate(\"MyPackage\")\n",
    "Pkg.add(\"Test\")\n",
    "```\n",
    "\n",
    "The `project.toml` file should look something like this:\n",
    "\n",
    "```\n",
    "name = \"MyPackage\"\n",
    "uuid = \"2079a258-defa-40a0-8316-dccef70ae21b\"\n",
    "authors = [\"Jarno Rantaharju\"]\n",
    "version = \"0.1.0\"\n",
    "\n",
    "[deps]\n",
    "Test = \"8dfed614-e22c-5e08-85e1-65c5234f0b40\"\n",
    "```\n",
    "\n",
    "Now you can run the tests using the Pkg module:"
   ]
  },
  {
   "cell_type": "code",
   "execution_count": null,
   "metadata": {},
   "outputs": [],
   "source": [
    "Pkg.activate(\"MyPackage\")\n",
    "Pkg.test(\"MyPackage\")"
   ]
  },
  {
   "cell_type": "markdown",
   "metadata": {},
   "source": [
    "### Exercise 4: Testing\n",
    "\n",
    "Add a test to the `Epidemic` package. \n",
    "\n",
    "Create a folder called `test` and a file named `runtests.jl` in it.\n",
    "\n",
    "In `runtests.jl` create an uninfected and an infected Plant. Run `interact!` with  `infection_rate=1` and make sure that the uninfected plant becomes infected if the other plant is infected.\n",
    "\n",
    "```julia\n",
    "using Test\n",
    "using Epidemic\n",
    "\n",
    "@testset \"Test certain infection\" begin\n",
    "    plant1 = Plant(Epidemic.uninfected, 0)\n",
    "    plant2 = Plant(Epidemic.infected, 0)\n",
    "    interact!(...)\n",
    "    @test ...\n",
    "end\n",
    "```\n",
    "Note that you need to restart the kernel again."
   ]
  },
  {
   "cell_type": "code",
   "execution_count": 1,
   "metadata": {},
   "outputs": [
    {
     "name": "stderr",
     "output_type": "stream",
     "text": [
      "\u001b[32m\u001b[1m  Activating\u001b[22m\u001b[39m project at `c:\\Projects\\julia-introduction\\notebooks\\Epidemic`\n"
     ]
    },
    {
     "name": "stderr",
     "output_type": "stream",
     "text": [
      "\u001b[32m\u001b[1m   Resolving\u001b[22m\u001b[39m package versions...\n"
     ]
    },
    {
     "name": "stderr",
     "output_type": "stream",
     "text": [
      "\u001b[32m\u001b[1m  No Changes\u001b[22m\u001b[39m to `C:\\Projects\\julia-introduction\\notebooks\\Epidemic\\Project.toml`\n",
      "\u001b[32m\u001b[1m  No Changes\u001b[22m\u001b[39m to `C:\\Projects\\julia-introduction\\notebooks\\Epidemic\\Manifest.toml`"
     ]
    },
    {
     "name": "stderr",
     "output_type": "stream",
     "text": [
      "\n"
     ]
    }
   ],
   "source": [
    "# add Test package to Epidemic\n",
    "using Pkg\n",
    "Pkg.activate(\"Epidemic\")\n",
    "Pkg.add(\"Test\")"
   ]
  },
  {
   "cell_type": "code",
   "execution_count": 2,
   "metadata": {},
   "outputs": [
    {
     "name": "stderr",
     "output_type": "stream",
     "text": [
      "\u001b[32m\u001b[1m     Testing\u001b[22m\u001b[39m Epidemic\n"
     ]
    },
    {
     "name": "stderr",
     "output_type": "stream",
     "text": [
      "\u001b[32m\u001b[1m      Status\u001b[22m\u001b[39m `C:\\Users\\jiahuang\\AppData\\Local\\Temp\\jl_sEl9Ph\\Project.toml`\n",
      "  \u001b[90m[8ee5b7ce] \u001b[39mEpidemic v0.1.0 `C:\\Projects\\julia-introduction\\notebooks\\Epidemic`\n",
      "  \u001b[90m[91a5bcdd] \u001b[39mPlots v1.40.1\n",
      "  \u001b[90m[8dfed614] \u001b[39mTest\n",
      "\u001b[32m\u001b[1m      Status\u001b[22m\u001b[39m `C:\\Users\\jiahuang\\AppData\\Local\\Temp\\jl_sEl9Ph\\Manifest.toml`\n"
     ]
    },
    {
     "name": "stderr",
     "output_type": "stream",
     "text": [
      "  \u001b[90m[d1d4a3ce] \u001b[39mBitFlags v0.1.8\n",
      "  \u001b[90m[944b1d66] \u001b[39mCodecZlib v0.7.4\n",
      "  \u001b[90m[35d6a980] \u001b[39mColorSchemes v3.24.0\n",
      "  \u001b[90m[3da002f7] \u001b[39mColorTypes v0.11.4\n",
      "  \u001b[90m[c3611d14] \u001b[39mColorVectorSpace v0.10.0\n",
      "  \u001b[90m[5ae59095] \u001b[39mColors v0.12.10\n",
      "  \u001b[90m[34da2185] \u001b[39mCompat v4.12.0\n",
      "  \u001b[90m[f0e56b4a] \u001b[39mConcurrentUtilities v2.3.1\n",
      "  \u001b[90m[d38c429a] \u001b[39mContour v0.6.2\n",
      "  \u001b[90m[9a962f9c] \u001b[39mDataAPI v1.16.0\n",
      "  \u001b[90m[864edb3b] \u001b[39mDataStructures v0.18.16\n",
      "  \u001b[90m[8bb1440f] \u001b[39mDelimitedFiles v1.9.1\n",
      "  \u001b[90m[ffbed154] \u001b[39mDocStringExtensions v0.9.3\n",
      "  \u001b[90m[8ee5b7ce] \u001b[39mEpidemic v0.1.0 `C:\\Projects\\julia-introduction\\notebooks\\Epidemic`\n",
      "  \u001b[90m[460bff9d] \u001b[39mExceptionUnwrapping v0.1.10\n",
      "  \u001b[90m[c87230d0] \u001b[39mFFMPEG v0.4.1\n",
      "  \u001b[90m[53c48c17] \u001b[39mFixedPointNumbers v0.8.4\n",
      "  \u001b[90m[59287772] \u001b[39mFormatting v0.4.2\n",
      "  \u001b[90m[28b8d3ca] \u001b[39mGR v0.73.2\n",
      "  \u001b[90m[42e2da0e] \u001b[39mGrisu v1.0.2\n",
      "  \u001b[90m[cd3eb016] \u001b[39mHTTP v1.10.2\n",
      "  \u001b[90m[92d709cd] \u001b[39mIrrationalConstants v0.2.2\n",
      "  \u001b[90m[1019f520] \u001b[39mJLFzf v0.1.7\n",
      "  \u001b[90m[692b3bcd] \u001b[39mJLLWrappers v1.5.0\n",
      "  \u001b[90m[682c06a0] \u001b[39mJSON v0.21.4\n",
      "  \u001b[90m[b964fa9f] \u001b[39mLaTeXStrings v1.3.1\n",
      "  \u001b[90m[23fbe1c1] \u001b[39mLatexify v0.16.1\n",
      "  \u001b[90m[2ab3a3ac] \u001b[39mLogExpFunctions v0.3.27\n",
      "  \u001b[90m[e6f89c97] \u001b[39mLoggingExtras v1.0.3\n",
      "  \u001b[90m[1914dd2f] \u001b[39mMacroTools v0.5.13\n",
      "  \u001b[90m[739be429] \u001b[39mMbedTLS v1.1.9\n",
      "  \u001b[90m[442fdcdd] \u001b[39mMeasures v0.3.2\n",
      "  \u001b[90m[e1d29d7a] \u001b[39mMissings v1.1.0\n",
      "  \u001b[90m[77ba4419] \u001b[39mNaNMath v1.0.2\n",
      "  \u001b[90m[4d8831e6] \u001b[39mOpenSSL v1.4.1\n",
      "  \u001b[90m[bac558e1] \u001b[39mOrderedCollections v1.6.3\n",
      "  \u001b[90m[69de0a69] \u001b[39mParsers v2.8.1\n",
      "  \u001b[90m[b98c9c47] \u001b[39mPipe v1.3.0\n",
      "  \u001b[90m[ccf2f8ad] \u001b[39mPlotThemes v3.1.0\n",
      "  \u001b[90m[995b91a9] \u001b[39mPlotUtils v1.4.0\n",
      "  \u001b[90m[91a5bcdd] \u001b[39mPlots v1.40.1\n",
      "  \u001b[90m[aea7be01] \u001b[39mPrecompileTools v1.2.0\n",
      "  \u001b[90m[21216c6a] \u001b[39mPreferences v1.4.1\n",
      "  \u001b[90m[3cdcf5f2] \u001b[39mRecipesBase v1.3.4\n",
      "  \u001b[90m[01d81517] \u001b[39mRecipesPipeline v0.6.12\n",
      "  \u001b[90m[189a3867] \u001b[39mReexport v1.2.2\n",
      "  \u001b[90m[05181044] \u001b[39mRelocatableFolders v1.0.1\n",
      "  \u001b[90m[ae029012] \u001b[39mRequires v1.3.0\n",
      "  \u001b[90m[6c6a2e73] \u001b[39mScratch v1.2.1\n",
      "  \u001b[90m[992d4aef] \u001b[39mShowoff v1.0.3\n",
      "  \u001b[90m[777ac1f9] \u001b[39mSimpleBufferStream v1.1.0\n",
      "  \u001b[90m[a2af1166] \u001b[39mSortingAlgorithms v1.2.1\n",
      "  \u001b[90m[82ae8749] \u001b[39mStatsAPI v1.7.0\n",
      "  \u001b[90m[2913bbd2] \u001b[39mStatsBase v0.34.2\n",
      "  \u001b[90m[62fd8b95] \u001b[39mTensorCore v0.1.1\n",
      "  \u001b[90m[3bb67fe8] \u001b[39mTranscodingStreams v0.10.3\n",
      "  \u001b[90m[5c2747f8] \u001b[39mURIs v1.5.1\n",
      "  \u001b[90m[1cfade01] \u001b[39mUnicodeFun v0.4.1\n",
      "  \u001b[90m[1986cc42] \u001b[39mUnitful v1.19.0\n",
      "  \u001b[90m[45397f5d] \u001b[39mUnitfulLatexify v1.6.3\n",
      "  \u001b[90m[41fe7b60] \u001b[39mUnzip v0.2.0\n",
      "  \u001b[90m[6e34b625] \u001b[39mBzip2_jll v1.0.8+1\n",
      "  \u001b[90m[83423d85] \u001b[39mCairo_jll v1.16.1+1\n",
      "  \u001b[90m[2702e6a9] \u001b[39mEpollShim_jll v0.0.20230411+0\n",
      "  \u001b[90m[2e619515] \u001b[39mExpat_jll v2.5.0+0\n",
      "\u001b[33m⌅\u001b[39m \u001b[90m[b22a6f82] \u001b[39mFFMPEG_jll v4.4.4+1\n",
      "  \u001b[90m[a3f928ae] \u001b[39mFontconfig_jll v2.13.93+0\n",
      "  \u001b[90m[d7e528f0] \u001b[39mFreeType2_jll v2.13.1+0\n",
      "  \u001b[90m[559328eb] \u001b[39mFriBidi_jll v1.0.10+0\n",
      "  \u001b[90m[0656b61e] \u001b[39mGLFW_jll v3.3.9+0\n",
      "  \u001b[90m[d2c73de3] \u001b[39mGR_jll v0.73.2+0\n",
      "  \u001b[90m[78b55507] \u001b[39mGettext_jll v0.21.0+0\n",
      "  \u001b[90m[7746bdde] \u001b[39mGlib_jll v2.76.5+0\n",
      "  \u001b[90m[3b182d85] \u001b[39mGraphite2_jll v1.3.14+0\n",
      "  \u001b[90m[2e76f6c2] \u001b[39mHarfBuzz_jll v2.8.1+1\n",
      "  \u001b[90m[aacddb02] \u001b[39mJpegTurbo_jll v3.0.1+0\n",
      "  \u001b[90m[c1c5ebd0] \u001b[39mLAME_jll v3.100.1+0\n",
      "  \u001b[90m[88015f11] \u001b[39mLERC_jll v3.0.0+1\n",
      "  \u001b[90m[1d63c593] \u001b[39mLLVMOpenMP_jll v15.0.7+0\n",
      "  \u001b[90m[dd4b983a] \u001b[39mLZO_jll v2.10.1+0\n",
      "\u001b[33m⌅\u001b[39m \u001b[90m[e9f186c6] \u001b[39mLibffi_jll v3.2.2+1\n",
      "  \u001b[90m[d4300ac3] \u001b[39mLibgcrypt_jll v1.8.7+0\n",
      "  \u001b[90m[7e76a0d4] \u001b[39mLibglvnd_jll v1.6.0+0\n",
      "  \u001b[90m[7add5ba3] \u001b[39mLibgpg_error_jll v1.42.0+0\n",
      "  \u001b[90m[94ce4f54] \u001b[39mLibiconv_jll v1.17.0+0\n",
      "  \u001b[90m[4b2f31a3] \u001b[39mLibmount_jll v2.35.0+0\n",
      "\u001b[33m⌅\u001b[39m \u001b[90m[89763e89] \u001b[39mLibtiff_jll v4.5.1+1\n",
      "  \u001b[90m[38a345b3] \u001b[39mLibuuid_jll v2.36.0+0\n",
      "  \u001b[90m[e7412a2a] \u001b[39mOgg_jll v1.3.5+1\n",
      "  \u001b[90m[458c3c95] \u001b[39mOpenSSL_jll v3.0.13+0\n",
      "  \u001b[90m[91d4177d] \u001b[39mOpus_jll v1.3.2+0\n",
      "  \u001b[90m[30392449] \u001b[39mPixman_jll v0.42.2+0\n",
      "  \u001b[90m[c0090381] \u001b[39mQt6Base_jll v6.5.3+1\n",
      "  \u001b[90m[a44049a8] \u001b[39mVulkan_Loader_jll v1.3.243+0\n",
      "  \u001b[90m[a2964d1f] \u001b[39mWayland_jll v1.21.0+1\n",
      "  \u001b[90m[2381bf8a] \u001b[39mWayland_protocols_jll v1.31.0+0\n",
      "  \u001b[90m[02c8fc9c] \u001b[39mXML2_jll v2.12.2+0\n",
      "  \u001b[90m[aed1982a] \u001b[39mXSLT_jll v1.1.34+0\n",
      "  \u001b[90m[ffd25f8a] \u001b[39mXZ_jll v5.4.5+0\n",
      "  \u001b[90m[f67eecfb] \u001b[39mXorg_libICE_jll v1.0.10+1\n",
      "  \u001b[90m[c834827a] \u001b[39mXorg_libSM_jll v1.2.3+0\n",
      "  \u001b[90m[4f6342f7] \u001b[39mXorg_libX11_jll v1.8.6+0\n",
      "  \u001b[90m[0c0b7dd1] \u001b[39mXorg_libXau_jll v1.0.11+0\n",
      "  \u001b[90m[935fb764] \u001b[39mXorg_libXcursor_jll v1.2.0+4\n",
      "  \u001b[90m[a3789734] \u001b[39mXorg_libXdmcp_jll v1.1.4+0\n",
      "  \u001b[90m[1082639a] \u001b[39mXorg_libXext_jll v1.3.4+4\n",
      "  \u001b[90m[d091e8ba] \u001b[39mXorg_libXfixes_jll v5.0.3+4\n",
      "  \u001b[90m[a51aa0fd] \u001b[39mXorg_libXi_jll v1.7.10+4\n",
      "  \u001b[90m[d1454406] \u001b[39mXorg_libXinerama_jll v1.1.4+4\n",
      "  \u001b[90m[ec84b674] \u001b[39mXorg_libXrandr_jll v1.5.2+4\n",
      "  \u001b[90m[ea2f1a96] \u001b[39mXorg_libXrender_jll v0.9.10+4\n",
      "  \u001b[90m[14d82f49] \u001b[39mXorg_libpthread_stubs_jll v0.1.1+0\n",
      "  \u001b[90m[c7cfdc94] \u001b[39mXorg_libxcb_jll v1.15.0+0\n",
      "  \u001b[90m[cc61e674] \u001b[39mXorg_libxkbfile_jll v1.1.2+0\n",
      "  \u001b[90m[e920d4aa] \u001b[39mXorg_xcb_util_cursor_jll v0.1.4+0\n",
      "  \u001b[90m[12413925] \u001b[39mXorg_xcb_util_image_jll v0.4.0+1\n",
      "  \u001b[90m[2def613f] \u001b[39mXorg_xcb_util_jll v0.4.0+1\n",
      "  \u001b[90m[975044d2] \u001b[39mXorg_xcb_util_keysyms_jll v0.4.0+1\n",
      "  \u001b[90m[0d47668e] \u001b[39mXorg_xcb_util_renderutil_jll v0.3.9+1\n",
      "  \u001b[90m[c22f9ab0] \u001b[39mXorg_xcb_util_wm_jll v0.4.1+1\n",
      "  \u001b[90m[35661453] \u001b[39mXorg_xkbcomp_jll v1.4.6+0\n",
      "  \u001b[90m[33bec58e] \u001b[39mXorg_xkeyboard_config_jll v2.39.0+0\n",
      "  \u001b[90m[c5fb5394] \u001b[39mXorg_xtrans_jll v1.5.0+0\n",
      "  \u001b[90m[3161d3a3] \u001b[39mZstd_jll v1.5.5+0\n",
      "  \u001b[90m[35ca27e7] \u001b[39meudev_jll v3.2.9+0\n",
      "  \u001b[90m[214eeab7] \u001b[39mfzf_jll v0.43.0+0\n",
      "  \u001b[90m[1a1c6b14] \u001b[39mgperf_jll v3.1.1+0\n",
      "  \u001b[90m[a4ae2306] \u001b[39mlibaom_jll v3.4.0+0\n",
      "  \u001b[90m[0ac62f75] \u001b[39mlibass_jll v0.15.1+0\n",
      "  \u001b[90m[2db6ffa8] \u001b[39mlibevdev_jll v1.11.0+0\n",
      "  \u001b[90m[f638f0a6] \u001b[39mlibfdk_aac_jll v2.0.2+0\n",
      "  \u001b[90m[36db933b] \u001b[39mlibinput_jll v1.18.0+0\n",
      "  \u001b[90m[b53b4c65] \u001b[39mlibpng_jll v1.6.42+0\n",
      "  \u001b[90m[f27f6e37] \u001b[39mlibvorbis_jll v1.3.7+1\n",
      "  \u001b[90m[009596ad] \u001b[39mmtdev_jll v1.1.6+0\n",
      "  \u001b[90m[1270edf5] \u001b[39mx264_jll v2021.5.5+0\n",
      "  \u001b[90m[dfaa095f] \u001b[39mx265_jll v3.5.0+0\n",
      "  \u001b[90m[d8fb68d0] \u001b[39mxkbcommon_jll v1.4.1+1\n",
      "  \u001b[90m[0dad84c5] \u001b[39mArgTools v1.1.1\n",
      "  \u001b[90m[56f22d72] \u001b[39mArtifacts\n",
      "  \u001b[90m[2a0f44e3] \u001b[39mBase64\n",
      "  \u001b[90m[ade2ca70] \u001b[39mDates\n",
      "  \u001b[90m[f43a241f] \u001b[39mDownloads v1.6.0\n",
      "  \u001b[90m[7b1f6079] \u001b[39mFileWatching\n",
      "  \u001b[90m[b77e0a4c] \u001b[39mInteractiveUtils\n",
      "  \u001b[90m[b27032c2] \u001b[39mLibCURL v0.6.4\n",
      "  \u001b[90m[76f85450] \u001b[39mLibGit2\n",
      "  \u001b[90m[8f399da3] \u001b[39mLibdl\n",
      "  \u001b[90m[37e2e46d] \u001b[39mLinearAlgebra\n",
      "  \u001b[90m[56ddb016] \u001b[39mLogging\n",
      "  \u001b[90m[d6f4376e] \u001b[39mMarkdown\n",
      "  \u001b[90m[a63ad114] \u001b[39mMmap\n",
      "  \u001b[90m[ca575930] \u001b[39mNetworkOptions v1.2.0\n",
      "  \u001b[90m[44cfe95a] \u001b[39mPkg v1.10.0\n",
      "  \u001b[90m[de0858da] \u001b[39mPrintf\n",
      "  \u001b[90m[3fa0cd96] \u001b[39mREPL\n",
      "  \u001b[90m[9a3f8284] \u001b[39mRandom\n",
      "  \u001b[90m[ea8e919c] \u001b[39mSHA v0.7.0\n",
      "  \u001b[90m[9e88b42a] \u001b[39mSerialization\n",
      "  \u001b[90m[6462fe0b] \u001b[39mSockets\n",
      "  \u001b[90m[2f01184e] \u001b[39mSparseArrays v1.10.0\n",
      "  \u001b[90m[10745b16] \u001b[39mStatistics v1.10.0\n",
      "  \u001b[90m[fa267f1f] \u001b[39mTOML v1.0.3\n",
      "  \u001b[90m[a4e569a6] \u001b[39mTar v1.10.0\n",
      "  \u001b[90m[8dfed614] \u001b[39mTest\n",
      "  \u001b[90m[cf7118a7] \u001b[39mUUIDs\n",
      "  \u001b[90m[4ec0a83e] \u001b[39mUnicode\n",
      "  \u001b[90m[e66e0078] \u001b[39mCompilerSupportLibraries_jll v1.0.5+1\n",
      "  \u001b[90m[deac9b47] \u001b[39mLibCURL_jll v8.4.0+0\n",
      "  \u001b[90m[e37daf67] \u001b[39mLibGit2_jll v1.6.4+0\n",
      "  \u001b[90m[29816b5a] \u001b[39mLibSSH2_jll v1.11.0+1\n",
      "  \u001b[90m[c8ffd9c3] \u001b[39mMbedTLS_jll v2.28.2+1\n",
      "  \u001b[90m[14a3606d] \u001b[39mMozillaCACerts_jll v2023.1.10\n",
      "  \u001b[90m[4536629a] \u001b[39mOpenBLAS_jll v0.3.23+2\n",
      "  \u001b[90m[05823500] \u001b[39mOpenLibm_jll v0.8.1+2\n",
      "  \u001b[90m[efcefdf7] \u001b[39mPCRE2_jll v10.42.0+1\n",
      "  \u001b[90m[bea87d4a] \u001b[39mSuiteSparse_jll v7.2.1+1\n",
      "  \u001b[90m[83775a58] \u001b[39mZlib_jll v1.2.13+1\n",
      "  \u001b[90m[8e850b90] \u001b[39mlibblastrampoline_jll v5.8.0+1\n",
      "  \u001b[90m[8e850ede] \u001b[39mnghttp2_jll v1.52.0+1\n",
      "  \u001b[90m[3f19e933] \u001b[39mp7zip_jll v17.4.0+2\n",
      "\u001b[36m\u001b[1m        Info\u001b[22m\u001b[39m Packages marked with \u001b[33m⌅\u001b[39m have new versions available but compatibility constraints restrict them from upgrading.\n"
     ]
    },
    {
     "name": "stderr",
     "output_type": "stream",
     "text": [
      "\u001b[32m\u001b[1mPrecompiling\u001b[22m\u001b[39m"
     ]
    },
    {
     "name": "stderr",
     "output_type": "stream",
     "text": [
      " project...\n"
     ]
    },
    {
     "name": "stderr",
     "output_type": "stream",
     "text": [
      "\u001b[32m  ✓ \u001b[39mEpidemic\n",
      "  1 dependency successfully precompiled in 6 seconds. 148 already precompiled.\n"
     ]
    },
    {
     "name": "stderr",
     "output_type": "stream",
     "text": [
      "\u001b[32m\u001b[1m     Testing\u001b[22m\u001b[39m Running tests...\n"
     ]
    },
    {
     "name": "stderr",
     "output_type": "stream",
     "text": [
      "\u001b[0m\u001b[1mTest Summary:          | \u001b[22m\u001b[32m\u001b[1mPass  \u001b[22m\u001b[39m\u001b[36m\u001b[1mTotal  \u001b[22m\u001b[39m\u001b[0m\u001b[1mTime\u001b[22m"
     ]
    },
    {
     "name": "stderr",
     "output_type": "stream",
     "text": [
      "\n",
      "Test certain infection | \u001b[32m   1  \u001b[39m\u001b[36m    1  \u001b[39m\u001b[0m0.1s\n",
      "\u001b[32m\u001b[1m     Testing\u001b[22m\u001b[39m Epidemic tests passed \n"
     ]
    }
   ],
   "source": [
    "# Run this to check\n",
    "using Pkg\n",
    "Pkg.test(\"Epidemic\")"
   ]
  },
  {
   "cell_type": "markdown",
   "metadata": {
    "slideshow": {
     "slide_type": "slide"
    }
   },
   "source": [
    "## Naming conventions in Julia\n",
    "\n",
    "- Word separation can be indicated by underscores (`_`), but use of underscores is discouraged unless the name would be hard to read otherwise.\n",
    "- Names of Types begin with a capital letter and word separation is shown with CamelCase instead of underscores.\n",
    "- Names of functions and macros are in lower case, without underscores.  \n",
    "- Functions that modify their inputs have names that end in `!`. These functions are sometimes called mutating functions or in-place functions.\n"
   ]
  },
  {
   "cell_type": "markdown",
   "metadata": {
    "slideshow": {
     "slide_type": "slide"
    }
   },
   "source": [
    "## Making functions pretty: optional arguments\n",
    "You can define functions with optional arguments, so that the function can use sensible defaults if specific values aren't supplied. You provide a default symbol and value in the argument list\n",
    "\n",
    "* *optional argument* is usually used when the input arguments are not necessary to be provided by the user. If the user does not provide the value of the optional argument, the default value will be used."
   ]
  },
  {
   "cell_type": "code",
   "execution_count": 1,
   "metadata": {
    "slideshow": {
     "slide_type": "fragment"
    }
   },
   "outputs": [
    {
     "data": {
      "text/plain": [
       "xyzpos (generic function with 2 methods)"
      ]
     },
     "metadata": {},
     "output_type": "display_data"
    }
   ],
   "source": [
    "function xyzpos(x, y, z=0)\n",
    "    println(\"$x, $y, $z\")\n",
    "end"
   ]
  },
  {
   "cell_type": "code",
   "execution_count": 2,
   "metadata": {
    "slideshow": {
     "slide_type": "fragment"
    }
   },
   "outputs": [
    {
     "name": "stdout",
     "output_type": "stream",
     "text": [
      "0, 0, 0\n",
      "0, 0, 1\n"
     ]
    }
   ],
   "source": [
    "xyzpos(0,0)\n",
    "xyzpos(0,0,1)"
   ]
  },
  {
   "cell_type": "markdown",
   "metadata": {
    "slideshow": {
     "slide_type": "slide"
    }
   },
   "source": [
    "## Making functions pretty: keyword arguments\n",
    "When you write a function with a long list of arguments like this:\n",
    "```julia\n",
    "function f(p, q, r, s, t, u)\n",
    "...\n",
    "end\n",
    "```\n",
    "sooner or later, you will forget the order in which you have to supply the arguments. \n",
    "\n",
    "You can avoid this problem by using keywords to label arguments. Use a semicolon (`;`) after the function's unlabelled arguments, and follow it with one or more `keyword=value` pairs.\n",
    "\n",
    "* *keyword argument* is not place-binding, unlike the *optional argument*. The user can provide the value of the keyword argument in any order."
   ]
  },
  {
   "cell_type": "code",
   "execution_count": 3,
   "metadata": {
    "slideshow": {
     "slide_type": "fragment"
    }
   },
   "outputs": [
    {
     "name": "stdout",
     "output_type": "stream",
     "text": [
      "p is 1\n",
      "q is 2"
     ]
    },
    {
     "name": "stdout",
     "output_type": "stream",
     "text": [
      "\n",
      "p is a\n",
      "q is b\n"
     ]
    },
    {
     "data": {
      "text/plain": [
       "\"radius => π, message => 22//7\""
      ]
     },
     "metadata": {},
     "output_type": "display_data"
    }
   ],
   "source": [
    "function f(p, q ; radius = 4, message = \"hello\")\n",
    "  println(\"p is $p\")\n",
    "  println(\"q is $q\")\n",
    "  return \"radius => $radius, message => $message\"\n",
    "end\n",
    "f(1,2)\n",
    "f(\"a\", \"b\", radius=pi, message=22//7)"
   ]
  },
  {
   "cell_type": "markdown",
   "metadata": {},
   "source": [
    "### Exercise 5: Pretty functions\n",
    "\n",
    "Write a function called `blackbox`. It should behave such that it takes a number as an input and adds one to it. If a keyword argument `reverse=true` is also given, it should subtract one instead."
   ]
  },
  {
   "cell_type": "code",
   "execution_count": 4,
   "metadata": {},
   "outputs": [
    {
     "data": {
      "text/plain": [
       "blackbox (generic function with 1 method)"
      ]
     },
     "metadata": {},
     "output_type": "display_data"
    }
   ],
   "source": [
    "function blackbox(x::Number; reverse=false)\n",
    "    reverse ? x - 1 : x + 1\n",
    "end"
   ]
  },
  {
   "cell_type": "code",
   "execution_count": 5,
   "metadata": {},
   "outputs": [
    {
     "data": {
      "text/plain": [
       "2"
      ]
     },
     "metadata": {},
     "output_type": "display_data"
    }
   ],
   "source": [
    "# Run these to check\n",
    "blackbox(1)"
   ]
  },
  {
   "cell_type": "code",
   "execution_count": 6,
   "metadata": {},
   "outputs": [
    {
     "data": {
      "text/plain": [
       "3.0"
      ]
     },
     "metadata": {},
     "output_type": "display_data"
    }
   ],
   "source": [
    "blackbox(2.0)"
   ]
  },
  {
   "cell_type": "code",
   "execution_count": 7,
   "metadata": {},
   "outputs": [
    {
     "data": {
      "text/plain": [
       "99"
      ]
     },
     "metadata": {},
     "output_type": "display_data"
    }
   ],
   "source": [
    "blackbox(100, reverse=true)"
   ]
  },
  {
   "cell_type": "markdown",
   "metadata": {},
   "source": [
    "Write another `blackbox2` function that behaves like the previous but when given two arguments it uses the second argument as the value it adds or substracts. With one argument it behaves like the previous function.\n",
    "\n",
    "Hint: remember optional arguments that can be given a default value!"
   ]
  },
  {
   "cell_type": "code",
   "execution_count": 8,
   "metadata": {},
   "outputs": [
    {
     "data": {
      "text/plain": [
       "blackbox2 (generic function with 2 methods)"
      ]
     },
     "metadata": {},
     "output_type": "display_data"
    }
   ],
   "source": [
    "function blackbox2(x::Number, y::Number=1; reverse=false)\n",
    "    reverse ? x - y : x + y\n",
    "end"
   ]
  },
  {
   "cell_type": "code",
   "execution_count": 9,
   "metadata": {},
   "outputs": [
    {
     "data": {
      "text/plain": [
       "15"
      ]
     },
     "metadata": {},
     "output_type": "display_data"
    }
   ],
   "source": [
    "# Run these to check\n",
    "blackbox2(10,5)"
   ]
  },
  {
   "cell_type": "code",
   "execution_count": 10,
   "metadata": {},
   "outputs": [
    {
     "data": {
      "text/plain": [
       "5"
      ]
     },
     "metadata": {},
     "output_type": "display_data"
    }
   ],
   "source": [
    "blackbox2(10,5,reverse=true)"
   ]
  },
  {
   "cell_type": "markdown",
   "metadata": {
    "slideshow": {
     "slide_type": "slide"
    }
   },
   "source": [
    "## Advanced: Functions with variable number of arguments\n",
    "Functions can be defined so that they can accept any number of arguments:"
   ]
  },
  {
   "cell_type": "code",
   "execution_count": 11,
   "metadata": {
    "slideshow": {
     "slide_type": "fragment"
    }
   },
   "outputs": [
    {
     "name": "stdout",
     "output_type": "stream",
     "text": [
      "you supplied 0 arguments\n",
      "you supplied 1 arguments"
     ]
    },
    {
     "name": "stdout",
     "output_type": "stream",
     "text": [
      "\n",
      " argument 64\n",
      "you supplied 3 arguments\n",
      " argument 64\n",
      " argument 64\n",
      " argument 55\n"
     ]
    }
   ],
   "source": [
    "function fvar(args...)\n",
    "    println(\"you supplied $(length(args)) arguments\")\n",
    "    for arg in args\n",
    "       println(\" argument \", arg)\n",
    "    end\n",
    "end\n",
    "fvar()\n",
    "fvar(64)\n",
    "fvar(64, 64, 55)"
   ]
  },
  {
   "cell_type": "markdown",
   "metadata": {
    "slideshow": {
     "slide_type": "fragment"
    }
   },
   "source": [
    "The three dots indicate the **splat**. Here it means \"any\", including \"none\". "
   ]
  },
  {
   "cell_type": "markdown",
   "metadata": {
    "slideshow": {
     "slide_type": "slide"
    }
   },
   "source": [
    "## Advanced: Parametric methods\n",
    "Method definitions can optionally have type parameters qualifying the signature:"
   ]
  },
  {
   "cell_type": "code",
   "execution_count": 27,
   "metadata": {
    "slideshow": {
     "slide_type": "fragment"
    }
   },
   "outputs": [
    {
     "data": {
      "text/plain": [
       "same_type (generic function with 2 methods)"
      ]
     },
     "metadata": {},
     "output_type": "display_data"
    }
   ],
   "source": [
    "# \"T\" is simply a covnetion, it could be any name e.g. A, B, C, etc.\n",
    "# {} is used to specify type parameters, and is mandatory only for mutiple type parameters.\n",
    "# \"where {T}\" is equivalent to \"where {T<:Any}\"\n",
    "# By using the \"where\" keyword, a type parameter \"T\" is created and can be used in defining the type of arguments.\n",
    "function same_type(x::T, y::T) where {T}\n",
    "    true\n",
    "end\n",
    "\n",
    "function same_type(x,y)\n",
    "    false\n",
    "end"
   ]
  },
  {
   "cell_type": "markdown",
   "metadata": {
    "slideshow": {
     "slide_type": "fragment"
    }
   },
   "source": [
    "The first method applies whenever both arguments are of the same concrete type, regardless of what type that is, while the second method acts as a catch-all, covering all other cases. Thus, overall, this defines a boolean function that checks whether its two arguments are of the same type"
   ]
  },
  {
   "cell_type": "code",
   "execution_count": 21,
   "metadata": {
    "slideshow": {
     "slide_type": "slide"
    }
   },
   "outputs": [
    {
     "data": {
      "text/plain": [
       "true"
      ]
     },
     "metadata": {},
     "output_type": "display_data"
    }
   ],
   "source": [
    "same_type(1,2)"
   ]
  },
  {
   "cell_type": "code",
   "execution_count": 22,
   "metadata": {},
   "outputs": [
    {
     "data": {
      "text/plain": [
       "false"
      ]
     },
     "metadata": {},
     "output_type": "display_data"
    }
   ],
   "source": [
    "same_type(1, 2.0)"
   ]
  },
  {
   "cell_type": "code",
   "execution_count": 15,
   "metadata": {},
   "outputs": [
    {
     "data": {
      "text/plain": [
       "true"
      ]
     },
     "metadata": {},
     "output_type": "display_data"
    }
   ],
   "source": [
    "same_type(1.0, 2.0)"
   ]
  },
  {
   "cell_type": "code",
   "execution_count": 16,
   "metadata": {},
   "outputs": [
    {
     "data": {
      "text/plain": [
       "false"
      ]
     },
     "metadata": {},
     "output_type": "display_data"
    }
   ],
   "source": [
    "same_type(\"foo\", 2.0)"
   ]
  },
  {
   "cell_type": "code",
   "execution_count": 17,
   "metadata": {},
   "outputs": [
    {
     "data": {
      "text/plain": [
       "false"
      ]
     },
     "metadata": {},
     "output_type": "display_data"
    }
   ],
   "source": [
    "same_type(Int32(1), Int64(2))"
   ]
  },
  {
   "cell_type": "markdown",
   "metadata": {
    "slideshow": {
     "slide_type": "slide"
    }
   },
   "source": [
    "## Scope of variables\n",
    "- Global scope\n",
    "    - Module specific (namespaces)\n",
    "- Local scopes\n",
    "    - functions, for's, while's,..."
   ]
  },
  {
   "cell_type": "markdown",
   "metadata": {
    "slideshow": {
     "slide_type": "slide"
    }
   },
   "source": [
    "## Local scope\n",
    "A new local scope is introduced by most code-blocks.\n",
    "    \n",
    "A local scope usually inherits all the variables from its parent scope, both for reading and writing. "
   ]
  },
  {
   "cell_type": "markdown",
   "metadata": {
    "slideshow": {
     "slide_type": "fragment"
    }
   },
   "source": [
    "A newly introduced variable in a local scope does not back-propagate to its parent scope. For example, here the z is not introduced into the top-level scope:"
   ]
  },
  {
   "cell_type": "code",
   "execution_count": 28,
   "metadata": {},
   "outputs": [
    {
     "ename": "UndefVarError",
     "evalue": "UndefVarError: `z` not defined",
     "output_type": "error",
     "traceback": [
      "UndefVarError: `z` not defined\n"
     ]
    }
   ],
   "source": [
    "for i = 1:10\n",
    "    z = 1\n",
    "end\n",
    "z"
   ]
  },
  {
   "cell_type": "markdown",
   "metadata": {
    "slideshow": {
     "slide_type": "slide"
    }
   },
   "source": [
    "Function definitions are also in their own local scope. \n",
    "\n",
    "They do, however, inherit from their parent scope."
   ]
  },
  {
   "cell_type": "code",
   "execution_count": 29,
   "metadata": {
    "slideshow": {
     "slide_type": "fragment"
    }
   },
   "outputs": [
    {
     "data": {
      "text/plain": [
       "foo (generic function with 1 method)"
      ]
     },
     "metadata": {},
     "output_type": "display_data"
    }
   ],
   "source": [
    "x, y = 1, 2\n",
    "function foo()\n",
    "    x = 2 #assignment introduces a new local\n",
    "    return x + y # y refers to the global scope!\n",
    "end"
   ]
  },
  {
   "cell_type": "code",
   "execution_count": 30,
   "metadata": {
    "slideshow": {
     "slide_type": "fragment"
    }
   },
   "outputs": [
    {
     "data": {
      "text/plain": [
       "4"
      ]
     },
     "metadata": {},
     "output_type": "display_data"
    }
   ],
   "source": [
    "foo()"
   ]
  },
  {
   "cell_type": "code",
   "execution_count": 31,
   "metadata": {
    "slideshow": {
     "slide_type": "fragment"
    }
   },
   "outputs": [
    {
     "data": {
      "text/plain": [
       "1"
      ]
     },
     "metadata": {},
     "output_type": "display_data"
    }
   ],
   "source": [
    "x"
   ]
  },
  {
   "cell_type": "markdown",
   "metadata": {
    "slideshow": {
     "slide_type": "slide"
    }
   },
   "source": [
    "An explicit `global` is needed to assign to a global variable:"
   ]
  },
  {
   "cell_type": "code",
   "execution_count": 32,
   "metadata": {
    "slideshow": {
     "slide_type": "fragment"
    }
   },
   "outputs": [
    {
     "data": {
      "text/plain": [
       "foobar (generic function with 1 method)"
      ]
     },
     "metadata": {},
     "output_type": "display_data"
    }
   ],
   "source": [
    "x = 1\n",
    "function foobar()\n",
    "    global x = 2 # Now x is also in global scope, and replace the value of x in the parent scope.\n",
    "    return x + y\n",
    "end"
   ]
  },
  {
   "cell_type": "code",
   "execution_count": 33,
   "metadata": {
    "slideshow": {
     "slide_type": "fragment"
    }
   },
   "outputs": [
    {
     "data": {
      "text/plain": [
       "4"
      ]
     },
     "metadata": {},
     "output_type": "display_data"
    }
   ],
   "source": [
    "foobar()"
   ]
  },
  {
   "cell_type": "code",
   "execution_count": 34,
   "metadata": {
    "slideshow": {
     "slide_type": "fragment"
    }
   },
   "outputs": [
    {
     "data": {
      "text/plain": [
       "2"
      ]
     },
     "metadata": {},
     "output_type": "display_data"
    }
   ],
   "source": [
    "x"
   ]
  },
  {
   "cell_type": "markdown",
   "metadata": {
    "slideshow": {
     "slide_type": "slide"
    }
   },
   "source": [
    "## Exception: Elements of a global array are global\n",
    "There is an important exception to these rules: arrays.\n",
    "\n",
    "Changing an elements of an array in global scope is done in the global scope. An array points to a place in memory, so changing it's internal values changes the original memory, even inside a function."
   ]
  },
  {
   "cell_type": "code",
   "execution_count": 35,
   "metadata": {},
   "outputs": [
    {
     "data": {
      "text/plain": [
       "oops (generic function with 1 method)"
      ]
     },
     "metadata": {},
     "output_type": "display_data"
    }
   ],
   "source": [
    "arr = [1,2,3]\n",
    "function oops()\n",
    "    arr[2] = 10\n",
    "    arrr = [1,2,3]\n",
    "    \n",
    "    return \"woops\"\n",
    "end"
   ]
  },
  {
   "cell_type": "code",
   "execution_count": 36,
   "metadata": {
    "slideshow": {
     "slide_type": "fragment"
    }
   },
   "outputs": [
    {
     "data": {
      "text/plain": [
       "\"woops\""
      ]
     },
     "metadata": {},
     "output_type": "display_data"
    }
   ],
   "source": [
    "oops()"
   ]
  },
  {
   "cell_type": "code",
   "execution_count": 37,
   "metadata": {
    "slideshow": {
     "slide_type": "fragment"
    }
   },
   "outputs": [
    {
     "data": {
      "text/plain": [
       "3-element Vector{Int64}:\n",
       "  1\n",
       " 10\n",
       "  3"
      ]
     },
     "metadata": {},
     "output_type": "display_data"
    }
   ],
   "source": [
    "arr"
   ]
  },
  {
   "cell_type": "code",
   "execution_count": 38,
   "metadata": {},
   "outputs": [
    {
     "ename": "UndefVarError",
     "evalue": "UndefVarError: `arrr` not defined",
     "output_type": "error",
     "traceback": [
      "UndefVarError: `arrr` not defined\n"
     ]
    }
   ],
   "source": [
    "arrr"
   ]
  },
  {
   "cell_type": "markdown",
   "metadata": {
    "slideshow": {
     "slide_type": "slide"
    }
   },
   "source": [
    "## Constants\n",
    "A common use of variables is giving names to specific, unchanging values. \n",
    "\n",
    "Such variables are only assigned once. This intent can be conveyed to the compiler using the `const` keyword:"
   ]
  },
  {
   "cell_type": "code",
   "execution_count": 39,
   "metadata": {},
   "outputs": [
    {
     "data": {
      "text/plain": [
       "2.718281828459045"
      ]
     },
     "metadata": {},
     "output_type": "display_data"
    }
   ],
   "source": [
    "const e  = 2.71828182845904523536"
   ]
  },
  {
   "cell_type": "markdown",
   "metadata": {
    "slideshow": {
     "slide_type": "fragment"
    }
   },
   "source": [
    "It is difficult for the compiler to optimize code involving global variables, since their values (or even their types) might change at almost any time. If a global variable will not change, adding a const declaration solves this performance problem."
   ]
  },
  {
   "cell_type": "markdown",
   "metadata": {
    "slideshow": {
     "slide_type": "slide"
    }
   },
   "source": [
    "## Summary\n",
    "- Modules and packages help with structure large code bases.\n",
    "- Writing pretty code is a good thing\n",
    "    - see also the official [style guide](https://docs.julialang.org/en/v1/manual/style-guide/)"
   ]
  }
 ],
 "metadata": {
  "celltoolbar": "Slideshow",
  "kernelspec": {
   "display_name": "Julia 1.10.0",
   "language": "julia",
   "name": "julia-1.10"
  },
  "language_info": {
   "file_extension": ".jl",
   "mimetype": "application/julia",
   "name": "julia",
   "version": "1.10.0"
  }
 },
 "nbformat": 4,
 "nbformat_minor": 4
}
