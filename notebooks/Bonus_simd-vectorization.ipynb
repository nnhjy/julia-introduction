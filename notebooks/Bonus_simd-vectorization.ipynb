{
 "cells": [
  {
   "cell_type": "markdown",
   "metadata": {
    "slideshow": {
     "slide_type": "slide"
    }
   },
   "source": [
    "## SIMD Vectorization\n",
    "Does my code vectorize? Let's take a look."
   ]
  },
  {
   "cell_type": "code",
   "execution_count": null,
   "metadata": {
    "slideshow": {
     "slide_type": "fragment"
    }
   },
   "outputs": [],
   "source": [
    "function add(out, x, y)\n",
    "    for i in 1:length(out)\n",
    "        out[i] = x[i] + y[i]\n",
    "    end\n",
    "    return out\n",
    "end"
   ]
  },
  {
   "cell_type": "code",
   "execution_count": null,
   "metadata": {},
   "outputs": [],
   "source": [
    "@code_llvm add(Vector{Float64}, Vector{Float64}, Vector{Float64})"
   ]
  },
  {
   "cell_type": "markdown",
   "metadata": {
    "slideshow": {
     "slide_type": "slide"
    }
   },
   "source": [
    "## @inbounds\n",
    "Adding `@inbounds` removes the bound-checks and gives LLVM the opportunity to auto-vectorize this function."
   ]
  },
  {
   "cell_type": "code",
   "execution_count": null,
   "metadata": {
    "slideshow": {
     "slide_type": "fragment"
    }
   },
   "outputs": [],
   "source": [
    "function add2(out, x, y)\n",
    "    @inbounds for i in 1:length(out)\n",
    "        out[i] = x[i] + y[i]\n",
    "    end\n",
    "    return out\n",
    "end"
   ]
  },
  {
   "cell_type": "code",
   "execution_count": null,
   "metadata": {
    "scrolled": false,
    "slideshow": {
     "slide_type": "slide"
    }
   },
   "outputs": [],
   "source": [
    "@code_llvm add2(Vector{Float64}, Vector{Float64}, Vector{Float64})"
   ]
  },
  {
   "cell_type": "markdown",
   "metadata": {},
   "source": [
    "## SIMD.jl\n",
    "Other option is to use explicit SIMD vectorization instructions. The [SIMD.jl](https://github.com/eschnett/SIMD.jl) library gives you correct data types for this."
   ]
  },
  {
   "cell_type": "markdown",
   "metadata": {},
   "source": [
    "## Additionally:\n",
    "Look [here](https://slides.com/valentinchuravy/julia-parallelism) for a lecture about levels of parallelism in Julia.\n",
    "\n",
    "The syntactic loop fusion is discussed [here](https://julialang.org/blog/2017/01/moredots)."
   ]
  },
  {
   "cell_type": "code",
   "execution_count": null,
   "metadata": {},
   "outputs": [],
   "source": []
  }
 ],
 "metadata": {
  "kernelspec": {
   "display_name": "Julia 1.7.3",
   "language": "julia",
   "name": "julia-1.7"
  },
  "language_info": {
   "file_extension": ".jl",
   "mimetype": "application/julia",
   "name": "julia",
   "version": "1.7.3"
  }
 },
 "nbformat": 4,
 "nbformat_minor": 2
}
