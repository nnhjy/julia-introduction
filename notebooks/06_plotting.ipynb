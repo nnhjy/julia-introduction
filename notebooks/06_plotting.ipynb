{
 "cells": [
  {
   "cell_type": "markdown",
   "metadata": {
    "slideshow": {
     "slide_type": "slide"
    }
   },
   "source": [
    "# Plotting"
   ]
  },
  {
   "cell_type": "markdown",
   "metadata": {
    "slideshow": {
     "slide_type": "fragment"
    }
   },
   "source": [
    "## Topics\n",
    "- Packages\n",
    "- Plotting & visualization"
   ]
  },
  {
   "cell_type": "markdown",
   "metadata": {
    "slideshow": {
     "slide_type": "slide"
    }
   },
   "source": [
    "## Packages\n",
    "Julia has over 4000 registered packages, making packages a huge part of the Julia ecosystem.\n",
    "\n",
    "Even so, the package ecosystem still has some growing to do. Notably, we have first class function calls to other languages, providing excellent foreign function interfaces. We can easily call into python or R, for example, with `PyCall` or `Rcall`.\n",
    "\n",
    "This means that you don't have to wait until the Julia ecosystem is fully mature, and that moving to Julia doesn't mean you have to give up your favorite package/library from another language!\n",
    "\n",
    "To see all available packages, check out\n",
    "\n",
    "https://github.com/JuliaRegistries/General or https://juliaobserver.com/"
   ]
  },
  {
   "cell_type": "markdown",
   "metadata": {
    "slideshow": {
     "slide_type": "slide"
    }
   },
   "source": [
    "## Installing packages\n",
    "For now, let's learn how to use a package.\n",
    "\n",
    "Before anything, we have to activate the package manager by running `using Pkg`.\n",
    "\n",
    "The first time you use a package on a given Julia installation, you need to explicitly add it"
   ]
  },
  {
   "cell_type": "code",
   "execution_count": null,
   "metadata": {
    "slideshow": {
     "slide_type": "fragment"
    }
   },
   "outputs": [],
   "source": [
    "using Pkg\n",
    "Pkg.add(\"Example\")"
   ]
  },
  {
   "cell_type": "markdown",
   "metadata": {
    "slideshow": {
     "slide_type": "slide"
    }
   },
   "source": [
    "## Using packages\n",
    "Every time you use Julia (start a new session at the REPL, or open a notebook for the first time, for example), you load the package with the `using` keyword"
   ]
  },
  {
   "cell_type": "code",
   "execution_count": null,
   "metadata": {
    "slideshow": {
     "slide_type": "fragment"
    }
   },
   "outputs": [],
   "source": [
    "using Example"
   ]
  },
  {
   "cell_type": "markdown",
   "metadata": {
    "slideshow": {
     "slide_type": "fragment"
    }
   },
   "source": [
    "In the source code of `Example.jl` at https://github.com/JuliaLang/Example.jl/blob/master/src/Example.jl we see the following function declared\n",
    "\n",
    "```julia\n",
    "hello(who::String) = \"Hello, $who\"\n",
    "```\n",
    "Having loaded `Example`, we should now be able to call `hello`"
   ]
  },
  {
   "cell_type": "code",
   "execution_count": null,
   "metadata": {
    "slideshow": {
     "slide_type": "fragment"
    }
   },
   "outputs": [],
   "source": [
    "hello(\"Julia!\")"
   ]
  },
  {
   "cell_type": "markdown",
   "metadata": {
    "slideshow": {
     "slide_type": "slide"
    }
   },
   "source": [
    "## Demonstration with `Colors`\n",
    "Let's play with the `Colors` package to see this in action. \n",
    "\n",
    "NOTE: Notebooks are nicely integrated to show us the colors in realtime!"
   ]
  },
  {
   "cell_type": "code",
   "execution_count": null,
   "metadata": {
    "slideshow": {
     "slide_type": "fragment"
    }
   },
   "outputs": [],
   "source": [
    "Pkg.add(\"Colors\")"
   ]
  },
  {
   "cell_type": "code",
   "execution_count": null,
   "metadata": {
    "slideshow": {
     "slide_type": "fragment"
    }
   },
   "outputs": [],
   "source": [
    "using Colors"
   ]
  },
  {
   "cell_type": "code",
   "execution_count": null,
   "metadata": {
    "slideshow": {
     "slide_type": "fragment"
    }
   },
   "outputs": [],
   "source": [
    "hue = 180 #[0,360] hue of the color, try changing me!\n",
    "N   = 10  #number of colors to create, try changing me too!\n",
    "palette = sequential_palette(hue, N)"
   ]
  },
  {
   "cell_type": "code",
   "execution_count": null,
   "metadata": {
    "slideshow": {
     "slide_type": "skip"
    }
   },
   "outputs": [],
   "source": [
    "palette = distinguishable_colors(64) #Maximally distinguishable colors; try me out too!"
   ]
  },
  {
   "cell_type": "code",
   "execution_count": null,
   "metadata": {
    "slideshow": {
     "slide_type": "skip"
    }
   },
   "outputs": [],
   "source": [
    "hueLeft  = 12\n",
    "hueRight = 225\n",
    "palette = diverging_palette(hueLeft, hueRight, 20) # Woah, hold on! What am I?"
   ]
  },
  {
   "cell_type": "code",
   "execution_count": null,
   "metadata": {
    "slideshow": {
     "slide_type": "slide"
    }
   },
   "outputs": [],
   "source": [
    "rand(palette, 8, 8) #create 8x8 random number matrix of different values in `palette`."
   ]
  },
  {
   "cell_type": "markdown",
   "metadata": {
    "slideshow": {
     "slide_type": "slide"
    }
   },
   "source": [
    "## Interoperability\n",
    "There are many existing codes and libraries, why should we re-use them? One of the strenghts of Julia is it's interoperability. \n",
    "\n",
    "C and Fortran, for example are natively supported. But many other languages are just one package away. \n",
    "\n",
    "Take python for example:"
   ]
  },
  {
   "cell_type": "code",
   "execution_count": null,
   "metadata": {
    "slideshow": {
     "slide_type": "fragment"
    }
   },
   "outputs": [],
   "source": [
    "Pkg.add(\"PyCall\")\n",
    "using PyCall\n",
    "\n",
    "@pyimport scipy.optimize as so\n",
    "so.newton(x -> cos(x) - x, 1)"
   ]
  },
  {
   "cell_type": "markdown",
   "metadata": {},
   "source": [
    "Or calling a function from the C standard library:"
   ]
  },
  {
   "cell_type": "code",
   "execution_count": null,
   "metadata": {},
   "outputs": [],
   "source": [
    "t = ccall(:clock, Int32, ())"
   ]
  },
  {
   "cell_type": "code",
   "execution_count": null,
   "metadata": {},
   "outputs": [],
   "source": [
    "# Or specifying the library (necessary if it's not standard)\n",
    "ccall((:printf, \"libc.so.6\"), Float64, (Float64,), π)"
   ]
  },
  {
   "cell_type": "markdown",
   "metadata": {
    "slideshow": {
     "slide_type": "slide"
    }
   },
   "source": [
    "## Different libraries for different languages\n",
    "- Python with [PyCall](https://github.com/JuliaPy/PyCall.jl)\n",
    "- R with [RCall](https://github.com/JuliaInterop/RCall.jl)\n",
    "- C++ with [CxxWrap](https://github.com/JuliaInterop/CxxWrap.jl)\n",
    "- Matlab with [MATLAB](https://github.com/JuliaInterop/MATLAB.jl)\n",
    "- Java with [JavaCall](https://github.com/JuliaInterop/JavaCall.jl)\n",
    "- Mathematica with [Mathematica](https://github.com/JuliaInterop/Mathematica.jl)\n",
    "- ObjectiveC with [ObjectiveC](https://github.com/JuliaInterop/ObjectiveC.jl)"
   ]
  },
  {
   "cell_type": "markdown",
   "metadata": {
    "slideshow": {
     "slide_type": "slide"
    }
   },
   "source": [
    "## Plotting\n",
    "\n",
    "There are few different ways to plot in Julia. \n",
    "\n",
    "Here we'll use the `Plots` [package](http://docs.juliaplots.org/latest/) that tries to unify many of the underlying visualization engines to have a similar interface."
   ]
  },
  {
   "cell_type": "code",
   "execution_count": null,
   "metadata": {
    "scrolled": false,
    "slideshow": {
     "slide_type": "fragment"
    }
   },
   "outputs": [],
   "source": [
    "using Pkg\n",
    "Pkg.add(\"Plots\")\n",
    "using Plots"
   ]
  },
  {
   "cell_type": "markdown",
   "metadata": {
    "slideshow": {
     "slide_type": "slide"
    }
   },
   "source": [
    "One of the advantages to `Plots.jl` is that it allows you to seamlessly change backends. For example, if you are familiar with the matplotlib library from Python, then you can keep using that via the `PyPlot` [package](https://github.com/JuliaPy/PyPlot.jl).\n",
    "\n",
    "Engines/backends include:\n",
    "- [Plotly](https://plot.ly/julia/): Plotly.jl package (`plotly()` to activate)\n",
    "    - default for Plots if nothing else is installed\n",
    "    - interactive plots in browser\n",
    "    - `PlotlyJS` (activate with `plotlyjs()`) is the local offline version\n",
    "- [PyPlot](https://github.com/JuliaPy/PyPlot.jl): Matplotlib interface (`pyplot()` to activate)\n",
    "    - All the bells and whistles of Matplotlib\n",
    "- [GR](https://github.com/jheinen/GR.jl): GR framework interface (`gr()` to activate)\n",
    "- [UnicodePlots](https://github.com/Evizero/UnicodePlots.jl): (`unicodeplots()` to activate)\n",
    "    - Plots inside terminal!\n",
    "    \n",
    "Also:\n",
    "- [Gadfly](http://gadflyjl.org/stable/): Wickham-Wilkinson style grammar\n",
    "For R-styled plotting.\n",
    "\n",
    "See the [docs](http://docs.juliaplots.org/v1/backends/) for more info about different backends, and their pros & cons."
   ]
  },
  {
   "cell_type": "code",
   "execution_count": null,
   "metadata": {
    "slideshow": {
     "slide_type": "skip"
    }
   },
   "outputs": [],
   "source": [
    "#Pkg.add(\"PlotlyJS\") #let's install our own local plotly\n",
    "Pkg.add(\"PyPlot\") #let's install our own local plotly"
   ]
  },
  {
   "cell_type": "code",
   "execution_count": null,
   "metadata": {
    "slideshow": {
     "slide_type": "skip"
    }
   },
   "outputs": [],
   "source": [
    "#plotly()       # Plotly.jl (needs Plotly package)\n",
    "#plotlyjs()     # local javascript server for plotly (needs PlotlyJS)\n",
    "#gr()           # GR backend, (needs GR package)\n",
    "pyplot()       # Matplotlib interface (needs PyPlot package and up-to-date system matplotlib)\n",
    "#unicodeplots() # UnicodePlots backend (needs UnicodePlots package); NOTE: does not work in notebooks"
   ]
  },
  {
   "cell_type": "markdown",
   "metadata": {
    "slideshow": {
     "slide_type": "slide"
    }
   },
   "source": [
    "## Simulation\n",
    "Let's make a nice plot of the state of our simulation."
   ]
  },
  {
   "cell_type": "code",
   "execution_count": null,
   "metadata": {
    "slideshow": {
     "slide_type": "fragment"
    }
   },
   "outputs": [],
   "source": [
    "# Since our simulation only has 2 states, we'll make a palette of\n",
    "# 2 colors.\n",
    "palette = distinguishable_colors(2)"
   ]
  },
  {
   "cell_type": "markdown",
   "metadata": {},
   "source": [
    "Interesting choice. First we will need to assign colors to each cell in the simulation."
   ]
  },
  {
   "cell_type": "code",
   "execution_count": null,
   "metadata": {
    "scrolled": false,
    "slideshow": {
     "slide_type": "slide"
    }
   },
   "outputs": [],
   "source": [
    "# The following line loads the epidemic functions from a file\n",
    "include(\"../epidemic_no_immunity.jl\")\n",
    "\n",
    "# Let's make some cells\n",
    "cells = Matrix{Cell}(undef, 17, 17)\n",
    "for i in 1:size(cells)[1]\n",
    "    for j in 1:size(cells)[2]\n",
    "        cells[i,j] = Cell(uninfected, 0)\n",
    "    end\n",
    "end\n",
    "cells[8,8].status = infected"
   ]
  },
  {
   "cell_type": "code",
   "execution_count": null,
   "metadata": {},
   "outputs": [],
   "source": [
    "\"Map the cells to colors for plotting\"\n",
    "function to_colors(cell)\n",
    "    if cell.status == uninfected\n",
    "        return palette[1]\n",
    "    end\n",
    "    if status == infected\n",
    "        return palette[2]\n",
    "    end\n",
    "end\n",
    "\n",
    "to_colors.(cells)"
   ]
  },
  {
   "cell_type": "code",
   "execution_count": null,
   "metadata": {},
   "outputs": [],
   "source": [
    "# We can pass this to plot() to get a nicer image\n",
    "\n",
    "plot(to_colors.(cells),legend=false, border=:none)"
   ]
  },
  {
   "cell_type": "markdown",
   "metadata": {
    "slideshow": {
     "slide_type": "slide"
    }
   },
   "source": [
    "## Random Walk\n",
    "Let's take our visualization to the next dimension. Here is a simple plot to visualize the random walk in 3D."
   ]
  },
  {
   "cell_type": "code",
   "execution_count": null,
   "metadata": {
    "slideshow": {
     "slide_type": "skip"
    }
   },
   "outputs": [],
   "source": [
    "#activate Pyplot backend (if you have not done it previously)\n",
    "using Plots\n",
    "pyplot()"
   ]
  },
  {
   "cell_type": "code",
   "execution_count": null,
   "metadata": {
    "slideshow": {
     "slide_type": "slide"
    }
   },
   "outputs": [],
   "source": [
    "n = 1000\n",
    "rw() = cumsum(randn(n)) #function for cumulative random values\n",
    "\n",
    "# x/y/z coordinates\n",
    "x = rw() \n",
    "y = rw()\n",
    "z = rw()\n",
    "\n",
    "plot(x,y,z)"
   ]
  },
  {
   "cell_type": "markdown",
   "metadata": {
    "slideshow": {
     "slide_type": "slide"
    }
   },
   "source": [
    "## Animations\n",
    "Finally, let's add some time aspect to our visualizations. `Plots` has a simple `@gif` macro for this.\n",
    "\n",
    "It builds an animation using one frame per iteration loop, then creates an animated GIF from that.\n",
    "```julia\n",
    "p = plot(1)\n",
    "@gif for x=0:0.1:5\n",
    "    push!(p, 1, sin(x))\n",
    "end\n",
    "```"
   ]
  },
  {
   "cell_type": "markdown",
   "metadata": {
    "slideshow": {
     "slide_type": "slide"
    }
   },
   "source": [
    "Let's write up a simple Lorenz attractor. See https://en.wikipedia.org/wiki/Lorenz_system"
   ]
  },
  {
   "cell_type": "code",
   "execution_count": null,
   "metadata": {
    "slideshow": {
     "slide_type": "fragment"
    }
   },
   "outputs": [],
   "source": [
    "n = 2000\n",
    "dt = 0.02\n",
    "σ, ρ, β = 9.9, 28., 8/3\n",
    "global x, y, z = 1., 1., 1.\n",
    "\n",
    "# Lorentz attractor\n",
    "function lorentzAttractor(x,y,z)\n",
    "    x += dt * σ*(y - x)\n",
    "    y += dt * (x*(ρ - z) - y)   \n",
    "    z += dt * (x*y - β*z  )\n",
    "    return x, y, z\n",
    "end"
   ]
  },
  {
   "cell_type": "code",
   "execution_count": null,
   "metadata": {
    "slideshow": {
     "slide_type": "skip"
    }
   },
   "outputs": [],
   "source": [
    "#activate PyPlot backend (if you have not done it previously)\n",
    "using Plots"
   ]
  },
  {
   "cell_type": "code",
   "execution_count": null,
   "metadata": {
    "slideshow": {
     "slide_type": "slide"
    }
   },
   "outputs": [],
   "source": [
    "# initialize a 3D plot with 1 empty series\n",
    "plt = path3d(1, xlim=(-25,25), ylim=(-25,25), zlim=(0,50),\n",
    "                xlab = \"x\", ylab = \"y\", zlab = \"z\",\n",
    "                title = \"Lorenz Attractor\", marker = 1)\n",
    "\n",
    "# build an animated gif, saving every 10th frame\n",
    "@gif for i=1:n\n",
    "    global x, y, z = lorentzAttractor(x,y,z)\n",
    "    push!(plt, x, y, z)\n",
    "end every 100"
   ]
  },
  {
   "cell_type": "markdown",
   "metadata": {
    "slideshow": {
     "slide_type": "slide"
    }
   },
   "source": [
    "![animation](../slides/tmp.gif)"
   ]
  },
  {
   "cell_type": "markdown",
   "metadata": {
    "slideshow": {
     "slide_type": "slide"
    }
   },
   "source": [
    "## More examples\n",
    "For more examples, see [Plots](http://docs.juliaplots.org/latest) documentation.\n",
    "- [PyPlot](http://docs.juliaplots.org/latest/examples/pyplot/)\n",
    "- [GR](http://docs.juliaplots.org/latest/examples/gr/)\n",
    "- [Plotly](http://docs.juliaplots.org/latest/examples/plotlyjs/)\n",
    "- etc."
   ]
  },
  {
   "cell_type": "markdown",
   "metadata": {
    "slideshow": {
     "slide_type": "slide"
    }
   },
   "source": [
    "## Summary\n",
    "\n",
    "Julia provides a powerful interoparability API for usage of various other languages.\n",
    "\n",
    "These rely on external libraries such as:\n",
    "- Python with [PyCall](https://github.com/JuliaPy/PyCall.jl)\n",
    "- R with [RCall](https://github.com/JuliaInterop/RCall.jl)\n",
    "\n",
    "Same functionality also allows to use many mature visualization libraries via Julia."
   ]
  }
 ],
 "metadata": {
  "celltoolbar": "Slideshow",
  "kernelspec": {
   "display_name": "Julia 1.6.2",
   "language": "julia",
   "name": "julia-1.6"
  },
  "language_info": {
   "file_extension": ".jl",
   "mimetype": "application/julia",
   "name": "julia",
   "version": "1.6.2"
  }
 },
 "nbformat": 4,
 "nbformat_minor": 4
}
