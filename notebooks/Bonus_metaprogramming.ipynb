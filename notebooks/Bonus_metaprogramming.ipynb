{
 "cells": [
  {
   "cell_type": "markdown",
   "metadata": {},
   "source": [
    "# Metaprogramming\n",
    "\n",
    "\"Meta\": one level up\n",
    "\n",
    "\"Metaprogramming\": programming a program, i.e. write code that writes code.\n",
    "\n",
    "Means talking about Julia code within Julia! (Because Julia is a homoiconic language, i.e. code is data (type) and data is code.)\n",
    "\n",
    "Refs: see lecture [slides](https://github.com/alanedelman/18.337_2016/blob/master/lectures/lecture_5_09_21/Introduction%20to%20metaprogramming.ipynb) by Alan Edelman for more.\n",
    "\n",
    "Also, watch and follow [this video](https://www.youtube.com/watch?v=e6LGMeoQhfs) for a concise introduction on `macros`."
   ]
  },
  {
   "cell_type": "markdown",
   "metadata": {},
   "source": [
    "## 1. A motivation case of metaprogramming\n",
    "\n",
    "* To avoid repetitive code"
   ]
  },
  {
   "cell_type": "code",
   "execution_count": 23,
   "metadata": {},
   "outputs": [],
   "source": [
    "struct MyInteger\n",
    "    a::Int\n",
    "end"
   ]
  },
  {
   "cell_type": "code",
   "execution_count": null,
   "metadata": {},
   "outputs": [],
   "source": [
    "# No meta-programming, just define the methods\n",
    "+(x::MyInteger, y::MyInteger) = MyInteger(x.a + y.a)\n",
    "-(x::MyInteger, y::MyInteger) = MyInteger(x.a - y.a)\n",
    "*(x::MyInteger, y::MyInteger) = MyInteger(x.a * y.a)\n",
    "# ..."
   ]
  },
  {
   "cell_type": "code",
   "execution_count": 32,
   "metadata": {},
   "outputs": [],
   "source": [
    "# Use meta-programming\n",
    "import Base: +,-, *\n",
    "\n",
    "for op in [:+, :-, :*]\n",
    "    @eval $op(x::MyInteger, y::MyInteger) = MyInteger($op(x.a, y.a))\n",
    "    # Equivalent to the following:\n",
    "    # eval(:($op(x::MyInteger, y::MyInteger) = MyInteger($op(x.a, y.a))))\n",
    "    # A common mistake is to use MyInteger(x.a $op y.a) as follows:\n",
    "    # @eval ($op)(x::MyInteger, y::MyInteger) = MyInteger(x.a $op y.a)\n",
    "    # because we cannot interpolate expressions in fixed notations/syntax.\n",
    "end"
   ]
  },
  {
   "cell_type": "code",
   "execution_count": 33,
   "metadata": {},
   "outputs": [
    {
     "data": {
      "text/plain": [
       "MyInteger(3)"
      ]
     },
     "metadata": {},
     "output_type": "display_data"
    }
   ],
   "source": [
    "MyInteger(1) + MyInteger(2) # MyInteger(3)"
   ]
  },
  {
   "cell_type": "markdown",
   "metadata": {},
   "source": [
    "## 2. Expressions\n",
    "\n",
    "Expression (`Expr`) is a data type (structure) in Julia to represent (a piece of) Julia code. It must be given in valid Julia syntax.\n",
    "\n",
    "### 2.1 Expression structure"
   ]
  },
  {
   "cell_type": "code",
   "execution_count": 34,
   "metadata": {},
   "outputs": [
    {
     "data": {
      "text/plain": [
       ":(a + 1)"
      ]
     },
     "metadata": {},
     "output_type": "display_data"
    }
   ],
   "source": [
    "ex = :(a + 1)\n",
    "# pieces in the expression \"a + 1\" can be modified"
   ]
  },
  {
   "cell_type": "code",
   "execution_count": 36,
   "metadata": {},
   "outputs": [
    {
     "name": "stdout",
     "output_type": "stream",
     "text": [
      "Expr\n",
      "  head: Symbol call\n",
      "  args: Array{Any}((3,))\n",
      "    1: Symbol +\n",
      "    2: Symbol a\n",
      "    3: Int64 1\n"
     ]
    }
   ],
   "source": [
    "# dump() to see the structure of an expression (syntax tree)\n",
    "dump(ex)"
   ]
  },
  {
   "cell_type": "code",
   "execution_count": 51,
   "metadata": {},
   "outputs": [
    {
     "name": "stdout",
     "output_type": "stream",
     "text": [
      "Expr\n",
      "  head: Symbol call\n",
      "  args: Array{Any}((3,))\n",
      "    1: Symbol *\n",
      "    2: Expr\n",
      "      head: Symbol call\n",
      "      args: Array{Any}((3,))\n",
      "        1: Symbol +\n",
      "        2: Symbol a\n",
      "        3: Symbol b\n",
      "    3: Symbol c\n"
     ]
    }
   ],
   "source": [
    "ex = :((a + b)*c)\n",
    "dump(ex)"
   ]
  },
  {
   "cell_type": "code",
   "execution_count": 45,
   "metadata": {},
   "outputs": [
    {
     "data": {
      "text/plain": [
       "3-element Vector{Any}:\n",
       " :*\n",
       " :(a + b)\n",
       " :c"
      ]
     },
     "metadata": {},
     "output_type": "display_data"
    }
   ],
   "source": [
    "ex.head # :call\n",
    "ex.args # 3-element Array{Any,1}: :(a + b) : * :c"
   ]
  },
  {
   "cell_type": "code",
   "execution_count": 52,
   "metadata": {},
   "outputs": [
    {
     "data": {
      "text/plain": [
       ":((a - b) * c)"
      ]
     },
     "metadata": {},
     "output_type": "display_data"
    }
   ],
   "source": [
    "# change the pieces of the expression\n",
    "ex.args[2].args[1]  = :- # change + to -\n",
    "ex"
   ]
  },
  {
   "cell_type": "code",
   "execution_count": 1,
   "metadata": {},
   "outputs": [
    {
     "ename": "MethodError",
     "evalue": "MethodError: objects of type Int64 are not callable\nMaybe you forgot to use an operator such as *, ^, %, / etc. ?",
     "output_type": "error",
     "traceback": [
      "MethodError: objects of type Int64 are not callable\n",
      "Maybe you forgot to use an operator such as *, ^, %, / etc. ?\n",
      "\n",
      "Stacktrace:\n",
      " [1] top-level scope\n",
      "   @ none:1"
     ]
    }
   ],
   "source": [
    "# Invalid syntax causes error in the evaluation\n",
    "ex = :( 1 + 1 )\n",
    "# dump(ex)\n",
    "ex.args[1] = 1\n",
    "eval(ex) # MethodError: objects of type Int64 are not callable"
   ]
  },
  {
   "cell_type": "markdown",
   "metadata": {},
   "source": [
    "### 2.2 Evaluate an expression"
   ]
  },
  {
   "cell_type": "code",
   "execution_count": 20,
   "metadata": {},
   "outputs": [
    {
     "data": {
      "text/plain": [
       ":(isapprox(exp(im * pi) + 1, 0.0, atol = 1.0e-10))"
      ]
     },
     "metadata": {},
     "output_type": "display_data"
    }
   ],
   "source": [
    "ex = :( isapprox(exp(im * pi) + 1, 0.0, atol=1e-10) )\n",
    "eval(ex) # true, eval interprets the value of ex as a Julia expression \n",
    "@eval $ex # true\n",
    "@eval isapprox(exp(im * pi) + 1, 0.0, atol=1e-10) # true\n",
    "@eval ex # :( isapprox(exp(im * pi) + 1, 0.0, atol = 1.0e-10) )\n",
    "# @eval executes \"ex\" as a code having been interpolated\n",
    "# @eval can be used in local scope, i.e. within a function"
   ]
  },
  {
   "cell_type": "code",
   "execution_count": 1,
   "metadata": {},
   "outputs": [
    {
     "data": {
      "text/plain": [
       "quote\n",
       "    \u001b[90m#= c:\\Projects\\julia-introduction\\notebooks\\Bonus_metaprogramming.ipynb:3 =#\u001b[39m\n",
       "    z = x + y\n",
       "end"
      ]
     },
     "metadata": {},
     "output_type": "display_data"
    }
   ],
   "source": [
    "ex =\n",
    "quote # for long peices of expressions\n",
    "    z = x + y\n",
    "end"
   ]
  },
  {
   "cell_type": "code",
   "execution_count": 2,
   "metadata": {},
   "outputs": [
    {
     "data": {
      "text/plain": [
       "Expr"
      ]
     },
     "metadata": {},
     "output_type": "display_data"
    }
   ],
   "source": [
    "typeof(ex)"
   ]
  },
  {
   "cell_type": "code",
   "execution_count": 16,
   "metadata": {},
   "outputs": [
    {
     "name": "stdout",
     "output_type": "stream",
     "text": [
      "Expr\n",
      "  head: Symbol call\n",
      "  args: Array{Any}((4,))\n",
      "    1: Symbol isapprox\n",
      "    2: Expr\n",
      "      head: Symbol call\n",
      "      args: Array{Any}((3,))\n",
      "        1: Symbol +\n",
      "        2: Expr\n",
      "          head: Symbol call\n",
      "          args: Array{Any}((2,))\n",
      "            1: Symbol exp\n",
      "            2: Expr\n",
      "              head: Symbol call\n",
      "              args: Array{Any}((3,))\n",
      "                1: Symbol *\n",
      "                2: Symbol im\n",
      "                3: Symbol pi\n",
      "        3: Int64 1\n",
      "    3: Float64 0.0\n",
      "    4: Expr\n",
      "      head: Symbol kw\n",
      "      args: Array{Any}((2,))\n",
      "        1: Symbol atol\n",
      "        2: Float64 1.0e-10\n"
     ]
    }
   ],
   "source": [
    "dump(ex)"
   ]
  },
  {
   "cell_type": "code",
   "execution_count": 3,
   "metadata": {},
   "outputs": [
    {
     "data": {
      "text/plain": [
       ":block"
      ]
     },
     "metadata": {},
     "output_type": "display_data"
    }
   ],
   "source": [
    "ex.head"
   ]
  },
  {
   "cell_type": "code",
   "execution_count": 4,
   "metadata": {},
   "outputs": [
    {
     "data": {
      "text/plain": [
       "2-element Vector{Any}:\n",
       " :(\u001b[90m#= c:\\Projects\\julia-introduction\\notebooks\\Bonus_metaprogramming.ipynb:3 =#\u001b[39m)\n",
       " :(z = x + y)"
      ]
     },
     "metadata": {},
     "output_type": "display_data"
    }
   ],
   "source": [
    "ex.args"
   ]
  },
  {
   "cell_type": "markdown",
   "metadata": {},
   "source": [
    "Can also be written as:"
   ]
  },
  {
   "cell_type": "code",
   "execution_count": 63,
   "metadata": {},
   "outputs": [
    {
     "data": {
      "text/plain": [
       ":(z = x + y)"
      ]
     },
     "metadata": {},
     "output_type": "display_data"
    }
   ],
   "source": [
    "ex = :(z = x + y)"
   ]
  },
  {
   "cell_type": "code",
   "execution_count": 6,
   "metadata": {},
   "outputs": [
    {
     "data": {
      "text/plain": [
       "3"
      ]
     },
     "metadata": {},
     "output_type": "display_data"
    }
   ],
   "source": [
    "x = 1\n",
    "y = 2\n",
    "eval(ex)"
   ]
  },
  {
   "cell_type": "code",
   "execution_count": 7,
   "metadata": {},
   "outputs": [
    {
     "data": {
      "text/plain": [
       ":(z = x + y)"
      ]
     },
     "metadata": {},
     "output_type": "display_data"
    }
   ],
   "source": [
    "ex"
   ]
  },
  {
   "cell_type": "markdown",
   "metadata": {},
   "source": [
    "## Manipulating expressions"
   ]
  },
  {
   "cell_type": "code",
   "execution_count": 8,
   "metadata": {},
   "outputs": [
    {
     "data": {
      "text/plain": [
       ":(3x + 2 * x ^ 2)"
      ]
     },
     "metadata": {},
     "output_type": "display_data"
    }
   ],
   "source": [
    "ex = :(3x + 2x^2)"
   ]
  },
  {
   "cell_type": "markdown",
   "metadata": {},
   "source": [
    "Let's replace all `x` by `(x+1)`s."
   ]
  },
  {
   "cell_type": "code",
   "execution_count": 9,
   "metadata": {},
   "outputs": [
    {
     "data": {
      "text/plain": [
       "3-element Vector{Any}:\n",
       " :+\n",
       " :(3x)\n",
       " :(2 * x ^ 2)"
      ]
     },
     "metadata": {},
     "output_type": "display_data"
    }
   ],
   "source": [
    "ex.args"
   ]
  },
  {
   "cell_type": "code",
   "execution_count": 16,
   "metadata": {},
   "outputs": [
    {
     "data": {
      "text/plain": [
       ":x"
      ]
     },
     "metadata": {},
     "output_type": "display_data"
    }
   ],
   "source": [
    "ex.args[2].args[3]"
   ]
  },
  {
   "cell_type": "code",
   "execution_count": 17,
   "metadata": {},
   "outputs": [
    {
     "data": {
      "text/plain": [
       ":(x + 1)"
      ]
     },
     "metadata": {},
     "output_type": "display_data"
    }
   ],
   "source": [
    "ex.args[2].args[3] = :(x+1)"
   ]
  },
  {
   "cell_type": "code",
   "execution_count": 52,
   "metadata": {},
   "outputs": [
    {
     "data": {
      "text/plain": [
       ":(3x + 3 * x ^ 2)"
      ]
     },
     "metadata": {},
     "output_type": "display_data"
    }
   ],
   "source": [
    "ex"
   ]
  },
  {
   "cell_type": "code",
   "execution_count": 51,
   "metadata": {},
   "outputs": [
    {
     "data": {
      "text/plain": [
       "6"
      ]
     },
     "metadata": {},
     "output_type": "display_data"
    }
   ],
   "source": [
    "eval(ex)"
   ]
  },
  {
   "cell_type": "markdown",
   "metadata": {},
   "source": [
    "## Parsing from text"
   ]
  },
  {
   "cell_type": "code",
   "execution_count": 43,
   "metadata": {},
   "outputs": [
    {
     "data": {
      "text/plain": [
       "\"3x + 3x^2\""
      ]
     },
     "metadata": {},
     "output_type": "display_data"
    }
   ],
   "source": [
    "s = \"3x + 3x^2\""
   ]
  },
  {
   "cell_type": "code",
   "execution_count": 44,
   "metadata": {},
   "outputs": [
    {
     "data": {
      "text/plain": [
       ":(3x + 3 * x ^ 2)"
      ]
     },
     "metadata": {},
     "output_type": "display_data"
    }
   ],
   "source": [
    "ex = Meta.parse(s)"
   ]
  },
  {
   "cell_type": "code",
   "execution_count": 47,
   "metadata": {},
   "outputs": [
    {
     "data": {
      "text/plain": [
       "6"
      ]
     },
     "metadata": {},
     "output_type": "display_data"
    }
   ],
   "source": [
    "x=1\n",
    "eval(ex)"
   ]
  },
  {
   "cell_type": "markdown",
   "metadata": {},
   "source": [
    "## Macros\n",
    "\n",
    "@ is the signal that it's a \"macro\", i.e. a meta-function.\n",
    "\n",
    "A function that takes as its argument a piece of code, manipulates it, and returns the resulting piece of code (returns an expression that is also executed).\n",
    "\n",
    "What a macro does\n",
    "- 1. stores the input code as an expression\n",
    "- 2. manipulates the expression: add code before, after, or replace pieces of the input code\n",
    "- 3. returns the resulting expression\n",
    "- 4. evaluate the expression, i.e. run the code"
   ]
  },
  {
   "cell_type": "markdown",
   "metadata": {},
   "source": [
    "## Wilkinson polynomial\n",
    "$$p_n(x) = \\prod_{i=1}^n (x - i)$$\n",
    "E.g.\n",
    "$$p_5(x) = (x-1)(x-2)(x-3)(x-4)(x-5)$$"
   ]
  },
  {
   "cell_type": "code",
   "execution_count": 21,
   "metadata": {},
   "outputs": [
    {
     "data": {
      "text/plain": [
       "wilkinson (generic function with 1 method)"
      ]
     },
     "metadata": {},
     "output_type": "display_data"
    }
   ],
   "source": [
    "function wilkinson(n, a)\n",
    "    return prod([x - a for x in 1:n])\n",
    "end"
   ]
  },
  {
   "cell_type": "code",
   "execution_count": 34,
   "metadata": {},
   "outputs": [
    {
     "data": {
      "text/plain": [
       "@make_wilkinson (macro with 1 method)"
      ]
     },
     "metadata": {},
     "output_type": "display_data"
    }
   ],
   "source": [
    "macro make_wilkinson(n, name)\n",
    "    ex = :( x - 1 )\n",
    "    for i in 2:n\n",
    "        ex = :( $ex * (x - $i) )\n",
    "        # Everything within :() is treated as a symbol until being evaluated, \n",
    "        # unless the element is interpolated with $ beforehand.\n",
    "        # $ is used to interpolate the value of a variable (the content represented by \"ex\" and \"i\") inside the expression :().\n",
    "        # Otherwise, the variable \"ex\" and \"i\" within the expression is treated as a symbol.\n",
    "    end\n",
    "    # to obtain the expression p_n(x) = (x - 1) * (x - 2) * ... * (x - n) with name\n",
    "    :( $(name)(x) = $ex )\n",
    "end"
   ]
  },
  {
   "cell_type": "code",
   "execution_count": 38,
   "metadata": {},
   "outputs": [
    {
     "data": {
      "text/plain": [
       "559.122291"
      ]
     },
     "metadata": {},
     "output_type": "display_data"
    }
   ],
   "source": [
    "@make_wilkinson 6 p6\n",
    "p6(0.1)"
   ]
  }
 ],
 "metadata": {
  "kernelspec": {
   "display_name": "Julia 1.10.0",
   "language": "julia",
   "name": "julia-1.10"
  },
  "language_info": {
   "file_extension": ".jl",
   "mimetype": "application/julia",
   "name": "julia",
   "version": "1.10.0"
  }
 },
 "nbformat": 4,
 "nbformat_minor": 2
}
