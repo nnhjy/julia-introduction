{
 "cells": [
  {
   "cell_type": "markdown",
   "metadata": {
    "slideshow": {
     "slide_type": "slide"
    }
   },
   "source": [
    "# Development practises\n"
   ]
  },
  {
   "cell_type": "markdown",
   "metadata": {
    "slideshow": {
     "slide_type": "fragment"
    }
   },
   "source": [
    "## Topics\n",
    "\n",
    "- modules\n",
    "- testing\n",
    "- packages\n",
    "- naming conventions\n",
    "- pretty functions\n",
    "- multiple dispatch\n",
    "- variable scope\n",
    "    - arrays as an exception\n",
    "- metaprogramming (see Bonus notebook)"
   ]
  },
  {
   "cell_type": "markdown",
   "metadata": {},
   "source": [
    "## Modules\n",
    "\n",
    "Notebooks and the REPL are good for rapid development and testing things, but you may quickly find it limiting. Most of the time you want to develop any larger projects as modules and control scripts.\n",
    "\n",
    "Modules are used to store function and structures you need often. They can be shared accross projects. The packages we use are modules written by others and shared so that we can use them and develop them further.\n",
    "\n",
    "### Scripts\n",
    "\n",
    "Julia code placed in a .jl file can be executed on the command line. We could place the ani\n",
    "\n",
    "You can also `include()` the code like we did in the plotting exercises.\n",
    "\n",
    "### Modules\n",
    "\n",
    "A module is a collection of functions and data structures. Generally the function and structs are tied together by a single purpose or work are useful in similar situations.\n",
    "\n",
    "To define a module called MyModule, you would create a file called `MyModule.jl` and write something like below:\n",
    "```julia\n",
    "module MyModule\n",
    "export mycoolfunction\n",
    "\n",
    "function mycoolfunction()\n",
    "   println(\"this is my cool function\")\n",
    "end\n",
    "function mysecretfunction()\n",
    "   println(\"this is my secret function\")\n",
    "end\n",
    "\n",
    "end\n",
    "```\n",
    "\n",
    "In fact this file is already in the currect directory."
   ]
  },
  {
   "cell_type": "code",
   "execution_count": null,
   "metadata": {},
   "outputs": [],
   "source": [
    "# To use the module you need to first include the file:\n",
    "\n",
    "include(\"MyModule.jl\")\n",
    "using .MyModule"
   ]
  },
  {
   "cell_type": "markdown",
   "metadata": {},
   "source": [
    "When you load the module with the `using` keyword, the `export`ed names are pulled into the global namespace."
   ]
  },
  {
   "cell_type": "code",
   "execution_count": null,
   "metadata": {},
   "outputs": [],
   "source": [
    "mycoolfunction()"
   ]
  },
  {
   "cell_type": "markdown",
   "metadata": {},
   "source": [
    "Other names are not in global namespace, but they can still be used:"
   ]
  },
  {
   "cell_type": "code",
   "execution_count": null,
   "metadata": {},
   "outputs": [],
   "source": [
    "# This will not work\n",
    "mysecretfunction()"
   ]
  },
  {
   "cell_type": "code",
   "execution_count": null,
   "metadata": {},
   "outputs": [],
   "source": [
    "# But this will\n",
    "MyModule.mysecretfunction()"
   ]
  },
  {
   "cell_type": "markdown",
   "metadata": {},
   "source": [
    "#### Import\n",
    "\n",
    "Sometimes different modules define things with the same name. Multiple dispatch can take care of multiple methods with the same name, but only if they use different types of input.\n",
    "\n"
   ]
  },
  {
   "cell_type": "code",
   "execution_count": null,
   "metadata": {},
   "outputs": [],
   "source": [
    "module MyOtherModule\n",
    "export mycoolfunction\n",
    "\n",
    "function mycoolfunction()\n",
    "   println(\"This is my other module\")\n",
    "end\n",
    "end\n",
    "\n",
    "import Main.MyOtherModule"
   ]
  },
  {
   "cell_type": "code",
   "execution_count": null,
   "metadata": {},
   "outputs": [],
   "source": [
    "mycoolfunction()"
   ]
  },
  {
   "cell_type": "code",
   "execution_count": null,
   "metadata": {},
   "outputs": [],
   "source": [
    "MyOtherModule.mycoolfunction()"
   ]
  },
  {
   "cell_type": "markdown",
   "metadata": {},
   "source": [
    "### include()\n",
    "\n",
    "Using the include statement to spread your code is\n",
    "into multiple files is a a common and useful pattern.\n",
    "\n",
    "We could write the module above as\n",
    "\n",
    "```julia\n",
    "module MyModule\n",
    "export mycoolfunction\n",
    "\n",
    "inlude(\"mycoolfunction.jl\")\n",
    "inlude(\"mysecretfunction.jl\")\n",
    "\n",
    "end\n",
    "```\n",
    "\n",
    "Provided that the functions are defined in the given files.\n",
    "\n",
    "Don't overdo it, though. In this case the functions are not complicated and there is not reason to have them in a separate file."
   ]
  },
  {
   "cell_type": "markdown",
   "metadata": {},
   "source": [
    "## Packages\n",
    "\n",
    "Having to `include()` the file is a problem when you\n",
    "want to use the same code across projects. \n",
    "For this we need to create a package.\n",
    "\n",
    "A package is a folder with\n",
    " - One or more module files\n",
    " - a `Project.toml`\n",
    "\n",
    "The `Project.toml` file contains some information about\n",
    "the package and a list of other packages your package\n",
    "depends on. The easiest way to go from a module file\n",
    "(or several module files) to a pacakge is to use the\n",
    "Pkg module:"
   ]
  },
  {
   "cell_type": "code",
   "execution_count": null,
   "metadata": {},
   "outputs": [],
   "source": [
    "using Pkg\n",
    "Pkg.generate(\"MyPackage\")"
   ]
  },
  {
   "cell_type": "markdown",
   "metadata": {},
   "source": [
    "This creates a new `MyPackage` folder with the Project.toml file\n",
    "and a src directory for the module file. The src folder contains\n",
    "an automatically generated example project.\n",
    "\n",
    "Let's try it out. In the exercises you will create and edit a module, but here are satisfied with using the example package."
   ]
  },
  {
   "cell_type": "code",
   "execution_count": null,
   "metadata": {},
   "outputs": [],
   "source": [
    "Pkg.develop(PackageSpec(path=\"MyPackage\"))\n",
    "using MyPackage\n",
    "MyPackage.greet()"
   ]
  },
  {
   "cell_type": "markdown",
   "metadata": {},
   "source": [
    "`Pkg.develop` is similar to `Pkg.add`, but it any changes we make \n",
    "to the package will take effect when you import or use the package. With `Pkg.add` you would need to manually reinstall."
   ]
  },
  {
   "cell_type": "markdown",
   "metadata": {},
   "source": [
    "## Testing\n",
    "\n",
    "- The only way to make sure your code actually works is to test it.\n",
    "- Julia has convenient built-in macros for automated tests. "
   ]
  },
  {
   "cell_type": "code",
   "execution_count": null,
   "metadata": {},
   "outputs": [],
   "source": [
    "import Pkg\n",
    "Pkg.add(\"Test\")"
   ]
  },
  {
   "cell_type": "code",
   "execution_count": null,
   "metadata": {},
   "outputs": [],
   "source": [
    "using Test\n",
    "@test 1 + 1 == 2"
   ]
  },
  {
   "cell_type": "markdown",
   "metadata": {},
   "source": [
    "- Group related tests together into a test set"
   ]
  },
  {
   "cell_type": "code",
   "execution_count": null,
   "metadata": {},
   "outputs": [],
   "source": [
    "@testset \"Test arithmetic equalities\" begin\n",
    "    @test 1 + 1 == 2\n",
    "end"
   ]
  },
  {
   "cell_type": "markdown",
   "metadata": {},
   "source": [
    "### Testing a package\n",
    "\n",
    "It is good practice to add a set of tests to your packages. This\n",
    " - ensures that it works as intended\n",
    " - defines what actually works\n",
    " \n",
    "The tests are added to `test/runtests.jl` in the package \n",
    "directory. We will add the following to `MyPackage`:\n",
    "```julia\n",
    "using Test\n",
    "@testset \"Test arithmetic equalities\" begin\n",
    "    @test 1 + 1 == 2\n",
    "end\n",
    "```\n",
    "\n",
    "We also need to add the Test module to the our packages dependencies.\n",
    "The `project.toml` file should look something like this:\n",
    "\n",
    "```\n",
    "name = \"MyPackage\"\n",
    "uuid = \"2079a258-defa-40a0-8316-dccef70ae21b\"\n",
    "authors = [\"Jarno Rantaharju\"]\n",
    "version = \"0.1.0\"\n",
    "\n",
    "[deps]\n",
    "Test = \"8dfed614-e22c-5e08-85e1-65c5234f0b40\"\n",
    "```\n",
    "\n",
    "Now you can run the tests using the Pkg module:"
   ]
  },
  {
   "cell_type": "code",
   "execution_count": null,
   "metadata": {},
   "outputs": [],
   "source": [
    "Pkg.test(\"MyPackage\")"
   ]
  },
  {
   "cell_type": "markdown",
   "metadata": {},
   "source": [
    "## Development environments and dependencies\n",
    "\n",
    "The best way to track the packages you project depends on is to use \n",
    "Julia's built-in development environment manager.\n",
    "\n",
    "When a development environment is active, Julia will only see the packages installed inside hat environment. The `project.toml` file is\n",
    "automatically updated whenever you install a new package.\n",
    "\n",
    "You can create an environment in any folder, it does not need to be a package. To do this, run\n",
    "```Julia\n",
    "Pkg.activate(\".\")\n",
    "```\n",
    "\n",
    "We can also activate the environment of our package by specifying its\n",
    "path."
   ]
  },
  {
   "cell_type": "code",
   "execution_count": null,
   "metadata": {},
   "outputs": [],
   "source": [
    "Pkg.activate(\"MyPackage\")\n",
    "# Now the plot package is no longer available, since it is not listed\n",
    "# in MyPackage/project.toml\n",
    "using Plots"
   ]
  },
  {
   "cell_type": "markdown",
   "metadata": {},
   "source": [
    "Now see what happens in when we install it:"
   ]
  },
  {
   "cell_type": "code",
   "execution_count": null,
   "metadata": {},
   "outputs": [],
   "source": [
    "Pkg.add(\"Plots\")"
   ]
  },
  {
   "cell_type": "markdown",
   "metadata": {
    "slideshow": {
     "slide_type": "slide"
    }
   },
   "source": [
    "## Naming conventions in Julia\n",
    "\n",
    "- Word separation can be indicated by underscores (`_`), but use of underscores is discouraged unless the name would be hard to read otherwise.\n",
    "- Names of Types begin with a capital letter and word separation is shown with CamelCase instead of underscores.\n",
    "- Names of functions and macros are in lower case, without underscores.  \n",
    "- Functions that modify their inputs have names that end in `!`. These functions are sometimes called mutating functions or in-place functions.\n"
   ]
  },
  {
   "cell_type": "markdown",
   "metadata": {
    "slideshow": {
     "slide_type": "slide"
    }
   },
   "source": [
    "## Making functions pretty: optional arguments\n",
    "You can define functions with optional arguments, so that the function can use sensible defaults if specific values aren't supplied. You provide a default symbol and value in the argument list"
   ]
  },
  {
   "cell_type": "code",
   "execution_count": null,
   "metadata": {
    "slideshow": {
     "slide_type": "fragment"
    }
   },
   "outputs": [],
   "source": [
    "function xyzpos(x, y, z=0)\n",
    "    println(\"$x, $y, $z\")\n",
    "end"
   ]
  },
  {
   "cell_type": "code",
   "execution_count": null,
   "metadata": {
    "slideshow": {
     "slide_type": "fragment"
    }
   },
   "outputs": [],
   "source": [
    "xyzpos(0,0)\n",
    "xyzpos(0,0,1)"
   ]
  },
  {
   "cell_type": "markdown",
   "metadata": {
    "slideshow": {
     "slide_type": "slide"
    }
   },
   "source": [
    "## Making functions pretty: keyword arguments\n",
    "When you write a function with a long list of arguments like this:\n",
    "```julia\n",
    "function f(p, q, r, s, t, u)\n",
    "...\n",
    "end\n",
    "```\n",
    "sooner or later, you will forget the order in which you have to supply the arguments. \n",
    "\n",
    "You can avoid this problem by using keywords to label arguments. Use a semicolon (`;`) after the function's unlabelled arguments, and follow it with one or more keyword=value pairs:"
   ]
  },
  {
   "cell_type": "code",
   "execution_count": null,
   "metadata": {
    "slideshow": {
     "slide_type": "fragment"
    }
   },
   "outputs": [],
   "source": [
    "function f(p, q ; radius = 4, message = \"hello\")\n",
    "  println(\"p is $p\")\n",
    "  println(\"q is $q\")\n",
    "  return \"radius => $radius, message => $message\"\n",
    "end\n",
    "f(1,2)\n",
    "f(\"a\", \"b\", r=pi, s=22//7)"
   ]
  },
  {
   "cell_type": "markdown",
   "metadata": {
    "slideshow": {
     "slide_type": "slide"
    }
   },
   "source": [
    "## Advanced: Functions with variable number of arguments\n",
    "Functions can be defined so that they can accept any number of arguments:"
   ]
  },
  {
   "cell_type": "code",
   "execution_count": null,
   "metadata": {
    "slideshow": {
     "slide_type": "fragment"
    }
   },
   "outputs": [],
   "source": [
    "function fvar(args...)\n",
    "    println(\"you supplied $(length(args)) arguments\")\n",
    "    for arg in args\n",
    "       println(\" argument \", arg)\n",
    "    end\n",
    "end\n",
    "fvar()\n",
    "fvar(64)\n",
    "fvar(64, 64, 55)"
   ]
  },
  {
   "cell_type": "markdown",
   "metadata": {
    "slideshow": {
     "slide_type": "fragment"
    }
   },
   "source": [
    "The three dots indicate the **splat**. Here it means \"any\", including \"none\". "
   ]
  },
  {
   "cell_type": "markdown",
   "metadata": {
    "slideshow": {
     "slide_type": "slide"
    }
   },
   "source": [
    "## Advanced: Parametric methods\n",
    "Method definitions can optionally have type parameters qualifying the signature:"
   ]
  },
  {
   "cell_type": "code",
   "execution_count": null,
   "metadata": {
    "slideshow": {
     "slide_type": "fragment"
    }
   },
   "outputs": [],
   "source": [
    "function same_type(x::T, y::T) where {T}\n",
    "    true\n",
    "end\n",
    "\n",
    "function same_type(x,y)\n",
    "    false\n",
    "end"
   ]
  },
  {
   "cell_type": "markdown",
   "metadata": {
    "slideshow": {
     "slide_type": "fragment"
    }
   },
   "source": [
    "The first method applies whenever both arguments are of the same concrete type, regardless of what type that is, while the second method acts as a catch-all, covering all other cases. Thus, overall, this defines a boolean function that checks whether its two arguments are of the same type"
   ]
  },
  {
   "cell_type": "code",
   "execution_count": null,
   "metadata": {
    "slideshow": {
     "slide_type": "slide"
    }
   },
   "outputs": [],
   "source": [
    "same_type(1,2)"
   ]
  },
  {
   "cell_type": "code",
   "execution_count": null,
   "metadata": {},
   "outputs": [],
   "source": [
    "same_type(1, 2.0)"
   ]
  },
  {
   "cell_type": "code",
   "execution_count": null,
   "metadata": {},
   "outputs": [],
   "source": [
    "same_type(1.0, 2.0)"
   ]
  },
  {
   "cell_type": "code",
   "execution_count": null,
   "metadata": {},
   "outputs": [],
   "source": [
    "same_type(\"foo\", 2.0)"
   ]
  },
  {
   "cell_type": "code",
   "execution_count": null,
   "metadata": {},
   "outputs": [],
   "source": [
    "same_type(Int32(1), Int64(2))"
   ]
  },
  {
   "cell_type": "markdown",
   "metadata": {
    "slideshow": {
     "slide_type": "slide"
    }
   },
   "source": [
    "## Scope of variables\n",
    "- Global scope\n",
    "    - Module specific (namespaces)\n",
    "- Local scopes\n",
    "    - functions, for's, while's,..."
   ]
  },
  {
   "cell_type": "markdown",
   "metadata": {
    "slideshow": {
     "slide_type": "slide"
    }
   },
   "source": [
    "## Local scope\n",
    "A new local scope is introduced by most code-blocks.\n",
    "    \n",
    "A local scope usually inherits all the variables from its parent scope, both for reading and writing. "
   ]
  },
  {
   "cell_type": "markdown",
   "metadata": {
    "slideshow": {
     "slide_type": "fragment"
    }
   },
   "source": [
    "A newly introduced variable in a local scope does not back-propagate to its parent scope. For example, here the z is not introduced into the top-level scope:"
   ]
  },
  {
   "cell_type": "code",
   "execution_count": null,
   "metadata": {},
   "outputs": [],
   "source": [
    "for i = 1:10\n",
    "    z = 1\n",
    "end\n",
    "z"
   ]
  },
  {
   "cell_type": "markdown",
   "metadata": {
    "slideshow": {
     "slide_type": "slide"
    }
   },
   "source": [
    "Function definitions are also in their own local scope. \n",
    "\n",
    "They do, however, inherit from their parent scope."
   ]
  },
  {
   "cell_type": "code",
   "execution_count": null,
   "metadata": {
    "slideshow": {
     "slide_type": "fragment"
    }
   },
   "outputs": [],
   "source": [
    "x, y = 1, 2\n",
    "function foo()\n",
    "    x = 2 #assignment introduces a new local\n",
    "    return x + y # y refers to the global scope!\n",
    "end"
   ]
  },
  {
   "cell_type": "code",
   "execution_count": null,
   "metadata": {
    "slideshow": {
     "slide_type": "fragment"
    }
   },
   "outputs": [],
   "source": [
    "foo()"
   ]
  },
  {
   "cell_type": "code",
   "execution_count": null,
   "metadata": {
    "slideshow": {
     "slide_type": "fragment"
    }
   },
   "outputs": [],
   "source": [
    "x"
   ]
  },
  {
   "cell_type": "markdown",
   "metadata": {
    "slideshow": {
     "slide_type": "slide"
    }
   },
   "source": [
    "An explicit `global` is needed to assign to a global variable:"
   ]
  },
  {
   "cell_type": "code",
   "execution_count": null,
   "metadata": {
    "slideshow": {
     "slide_type": "fragment"
    }
   },
   "outputs": [],
   "source": [
    "x = 1\n",
    "function foobar()\n",
    "    global x = 2\n",
    "    return x + y # Now x is also in global scope!\n",
    "end"
   ]
  },
  {
   "cell_type": "code",
   "execution_count": null,
   "metadata": {
    "slideshow": {
     "slide_type": "fragment"
    }
   },
   "outputs": [],
   "source": [
    "foobar()"
   ]
  },
  {
   "cell_type": "code",
   "execution_count": null,
   "metadata": {
    "slideshow": {
     "slide_type": "fragment"
    }
   },
   "outputs": [],
   "source": [
    "x"
   ]
  },
  {
   "cell_type": "markdown",
   "metadata": {
    "slideshow": {
     "slide_type": "slide"
    }
   },
   "source": [
    "## Exception: Elements of a global array are global\n",
    "There is an important exception to these rules: arrays.\n",
    "\n",
    "Changing an elements of an array in global scope is done in the global scope. An array points to a place in memory, so changing it's internal values changes the original memory, even inside a function."
   ]
  },
  {
   "cell_type": "code",
   "execution_count": null,
   "metadata": {},
   "outputs": [],
   "source": [
    "arr = [1,2,3]\n",
    "function oops()\n",
    "    arr[2] = 10\n",
    "    arrr = [1,2,3]\n",
    "    \n",
    "    return \"woops\"\n",
    "end"
   ]
  },
  {
   "cell_type": "code",
   "execution_count": null,
   "metadata": {
    "slideshow": {
     "slide_type": "fragment"
    }
   },
   "outputs": [],
   "source": [
    "oops()"
   ]
  },
  {
   "cell_type": "code",
   "execution_count": null,
   "metadata": {
    "slideshow": {
     "slide_type": "fragment"
    }
   },
   "outputs": [],
   "source": [
    "arr"
   ]
  },
  {
   "cell_type": "code",
   "execution_count": null,
   "metadata": {},
   "outputs": [],
   "source": [
    "arrr"
   ]
  },
  {
   "cell_type": "markdown",
   "metadata": {
    "slideshow": {
     "slide_type": "slide"
    }
   },
   "source": [
    "## Constants\n",
    "A common use of variables is giving names to specific, unchanging values. \n",
    "\n",
    "Such variables are only assigned once. This intent can be conveyed to the compiler using the `const` keyword:"
   ]
  },
  {
   "cell_type": "code",
   "execution_count": null,
   "metadata": {},
   "outputs": [],
   "source": [
    "const e  = 2.71828182845904523536"
   ]
  },
  {
   "cell_type": "markdown",
   "metadata": {
    "slideshow": {
     "slide_type": "fragment"
    }
   },
   "source": [
    "It is difficult for the compiler to optimize code involving global variables, since their values (or even their types) might change at almost any time. If a global variable will not change, adding a const declaration solves this performance problem."
   ]
  },
  {
   "cell_type": "markdown",
   "metadata": {
    "slideshow": {
     "slide_type": "slide"
    }
   },
   "source": [
    "## Summary\n",
    "- Modules and packages help with structure large code bases.\n",
    "- Writing pretty code is a good thing\n",
    "    - see also the official [style guide](https://docs.julialang.org/en/v1/manual/style-guide/)"
   ]
  }
 ],
 "metadata": {
  "celltoolbar": "Slideshow",
  "kernelspec": {
   "display_name": "Julia 1.5.3",
   "language": "julia",
   "name": "julia-1.5"
  },
  "language_info": {
   "file_extension": ".jl",
   "mimetype": "application/julia",
   "name": "julia",
   "version": "1.5.3"
  }
 },
 "nbformat": 4,
 "nbformat_minor": 4
}
