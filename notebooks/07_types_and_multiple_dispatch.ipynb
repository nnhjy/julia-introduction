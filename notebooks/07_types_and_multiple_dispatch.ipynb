{
 "cells": [
  {
   "cell_type": "markdown",
   "id": "06e84604",
   "metadata": {},
   "source": [
    "## Multiple dispatch\n",
    "Until now, we have, in our examples, defined only functions with a single method having unconstrained argument types. \n",
    "\n",
    "Such functions behave just like they would in traditional dynamically typed languages. Nevertheless, we have used multiple dispatch and methods almost continually without being aware of it: all of Julia's standard functions and operators have many methods defining their behavior over various possible combinations of argument type and count.\n",
    "\n",
    "This is known as multiple dispatch!"
   ]
  },
  {
   "cell_type": "markdown",
   "id": "c94bb13d",
   "metadata": {},
   "source": [
    "When defining a function, one can optionally constrain the types of parameters it is applicable to, using the `::` type-assertion operator"
   ]
  },
  {
   "cell_type": "code",
   "execution_count": null,
   "id": "8fc9a0b9",
   "metadata": {},
   "outputs": [],
   "source": [
    "function myfunc(x::Float64, y::Float64)\n",
    "    2x + y\n",
    "end"
   ]
  },
  {
   "cell_type": "markdown",
   "id": "2f72b322",
   "metadata": {},
   "source": [
    "This function definition applies only to calls where `x` and `y` are both values of type `Float64`\n",
    "\n",
    "Applying it to any other types of arguments will result in a `MethodError`."
   ]
  },
  {
   "cell_type": "code",
   "execution_count": null,
   "id": "84c1b023",
   "metadata": {},
   "outputs": [],
   "source": [
    "myfunc(2,2)"
   ]
  },
  {
   "cell_type": "code",
   "execution_count": null,
   "id": "b8c62ddc",
   "metadata": {},
   "outputs": [],
   "source": [
    "myfunc(2.0,2.0)"
   ]
  },
  {
   "cell_type": "markdown",
   "id": "56359504",
   "metadata": {},
   "source": [
    "The arguments must be precisely of type `Float64`. Other numeric types, such as integers or 32-bit floating-point values, are not automatically converted to 64-bit floating-point, nor are strings parsed as numbers. \n",
    "\n",
    "Because `Float64` is a concrete type and concrete types cannot be subclassed in Julia, such a definition can only be applied to arguments that are exactly of type `Float64`. \n",
    "\n",
    "It may often be useful, however, to write more general methods where the declared parameter types are abstract:"
   ]
  },
  {
   "cell_type": "code",
   "execution_count": null,
   "id": "19ba4e6e",
   "metadata": {},
   "outputs": [],
   "source": [
    "function myfunc(x::Number, y::Number)\n",
    "    2x + y\n",
    "end"
   ]
  },
  {
   "cell_type": "code",
   "execution_count": null,
   "id": "4c965727",
   "metadata": {},
   "outputs": [],
   "source": [
    "myfunc(2.0, 3)"
   ]
  },
  {
   "cell_type": "markdown",
   "id": "b3010928",
   "metadata": {},
   "source": [
    "You can easily see which methods exist for a function by entering the function object itself in an interactive session:"
   ]
  },
  {
   "cell_type": "code",
   "execution_count": null,
   "id": "32a1a5ae",
   "metadata": {},
   "outputs": [],
   "source": [
    "myfunc"
   ]
  },
  {
   "cell_type": "markdown",
   "id": "d7e425c8",
   "metadata": {},
   "source": [
    "This output tells us that `myfunc` is a function object with two methods. To find out what the signatures of those methods are, use the `methods()` function:"
   ]
  },
  {
   "cell_type": "code",
   "execution_count": null,
   "id": "adea3ca2",
   "metadata": {
    "scrolled": true
   },
   "outputs": [],
   "source": [
    "methods(myfunc)"
   ]
  },
  {
   "cell_type": "markdown",
   "id": "238e242e",
   "metadata": {},
   "source": [
    "# Types"
   ]
  },
  {
   "cell_type": "markdown",
   "id": "7f814b99",
   "metadata": {},
   "source": [
    "So far we have only worked with the basic types, `Real`s, `Integer`s, `Bool`s, `String`s and so on. We can also define our own types, which are constructed out of these base types.\n",
    "\n",
    "Together with multiple dispatch, custom types are a very powerful features. Object oriented programming uses dynamic dispatch, where the method called depends on the type of the object. In Julia, the method can depend on the types of several arguments."
   ]
  },
  {
   "cell_type": "code",
   "execution_count": null,
   "id": "61d41d35",
   "metadata": {},
   "outputs": [],
   "source": [
    "# This is how you define a custom type:\n",
    "\n",
    "struct MyInt\n",
    "    number::Integer\n",
    "end"
   ]
  },
  {
   "cell_type": "code",
   "execution_count": null,
   "id": "acd46d20",
   "metadata": {},
   "outputs": [],
   "source": [
    "# A new MyInt-object is constructed like this:\n",
    "\n",
    "myint = MyInt(5)"
   ]
  },
  {
   "cell_type": "code",
   "execution_count": null,
   "id": "23f2b895",
   "metadata": {},
   "outputs": [],
   "source": [
    "# And we can access the number inside as\n",
    "\n",
    "myint.number"
   ]
  },
  {
   "cell_type": "markdown",
   "id": "85ed2fef",
   "metadata": {},
   "source": [
    "The myfunc function does not have a method for MyInt, so the following will not work:"
   ]
  },
  {
   "cell_type": "code",
   "execution_count": null,
   "id": "021219e3",
   "metadata": {},
   "outputs": [],
   "source": [
    "myfunc(myint, 5)"
   ]
  },
  {
   "cell_type": "markdown",
   "id": "dbba83ae",
   "metadata": {},
   "source": [
    "But we can define the method to do what ever is we this is approriate."
   ]
  },
  {
   "cell_type": "code",
   "execution_count": null,
   "id": "ff22ae9b",
   "metadata": {},
   "outputs": [],
   "source": [
    "\"Since MyInt is better than a standard Number, multiply it by 3\"\n",
    "function myfunc(x::MyInt, y::Number)\n",
    "    3*2*x.number + y\n",
    "end"
   ]
  },
  {
   "cell_type": "code",
   "execution_count": null,
   "id": "8d0bb718",
   "metadata": {},
   "outputs": [],
   "source": [
    "myfunc(myint, 5)"
   ]
  },
  {
   "cell_type": "markdown",
   "id": "daab180d",
   "metadata": {},
   "source": [
    "### Mutable\n",
    "\n",
    "By default structs are unmutable, their internal values cannot be changed. This is similar to standard data types, like numbers, and it makes sense for MyInt. You cannot change the value of the number `5` into something else. But you can create a new number, say `3`, and assign it to the name you used for the `5`.\n",
    "\n",
    "To be clear, this is not OK:\n",
    "```julia\n",
    "5 = 3\n",
    "```\n",
    "and neither is this:\n",
    "```julia\n",
    "five = MyInt(5)\n",
    "five.number = 3\n",
    "```\n",
    "but this is OK:\n",
    "```julia\n",
    "five = MyInt(5)\n",
    "five = MyInt(3)\n",
    "```\n",
    "\n",
    "You can also define a mutable structs like this:"
   ]
  },
  {
   "cell_type": "code",
   "execution_count": null,
   "id": "4f109fb4",
   "metadata": {},
   "outputs": [],
   "source": [
    "mutable struct InfectionStatus\n",
    "    status::Integer\n",
    "end"
   ]
  },
  {
   "cell_type": "markdown",
   "id": "3e1cb8b2",
   "metadata": {},
   "source": [
    "This could represent the status of a cell in our simulation. Since the cell can become infected during the simulations, it makes sense for the status to be mutable.\n",
    "\n",
    "We are allowed to change the contents of a mutable struct:\n",
    "```julia\n",
    "cell = InfectionStatus(0)\n",
    "cell.status = 1\n",
    "```"
   ]
  },
  {
   "cell_type": "markdown",
   "id": "eee12445",
   "metadata": {},
   "source": [
    "### @enum\n",
    "\n",
    "Here is a quick way of creating a new type with a small number of possible values."
   ]
  },
  {
   "cell_type": "code",
   "execution_count": null,
   "id": "61f38e5f",
   "metadata": {},
   "outputs": [],
   "source": [
    "@enum Fruit orange banana apple pineaple lemon"
   ]
  },
  {
   "cell_type": "markdown",
   "id": "9967bce6",
   "metadata": {},
   "source": [
    "The new type is called `Fruit`. An object of type Fruit can only be one of the listed things.\n",
    "\n",
    "Enum is short for enumerate. This is because, under the hood, each name is represented by a number."
   ]
  },
  {
   "cell_type": "markdown",
   "id": "5cd8fd66",
   "metadata": {},
   "source": [
    "## The Simulation"
   ]
  },
  {
   "cell_type": "markdown",
   "id": "2a8630d0",
   "metadata": {},
   "source": [
    "Let's get back to our original goal. Our simulation works, but it is not quite satisfactory. The infected cells just stay infected forever and this is not at all realistic. The cell needs to be a bit more complicated and have a state."
   ]
  },
  {
   "cell_type": "code",
   "execution_count": null,
   "id": "ef847fb0",
   "metadata": {},
   "outputs": [],
   "source": [
    "\"Enumerate possible states of a single cell\"\n",
    "@enum InfectionStatus uninfected infected dead recovered immune"
   ]
  },
  {
   "cell_type": "code",
   "execution_count": null,
   "id": "44d2b2de",
   "metadata": {},
   "outputs": [],
   "source": [
    "\"Data structure containing the infection status of a cell\"\n",
    "mutable struct Cell\n",
    "    status::InfectionStatus\n",
    "    infection_time::Int8\n",
    "end"
   ]
  },
  {
   "cell_type": "markdown",
   "id": "369de357",
   "metadata": {},
   "source": [
    "Now the cells can be in one of five states. We will use the infection time variable to count the time steps the cell has been infected. After some number of steps, the cell will recover.\n",
    "\n",
    "Immune and recovered cells never get infected. We will also add a small chance that an infected cell dies each turn.\n",
    "\n",
    "Let's create a second struct for these parameters:"
   ]
  },
  {
   "cell_type": "code",
   "execution_count": null,
   "id": "7fd76a77",
   "metadata": {},
   "outputs": [],
   "source": [
    "\"Parameters for a simulation\"\n",
    "mutable struct Parameters\n",
    "    infection_rate::Float32\n",
    "    death_probability::Float32\n",
    "    recovery_time::Int8\n",
    "end\n",
    "\n",
    "\"Fast spread with low lethality\"\n",
    "parameters = Parameters(0.2, 0.001, 8)"
   ]
  },
  {
   "cell_type": "markdown",
   "id": "728194bb",
   "metadata": {},
   "source": [
    "Now the array of cells holds Cell variables instead of just integers. Creating the cells is a bit more complicated, but not horrible."
   ]
  },
  {
   "cell_type": "code",
   "execution_count": null,
   "id": "7da33a52",
   "metadata": {},
   "outputs": [],
   "source": [
    "# Create an array of cells, with each cell undefined at first\n",
    "cells = Array{Cell}(undef, 32, 32)\n",
    "\n",
    "# Now loop over the positions in the array and create either an\n",
    "# uninfected cell or an immune cell\n",
    "for i in 1:size(cells)[1]\n",
    "    for j in 1:size(cells)[2]\n",
    "        cells[i,j] = Cell(uninfected, 0)\n",
    "    end\n",
    "end\n",
    "\n",
    "# Infect one cell at the start\n",
    "cells[16,16].status = infected"
   ]
  },
  {
   "cell_type": "markdown",
   "id": "f4e93124",
   "metadata": {},
   "source": [
    "Now we need to reimplement each of the simulation methods for this type. These are similar to what we had previously, but there are more possible cell types and possible interactions."
   ]
  },
  {
   "cell_type": "code",
   "execution_count": null,
   "id": "fd7a3844",
   "metadata": {},
   "outputs": [],
   "source": [
    "\"\"\"\n",
    "Run the interaction between one cell and a neighbour.\n",
    "\n",
    "If the neighbour is infected, it infect this cell with the propability parameters.infection_rate.\n",
    "\"\"\"\n",
    "function interact!(new_cell::Cell, other_cell::Cell, parameters::Parameters)\n",
    "    if new_cell.status == uninfected && other_cell.status == infected\n",
    "        if rand(1)[1] < parameters.infection_rate\n",
    "            new_cell.status = infected\n",
    "            new_cell.infection_time = 0\n",
    "        end\n",
    "    end\n",
    "end\n",
    "\n",
    "\"\"\"\n",
    "Update a single cell, not accounting for it's interactions with the neighbours.\n",
    "\"\"\"\n",
    "function update!(new_cell::Cell, parameters::Parameters)\n",
    "    if new_cell.status == infected\n",
    "        # Increase the number of time steps since infection\n",
    "        new_cell.infection_time += 1\n",
    "        \n",
    "        # Check if the cell recovers\n",
    "        if new_cell.infection_time > parameters.recovery_time\n",
    "            new_cell.status = recovered\n",
    "        end\n",
    "        \n",
    "        # Check if it dies\n",
    "        if rand(1)[1] < parameters.death_probability\n",
    "            new_cell.status = dead\n",
    "        end\n",
    "    end\n",
    "end\n",
    "\n",
    "\"\"\"\n",
    "Update the cells in the 2D array of Cells, using given parameters.\n",
    "\"\"\"\n",
    "function update!(cells::Matrix{Cell}, parameters::Parameters)\n",
    "    old_cells = deepcopy(cells)\n",
    "    for i in 1:size(cells)[1]\n",
    "        for j in 1:size(cells)[2]\n",
    "            update!(cells[i,j], parameters)\n",
    "        end\n",
    "    end\n",
    "    for i in 1:size(cells)[1]-1\n",
    "        for j in 1:size(cells)[2]\n",
    "            interact!(cells[i,j], old_cells[i+1,j], parameters)\n",
    "            interact!(cells[i+1,j], old_cells[i,j], parameters)\n",
    "        end\n",
    "    end\n",
    "    for i in 1:size(cells)[1]\n",
    "        for j in 1:size(cells)[2]-1\n",
    "            interact!(cells[i,j], old_cells[i,j+1], parameters)\n",
    "            interact!(cells[i,j+1], old_cells[i,j], parameters)\n",
    "        end\n",
    "    end\n",
    "end"
   ]
  },
  {
   "cell_type": "markdown",
   "id": "8174d23e",
   "metadata": {},
   "source": [
    "We can still just print out the array, but this is not pretty. Instead, let's map each cell type to a color, like we did in the plotting section."
   ]
  },
  {
   "cell_type": "code",
   "execution_count": null,
   "id": "be80229d",
   "metadata": {},
   "outputs": [],
   "source": [
    "using Plots\n",
    "using Colors\n",
    "\n",
    "\"Map the cells to colors for plotting\"\n",
    "function to_colors(cell::Cell)\n",
    "    if cell.status == uninfected\n",
    "        return RGB(0.0,0.8,0.0)\n",
    "    end\n",
    "    if cell.status == infected\n",
    "        return RGB(0.8,0.0,0.0)\n",
    "    end\n",
    "    if cell.status == dead\n",
    "        return RGB(0.1,0.1,0.1)\n",
    "    end\n",
    "    if cell.status == recovered\n",
    "        return RGB(0.0,0.0,0.8)\n",
    "    end\n",
    "end\n",
    "\n",
    "plot(to_colors.(cells),legend=false, border=:none)"
   ]
  },
  {
   "cell_type": "markdown",
   "id": "099027f9",
   "metadata": {},
   "source": [
    "That looks pretty good! Running updates is as easy as before:"
   ]
  },
  {
   "cell_type": "code",
   "execution_count": null,
   "id": "0a352bb3",
   "metadata": {},
   "outputs": [],
   "source": [
    "update!(cells, parameters)\n",
    "plot(to_colors.(cells),legend=false, border=:none)"
   ]
  },
  {
   "cell_type": "markdown",
   "id": "1c69ba22",
   "metadata": {},
   "source": [
    "Nice! The last thing we are missing is a nice animation, like we wrote in the plotting section. Do you have an idea how to do that? See the exercises for some hints."
   ]
  }
 ],
 "metadata": {
  "kernelspec": {
   "display_name": "Julia 1.6.2",
   "language": "julia",
   "name": "julia-1.6"
  },
  "language_info": {
   "file_extension": ".jl",
   "mimetype": "application/julia",
   "name": "julia",
   "version": "1.6.2"
  }
 },
 "nbformat": 4,
 "nbformat_minor": 5
}
