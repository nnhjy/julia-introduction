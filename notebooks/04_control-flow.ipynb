{
 "cells": [
  {
   "cell_type": "markdown",
   "metadata": {
    "slideshow": {
     "slide_type": "slide"
    }
   },
   "source": [
    "# Control flow"
   ]
  },
  {
   "cell_type": "markdown",
   "metadata": {
    "slideshow": {
     "slide_type": "fragment"
    }
   },
   "source": [
    "## Topics\n",
    "- conditional statements\n",
    "- repeated evaluation\n",
    "    - `while` and `for`\n",
    "- breaking and continuing \n",
    "\n",
    "See also the [documentation](https://docs.julialang.org/en/v1/manual/control-flow/\n",
    ")"
   ]
  },
  {
   "cell_type": "markdown",
   "metadata": {},
   "source": [
    "## Epidemic Simulation\n",
    "\n",
    "We can extend almost any Julia function with custom behaviour for our custom datatypes.\n",
    "\n",
    "Case in point, let's print the Cell type in a prettier way."
   ]
  },
  {
   "cell_type": "code",
   "execution_count": null,
   "metadata": {},
   "outputs": [],
   "source": [
    "# Copy necessary things from the previous session\n",
    "\n",
    "\"Enumerate possible states of a single cell\"\n",
    "@enum InfectionStatus uninfected infected dead recovered\n",
    "\n",
    "\"Data structure containing the infection status of a cell\"\n",
    "mutable struct Cell\n",
    "    status::InfectionStatus\n",
    "    infection_time::Int8\n",
    "end"
   ]
  },
  {
   "cell_type": "code",
   "execution_count": null,
   "metadata": {},
   "outputs": [],
   "source": [
    "# This is how we write a print function for a cell\n",
    "function Base.show(io::IO, cell::Cell)\n",
    "    if cell.status == infected\n",
    "        print(io, \"◼\")\n",
    "    else\n",
    "        print(io, \"◻\")\n",
    "    end\n",
    "end"
   ]
  },
  {
   "cell_type": "code",
   "execution_count": null,
   "metadata": {},
   "outputs": [],
   "source": [
    "[cell1, cell2]"
   ]
  },
  {
   "cell_type": "markdown",
   "metadata": {},
   "source": [
    "The interaction function in the previous session is not exactly what we wanted. The cell should become infected with a given probability.\n",
    "    \n",
    "Here we use a common trick to simulate a probability: if a random number between 1 and 0 is smaller than the probability, the cell gets infected."
   ]
  },
  {
   "cell_type": "code",
   "execution_count": null,
   "metadata": {},
   "outputs": [],
   "source": [
    "\"\"\"Simulate an interaction between two cells. In the other cell is\n",
    "   infected, it may infect the this cell.\n",
    "\"\"\"\n",
    "function interact!(this_cell::Cell, other_cell::Cell, infection_rate)\n",
    "    if this_cell.status == uninfected && other_cell.status == infected\n",
    "        if rand(1)[1] < infection_rate\n",
    "            this_cell.status = infected\n",
    "            this_cell.infection_time = 0\n",
    "        end\n",
    "    end\n",
    "end"
   ]
  },
  {
   "cell_type": "code",
   "execution_count": null,
   "metadata": {},
   "outputs": [],
   "source": [
    "# Create an infected and an uninfected cell\n",
    "cell1 = Cell(uninfected, 0)\n",
    "cell2 = Cell(infected, 0)\n",
    "\n",
    "println(cell1)\n",
    "interact!(cell1, cell2, 0.1)\n",
    "println(cell1)"
   ]
  },
  {
   "cell_type": "markdown",
   "metadata": {
    "slideshow": {
     "slide_type": "slide"
    }
   },
   "source": [
    "## Loops\n",
    "\n",
    "More details on loops and some tips and tricks"
   ]
  },
  {
   "cell_type": "code",
   "execution_count": null,
   "metadata": {
    "slideshow": {
     "slide_type": "fragment"
    }
   },
   "outputs": [],
   "source": [
    "for n in 1:10\n",
    "    println(n)\n",
    "end"
   ]
  },
  {
   "cell_type": "markdown",
   "metadata": {
    "slideshow": {
     "slide_type": "slide"
    }
   },
   "source": [
    "#### Iterating over a list\n",
    "For loops can also be used to iterate over containers"
   ]
  },
  {
   "cell_type": "code",
   "execution_count": null,
   "metadata": {
    "slideshow": {
     "slide_type": "fragment"
    }
   },
   "outputs": [],
   "source": [
    "for i in [1,4,0]\n",
    "    println(i)\n",
    "end"
   ]
  },
  {
   "cell_type": "code",
   "execution_count": null,
   "metadata": {
    "slideshow": {
     "slide_type": "fragment"
    }
   },
   "outputs": [],
   "source": [
    "for s ∈ [\"foo\",\"bar\",\"baz\"]\n",
    "    println(s)\n",
    "end"
   ]
  },
  {
   "cell_type": "markdown",
   "metadata": {
    "slideshow": {
     "slide_type": "slide"
    }
   },
   "source": [
    "#### Enumerate: A life saver\n",
    "Iterate over an array with index AND value. \n",
    "\n",
    "Syntax is\n",
    "```julia\n",
    "for (index, value) in enumerate(arr)\n",
    "    println((index,value))\n",
    "end\n",
    "```"
   ]
  },
  {
   "cell_type": "code",
   "execution_count": null,
   "metadata": {},
   "outputs": [],
   "source": [
    "for (i,s) ∈ enumerate([\"foo\",\"bar\",\"baz\"])\n",
    "    println(i, \" \", s)\n",
    "end"
   ]
  },
  {
   "cell_type": "markdown",
   "metadata": {
    "slideshow": {
     "slide_type": "slide"
    }
   },
   "source": [
    "## Breaking and continuing\n",
    "Sometimes you need to terminate a `while` or `for` evaluation before the end.  This can be accomplished with the `break` keyword\n"
   ]
  },
  {
   "cell_type": "code",
   "execution_count": null,
   "metadata": {
    "slideshow": {
     "slide_type": "fragment"
    }
   },
   "outputs": [],
   "source": [
    "i = 1;\n",
    "while true\n",
    "    println(i)\n",
    "    if i >= 5\n",
    "        break\n",
    "    end\n",
    "    i += 1\n",
    "end"
   ]
  },
  {
   "cell_type": "code",
   "execution_count": null,
   "metadata": {
    "scrolled": true,
    "slideshow": {
     "slide_type": "fragment"
    }
   },
   "outputs": [],
   "source": [
    "for i = 1:1000\n",
    "    println(i)\n",
    "    if i >= 5\n",
    "        break\n",
    "    end\n",
    "end"
   ]
  },
  {
   "cell_type": "markdown",
   "metadata": {
    "slideshow": {
     "slide_type": "slide"
    }
   },
   "source": [
    "In other circumstances, it is handy to be able to stop an iteration and move on to the next one immediately. The `continue` keyword accomplishes this.\n"
   ]
  },
  {
   "cell_type": "code",
   "execution_count": null,
   "metadata": {
    "slideshow": {
     "slide_type": "fragment"
    }
   },
   "outputs": [],
   "source": [
    "for i = 1:10\n",
    "    if i % 3 != 0\n",
    "        continue\n",
    "    end\n",
    "    println(i)\n",
    "end"
   ]
  },
  {
   "cell_type": "markdown",
   "metadata": {
    "slideshow": {
     "slide_type": "slide"
    }
   },
   "source": [
    "## Nested loops\n",
    "Multiple nested loops can be combined into a single outer loop. "
   ]
  },
  {
   "cell_type": "code",
   "execution_count": null,
   "metadata": {
    "slideshow": {
     "slide_type": "fragment"
    }
   },
   "outputs": [],
   "source": [
    "for i = 1:2\n",
    "    for j = 3:3\n",
    "        println((i,j))\n",
    "    end\n",
    "end"
   ]
  },
  {
   "cell_type": "markdown",
   "metadata": {
    "slideshow": {
     "slide_type": "fragment"
    }
   },
   "source": [
    "Translates into:"
   ]
  },
  {
   "cell_type": "code",
   "execution_count": null,
   "metadata": {
    "slideshow": {
     "slide_type": "fragment"
    }
   },
   "outputs": [],
   "source": [
    "for i = 1:2, j = 3:4\n",
    "    println((i, j))\n",
    "end"
   ]
  },
  {
   "cell_type": "markdown",
   "metadata": {
    "slideshow": {
     "slide_type": "fragment"
    }
   },
   "source": [
    "A `break` statement inside such a loop exits the entire nest of loops, not just the inner one.\n"
   ]
  },
  {
   "cell_type": "markdown",
   "metadata": {},
   "source": [
    "## Some higher-order functions: `map`\n",
    "\n",
    "`map` is a \"higher-order\" function in Julia that takes a *function* as one of its input arguments. `map` then applies that function to every element of the data structure you pass. \n",
    "\n",
    "For example\n",
    "```julia\n",
    "map(f, [1,2,3])\n",
    "```\n",
    "will correspond to\n",
    "```julia\n",
    "[f(1), f(2), f(3)]\n",
    "```"
   ]
  },
  {
   "cell_type": "code",
   "execution_count": null,
   "metadata": {},
   "outputs": [],
   "source": [
    "function f(x, y)\n",
    "    return x + y\n",
    "end\n",
    "\n",
    "map(f, [1,2,3], [4,5,6])"
   ]
  },
  {
   "cell_type": "markdown",
   "metadata": {},
   "source": [
    "## Some higher-order functions: `broadcast`\n",
    "`broadcast` is another higher-order function like `map`. `broadcast` is actually a generalization, so it can do what `map` but also more!\n",
    "\n",
    "Syntax is the same\n",
    "```julia\n",
    "broadcast(f, [1,2,3])\n",
    "```\n",
    "\n",
    "And so we have again applied f (squared) to all elements of `[1,2,3]`."
   ]
  },
  {
   "cell_type": "code",
   "execution_count": null,
   "metadata": {},
   "outputs": [],
   "source": [
    "broadcast(f, [1,2,3], [4,5,6])"
   ]
  },
  {
   "cell_type": "code",
   "execution_count": null,
   "metadata": {},
   "outputs": [],
   "source": [
    "broadcast(f, [[4, 5, 6], [1, 2, 3]], [[1,2,3]])"
   ]
  },
  {
   "cell_type": "markdown",
   "metadata": {},
   "source": [
    "## Broadcasting (or vectorizing)\n",
    "Some syntactic sugar for calling `broadcast` is to place `.` between the name of the function you want to broadcast and its input arguments. \n",
    "        \n",
    "For example\n",
    "```julia\n",
    "broadcast(f, [1,2,3])\n",
    "```\n",
    "is the same as\n",
    "```julia\n",
    "f.([1,2,3])\n",
    "```\n",
    "\n",
    "Note that this is not the same as `f([1,2,3])` because we can not square a vector!\n",
    "\n",
    "Let's try broadcasting for a matrix `A`"
   ]
  },
  {
   "cell_type": "code",
   "execution_count": null,
   "metadata": {},
   "outputs": [],
   "source": [
    "function f(x)\n",
    "    return x^2\n",
    "end\n",
    "\n",
    "A = [1 2 3;\n",
    "     4 5 6;\n",
    "     7 8 9]"
   ]
  },
  {
   "cell_type": "code",
   "execution_count": null,
   "metadata": {},
   "outputs": [],
   "source": [
    "f(A)"
   ]
  },
  {
   "cell_type": "code",
   "execution_count": null,
   "metadata": {},
   "outputs": [],
   "source": [
    "f.(A)"
   ]
  },
  {
   "cell_type": "markdown",
   "metadata": {},
   "source": [
    "## Dot syntax for vectorization\n",
    "The dot syntax allows to write complex compound **elementwise** expressions in a way that looks natural/closer to mathematical notation. \n",
    "\n",
    "For example:"
   ]
  },
  {
   "cell_type": "code",
   "execution_count": null,
   "metadata": {},
   "outputs": [],
   "source": [
    "A + 2 .* f.(A) ./ A"
   ]
  },
  {
   "cell_type": "markdown",
   "metadata": {},
   "source": [
    "Instead of the more nasty looking version with `broadcast` as"
   ]
  },
  {
   "cell_type": "code",
   "execution_count": null,
   "metadata": {},
   "outputs": [],
   "source": [
    "broadcast(x-> x + 2 * f(x) / x, A) "
   ]
  },
  {
   "cell_type": "markdown",
   "metadata": {},
   "source": [
    "The `.`-syntax is useful and looks nice, if you are used to interpreted languages beware: in Julia a for loop is faster. You don't need to vectorize to get good performance."
   ]
  },
  {
   "cell_type": "markdown",
   "metadata": {},
   "source": [
    "## Back to the simulation\n",
    "\n",
    "Now we have everything we need to advance the simulation. Firsts let's create a starting state, where one cell in the middle is infected."
   ]
  },
  {
   "cell_type": "code",
   "execution_count": null,
   "metadata": {},
   "outputs": [],
   "source": [
    "# Create a 16 x 16 matrix of cells\n",
    "cells = Matrix{Cell}(undef, 16, 16)\n",
    "\n",
    "for i in 1:size(cells)[1]\n",
    "    for j in 1:size(cells)[2]\n",
    "        cells[i,j] = Cell(uninfected, 0)\n",
    "    end\n",
    "end\n",
    "cells[8,8].status = infected"
   ]
  },
  {
   "cell_type": "markdown",
   "metadata": {},
   "source": [
    "Now we can implement a time step in our simulation. For this, we need to loop over each pair of neighbouring cells, since they can infect each other.\n",
    "\n",
    "First let's check the neighbours in the vertical direction. So if one cell is at (i,j), the cell at (i+1,j) is a neighbour. If a column has N cells, there are N-1 pairs."
   ]
  },
  {
   "cell_type": "code",
   "execution_count": null,
   "metadata": {},
   "outputs": [],
   "source": [
    "\"Update the simulation one time step\"\n",
    "function update!(cells)\n",
    "    # Create a copy to remember the old state\n",
    "    old_cells = deepcopy(cells)\n",
    "    \n",
    "    # Find the number of cells in each direction\n",
    "    Nx = size(cells)[1]\n",
    "    Ny = size(cells)[2]    \n",
    "    \n",
    "    # Loop over pairs of cells in the same row. There are Nx-1 pairs.\n",
    "    for j in 1:Ny\n",
    "        # loop over all columns\n",
    "        for i in 1:Nx-1\n",
    "            # So the cells are (i+1,j) and (i,j). Each will \n",
    "            # interact with the other.\n",
    "            \n",
    "            interact!(cells[i,j], old_cells[i+1,j], 0.1)\n",
    "            interact!(cells[i+1,j], old_cells[i,j], 0.1)\n",
    "\n",
    "        end\n",
    "    end\n",
    "end"
   ]
  },
  {
   "cell_type": "markdown",
   "metadata": {},
   "source": [
    "Just showing the array works quite well already, but we can do better. Let's extend the show function again:"
   ]
  },
  {
   "cell_type": "code",
   "execution_count": null,
   "metadata": {
    "scrolled": false
   },
   "outputs": [],
   "source": [
    "cells"
   ]
  },
  {
   "cell_type": "markdown",
   "metadata": {},
   "source": [
    "Now the disease can spread vertically. The horizontal direction is one of the exercises."
   ]
  },
  {
   "cell_type": "code",
   "execution_count": null,
   "metadata": {},
   "outputs": [],
   "source": [
    "update!(cells)\n",
    "print(cells)"
   ]
  },
  {
   "cell_type": "markdown",
   "metadata": {},
   "source": [
    "# Extra:"
   ]
  },
  {
   "cell_type": "markdown",
   "metadata": {
    "slideshow": {
     "slide_type": "slide"
    }
   },
   "source": [
    "## While statement\n",
    "Syntax is \n",
    "```julia\n",
    "while *condition*\n",
    "    *loop body*\n",
    "end\n",
    "```"
   ]
  },
  {
   "cell_type": "code",
   "execution_count": null,
   "metadata": {
    "scrolled": true,
    "slideshow": {
     "slide_type": "fragment"
    }
   },
   "outputs": [],
   "source": [
    "n = 0\n",
    "while n < 10\n",
    "    n += 1\n",
    "    println(n)\n",
    "end"
   ]
  },
  {
   "cell_type": "markdown",
   "metadata": {
    "slideshow": {
     "slide_type": "slide"
    }
   },
   "source": [
    "## List comprehension\n",
    "Comprehensions provide a general and powerful way to construct arrays. \n",
    "\n",
    "Comprehension syntax is similar to set construction notation in mathematics\n",
    "```julia\n",
    "A = [ F(x,y,...) for x=rx, y=ry, ... ]\n",
    "```"
   ]
  },
  {
   "cell_type": "code",
   "execution_count": null,
   "metadata": {
    "slideshow": {
     "slide_type": "fragment"
    }
   },
   "outputs": [],
   "source": [
    "[(i,j) for i=1:2 for j=1:i]"
   ]
  },
  {
   "cell_type": "markdown",
   "metadata": {
    "slideshow": {
     "slide_type": "slide"
    }
   },
   "source": [
    "## Ternary operator\n",
    "Even though the name for this operation is scary, it is actually very easy to understand and handy to use. Syntax is:\n",
    "```julia\n",
    "*condition* ? *do 1* : *do 2*\n",
    "```\n",
    "which is equal to writing\n",
    "```julia\n",
    "if *condition*\n",
    "    *do 1*\n",
    "else\n",
    "    *do 2*\n",
    "end\n",
    "```"
   ]
  },
  {
   "cell_type": "code",
   "execution_count": null,
   "metadata": {
    "slideshow": {
     "slide_type": "fragment"
    }
   },
   "outputs": [],
   "source": [
    "# What does the followning code do? Try it out by giving values to `x` and `y`\n",
    "x = \n",
    "y = \n",
    "(x > y ) ? x : y"
   ]
  },
  {
   "cell_type": "markdown",
   "metadata": {},
   "source": []
  },
  {
   "cell_type": "markdown",
   "metadata": {},
   "source": [
    "### Advanced: SIMD vectorization\n",
    "Vectorization is discussed more in the bonus notebook about SIMD vectorization.\n",
    "\n",
    "In short, the topic is quite technical but you should rest assured that the dot syntax actually works quite well to make your code easy to read **and** fast to run."
   ]
  }
 ],
 "metadata": {
  "celltoolbar": "Slideshow",
  "kernelspec": {
   "display_name": "Julia 1.6.2",
   "language": "julia",
   "name": "julia-1.6"
  },
  "language_info": {
   "file_extension": ".jl",
   "mimetype": "application/julia",
   "name": "julia",
   "version": "1.6.2"
  }
 },
 "nbformat": 4,
 "nbformat_minor": 4
}
