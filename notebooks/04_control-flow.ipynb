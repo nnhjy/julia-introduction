{
 "cells": [
  {
   "cell_type": "markdown",
   "metadata": {
    "slideshow": {
     "slide_type": "slide"
    }
   },
   "source": [
    "# Control flow"
   ]
  },
  {
   "cell_type": "markdown",
   "metadata": {
    "slideshow": {
     "slide_type": "fragment"
    }
   },
   "source": [
    "## Topics\n",
    "- conditional statements\n",
    "- repeated evaluation\n",
    "    - `while` and `for`\n",
    "- breaking and continuing \n",
    "\n",
    "See also the [documentation](https://docs.julialang.org/en/v1/manual/control-flow/\n",
    ")"
   ]
  },
  {
   "cell_type": "markdown",
   "metadata": {
    "slideshow": {
     "slide_type": "slide"
    }
   },
   "source": [
    "## Numeric Comparisons\n",
    "\n",
    "Standard comparison operations are defined for all the primitive numeric types:\n",
    "\n",
    "\n",
    "- `==`: equality \n",
    "- `!=`, `≠`: inequality             \n",
    "- `<`: less than              \n",
    "- `<=`, `≤`: less than or equal to   \n",
    "- `>`: greater than     \n",
    "- `>=`, `≥`: greater than or equal to"
   ]
  },
  {
   "cell_type": "markdown",
   "metadata": {
    "slideshow": {
     "slide_type": "fragment"
    }
   },
   "source": [
    "Conditions can be chained, i.e., `0 < x < 1`"
   ]
  },
  {
   "cell_type": "markdown",
   "metadata": {
    "slideshow": {
     "slide_type": "slide"
    }
   },
   "source": [
    "## Conditional statements\n",
    "\n",
    "The most common conditional statement is the `if` statement. Syntax is\n",
    "```julia\n",
    "if *condition*\n",
    "    *option 1*\n",
    "elseif *condition 2*\n",
    "    *option 2*\n",
    "else\n",
    "    *option 3*\n",
    "end\n",
    "```"
   ]
  },
  {
   "cell_type": "code",
   "execution_count": null,
   "metadata": {
    "slideshow": {
     "slide_type": "fragment"
    }
   },
   "outputs": [],
   "source": [
    "variable = 6\n",
    "if variable > 5\n",
    "    println(\"Wow! The variable is larger than 5\")\n",
    "elseif variable > 0\n",
    "    println(\"Well, it is positive, at least\")\n",
    "else\n",
    "    println(\"Phew, too small number!\")\n",
    "end"
   ]
  },
  {
   "cell_type": "markdown",
   "metadata": {
    "slideshow": {
     "slide_type": "fragment"
    }
   },
   "source": [
    "Julia is relying on the `end` keyword to close the statements!"
   ]
  },
  {
   "cell_type": "markdown",
   "metadata": {
    "slideshow": {
     "slide_type": "slide"
    }
   },
   "source": [
    "## And, or, ...\n",
    "- And is expressed as `&&`, i.e., `*condition1* && *condition2*`\n",
    "- Or is expressed as `||`, i.e., `*condition1* || *condition2*`\n"
   ]
  },
  {
   "cell_type": "code",
   "execution_count": null,
   "metadata": {
    "slideshow": {
     "slide_type": "fragment"
    }
   },
   "outputs": [],
   "source": [
    "false && true"
   ]
  },
  {
   "cell_type": "code",
   "execution_count": null,
   "metadata": {
    "slideshow": {
     "slide_type": "fragment"
    }
   },
   "outputs": [],
   "source": [
    "false || true"
   ]
  },
  {
   "cell_type": "markdown",
   "metadata": {},
   "source": [
    "## The simulation\n",
    "\n",
    "Now we have the tools to implement the interaction between two neighbouring cells in our epidemic simulations. As a reminder, each cell in the array is either infected or not, 1 or 0. The rules are simple:\n",
    " * on each time step, we check every pair of neighbours\n",
    "   * if one is infected, the other cell becomes infected with the probability 0.1"
   ]
  },
  {
   "cell_type": "code",
   "execution_count": null,
   "metadata": {},
   "outputs": [],
   "source": [
    "\"\"\"\n",
    "Simulate interaction between a cell and its neighbour. Return the value at the next time step.\n",
    "\"\"\"\n",
    "function interact(cell, neighbour) \n",
    "    # Check if the neighbour is infected\n",
    "    if neighbour == 1\n",
    "        # Infect cell2 with probability 0.1\n",
    "        if rand(1)[1] < 0.1\n",
    "            cell = 1\n",
    "        end\n",
    "    end\n",
    "    \n",
    "    # Since \"cell\" is an integer, we cannot actually change it in a function. We need to return it.\n",
    "    return cell\n",
    "end"
   ]
  },
  {
   "cell_type": "code",
   "execution_count": null,
   "metadata": {},
   "outputs": [],
   "source": [
    "cell = 0\n",
    "neighbour = 1\n",
    "interact(0,1)"
   ]
  },
  {
   "cell_type": "markdown",
   "metadata": {
    "slideshow": {
     "slide_type": "slide"
    }
   },
   "source": [
    "## Loops\n",
    "\n",
    "We need to apply this to every pair of neighbouring cell. To do this, let's look at how we write loops in Julia.\n",
    "\n",
    "### For loops\n",
    "\n",
    "We will want to update all the cells, so we will need a loop structure. The for loop will run a set of commands with each cell\n",
    "in an array or anything else iterable.\n",
    "\n",
    "The syntax is\n",
    "```julia\n",
    "for *var* in *loop iterable*\n",
    "    *loop body*\n",
    "end\n",
    "```"
   ]
  },
  {
   "cell_type": "code",
   "execution_count": null,
   "metadata": {
    "slideshow": {
     "slide_type": "fragment"
    }
   },
   "outputs": [],
   "source": [
    "for n in 1:10\n",
    "    println(n)\n",
    "end"
   ]
  },
  {
   "cell_type": "markdown",
   "metadata": {
    "slideshow": {
     "slide_type": "slide"
    }
   },
   "source": [
    "#### Iterating over a list\n",
    "For loops can also be used to iterate over containers"
   ]
  },
  {
   "cell_type": "code",
   "execution_count": null,
   "metadata": {
    "slideshow": {
     "slide_type": "fragment"
    }
   },
   "outputs": [],
   "source": [
    "for i in [1,4,0]\n",
    "    println(i)\n",
    "end"
   ]
  },
  {
   "cell_type": "code",
   "execution_count": null,
   "metadata": {
    "slideshow": {
     "slide_type": "fragment"
    }
   },
   "outputs": [],
   "source": [
    "for s ∈ [\"foo\",\"bar\",\"baz\"]\n",
    "    println(s)\n",
    "end"
   ]
  },
  {
   "cell_type": "markdown",
   "metadata": {
    "slideshow": {
     "slide_type": "slide"
    }
   },
   "source": [
    "#### Enumerate: A life saver\n",
    "Iterate over an array with index AND value. \n",
    "\n",
    "Syntax is\n",
    "```julia\n",
    "for (index, value) in enumerate(arr)\n",
    "    println((index,value))\n",
    "end\n",
    "```"
   ]
  },
  {
   "cell_type": "code",
   "execution_count": null,
   "metadata": {},
   "outputs": [],
   "source": [
    "for (i,s) ∈ enumerate([\"foo\",\"bar\",\"baz\"])\n",
    "    println(i, \" \", s)\n",
    "end"
   ]
  },
  {
   "cell_type": "markdown",
   "metadata": {
    "slideshow": {
     "slide_type": "slide"
    }
   },
   "source": [
    "## Breaking and continuing\n",
    "Sometimes you need to terminate a `while` or `for` evaluation before the end.  This can be accomplished with the `break` keyword\n"
   ]
  },
  {
   "cell_type": "code",
   "execution_count": null,
   "metadata": {
    "slideshow": {
     "slide_type": "fragment"
    }
   },
   "outputs": [],
   "source": [
    "i = 1;\n",
    "while true\n",
    "    println(i)\n",
    "    if i >= 5\n",
    "        break\n",
    "    end\n",
    "    i += 1\n",
    "end"
   ]
  },
  {
   "cell_type": "code",
   "execution_count": null,
   "metadata": {
    "slideshow": {
     "slide_type": "fragment"
    }
   },
   "outputs": [],
   "source": [
    "for i = 1:1000\n",
    "    println(i)\n",
    "    if i >= 5\n",
    "        break\n",
    "    end\n",
    "end"
   ]
  },
  {
   "cell_type": "markdown",
   "metadata": {
    "slideshow": {
     "slide_type": "slide"
    }
   },
   "source": [
    "In other circumstances, it is handy to be able to stop an iteration and move on to the next one immediately. The `continue` keyword accomplishes this.\n"
   ]
  },
  {
   "cell_type": "code",
   "execution_count": null,
   "metadata": {
    "slideshow": {
     "slide_type": "fragment"
    }
   },
   "outputs": [],
   "source": [
    "for i = 1:10\n",
    "    if i % 3 != 0\n",
    "        continue\n",
    "    end\n",
    "    println(i)\n",
    "end"
   ]
  },
  {
   "cell_type": "markdown",
   "metadata": {
    "slideshow": {
     "slide_type": "slide"
    }
   },
   "source": [
    "## Nested loops\n",
    "Multiple nested loops can be combined into a single outer loop. "
   ]
  },
  {
   "cell_type": "code",
   "execution_count": null,
   "metadata": {
    "slideshow": {
     "slide_type": "fragment"
    }
   },
   "outputs": [],
   "source": [
    "for i = 1:2\n",
    "    for j = 3:3\n",
    "        println((i,j))\n",
    "    end\n",
    "end"
   ]
  },
  {
   "cell_type": "markdown",
   "metadata": {
    "slideshow": {
     "slide_type": "fragment"
    }
   },
   "source": [
    "Translates into:"
   ]
  },
  {
   "cell_type": "code",
   "execution_count": null,
   "metadata": {
    "slideshow": {
     "slide_type": "fragment"
    }
   },
   "outputs": [],
   "source": [
    "for i = 1:2, j = 3:4\n",
    "    println((i, j))\n",
    "end"
   ]
  },
  {
   "cell_type": "markdown",
   "metadata": {
    "slideshow": {
     "slide_type": "fragment"
    }
   },
   "source": [
    "A `break` statement inside such a loop exits the entire nest of loops, not just the inner one.\n"
   ]
  },
  {
   "cell_type": "markdown",
   "metadata": {},
   "source": [
    "## Back to the simulation"
   ]
  },
  {
   "cell_type": "code",
   "execution_count": null,
   "metadata": {},
   "outputs": [],
   "source": [
    "# Start with a single infected cell in the middle\n",
    "\n",
    "cells = Int8[0 0 0 0 0 ;\n",
    "             0 0 0 0 0 ;\n",
    "             0 0 1 0 0 ;\n",
    "             0 0 0 0 0 ;\n",
    "             0 0 0 0 0 ]"
   ]
  },
  {
   "cell_type": "markdown",
   "metadata": {},
   "source": [
    "We can implement a time step in our simulation. For this, we need to loop over each pair of neighbouring cells, since they can infect each other.\n",
    "\n",
    "First let's check the neighbours in the vertical direction. So if one cell is at (i,j), the cell at (i+1,j) is a neighbour. If a column has N cells, there are N-1 pairs."
   ]
  },
  {
   "cell_type": "code",
   "execution_count": null,
   "metadata": {},
   "outputs": [],
   "source": [
    "\"Update the simulation one time step\"\n",
    "function update!(cells)\n",
    "    # Create a copy to remember the old state\n",
    "    old_cells = deepcopy(cells)\n",
    "    \n",
    "    # Loop over pairs of cells in the same row. There are size(cells)[1] columns, and size(cells)[1]-1 pairs.\n",
    "    for i in 1:size(cells)[1]-1\n",
    "        # loop over all columns\n",
    "        for j in 1:size(cells)[2]\n",
    "            # So the cells are (i+1,j) and (i,j). Each will interact with the other.\n",
    "        \n",
    "            cells[i,j] = interact(cells[i,j], old_cells[i+1,j])\n",
    "            cells[i+1,j] = interact(cells[i+1,j], old_cells[i,j])\n",
    "\n",
    "        end\n",
    "    end\n",
    "end\n",
    "\n",
    "update!(cells)\n",
    "cells"
   ]
  },
  {
   "cell_type": "markdown",
   "metadata": {},
   "source": [
    "Now the disease can spread vertically. The horizontal direction is one of the exercises."
   ]
  },
  {
   "cell_type": "markdown",
   "metadata": {},
   "source": [
    "# Extra:"
   ]
  },
  {
   "cell_type": "markdown",
   "metadata": {
    "slideshow": {
     "slide_type": "slide"
    }
   },
   "source": [
    "## While statement\n",
    "Syntax is \n",
    "```julia\n",
    "while *condition*\n",
    "    *loop body*\n",
    "end\n",
    "```"
   ]
  },
  {
   "cell_type": "code",
   "execution_count": null,
   "metadata": {
    "scrolled": true,
    "slideshow": {
     "slide_type": "fragment"
    }
   },
   "outputs": [],
   "source": [
    "n = 0\n",
    "while n < 10\n",
    "    n += 1\n",
    "    println(n)\n",
    "end"
   ]
  },
  {
   "cell_type": "markdown",
   "metadata": {
    "slideshow": {
     "slide_type": "slide"
    }
   },
   "source": [
    "## List comprehension\n",
    "Comprehensions provide a general and powerful way to construct arrays. \n",
    "\n",
    "Comprehension syntax is similar to set construction notation in mathematics\n",
    "```julia\n",
    "A = [ F(x,y,...) for x=rx, y=ry, ... ]\n",
    "```"
   ]
  },
  {
   "cell_type": "code",
   "execution_count": null,
   "metadata": {
    "slideshow": {
     "slide_type": "fragment"
    }
   },
   "outputs": [],
   "source": [
    "[(i,j) for i=1:2 for j=1:i]"
   ]
  },
  {
   "cell_type": "markdown",
   "metadata": {
    "slideshow": {
     "slide_type": "slide"
    }
   },
   "source": [
    "## Ternary operator\n",
    "Even though the name for this operation is scary, it is actually very easy to understand and handy to use. Syntax is:\n",
    "```julia\n",
    "*condition* ? *do 1* : *do 2*\n",
    "```\n",
    "which is equal to writing\n",
    "```julia\n",
    "if *condition*\n",
    "    *do 1*\n",
    "else\n",
    "    *do 2*\n",
    "end\n",
    "```"
   ]
  },
  {
   "cell_type": "code",
   "execution_count": null,
   "metadata": {
    "slideshow": {
     "slide_type": "fragment"
    }
   },
   "outputs": [],
   "source": [
    "# What does the followning code do? Try it out by giving values to `x` and `y`\n",
    "x = \n",
    "y = \n",
    "(x > y ) ? x : y"
   ]
  },
  {
   "cell_type": "markdown",
   "metadata": {
    "slideshow": {
     "slide_type": "slide"
    }
   },
   "source": [
    "## Advanced: Tasks (aka Coroutines)\n",
    "Tasks are a control flow feature that allows computations to be suspended and resumed in a flexible manner. More information can be found from the [documentation](https://docs.julialang.org/en/v1/manual/control-flow/#man-tasks-1)"
   ]
  },
  {
   "cell_type": "code",
   "execution_count": null,
   "metadata": {
    "slideshow": {
     "slide_type": "fragment"
    }
   },
   "outputs": [],
   "source": [
    "function producer(c::Channel)\n",
    "    put!(c, \"start\")\n",
    "    for n=1:4\n",
    "        put!(c, 2n)\n",
    "    end\n",
    "    put!(c, \"stop\")\n",
    "end;\n",
    "\n",
    "chnl = Channel(producer);"
   ]
  },
  {
   "cell_type": "code",
   "execution_count": null,
   "metadata": {
    "slideshow": {
     "slide_type": "fragment"
    }
   },
   "outputs": [],
   "source": [
    "take!(chnl) # try executing me repeatedly"
   ]
  },
  {
   "cell_type": "code",
   "execution_count": null,
   "metadata": {},
   "outputs": [],
   "source": []
  }
 ],
 "metadata": {
  "celltoolbar": "Slideshow",
  "kernelspec": {
   "display_name": "Julia 1.5.3",
   "language": "julia",
   "name": "julia-1.5"
  },
  "language_info": {
   "file_extension": ".jl",
   "mimetype": "application/julia",
   "name": "julia",
   "version": "1.5.3"
  }
 },
 "nbformat": 4,
 "nbformat_minor": 4
}
