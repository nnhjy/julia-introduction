{
 "cells": [
  {
   "cell_type": "markdown",
   "metadata": {
    "slideshow": {
     "slide_type": "slide"
    }
   },
   "source": [
    "# Control flow"
   ]
  },
  {
   "cell_type": "markdown",
   "metadata": {
    "slideshow": {
     "slide_type": "fragment"
    }
   },
   "source": [
    "## Topics\n",
    "- Mapping and broadcasting\n",
    "- The dot-syntax\n",
    "- More details on the loop syntax\n",
    "- Array comprehension\n",
    "\n",
    "See also the [documentation](https://docs.julialang.org/en/v1/manual/control-flow/\n",
    ")"
   ]
  },
  {
   "cell_type": "markdown",
   "metadata": {
    "slideshow": {
     "slide_type": "slide"
    }
   },
   "source": [
    "## Loops\n",
    "\n",
    "More details on loops and some tips and tricks."
   ]
  },
  {
   "cell_type": "markdown",
   "metadata": {
    "slideshow": {
     "slide_type": "slide"
    }
   },
   "source": [
    "## Enumerate: A life saver\n",
    "Iterate over an array with index AND value. \n",
    "\n",
    "Syntax is\n",
    "```julia\n",
    "for (index, value) in enumerate(arr)\n",
    "    # Loop content\n",
    "end\n",
    "```"
   ]
  },
  {
   "cell_type": "code",
   "execution_count": null,
   "metadata": {
    "slideshow": {
     "slide_type": "fragment"
    }
   },
   "outputs": [],
   "source": [
    "# Quick reminder of how for-loops work\n",
    "for n in 1:10\n",
    "    println(n)\n",
    "end"
   ]
  },
  {
   "cell_type": "code",
   "execution_count": null,
   "metadata": {},
   "outputs": [],
   "source": [
    "for (i,s) ∈ enumerate([\"foo\",\"bar\",\"baz\"])\n",
    "    println(i, \" \", s)\n",
    "end"
   ]
  },
  {
   "cell_type": "markdown",
   "metadata": {
    "slideshow": {
     "slide_type": "slide"
    }
   },
   "source": [
    "## Array comprehension\n",
    "Comprehensions provide a general and powerful way to construct arrays. \n",
    "\n",
    "Comprehension syntax is similar to set construction notation in mathematics\n",
    "```julia\n",
    "A = [ F(x,y,...) for x=rx, y=ry, ... ]\n",
    "```"
   ]
  },
  {
   "cell_type": "code",
   "execution_count": null,
   "metadata": {
    "slideshow": {
     "slide_type": "fragment"
    }
   },
   "outputs": [],
   "source": [
    "[(i,j) for i=1:2 for j=1:i]"
   ]
  },
  {
   "cell_type": "markdown",
   "metadata": {
    "slideshow": {
     "slide_type": "slide"
    }
   },
   "source": [
    "## Breaking and continuing\n",
    "Sometimes you need to terminate a `while` or `for` evaluation before the end.  This can be accomplished with the `break` keyword\n"
   ]
  },
  {
   "cell_type": "code",
   "execution_count": null,
   "metadata": {
    "slideshow": {
     "slide_type": "fragment"
    }
   },
   "outputs": [],
   "source": [
    "i = 1;\n",
    "while true\n",
    "    println(i)\n",
    "    if i >= 5\n",
    "        break\n",
    "    end\n",
    "    i += 1\n",
    "end"
   ]
  },
  {
   "cell_type": "code",
   "execution_count": null,
   "metadata": {
    "scrolled": true,
    "slideshow": {
     "slide_type": "fragment"
    }
   },
   "outputs": [],
   "source": [
    "for i = 1:1000\n",
    "    println(i)\n",
    "    if i >= 5\n",
    "        break\n",
    "    end\n",
    "end"
   ]
  },
  {
   "cell_type": "markdown",
   "metadata": {
    "slideshow": {
     "slide_type": "slide"
    }
   },
   "source": [
    "In other circumstances, it is handy to be able to stop an iteration and move on to the next one immediately. The `continue` keyword accomplishes this.\n"
   ]
  },
  {
   "cell_type": "code",
   "execution_count": null,
   "metadata": {
    "slideshow": {
     "slide_type": "fragment"
    }
   },
   "outputs": [],
   "source": [
    "for i = 1:10\n",
    "    if i % 3 != 0\n",
    "        continue\n",
    "    end\n",
    "    println(i)\n",
    "end"
   ]
  },
  {
   "cell_type": "markdown",
   "metadata": {
    "slideshow": {
     "slide_type": "slide"
    }
   },
   "source": [
    "## Nested loops\n",
    "Multiple nested loops can be combined into a single outer loop. "
   ]
  },
  {
   "cell_type": "code",
   "execution_count": null,
   "metadata": {
    "slideshow": {
     "slide_type": "fragment"
    }
   },
   "outputs": [],
   "source": [
    "for i = 1:2\n",
    "    for j = 3:3\n",
    "        println((i,j))\n",
    "    end\n",
    "end"
   ]
  },
  {
   "cell_type": "markdown",
   "metadata": {
    "slideshow": {
     "slide_type": "fragment"
    }
   },
   "source": [
    "Translates into:"
   ]
  },
  {
   "cell_type": "code",
   "execution_count": null,
   "metadata": {
    "slideshow": {
     "slide_type": "fragment"
    }
   },
   "outputs": [],
   "source": [
    "for i = 1:2, j = 3:4\n",
    "    println((i, j))\n",
    "end"
   ]
  },
  {
   "cell_type": "markdown",
   "metadata": {
    "slideshow": {
     "slide_type": "fragment"
    }
   },
   "source": [
    "A `break` statement inside such a loop exits the entire nest of loops, not just the inner one.\n"
   ]
  },
  {
   "cell_type": "markdown",
   "metadata": {},
   "source": [
    "## Some higher-order functions: `map`\n",
    "\n",
    "`map` is a \"higher-order\" function in Julia that takes a *function* as one of its input arguments. `map` then applies that function to every element of the data structure you pass. \n",
    "\n",
    "For example\n",
    "```julia\n",
    "map(f, [1,2,3])\n",
    "```\n",
    "will correspond to\n",
    "```julia\n",
    "[f(1), f(2), f(3)]\n",
    "```"
   ]
  },
  {
   "cell_type": "code",
   "execution_count": null,
   "metadata": {},
   "outputs": [],
   "source": [
    "function f(x, y)\n",
    "    return x + y\n",
    "end\n",
    "\n",
    "map(f, [1,2,3], [4,5,6])"
   ]
  },
  {
   "cell_type": "markdown",
   "metadata": {},
   "source": [
    "## Some higher-order functions: `broadcast`\n",
    "`broadcast` is another higher-order function like `map`. `broadcast` is actually a generalization, so it can do the same as `map` but also more!\n",
    "\n",
    "Syntax is the same\n",
    "```julia\n",
    "broadcast(f, [1,2,3])\n",
    "```\n",
    "\n",
    "And so we have again applied f (squared) to all elements of `[1,2,3]`."
   ]
  },
  {
   "cell_type": "code",
   "execution_count": null,
   "metadata": {},
   "outputs": [],
   "source": [
    "broadcast(f, [1,2,3], [4,5,6])"
   ]
  },
  {
   "cell_type": "code",
   "execution_count": null,
   "metadata": {},
   "outputs": [],
   "source": [
    "broadcast(f, [[4, 5, 6], [1, 2, 3]], [[1,2,3]])"
   ]
  },
  {
   "cell_type": "markdown",
   "metadata": {},
   "source": [
    "## Broadcasting (or vectorizing)\n",
    "Some syntactic sugar for calling `broadcast` is to place `.` between the name of the function you want to broadcast and its input arguments. \n",
    "        \n",
    "For example\n",
    "```julia\n",
    "broadcast(f, [1,2,3])\n",
    "```\n",
    "is the same as\n",
    "```julia\n",
    "f.([1,2,3])\n",
    "```\n",
    "\n",
    "Note that this is not the same as `f([1,2,3])` because we can not square a vector!\n",
    "\n",
    "Let's try broadcasting for a matrix `A`"
   ]
  },
  {
   "cell_type": "code",
   "execution_count": null,
   "metadata": {},
   "outputs": [],
   "source": [
    "function f(x)\n",
    "    return x^2\n",
    "end\n",
    "\n",
    "A = [1 2 3;\n",
    "     4 5 6;\n",
    "     7 8 9]"
   ]
  },
  {
   "cell_type": "code",
   "execution_count": null,
   "metadata": {},
   "outputs": [],
   "source": [
    "f(A)"
   ]
  },
  {
   "cell_type": "code",
   "execution_count": null,
   "metadata": {},
   "outputs": [],
   "source": [
    "f.(A)"
   ]
  },
  {
   "cell_type": "markdown",
   "metadata": {},
   "source": [
    "## Dot syntax for vectorization\n",
    "The dot syntax allows to write complex compound **elementwise** expressions in a way that looks natural/closer to mathematical notation. \n",
    "\n",
    "For example:"
   ]
  },
  {
   "cell_type": "code",
   "execution_count": null,
   "metadata": {},
   "outputs": [],
   "source": [
    "A + 2 .* f.(A) ./ A"
   ]
  },
  {
   "cell_type": "markdown",
   "metadata": {},
   "source": [
    "Instead of the more nasty looking version with `broadcast` as"
   ]
  },
  {
   "cell_type": "code",
   "execution_count": null,
   "metadata": {},
   "outputs": [],
   "source": [
    "broadcast(x-> x + 2 * f(x) / x, A) "
   ]
  },
  {
   "cell_type": "markdown",
   "metadata": {},
   "source": [
    "The `.`-syntax is useful and looks nice, if you are used to interpreted languages beware: in Julia a for loop is faster. You don't need to vectorize to get good performance."
   ]
  },
  {
   "cell_type": "markdown",
   "metadata": {},
   "source": [
    "### Exercise 1: Map / Broadcast\n",
    "\n",
    "Define a function called `addone` that adds `1` to any number.\n",
    "\n",
    "Use `map` or `broadcast` and the `addone` function to increment every element of a matrix `A` by `1`.\n",
    "\n",
    "You can easily create an empty matrix for testing with `A = zeros(5,5)`."
   ]
  },
  {
   "cell_type": "code",
   "execution_count": null,
   "metadata": {},
   "outputs": [],
   "source": []
  },
  {
   "cell_type": "markdown",
   "metadata": {},
   "source": [
    "### Exercise 2: Dot syntax\n",
    "\n",
    "Try out the broadcast dot syntax to increment every element of matrix `A` by `1` using the function defined in the first exercise."
   ]
  },
  {
   "cell_type": "code",
   "execution_count": null,
   "metadata": {},
   "outputs": [],
   "source": []
  },
  {
   "cell_type": "markdown",
   "metadata": {},
   "source": [
    "### Advanced exercise 1: More dots\n",
    "Generalize the previous polynomial function to work for matrices, too. In practise this means that `x` can be of array\n",
    "and the polynomial function is evaluated for every element of that array."
   ]
  },
  {
   "cell_type": "code",
   "execution_count": null,
   "metadata": {},
   "outputs": [],
   "source": []
  },
  {
   "cell_type": "markdown",
   "metadata": {},
   "source": [
    "## Back to the simulation\n",
    "\n",
    "Let's get back to the simulation and implement a single time step. But first, we need to create a field filled with plants. We'll use a 2D array to represent the field."
   ]
  },
  {
   "cell_type": "code",
   "execution_count": null,
   "metadata": {},
   "outputs": [],
   "source": [
    "# Copy necessary things from the previous session\n",
    "\n",
    "\"Enumerate possible states of a single plant\"\n",
    "@enum InfectionStatus uninfected infected dead recovered\n",
    "\n",
    "\"Data structure containing the infection status of a plant\"\n",
    "mutable struct Plant\n",
    "    status::InfectionStatus\n",
    "    infection_time::Int8\n",
    "end\n",
    "\n",
    "\"Update a single plant one time step.\"\n",
    "function update!(plant::Plant, recovery_time, death_rate)\n",
    "    if plant.status == infected\n",
    "        \n",
    "        # The plant dies with probability death_rate\n",
    "        if rand(1)[1] < death_rate\n",
    "            # Kill the plant\n",
    "            plant.status = dead\n",
    "        end\n",
    "        \n",
    "        # add 1 to the infection time\n",
    "        plant.infection_time += 1\n",
    "        \n",
    "        # if the infection time is larger than the recovery time, the plant recovers\n",
    "        if plant.infection_time > recovery_time\n",
    "            # Kill the plant\n",
    "            plant.status = recovered\n",
    "        end\n",
    "    end\n",
    "end\n",
    "\n",
    "\"\"\"Simulate an interaction between two plants. In the other plant is\n",
    "   infected, it may infect the this plant.\n",
    "\"\"\"\n",
    "function interact!(this_plant::Plant, other_plant::Plant, infection_rate)\n",
    "    if this_plant.status == uninfected && other_plant.status == infected\n",
    "        if rand(1)[1] < infection_rate\n",
    "            this_plant.status = infected\n",
    "            this_plant.infection_time = 0\n",
    "        end\n",
    "    end\n",
    "end\n",
    "\n",
    "\"Show the plant as an empty or a filled in box for quick viewing\"\n",
    "function Base.show(io::IO, plant::Plant)\n",
    "    if plant.status == infected\n",
    "        print(io, \"◼\")\n",
    "    else\n",
    "        print(io, \"◻\")\n",
    "    end\n",
    "end"
   ]
  },
  {
   "cell_type": "code",
   "execution_count": null,
   "metadata": {},
   "outputs": [],
   "source": [
    "# Create a 16 x 16 matrix of plants\n",
    "plants = Matrix{Plant}(undef, 16, 16)\n",
    "\n",
    "for i in 1:size(plants)[1]\n",
    "    for j in 1:size(plants)[2]\n",
    "        plants[i,j] = Plant(uninfected, 0)\n",
    "    end\n",
    "end\n",
    "plants[8,8].status = infected"
   ]
  },
  {
   "cell_type": "markdown",
   "metadata": {},
   "source": [
    "Now we can implement a time step in our simulation. For this, we need to loop over each pair of neighbouring plants, since they can infect each other.\n",
    "\n",
    "First let's check the neighbours in the vertical direction. So if one plant is at (i,j), the plant at (i+1,j) is a neighbour. If a column has N plants, there are N-1 pairs."
   ]
  },
  {
   "cell_type": "code",
   "execution_count": null,
   "metadata": {},
   "outputs": [],
   "source": [
    "\"Update the simulation one time step\"\n",
    "function update!(plants::Matrix{Plant}, recovery_time, death_rate, infection_rate)\n",
    "    # Create a copy to remember the old state\n",
    "    old_plants = deepcopy(plants)\n",
    "    \n",
    "    # First update individual plants\n",
    "    update!.(plants, recovery_time, death_rate)\n",
    "    \n",
    "    # Find the number of plants in each direction\n",
    "    Nx = size(plants)[1]\n",
    "    Ny = size(plants)[2]    \n",
    "    \n",
    "    # Loop over pairs of plants in the same row. There are Nx-1 pairs.\n",
    "    for j in 1:Ny\n",
    "        # loop over all columns\n",
    "        for i in 1:Nx-1\n",
    "            # So the plants are (i+1,j) and (i,j). Each will \n",
    "            # interact with the other.\n",
    "            \n",
    "            interact!(plants[i,j], old_plants[i+1,j], infection_rate)\n",
    "            interact!(plants[i+1,j], old_plants[i,j], infection_rate)\n",
    "\n",
    "        end\n",
    "    end\n",
    "end"
   ]
  },
  {
   "cell_type": "code",
   "execution_count": null,
   "metadata": {},
   "outputs": [],
   "source": [
    "update!(plants, 5, 0.02, 0.5)\n",
    "plants"
   ]
  },
  {
   "cell_type": "code",
   "execution_count": null,
   "metadata": {},
   "outputs": [],
   "source": [
    "plants[7,7].infection_time"
   ]
  },
  {
   "cell_type": "markdown",
   "metadata": {},
   "source": [
    "### Exercise 3: Spreading vertically\n",
    "\n",
    "Extend the function above to allow the infection to spread horizontally. The code is repeated below, with a bit of scaffolding.\n",
    "\n",
    "Check by running the update function repeatedly and showing the plants-array."
   ]
  },
  {
   "cell_type": "code",
   "execution_count": null,
   "metadata": {},
   "outputs": [],
   "source": [
    "\"Update the simulation one time step\"\n",
    "function update!(plants::Matrix{Plant}, recovery_time, death_rate, infection_rate)\n",
    "    # Create a copy to remember the old state\n",
    "    old_plants = deepcopy(plants)\n",
    "    \n",
    "    # First update individual plants\n",
    "    update!.(plants, recovery_time, death_rate)\n",
    "    \n",
    "    # Find the number of plants in each direction\n",
    "    Nx = size(plants)[1]\n",
    "    Ny = size(plants)[2]    \n",
    "    \n",
    "    # Loop over pairs of plants in the same row. There are Nx-1 pairs.\n",
    "    for j in 1:Ny\n",
    "        # loop over all columns\n",
    "        for i in 1:Nx-1\n",
    "            # So the plants are (i+1,j) and (i,j). Each will \n",
    "            # interact with the other.\n",
    "            interact!(plants[i,j], old_plants[i+1,j], infection_rate)\n",
    "            interact!(plants[i+1,j], old_plants[i,j], infection_rate)\n",
    "        end\n",
    "    end\n",
    "    \n",
    "    # Loop over pairs of plants in the same column.\n",
    "    for j in ...\n",
    "        # loop over all columns\n",
    "        for i in ...\n",
    "            # So the plants are (i+1,j) and (i,j). Each will \n",
    "            # interact with the other.\n",
    "            interact!(...)\n",
    "            interact!(...)\n",
    "        end\n",
    "    end\n",
    "end"
   ]
  },
  {
   "cell_type": "markdown",
   "metadata": {},
   "source": [
    "### Exercise 4: Printing the array of plants"
   ]
  },
  {
   "cell_type": "code",
   "execution_count": null,
   "metadata": {},
   "outputs": [],
   "source": [
    "# Interestingly, this is a bit different\n",
    "print(plants)"
   ]
  },
  {
   "cell_type": "markdown",
   "metadata": {},
   "source": [
    "So let's extend the print function. Add the missing parts below to print the array in a nicer way."
   ]
  },
  {
   "cell_type": "code",
   "execution_count": null,
   "metadata": {},
   "outputs": [],
   "source": [
    "# This is how we write a show function for an array of plants\n",
    "function Base.show(io::IO, plants::Array{Plant, 2})\n",
    "    Nx = size(plants)[1]\n",
    "    Ny = size(plants)[2]\n",
    "    \n",
    "    # Iterate over rows and columns separately\n",
    "    for j in ...\n",
    "        for i in ...\n",
    "            ... \n",
    "        end\n",
    "    print('\\n')\n",
    "    end    \n",
    "end\n",
    "\n",
    "print(plants)"
   ]
  },
  {
   "cell_type": "markdown",
   "metadata": {},
   "source": [
    "# Extra:"
   ]
  },
  {
   "cell_type": "markdown",
   "metadata": {
    "slideshow": {
     "slide_type": "slide"
    }
   },
   "source": [
    "## While statement\n",
    "Syntax is \n",
    "```julia\n",
    "while *condition*\n",
    "    *loop body*\n",
    "end\n",
    "```"
   ]
  },
  {
   "cell_type": "code",
   "execution_count": null,
   "metadata": {
    "scrolled": true,
    "slideshow": {
     "slide_type": "fragment"
    }
   },
   "outputs": [],
   "source": [
    "n = 0\n",
    "while n < 10\n",
    "    n += 1\n",
    "    println(n)\n",
    "end"
   ]
  },
  {
   "cell_type": "markdown",
   "metadata": {
    "slideshow": {
     "slide_type": "slide"
    }
   },
   "source": [
    "## Ternary operator\n",
    "Even though the name for this operation is scary, it is actually very easy to understand and handy to use. Syntax is:\n",
    "```julia\n",
    "*condition* ? *do 1* : *do 2*\n",
    "```\n",
    "which is equal to writing\n",
    "```julia\n",
    "if *condition*\n",
    "    *do 1*\n",
    "else\n",
    "    *do 2*\n",
    "end\n",
    "```"
   ]
  },
  {
   "cell_type": "code",
   "execution_count": null,
   "metadata": {
    "slideshow": {
     "slide_type": "fragment"
    }
   },
   "outputs": [],
   "source": [
    "# What does the followning code do? Try it out by giving values to `x` and `y`\n",
    "x = \n",
    "y = \n",
    "(x > y ) ? x : y"
   ]
  },
  {
   "cell_type": "markdown",
   "metadata": {},
   "source": []
  },
  {
   "cell_type": "markdown",
   "metadata": {},
   "source": [
    "### Advanced: SIMD vectorization\n",
    "Vectorization is discussed more in the bonus notebook about SIMD vectorization.\n",
    "\n",
    "In short, the topic is quite technical but you should rest assured that the dot syntax actually works quite well to make your code easy to read **and** fast to run."
   ]
  }
 ],
 "metadata": {
  "celltoolbar": "Slideshow",
  "kernelspec": {
   "display_name": "Julia 1.6.5",
   "language": "julia",
   "name": "julia-1.6"
  },
  "language_info": {
   "file_extension": ".jl",
   "mimetype": "application/julia",
   "name": "julia",
   "version": "1.6.5"
  }
 },
 "nbformat": 4,
 "nbformat_minor": 4
}
