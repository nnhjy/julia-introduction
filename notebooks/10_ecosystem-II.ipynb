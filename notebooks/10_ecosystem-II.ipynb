{
 "cells": [
  {
   "cell_type": "markdown",
   "metadata": {
    "slideshow": {
     "slide_type": "slide"
    }
   },
   "source": [
    "# Julia ecosystems II"
   ]
  },
  {
   "cell_type": "markdown",
   "metadata": {
    "slideshow": {
     "slide_type": "fragment"
    }
   },
   "source": [
    "## Topics\n",
    "- Ecosystems\n",
    "- Own modules & packages\n"
   ]
  },
  {
   "cell_type": "markdown",
   "metadata": {
    "slideshow": {
     "slide_type": "slide"
    }
   },
   "source": [
    "## Ecosystem\n",
    "\n",
    "Julia has a large ecosystem of packages, maintained by a wide variety of people. \n",
    "\n",
    "In the best of academic ideals, Julia users from across the world come together to create mutually compatible and supporting packages for their domains. To manage these collections of packages they often use GitHub organisations"
   ]
  },
  {
   "cell_type": "markdown",
   "metadata": {
    "slideshow": {
     "slide_type": "slide"
    }
   },
   "source": [
    "## General\n",
    "- [JuliaDocs](https://github.com/juliadocs) – Documentation-related packages for Julia \n",
    "- [Julia-i18n](https://github.com/Julia-i18n) – Internationalization (i18n) and localization (L10n) for Julians \n",
    "- [JuliaTime](https://github.com/JuliaTime) – Date and time libraries\n",
    "- [JuliaPraxis](https://github.com/JuliaPraxis) – Best practices \n",
    "- [JuliaEditorSupport](https://github.com/JuliaEditorSupport) – Extensions/Plugins for text editors and IDEs\n",
    "- [Juno](https://github.com/JunoLab) – The Juno IDE for Atom \n"
   ]
  },
  {
   "cell_type": "markdown",
   "metadata": {
    "slideshow": {
     "slide_type": "slide"
    }
   },
   "source": [
    "## Computing\n",
    "- [JuliaArrays](https://github.com/JuliaArrays) – Custom array types (and utilities for building array types)\n",
    "- [JuliaBerry](https://github.com/JuliaBerry) – [Julia resources for the Raspberry Pi](https://juliaberry.github.io/)\n",
    "- [JuliaCI](https://github.com/JuliaCI) – Continuous Integration Support for Julia packages\n",
    "- [JuliaGPU](https://github.com/JuliaGPU) – GPU computing\n",
    "- [JuliaInterop](https://github.com/JuliaInterop) – Easy interoperability between Julia and not-Julia\n",
    "- [JuliaIO](https://github.com/JuliaIO) – IO-related functionality, such as serialization\n",
    "- [JuliaParallel](https://github.com/JuliaParallel) – Parallel programming in Julia\n",
    "- [JuliaWeb](https://github.com/JuliaWeb) – Web stack"
   ]
  },
  {
   "cell_type": "markdown",
   "metadata": {
    "slideshow": {
     "slide_type": "slide"
    }
   },
   "source": [
    "## Mathematics\n",
    "- [JuliaDiff](https://github.com/JuliaDiff/)     – Differentiation tools\n",
    "- [JuliaDiffEq](https://github.com/JuliaDiffEq)    – Differential equation solving and analysis \n",
    "- [JuliaGeometry](https://github.com/JuliaGeometry)  – Computational Geometry\n",
    "- [JuliaGraphs](https://github.com/JuliaGraphs)    – Graph Theory and Implementation\n",
    "- [JuliaIntervals](https://github.com/JuliaIntervals) - Rigorous numerics with interval arithmetic & applications\n",
    "- [JuliaMath](https://github.com/JuliaMath)      – Mathematics made easy in Julia\n",
    "- [JuliaOpt](https://github.com/JuliaOpt)       – Optimization \n",
    "- [JuliaPolyhedra](https://github.com/JuliaPolyhedra) – Polyhedral computation\n",
    "- [JuliaSparse](https://github.com/JuliaSparse)    – Sparse matrix solvers\n",
    "\n"
   ]
  },
  {
   "cell_type": "markdown",
   "metadata": {
    "slideshow": {
     "slide_type": "slide"
    }
   },
   "source": [
    "## Scientific domains\n",
    "- [BioJulia](https://github.com/BioJulia) – Biology \n",
    "- [EcoJulia](https://github.com/EcoJulia) – Ecology\n",
    "- [JuliaAstro](https://github.com/JuliaAstro) – Astronomy \n",
    "- [JuliaDSP](https://github.com/JuliaDSP) – Digital signal processing\n",
    "- [JuliaQuant](https://github.com/JuliaQuant) – Finance\n",
    "- [JuliaQuantum](https://github.com/JuliaQuantum) – Julia libraries for quantum science and technology \n",
    "- [JuliaPhysics](https://github.com/JuliaPhysics) – Physics\n",
    "- [JuliaDynamics](https://github.com/JuliaDynamics) - Dynamical systems, nonlinear dynamics and chaos.\n"
   ]
  },
  {
   "cell_type": "markdown",
   "metadata": {
    "slideshow": {
     "slide_type": "slide"
    }
   },
   "source": [
    "## Data sciences\n",
    "- [JuliaML](https://github.com/JuliaML) – Machine Learning\n",
    "- [JuliaStats](https://github.com/JuliaStats) – Statistics\n",
    "- [JuliaImages](https://github.com/JuliaImages) – Image Processing\n",
    "- [JuliaText](https://github.com/JuliaText) – Natural Language Processing (NLP), Computational Linguistics and (textual) Information Retrieval\n",
    "- [JuliaDatabases](https://github.com/JuliaDatabases) – Various database drivers for Julia\n",
    "- [JuliaData](https://github.com/JuliaData) – Data manipulation, storage, and I/O in Julia\n"
   ]
  },
  {
   "cell_type": "markdown",
   "metadata": {},
   "source": [
    "## Using Python libraries with PyCall"
   ]
  },
  {
   "cell_type": "code",
   "execution_count": null,
   "metadata": {},
   "outputs": [],
   "source": [
    "using Pkg\n",
    "Pkg.add(\"PyCall\")"
   ]
  },
  {
   "cell_type": "code",
   "execution_count": null,
   "metadata": {},
   "outputs": [],
   "source": [
    "using PyCall\n",
    "math = pyimport(\"math\")\n",
    "math.sin(math.pi / 4)"
   ]
  },
  {
   "cell_type": "markdown",
   "metadata": {},
   "source": [
    "Check out the documentation on the [PyCall.jl page](https://github.com/JuliaPy/PyCall.jl) for more details."
   ]
  },
  {
   "cell_type": "markdown",
   "metadata": {},
   "source": [
    "# Calling C and Fortran functions\n",
    "\n",
    "Since Julia has access to a native compiler, calling C and Fortran functions from\n",
    "precompiled libraries is surprisingly easy. You just need to know the name of the function and the return . the syntax is\n",
    "```julia\n",
    "ccall(:function_name, return_type, (arguments_types), argument1, argument2, ...)\n",
    "```"
   ]
  },
  {
   "cell_type": "code",
   "execution_count": null,
   "metadata": {},
   "outputs": [],
   "source": [
    "t = ccall(:clock, Int32, ())"
   ]
  },
  {
   "cell_type": "markdown",
   "metadata": {},
   "source": [
    "The `clock`-function is in the default libraries, so the compiler does not need to link against anything special. You can also use functions from any other libraries, but you need to tell the compiler to use them. In this case the syntax is\n",
    "```julia\n",
    "ccall((:function_name, library_name), return_type, (arguments_types), argument1, argument2, ...)\n",
    "```"
   ]
  },
  {
   "cell_type": "code",
   "execution_count": null,
   "metadata": {},
   "outputs": [],
   "source": [
    "ccall((:sin, \"libc.so.6\"), Float64, (Float64,), π)"
   ]
  },
  {
   "cell_type": "markdown",
   "metadata": {},
   "source": [
    "Check out the [Julia documentation page](https://docs.julialang.org/en/v1/manual/calling-c-and-fortran-code/) for more details."
   ]
  }
 ],
 "metadata": {
  "celltoolbar": "Slideshow",
  "kernelspec": {
   "display_name": "Julia 1.5.3",
   "language": "julia",
   "name": "julia-1.5"
  },
  "language_info": {
   "file_extension": ".jl",
   "mimetype": "application/julia",
   "name": "julia",
   "version": "1.5.3"
  }
 },
 "nbformat": 4,
 "nbformat_minor": 4
}
