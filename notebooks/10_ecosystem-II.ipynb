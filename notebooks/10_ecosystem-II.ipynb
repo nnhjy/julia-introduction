{
 "cells": [
  {
   "cell_type": "markdown",
   "metadata": {
    "slideshow": {
     "slide_type": "slide"
    }
   },
   "source": [
    "# Julia ecosystems II"
   ]
  },
  {
   "cell_type": "markdown",
   "metadata": {
    "slideshow": {
     "slide_type": "fragment"
    }
   },
   "source": [
    "## Topics\n",
    "- Ecosystems\n",
    "- Own modules & packages\n"
   ]
  },
  {
   "cell_type": "markdown",
   "metadata": {
    "slideshow": {
     "slide_type": "slide"
    }
   },
   "source": [
    "## Ecosystem\n",
    "\n",
    "Julia has a large ecosystem of packages, maintained by a wide variety of people. \n",
    "\n",
    "In the best of academic ideals, Julia users from across the world come together to create mutually compatible and supporting packages for their domains. To manage these collections of packages they often use GitHub organisations"
   ]
  },
  {
   "cell_type": "markdown",
   "metadata": {
    "slideshow": {
     "slide_type": "slide"
    }
   },
   "source": [
    "## General\n",
    "- [JuliaDocs](https://github.com/juliadocs) – Documentation-related packages for Julia \n",
    "- [Julia-i18n](https://github.com/Julia-i18n) – Internationalization (i18n) and localization (L10n) for Julians \n",
    "- [JuliaTime](https://github.com/JuliaTime) – Date and time libraries\n",
    "- [JuliaPraxis](https://github.com/JuliaPraxis) – Best practices \n",
    "- [JuliaEditorSupport](https://github.com/JuliaEditorSupport) – Extensions/Plugins for text editors and IDEs\n",
    "- [Juno](https://github.com/JunoLab) – The Juno IDE for Atom \n"
   ]
  },
  {
   "cell_type": "markdown",
   "metadata": {
    "slideshow": {
     "slide_type": "slide"
    }
   },
   "source": [
    "## Computing\n",
    "- [JuliaArrays](https://github.com/JuliaArrays) – Custom array types (and utilities for building array types)\n",
    "- [JuliaBerry](https://github.com/JuliaBerry) – [Julia resources for the Raspberry Pi](https://juliaberry.github.io/)\n",
    "- [JuliaCI](https://github.com/JuliaCI) – Continuous Integration Support for Julia packages\n",
    "- [JuliaGPU](https://github.com/JuliaGPU) – GPU computing\n",
    "- [JuliaInterop](https://github.com/JuliaInterop) – Easy interoperability between Julia and not-Julia\n",
    "- [JuliaIO](https://github.com/JuliaIO) – IO-related functionality, such as serialization\n",
    "- [JuliaParallel](https://github.com/JuliaParallel) – Parallel programming in Julia\n",
    "- [JuliaWeb](https://github.com/JuliaWeb) – Web stack"
   ]
  },
  {
   "cell_type": "markdown",
   "metadata": {
    "slideshow": {
     "slide_type": "slide"
    }
   },
   "source": [
    "## Mathematics\n",
    "- [JuliaDiff](https://github.com/JuliaDiff/)     – Differentiation tools\n",
    "- [JuliaDiffEq](https://github.com/JuliaDiffEq)    – Differential equation solving and analysis \n",
    "- [JuliaGeometry](https://github.com/JuliaGeometry)  – Computational Geometry\n",
    "- [JuliaGraphs](https://github.com/JuliaGraphs)    – Graph Theory and Implementation\n",
    "- [JuliaIntervals](https://github.com/JuliaIntervals) - Rigorous numerics with interval arithmetic & applications\n",
    "- [JuliaMath](https://github.com/JuliaMath)      – Mathematics made easy in Julia\n",
    "- [JuliaOpt](https://github.com/JuliaOpt)       – Optimization \n",
    "- [JuliaPolyhedra](https://github.com/JuliaPolyhedra) – Polyhedral computation\n",
    "- [JuliaSparse](https://github.com/JuliaSparse)    – Sparse matrix solvers\n",
    "\n"
   ]
  },
  {
   "cell_type": "markdown",
   "metadata": {
    "slideshow": {
     "slide_type": "slide"
    }
   },
   "source": [
    "## Scientific domains\n",
    "- [BioJulia](https://github.com/BioJulia) – Biology \n",
    "- [EcoJulia](https://github.com/EcoJulia) – Ecology\n",
    "- [JuliaAstro](https://github.com/JuliaAstro) – Astronomy \n",
    "- [JuliaDSP](https://github.com/JuliaDSP) – Digital signal processing\n",
    "- [JuliaQuant](https://github.com/JuliaQuant) – Finance\n",
    "- [JuliaQuantum](https://github.com/JuliaQuantum) – Julia libraries for quantum science and technology \n",
    "- [JuliaPhysics](https://github.com/JuliaPhysics) – Physics\n",
    "- [JuliaDynamics](https://github.com/JuliaDynamics) - Dynamical systems, nonlinear dynamics and chaos.\n"
   ]
  },
  {
   "cell_type": "markdown",
   "metadata": {
    "slideshow": {
     "slide_type": "slide"
    }
   },
   "source": [
    "## Data sciences\n",
    "- [JuliaML](https://github.com/JuliaML) – Machine Learning\n",
    "- [JuliaStats](https://github.com/JuliaStats) – Statistics\n",
    "- [JuliaImages](https://github.com/JuliaImages) – Image Processing\n",
    "- [JuliaText](https://github.com/JuliaText) – Natural Language Processing (NLP), Computational Linguistics and (textual) Information Retrieval\n",
    "- [JuliaDatabases](https://github.com/JuliaDatabases) – Various database drivers for Julia\n",
    "- [JuliaData](https://github.com/JuliaData) – Data manipulation, storage, and I/O in Julia\n"
   ]
  },
  {
   "cell_type": "markdown",
   "metadata": {
    "slideshow": {
     "slide_type": "slide"
    }
   },
   "source": [
    "## Own modules\n",
    "Julia code is organized into files, modules, and packages. Files containing Julia code use the `.jl` file extension.\n",
    "\n",
    "Related functions and other definitions can be grouped together and stored in modules. The structure of a module is like this:\n",
    "```julia\n",
    "module MyModule\n",
    "\n",
    "end\n",
    "```\n",
    "and in between these lines you can put functions, type definitions, constants, and so on."
   ]
  },
  {
   "cell_type": "markdown",
   "metadata": {
    "slideshow": {
     "slide_type": "fragment"
    }
   },
   "source": [
    "One or more modules can be stored in a package, and these are managed using the git version control system. Most Julia packages, including the official ones, are stored on GitHub, where each Julia package is, by convention, named with a \".jl\" suffix."
   ]
  },
  {
   "cell_type": "markdown",
   "metadata": {
    "slideshow": {
     "slide_type": "slide"
    }
   },
   "source": [
    "## `using` and `import`\n",
    "`import` is similar to `using`, but differs in a few ways, for example, in how you access the functions inside the module. Here's a module with two functions, one of which is exported:"
   ]
  },
  {
   "cell_type": "code",
   "execution_count": 2,
   "metadata": {
    "slideshow": {
     "slide_type": "fragment"
    }
   },
   "outputs": [
    {
     "data": {
      "text/plain": [
       "Main.MyModule"
      ]
     },
     "execution_count": 2,
     "metadata": {},
     "output_type": "execute_result"
    }
   ],
   "source": [
    "module MyModule\n",
    "export mycoolfunction\n",
    "\n",
    "function mycoolfunction()\n",
    "   println(\"this is my cool function\")\n",
    "end\n",
    "function mysecretfunction()\n",
    "   println(\"this is my secret function\")\n",
    "end\n",
    "\n",
    "end"
   ]
  },
  {
   "cell_type": "code",
   "execution_count": 4,
   "metadata": {},
   "outputs": [],
   "source": [
    "import Main.MyModule"
   ]
  },
  {
   "cell_type": "markdown",
   "metadata": {
    "slideshow": {
     "slide_type": "slide"
    }
   },
   "source": [
    "and after importing the module\n",
    "```julia\n",
    "import MyModule\n",
    "mycoolfunction()\n",
    "```\n",
    "gives `ERROR: mycoolfunction not defined`."
   ]
  },
  {
   "cell_type": "markdown",
   "metadata": {
    "slideshow": {
     "slide_type": "fragment"
    }
   },
   "source": [
    "However\n",
    "```julia\n",
    "MyModyle.mycoolfunction()\n",
    "```\n",
    "prints `\"this is my cool function\"`.\n",
    "\n",
    "Notice that `mycoolfunction()` could be accessed only with the module prefix. This is because the `MyModule` module was loaded using `import` rather than `using`."
   ]
  },
  {
   "cell_type": "markdown",
   "metadata": {
    "slideshow": {
     "slide_type": "slide"
    }
   },
   "source": [
    "#### What about the non-exported `mysecretfunction()`?\n",
    "```julia\n",
    "mysecretfunction()\n",
    "```\n",
    "gives `ERROR: mysecretfunction not defined`\n",
    "and \n",
    "```julia\n",
    "MyModule.mysecretfunction()\n",
    "```\n",
    "prints `\"this is my secret function\"`."
   ]
  },
  {
   "cell_type": "markdown",
   "metadata": {
    "slideshow": {
     "slide_type": "slide"
    }
   },
   "source": [
    "## `import`\n",
    "So to summarize:\n",
    "\n",
    "`import`, like `using`, will load modules and packages for use. Unlike `using`, however, it will not make any exported names available for use.\n",
    "\n",
    "Another important difference is when you want to modify or extend a function from another module. You can't use using, you have to import the specific function.\n"
   ]
  },
  {
   "cell_type": "markdown",
   "metadata": {
    "slideshow": {
     "slide_type": "slide"
    }
   },
   "source": [
    "## `include` and `reload`\n",
    "#### `include()`:\n",
    "\n",
    "Evaluate the contents of the input source file in the current context. Returns the result of the last evaluated expression of the input file.  \n",
    "\n",
    "This function is typically used to load source interactively, or to combine files in packages that are broken into multiple source files.\n",
    "  \n",
    "All paths refer to files on node 1 when running in parallel, and files will be fetched from node 1.\n"
   ]
  }
 ],
 "metadata": {
  "celltoolbar": "Slideshow",
  "kernelspec": {
   "display_name": "Julia 1.5.3",
   "language": "julia",
   "name": "julia-1.5"
  },
  "language_info": {
   "file_extension": ".jl",
   "mimetype": "application/julia",
   "name": "julia",
   "version": "1.5.3"
  }
 },
 "nbformat": 4,
 "nbformat_minor": 4
}
