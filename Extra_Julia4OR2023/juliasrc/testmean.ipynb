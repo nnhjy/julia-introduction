{
 "cells": [
  {
   "cell_type": "markdown",
   "id": "5adb59c3-33f1-484a-aa85-eac2f0c7a47a",
   "metadata": {},
   "source": [
    "## Test of mean function"
   ]
  },
  {
   "cell_type": "code",
   "execution_count": 1,
   "id": "70149f81-6959-4347-8b2f-e1962e9c8246",
   "metadata": {},
   "outputs": [],
   "source": [
    "# loading packages\n",
    "using Statistics"
   ]
  },
  {
   "cell_type": "code",
   "execution_count": 2,
   "id": "d057b8e2-0874-492e-8dc8-40b65b730601",
   "metadata": {},
   "outputs": [
    {
     "data": {
      "text/plain": [
       "100-element Vector{Int64}:\n",
       " 590\n",
       "  70\n",
       " 194\n",
       " 970\n",
       " 499\n",
       " 613\n",
       " 141\n",
       " 893\n",
       " 528\n",
       " 357\n",
       " 763\n",
       " 984\n",
       " 473\n",
       "   ⋮\n",
       " 158\n",
       " 828\n",
       " 599\n",
       " 833\n",
       " 566\n",
       " 590\n",
       " 979\n",
       " 120\n",
       " 499\n",
       " 659\n",
       " 878\n",
       " 747"
      ]
     },
     "execution_count": 2,
     "metadata": {},
     "output_type": "execute_result"
    }
   ],
   "source": [
    "# generate numbers and put them in A\n",
    "A = rand(0:999,100)"
   ]
  },
  {
   "cell_type": "code",
   "execution_count": 3,
   "id": "97749172-0211-4391-8671-23936ff30379",
   "metadata": {},
   "outputs": [
    {
     "data": {
      "text/plain": [
       "546.82"
      ]
     },
     "execution_count": 3,
     "metadata": {},
     "output_type": "execute_result"
    }
   ],
   "source": [
    "mean(A)"
   ]
  },
  {
   "cell_type": "code",
   "execution_count": null,
   "id": "310b08a2-72eb-4065-915b-9197827845de",
   "metadata": {},
   "outputs": [],
   "source": []
  }
 ],
 "metadata": {
  "kernelspec": {
   "display_name": "Julia 1.9.3",
   "language": "julia",
   "name": "julia-1.9"
  },
  "language_info": {
   "file_extension": ".jl",
   "mimetype": "application/julia",
   "name": "julia",
   "version": "1.9.3"
  }
 },
 "nbformat": 4,
 "nbformat_minor": 5
}
