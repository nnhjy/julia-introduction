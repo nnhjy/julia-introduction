{
 "cells": [
  {
   "cell_type": "markdown",
   "metadata": {},
   "source": [
    "# A 1D-cutting stock example"
   ]
  },
  {
   "cell_type": "markdown",
   "metadata": {},
   "source": [
    "### Description of the problem\n",
    "A small company has been ordered to cut table legs for school desks. The school desks are of 3 different sizes (Small, Medium and Large) and differ only by the length of the table legs (S=40cm, M=60cm, L=70cm). The number of desks (with four legs each) required is 108 for size S, 125 for size M and 100 for size L. To make the table legs, you will cut master metal tubes of unique size (2m) and you always have enough tube to satisfy the demand."
   ]
  },
  {
   "cell_type": "markdown",
   "metadata": {},
   "source": [
    "<img src=\"table-tubes.png\" style=\"width:800px\" />"
   ]
  },
  {
   "cell_type": "markdown",
   "metadata": {},
   "source": [
    "**Problem**: How are you going to cut the master metal tubes in order to answer the demand and minimize the waste (the loss of all cut master metal tube)."
   ]
  },
  {
   "cell_type": "markdown",
   "metadata": {},
   "source": [
    "### Data files for resolution"
   ]
  },
  {
   "cell_type": "code",
   "execution_count": null,
   "metadata": {},
   "outputs": [],
   "source": [
    ";cat Data/inst1-tablelegs.dat"
   ]
  },
  {
   "cell_type": "code",
   "execution_count": null,
   "metadata": {},
   "outputs": [],
   "source": [
    ";cat Data/inst1-tubesize.dat"
   ]
  },
  {
   "attachments": {},
   "cell_type": "markdown",
   "metadata": {},
   "source": [
    "## ILP model for cutting stock (with patterns)\n",
    "\n",
    "### Data for the model\n",
    "We have the following data:\n",
    "- $T\\ \\ \\ \\ \\;$ tube size\n",
    "- $L\\ \\ \\ \\ \\;$ table leg size (vector 1..$nf$)\n",
    "- $D\\ \\ \\ \\ $ table leg demand (vector 1..$nf$)\n",
    "- $n\\ \\ \\ \\ \\ $ number of different patterns\n",
    "- $m\\ \\ \\ \\ $ pattern composition ($m_{ij}$ number of table legs of size $j$ is cut in pattern $i$) (array 1..$n$,1..$nf$)\n",
    "- $c\\ \\ \\ \\ $ waste for each pattern (vector 1..$n$)\n",
    "\n",
    "### Model\n",
    "\n",
    "\\begin{align*}\n",
    "  \\min \\quad & \\sum_{i=1}^n c_ix_i                      \\\\\n",
    "  s.t. \\quad & \\nonumber                                                 \\\\\n",
    "             & \\sum_{i=1}^n m_{ij}x_i = d_j \\quad & \\forall j \\in \\{1..m\\} \\\\\n",
    "             & x_i \\in \\mathbb{Z}^+ \\quad & \\forall i \\in \\{1..n\\}\n",
    "\\end{align*}"
   ]
  },
  {
   "cell_type": "markdown",
   "metadata": {},
   "source": [
    "## Let's play with the code\n",
    "\n",
    "We need the following steps:\n",
    "- Read data\n",
    "- Generate patterns\n",
    "- Build the math model\n",
    "- Solve it\n",
    "- Display results"
   ]
  },
  {
   "cell_type": "markdown",
   "metadata": {},
   "source": [
    "### Read data"
   ]
  },
  {
   "cell_type": "code",
   "execution_count": null,
   "metadata": {
    "jupyter": {
     "source_hidden": true
    }
   },
   "outputs": [],
   "source": [
    "using DelimitedFiles; # reading delimited files (can be replaced by CSV)\n",
    "using Printf;         # for expert only ;-)\n",
    "\n",
    "dir=\"Data/\"\n",
    "prefix=\"inst1\"\n",
    "\n",
    "LD  = readdlm(dir*prefix*\"-tablelegs.dat\",',',Int,comments=true); # table legs \n",
    "T  = readdlm(dir*prefix*\"-tubesize.dat\",',',Int,comments=true)[1]; # tube size\n",
    "\n",
    "L = LD[1,:];    # isolate table leg length\n",
    "D = LD[2,:];    # isolate table leg demand\n",
    "nf = length(L); # number of different formats"
   ]
  },
  {
   "cell_type": "markdown",
   "metadata": {},
   "source": [
    "### Generate patterns"
   ]
  },
  {
   "cell_type": "code",
   "execution_count": null,
   "metadata": {
    "jupyter": {
     "source_hidden": true
    }
   },
   "outputs": [],
   "source": [
    "MAXN = 1 # maximum number of patterns\n",
    "for j = 1:nf\n",
    "    global MAXN\n",
    "    MAXN = MAXN * (1+div(T,L[j]))\n",
    "end\n",
    "MAXN < 0 ? MAXN = 1000000 : MAXN # ensure non-negative value\n",
    "print(MAXN);"
   ]
  },
  {
   "cell_type": "code",
   "execution_count": null,
   "metadata": {
    "jupyter": {
     "source_hidden": true
    }
   },
   "outputs": [],
   "source": [
    "# declare new arrays\n",
    "m = zeros(Int,MAXN,nf); # composition of patterns\n",
    "c = zeros(Int,MAXN);    # waste for each pattern\n",
    "gap = zeros(Int,nf);    # sort of hashing function\n",
    "Tmp = zeros(Int,nf);    # temporary patterns"
   ]
  },
  {
   "cell_type": "code",
   "execution_count": null,
   "metadata": {
    "jupyter": {
     "source_hidden": true
    }
   },
   "outputs": [],
   "source": [
    "# compute all patterns and waste (similar code to a hashing code)\n",
    "println(\"-- Patterns -----------------\")\n",
    "gap[nf] = 1 # computing gap(k)\n",
    "for k = 1:nf-1\n",
    "    gap[nf-k] = gap[nf-k+1]*(1+div(T,L[nf-k+1]))\n",
    "end\n",
    "p = 0 # index of valid patterns\n",
    "for i = 1:MAXN\n",
    "    global p\n",
    "    temp = i\n",
    "    for k = 1:nf\n",
    "        Tmp[k] = div(temp,gap[k])\n",
    "        temp = temp - gap[k]*Tmp[k]\n",
    "    end\n",
    "    # computing pattern length\n",
    "    PL = sum(L[j]*Tmp[j] for j =1:nf)\n",
    "    # the current pattern is stored in m if PL <= T\n",
    "    if PL <= T \n",
    "        p = p+1\n",
    "        c[p] = T - PL\n",
    "        m[p,:] = Tmp \n",
    "        #println(\"-- id \",p,\" Waste = \", c[p],\" :: \",m[p,:])\n",
    "        @printf(\"%s%3d%s%4d%s\",\"-- id \",p,\" Waste = \", c[p],\" :: \")\n",
    "        println(m[p,:])\n",
    "    end\n",
    "end\n",
    "println(\"-----------------------------\")"
   ]
  },
  {
   "cell_type": "code",
   "execution_count": null,
   "metadata": {
    "jupyter": {
     "source_hidden": true
    }
   },
   "outputs": [],
   "source": [
    "### save patterns to file\n",
    "open(dir*prefix*\"-patterns.dat\", \"w\") do io\n",
    "    println(io,\"# All patterns generated for \",prefix,\" data\")\n",
    "    writedlm(io, m[1:p,:], ',')\n",
    "end"
   ]
  },
  {
   "cell_type": "markdown",
   "metadata": {},
   "source": [
    "### Build the math model"
   ]
  },
  {
   "cell_type": "code",
   "execution_count": null,
   "metadata": {},
   "outputs": [],
   "source": [
    "using DelimitedFiles; # read files in csv format\n",
    "using Printf;         # who can skip that package?\n",
    "using JuMP;           # math programmaing interface\n",
    "using HiGHS;          # HiGHS solver\n",
    "# using Gurobi;       # one of the best commercial solver\n",
    "# using Cbc;          # COIN-OR solver "
   ]
  },
  {
   "cell_type": "code",
   "execution_count": null,
   "metadata": {},
   "outputs": [],
   "source": [
    "# Re-reading data (to have them clean)\n",
    "dir=\"Data/\"\n",
    "prefix=\"inst1\"; # prefix for all files used here\n",
    "\n",
    "### Reading data\n",
    "println(\"-- Data -------------------------\")\n",
    "LD  = readdlm(dir*prefix*\"-tablelegs.dat\",',',Int,comments=true); # table legs \n",
    "T  = readdlm(dir*prefix*\"-tubesize.dat\",',',Int,comments=true)[1]; # tube size\n",
    "\n",
    "L = LD[1,:];    # isolate table leg length\n",
    "D = LD[2,:];    # isolate table legs demand\n",
    "nf = length(L); # number of different formats\n",
    "println(\"-- Table leg size\")\n",
    "print(\"   \"); println(L)\n",
    "println(\"-- Table leg demand\")\n",
    "print(\"   \"); println(D)\n",
    "println(\"-- Tube size\")\n",
    "print(\"   \"); println(T)\n",
    "\n",
    "m = readdlm(dir*prefix*\"-patterns.dat\",',',Int,comments=true);     # current list of patterns\n",
    "n = size(m,1);         # number of pattern read\n",
    "c = T*ones(Int,n)-m*L; # recalculate the waste for each pattern\n",
    "\n",
    "println();\n",
    "println(\"-- Patterns ---------------------\")\n",
    "for p=1:n\n",
    "    @printf(\"%s%3d%s%4d%s\",\"-- id \",p,\" Waste = \", c[p],\" :: \")\n",
    "    println(m[p,:])\n",
    "end"
   ]
  },
  {
   "cell_type": "code",
   "execution_count": null,
   "metadata": {},
   "outputs": [],
   "source": [
    "### Modelling the problem\n",
    "\n",
    "# select my current solver\n",
    "solverSelected = HiGHS.Optimizer;\n",
    "\n",
    "# model\n",
    "cs = Model(solverSelected); # declare the cg model\n",
    "\n",
    "# variables -- number of time pattern i is used\n",
    "@variable(cs, x[1:n] >= 0, Int);\n",
    "\n",
    "# constraints -- satisfy the demand exactly\n",
    "@constraint(cs, Demand[j=1:nf], sum(m[i,j]*x[i] for i=1:n) == D[j]);\n",
    "\n",
    "# objective -- minimize total waste\n",
    "@objective(cs, Min, sum(c[i]*x[i] for i=1:n));"
   ]
  },
  {
   "cell_type": "markdown",
   "metadata": {},
   "source": [
    "### Remember the model\n",
    "\n",
    "\\begin{align*}\n",
    "  \\min \\quad & \\sum_{i=1}^n c_ix_i                      \\\\\n",
    "  s.t. \\quad & \\nonumber                                                 \\\\\n",
    "             & \\sum_{i=1}^n m_{ij}x_i = d_j \\quad & \\forall j \\in \\{1..m\\} \\\\\n",
    "             & x_i \\in \\mathbb{Z}^+ \\quad & \\forall i \\in \\{1..n\\}\n",
    "\\end{align*}"
   ]
  },
  {
   "cell_type": "markdown",
   "metadata": {},
   "source": [
    "### Solving the model"
   ]
  },
  {
   "cell_type": "code",
   "execution_count": null,
   "metadata": {},
   "outputs": [],
   "source": [
    "### Solving the model\n",
    "println();\n",
    "println(\"-- ILP resolution ---------------\")\n",
    "optimize!(cs) # solve command"
   ]
  },
  {
   "cell_type": "code",
   "execution_count": null,
   "metadata": {},
   "outputs": [],
   "source": [
    "println(\"TERMIMATION STATUS: \",termination_status(cs)) # check the status of the resolution, ALWAYS!!!"
   ]
  },
  {
   "cell_type": "markdown",
   "metadata": {},
   "source": [
    "### Printing results"
   ]
  },
  {
   "cell_type": "code",
   "execution_count": null,
   "metadata": {},
   "outputs": [],
   "source": [
    "### Printing results\n",
    "println();\n",
    "println(\"-- Results ----------------------\")\n",
    "# Total waste\n",
    "println(\"  Number of tubes used: \", Int(sum(value.(x))))\n",
    "println(\"  Total waste: \",objective_value(cs),\" cm\")\n",
    "for i=1:n\n",
    "    if value(x[i])!=0\n",
    "        @printf(\"  Pattern %3d: %s used %3d times, waste %3d cm\\n\",i,m[i,:],Int(value(x[i])),c[i]*value(x[i]));\n",
    "    end\n",
    "end"
   ]
  },
  {
   "cell_type": "code",
   "execution_count": null,
   "metadata": {},
   "outputs": [],
   "source": []
  }
 ],
 "metadata": {
  "kernelspec": {
   "display_name": "Julia 1.9.3",
   "language": "julia",
   "name": "julia-1.9"
  },
  "language_info": {
   "file_extension": ".jl",
   "mimetype": "application/julia",
   "name": "julia",
   "version": "1.9.3"
  }
 },
 "nbformat": 4,
 "nbformat_minor": 4
}
